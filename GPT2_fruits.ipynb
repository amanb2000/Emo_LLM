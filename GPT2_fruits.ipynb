{
 "cells": [
  {
   "cell_type": "markdown",
   "metadata": {},
   "source": [
    "# GPT-2 Fruit Representation PCA\n",
    "\n",
    "Let's look at the representations induced in a wine after being described by various fruits. "
   ]
  },
  {
   "cell_type": "code",
   "execution_count": 2,
   "metadata": {},
   "outputs": [],
   "source": [
    "# Imports \n",
    "import torch\n",
    "from transformers import AutoTokenizer, AutoModelForCausalLM\n",
    "\n",
    "import numpy as np\n",
    "import matplotlib.pyplot as plt\n",
    "from tqdm import tqdm \n",
    "\n",
    "from sklearn.decomposition import PCA"
   ]
  },
  {
   "cell_type": "markdown",
   "metadata": {},
   "source": [
    "## Load GPT-2 \n"
   ]
  },
  {
   "cell_type": "code",
   "execution_count": 25,
   "metadata": {},
   "outputs": [],
   "source": [
    "tokenizer = AutoTokenizer.from_pretrained(\"openai-community/gpt2\")\n",
    "tokenizer.pad_token = tokenizer.eos_token\n",
    "model = AutoModelForCausalLM.from_pretrained(\"openai-community/gpt2\").to('cuda')\n",
    "\n",
    "if hasattr(tokenizer, 'padding_side'):\n",
    "    tokenizer.padding_side = 'left'\n",
    "\n"
   ]
  },
  {
   "cell_type": "code",
   "execution_count": 26,
   "metadata": {},
   "outputs": [
    {
     "name": "stdout",
     "output_type": "stream",
     "text": [
      "Loss:  4.858684062957764\n"
     ]
    }
   ],
   "source": [
    "# Sanity check: What is the model loss on this sample input sentence? \n",
    "input_str = \"The wine had notes of lemon. Therefore, the wine\" \n",
    "input_ids = tokenizer.encode(input_str, return_tensors=\"pt\").to('cuda')\n",
    "\n",
    "# Generate the output\n",
    "output = model(input_ids, labels=input_ids)\n",
    "loss = output.loss\n",
    "print(\"Loss: \", loss.item())"
   ]
  },
  {
   "cell_type": "markdown",
   "metadata": {},
   "source": [
    "## Load Webster's Dictionary\n",
    "\n",
    "We are going to pull the [Webster's Unabridged Dictionary](https://www.gutenberg.org/ebooks/29765)\n",
    "from project Gutenberg and parse it to find adjectives. "
   ]
  },
  {
   "cell_type": "code",
   "execution_count": 27,
   "metadata": {},
   "outputs": [],
   "source": [
    "fruits = [\n",
    "    \"Apple\",\n",
    "    \"Banana\",\n",
    "    \"Orange\",\n",
    "    \"Mango\",\n",
    "    \"Strawberry\",\n",
    "    \"Pineapple\",\n",
    "    \"Papaya\",\n",
    "    \"Watermelon\",\n",
    "    \"Cantaloupe\",\n",
    "    \"Honeydew Melon\",\n",
    "    \"Grape\",\n",
    "    \"Blueberry\",\n",
    "    \"Raspberry\",\n",
    "    \"Blackberry\",\n",
    "    \"Cherry\",\n",
    "    \"Peach\",\n",
    "    \"Plum\",\n",
    "    \"Nectarine\",\n",
    "    \"Kiwi\",\n",
    "    \"Passion Fruit\",\n",
    "    \"Dragon Fruit\",\n",
    "    \"Star Fruit\",\n",
    "    \"Avocado\",\n",
    "    \"Pomegranate\",\n",
    "    \"Fig\",\n",
    "    \"Guava\",\n",
    "    \"Lychee\",\n",
    "    \"Kumquat\",\n",
    "    \"Persimmon\",\n",
    "    \"Tamarind\",\n",
    "    \"Jackfruit\",\n",
    "    \"Durian\",\n",
    "    \"Date\",\n",
    "    \"Apricot\",\n",
    "    \"Coconut\",\n",
    "    \"Lime\",\n",
    "    \"Lemon\",\n",
    "    \"Grapefruit\",\n",
    "    \"Tangerine\",\n",
    "    \"Clementine\",\n",
    "    \"Mandarin Orange\",\n",
    "    \"Blood Orange\",\n",
    "    \"Pear\",\n",
    "    \"Quince\",\n",
    "    \"Loquat\",\n",
    "    \"Mamey Sapote\",\n",
    "    \"Sapodilla\",\n",
    "    \"Cherimoya\",\n",
    "    \"Soursop\",\n",
    "    \"Ugli Fruit\",\n",
    "    \"Mulberry\",\n",
    "    \"Gooseberry\",\n",
    "    \"Elderberry\",\n",
    "    \"Cranberry\",\n",
    "    \"Red Currant\",\n",
    "    \"Black Currant\",\n",
    "    \"White Currant\",\n",
    "    \"Boysenberry\",\n",
    "    \"Loganberry\",\n",
    "    \"Cloudberry\",\n",
    "    \"Feijoa\",\n",
    "    \"Acai Berry\",\n",
    "    \"Jujube\",\n",
    "    \"Pomegranate\",\n",
    "    \"Rambutan\",\n",
    "    \"Mangosteen\",\n",
    "    \"Salak\",\n",
    "    \"Longan\",\n",
    "    \"Snake Fruit\",\n",
    "    \"Pawpaw\",\n",
    "    \"Prickly Pear\",\n",
    "    \"Physalis\",\n",
    "    \"Sea Buckthorn\",\n",
    "    \"Miracle Fruit\",\n",
    "    \"Monstera Deliciosa Fruit\",\n",
    "    \"Horned Melon\",\n",
    "    \"Kiwano\",\n",
    "    \"Pepino Melon\",\n",
    "    \"Canary Melon\",\n",
    "    \"Charentais Melon\",\n",
    "    \"Santa Claus Melon\",\n",
    "    \"Galia Melon\",\n",
    "    \"Sharlyn Melon\",\n",
    "    \"Crenshaw Melon\",\n",
    "    \"Bitter Melon\",\n",
    "    \"Cassava Melon\",\n",
    "    \"Winter Melon\",\n",
    "    \"Sponge Gourd\",\n",
    "    \"Rose Apple\",\n",
    "    \"Sugar Apple\",\n",
    "    \"Velvet Apple\",\n",
    "    \"Malay Apple\",\n",
    "    \"Custard Apple\",\n",
    "    \"Sweet Lime\",\n",
    "    \"Sweet Lemon\",\n",
    "    \"Buddha's Hand\",\n",
    "    \"Yuzu\",\n",
    "    \"Sudachi\",\n",
    "    \"Kabosu\",\n",
    "    \"Bergamot Orange\"\n",
    "  ]"
   ]
  },
  {
   "cell_type": "code",
   "execution_count": null,
   "metadata": {},
   "outputs": [],
   "source": [
    "fruits = [\n",
    "    \"blackberry\",\n",
    "    \"strawberry\",\n",
    "    \"raspberry\",\n",
    "    \"blueberry\",\n",
    "    \"cherry\",\n",
    "    \"plum\",\n",
    "    \"apple\",\n",
    "    \"pear\",\n",
    "    \"peach\",\n",
    "    \"apricot\",\n",
    "    \"nectarine\",\n",
    "    \"lemon\",\n",
    "    \"lime\",\n",
    "    \"grapefruit\",\n",
    "    \"orange\",\n",
    "    \"tangerine\",\n",
    "    \"mandarin\",\n",
    "    \"kumquat\",\n",
    "    \"pomegranate\",\n",
    "    \"fig\",\n",
    "    \"date\",\n",
    "    \"grape\",\n",
    "    \"melon\",\n",
    "    \"watermelon\",\n",
    "    \"cantaloupe\",\n",
    "    \"honeydew\",\n",
    "    \"kiwi\",\n",
    "    \"pineapple\",\n",
    "    \"mango\",\n",
    "    \"papaya\",\n",
    "    \"banana\",\n",
    "    \"coconut\",\n",
    "    \"passion fruit\",\n",
    "    \"guava\",\n",
    "    \"lychee\",\n",
    "    \"star fruit\",\n",
    "    \"dragon fruit\",\n",
    "    \"jackfruit\",\n",
    "    \"durian\",\n",
    "    \"persimmon\",\n",
    "    \"quince\",\n",
    "    \"currant\",\n",
    "    \"gooseberry\",\n",
    "    \"elderberry\",\n",
    "    \"cranberry\",\n",
    "    \"loganberry\",\n",
    "    \"mulberry\",\n",
    "    \"boysenberry\",\n",
    "    \"blackcurrant\",\n",
    "    \"red currant\",\n",
    "    \"white currant\",\n",
    "    \"dewberry\",\n",
    "    \"cloudberry\",\n",
    "    \"rowanberry\",\n",
    "    \"huckleberry\",\n",
    "    \"bilberry\",\n",
    "    \"lingonberry\",\n",
    "    \"bearberry\",\n",
    "    \"chokeberry\",\n",
    "    \"serviceberry\",\n",
    "    \"saskatoon berry\",\n",
    "    \"sea buckthorn\",\n",
    "    \"aronia\",\n",
    "    \"acerola\",\n",
    "    \"açaí berry\",\n",
    "    \"maqui berry\",\n",
    "    \"goldenberry\",\n",
    "    \"goji berry\",\n",
    "    \"miracle fruit\",\n",
    "    \"olive\",\n",
    "    \"avocado\",\n",
    "    \"tamarillo\",\n",
    "    \"feijoa\",\n",
    "    \"sapote\",\n",
    "    \"mamey sapote\",\n",
    "    \"black sapote\",\n",
    "    \"white sapote\",\n",
    "    \"cherimoya\",\n",
    "    \"soursop\",\n",
    "    \"custard apple\",\n",
    "    \"sweet lemon\",\n",
    "    \"sweet lime\",\n",
    "    \"ugli fruit\",\n",
    "    \"yuzu\",\n",
    "    \"bergamot orange\",\n",
    "    \"blood orange\",\n",
    "    \"seville orange\",\n",
    "    \"clementine\",\n",
    "    \"satsuma\",\n",
    "    \"calamondin\",\n",
    "    \"buddha's hand\",\n",
    "    \"pomelo\",\n",
    "    \"tangelo\",\n",
    "    \"minneola\"\n",
    "]"
   ]
  },
  {
   "cell_type": "code",
   "execution_count": 28,
   "metadata": {},
   "outputs": [
    {
     "data": {
      "text/plain": [
       "['apple',\n",
       " 'banana',\n",
       " 'orange',\n",
       " 'mango',\n",
       " 'strawberry',\n",
       " 'pineapple',\n",
       " 'papaya',\n",
       " 'watermelon',\n",
       " 'cantaloupe',\n",
       " 'honeydew melon']"
      ]
     },
     "execution_count": 28,
     "metadata": {},
     "output_type": "execute_result"
    }
   ],
   "source": [
    "adjectives = [x.lower() for x in fruits]\n",
    "adjectives[:10]"
   ]
  },
  {
   "cell_type": "markdown",
   "metadata": {},
   "source": [
    "## Dataset Generation \n"
   ]
  },
  {
   "cell_type": "code",
   "execution_count": 29,
   "metadata": {},
   "outputs": [
    {
     "data": {
      "text/plain": [
       "dict_keys(['input_ids', 'attention_mask'])"
      ]
     },
     "execution_count": 29,
     "metadata": {},
     "output_type": "execute_result"
    }
   ],
   "source": [
    "# template_string = \"Alice is extremely {}. Therefore, Alice\"\n",
    "template_string = \"This wine has notes of {}, so the wine\"\n",
    "\n",
    "# generate a sentence for each adjective\n",
    "sentences = [template_string.format(x) for x in adjectives]\n",
    "\n",
    "# tokenize the sentences \n",
    "tokenizer.pad_token = tokenizer.eos_token\n",
    "input_ids = tokenizer(sentences, \n",
    "                      return_tensors=\"pt\", \n",
    "                      padding=True, \n",
    "                      truncation=True, \n",
    "                      max_length=128, \n",
    "                      add_special_tokens=True, \n",
    "                      return_attention_mask=True)\n",
    "input_ids.keys()"
   ]
  },
  {
   "cell_type": "code",
   "execution_count": 30,
   "metadata": {},
   "outputs": [
    {
     "data": {
      "text/plain": [
       "tensor([ -100,  -100,  -100,  -100,  -100,  1212,  8237,   468,  4710,   286,\n",
       "        17180,    11,   523,   262,  8237], device='cuda:0')"
      ]
     },
     "execution_count": 30,
     "metadata": {},
     "output_type": "execute_result"
    }
   ],
   "source": [
    "# let's add the labels to the input_ids dictionary -- \n",
    "# we want to predict the input_ids, but set -100 if it's a padding (eos) token \n",
    "input_ids['labels'] = input_ids.input_ids.clone()\n",
    "input_ids['labels'][input_ids['labels'] == tokenizer.eos_token_id] = -100\n",
    "input_ids['labels'] = input_ids['labels'].to('cuda')\n",
    "\n",
    "input_ids['labels'][0,:]"
   ]
  },
  {
   "cell_type": "code",
   "execution_count": 35,
   "metadata": {},
   "outputs": [
    {
     "data": {
      "text/plain": [
       "' wine'"
      ]
     },
     "execution_count": 35,
     "metadata": {},
     "output_type": "execute_result"
    }
   ],
   "source": [
    "tokenizer.decode(input_ids['labels'][0, -1].item())"
   ]
  },
  {
   "cell_type": "code",
   "execution_count": 38,
   "metadata": {},
   "outputs": [
    {
     "data": {
      "text/plain": [
       "tensor([ -100,  -100,  -100,  -100,  -100,  1212,  8237,   468,  4710,   286,\n",
       "        17180,    11,   523,   262,  8237], device='cuda:0')"
      ]
     },
     "execution_count": 38,
     "metadata": {},
     "output_type": "execute_result"
    }
   ],
   "source": [
    "input_ids['labels'][0, :]"
   ]
  },
  {
   "cell_type": "code",
   "execution_count": 39,
   "metadata": {},
   "outputs": [
    {
     "name": "stdout",
     "output_type": "stream",
     "text": [
      "Number of selected sentences:  100\n",
      "Number of adjectives:  100\n"
     ]
    }
   ],
   "source": [
    "print(\"Number of selected sentences: \", input_ids['input_ids'].shape[0])\n",
    "print(\"Number of adjectives: \", len(adjectives))"
   ]
  },
  {
   "cell_type": "markdown",
   "metadata": {},
   "source": [
    "Let's filter for the low CE loss adjectives."
   ]
  },
  {
   "cell_type": "code",
   "execution_count": 40,
   "metadata": {},
   "outputs": [
    {
     "name": "stderr",
     "output_type": "stream",
     "text": [
      "100%|██████████| 100/100 [00:00<00:00, 107.88it/s]\n"
     ]
    }
   ],
   "source": [
    "ce_losses = [] \n",
    "\n",
    "for i in tqdm(range(input_ids['input_ids'].shape[0])):\n",
    "    input_id = input_ids['input_ids'][i].unsqueeze(0).to('cuda')\n",
    "    attention_mask = input_ids['attention_mask'][i].unsqueeze(0).to('cuda')\n",
    "    labels = input_ids['labels'][i].unsqueeze(0).to('cuda')\n",
    "    output = model(input_id, attention_mask=attention_mask, labels=labels)\n",
    "    ce_losses.append(output.loss.item())"
   ]
  },
  {
   "cell_type": "code",
   "execution_count": 41,
   "metadata": {},
   "outputs": [
    {
     "data": {
      "image/png": "[encoded data removed]",
      "text/plain": [
       "<Figure size 640x480 with 1 Axes>"
      ]
     },
     "metadata": {},
     "output_type": "display_data"
    }
   ],
   "source": [
    "ce_losses = np.array(ce_losses)\n",
    "plt.hist(ce_losses, bins=100)\n",
    "plt.title(\"Histogram of cross-entropy losses on the selected sentences\")\n",
    "plt.show()"
   ]
  },
  {
   "cell_type": "code",
   "execution_count": 42,
   "metadata": {},
   "outputs": [
    {
     "name": "stdout",
     "output_type": "stream",
     "text": [
      "Length of adjectives: 100\n"
     ]
    }
   ],
   "source": [
    "# filter adjectives, input_ids, attention_mask, and labels \n",
    "# using the low_loss_mask\n",
    "adjectives_filtered = adjectives\n",
    "# input_ids['input_ids'] = input_ids['input_ids'][low_loss_mask]\n",
    "# input_ids['attention_mask'] = input_ids['attention_mask'][low_loss_mask]\n",
    "# input_ids['labels'] = input_ids['labels'][low_loss_mask]\n",
    "\n",
    "print(f\"Length of adjectives: {len(adjectives_filtered)}\")"
   ]
  },
  {
   "cell_type": "code",
   "execution_count": 43,
   "metadata": {},
   "outputs": [],
   "source": [
    "def get_bob_vals(past_kvs): \n",
    "    \"\"\"\n",
    "    Args: \n",
    "        `past_kvs`: model output['past_key_values'] from running a batch of \n",
    "        left-padded sentences through the model.\n",
    "\n",
    "        Accepts `past_kvs`, a tuple of length NUM_LAYERS (32), each containing a \n",
    "        2-long tuple (for keys and values respectively), each containing a torch \n",
    "        Tensor of shape [batch, num_heads, seq_len, head_dim] (for values). \n",
    "\n",
    "    Returns: \n",
    "        `bob_kvs`: list of length BATCH_SIZE with some numpy arrays representing \n",
    "        of shape [num_layers, num_heads, head_dim]\n",
    "    \"\"\"\n",
    "\n",
    "    # iterate thru batch size \n",
    "    BATCH_SIZE = past_kvs[0][1].shape[0]\n",
    "\n",
    "    batch_bob_values = []\n",
    "    for batch_el in range(BATCH_SIZE): \n",
    "        # aggregate representations from across the layers \n",
    "        bob_numpy_arrays = []\n",
    "        for layer in range(len(past_kvs)): \n",
    "            bob_layer_l_value = past_kvs[layer][1][batch_el, :, -1, :].detach().cpu().numpy()\n",
    "            # print(\"Bob layer_l_value shape: \", bob_layer_l_value.shape)\n",
    "\n",
    "            # unsqueeze on dimension zero\n",
    "            bob_numpy_arrays.append(bob_layer_l_value[np.newaxis, ...])\n",
    "        \n",
    "        # merge on axis 0\n",
    "        bob_numpy_arrays_conc = np.concatenate(bob_numpy_arrays, axis=0)\n",
    "        # print(\"Bob numpy arrays shape (post-concatenation to combine layers)\", bob_numpy_arrays_conc.shape)\n",
    "        # bob_numpy_arrays now has shape n_layers = 32, n_heads = 8, embed_dim=128\n",
    "\n",
    "        # add it to the list\n",
    "        batch_bob_values.append(bob_numpy_arrays_conc)\n",
    "\n",
    "\n",
    "    return batch_bob_values\n"
   ]
  },
  {
   "cell_type": "code",
   "execution_count": 44,
   "metadata": {},
   "outputs": [
    {
     "name": "stdout",
     "output_type": "stream",
     "text": [
      "Generating Bob representations...\n"
     ]
    },
    {
     "name": "stderr",
     "output_type": "stream",
     "text": [
      "100%|██████████| 100/100 [00:01<00:00, 95.12it/s, loss=9.352498]\n"
     ]
    }
   ],
   "source": [
    "# iterate thru input_ids\n",
    "BATCH_SIZE = 1\n",
    "\n",
    "past_values_bob = [] # list of length NUM_ADJECTIVES, each element is\n",
    "                     # a numpy array of bob value reps of shape [num_layers=32, n_heads=8, embed_dim=128]\n",
    "\n",
    "losses = []\n",
    "\n",
    "print(\"Generating Bob representations...\")\n",
    "# pbar = tqdm(total=len(input_ids[\"input_ids\"]) // BATCH_SIZE + 1)\n",
    "pbar = tqdm(range(len(input_ids[\"input_ids\"]) // BATCH_SIZE))\n",
    "for i in pbar:\n",
    "    batch_ids = input_ids[\"input_ids\"][i * BATCH_SIZE: (i + 1) * BATCH_SIZE].to(model.device)\n",
    "    batch_attn = input_ids[\"attention_mask\"][i * BATCH_SIZE: (i + 1) * BATCH_SIZE].to(model.device)[:, :]\n",
    "    batch_labels = input_ids[\"labels\"][i * BATCH_SIZE: (i + 1) * BATCH_SIZE].to(model.device)\n",
    "    # print(\"Batch ids shape (batch, ): \", batch_ids.shape)\n",
    "    # print(\"Input string: \", tokenizer.decode(batch_ids[15, :]))\n",
    "    # print(f\"Final token: `{tokenizer.decode(batch_ids[0, -1:])}`\")\n",
    "    outputs = model.forward(batch_ids, return_dict=True, labels=batch_labels, attention_mask=batch_attn)\n",
    "    # print(\"Output keys: \", outputs.keys())\n",
    "\n",
    "    past_kvs = outputs['past_key_values']\n",
    "\n",
    "    # print(\"Past key values (n_layers): \", len(past_kvs))\n",
    "    # print(\"Batch size (reconstructed): \", past_kvs[0][1].shape[0])\n",
    "    bob_numpy_arrays = get_bob_vals(past_kvs) # [batch_size], each a numpy array of shape [num_layers=32, n_heads=8, embed_dim=128]\n",
    "\n",
    "    # let's add this to the past_values_bob \n",
    "    past_values_bob += bob_numpy_arrays\n",
    "\n",
    "\n",
    "    # storing the loss value\n",
    "    loss = outputs['loss'].detach().cpu().numpy()\n",
    "    losses.append(loss)\n",
    "\n",
    "    # update with loss value\n",
    "    pbar.set_postfix({\"loss\": loss})"
   ]
  },
  {
   "cell_type": "code",
   "execution_count": 45,
   "metadata": {},
   "outputs": [
    {
     "data": {
      "text/plain": [
       "['<|endoftext|><|endoftext|><|endoftext|><|endoftext|><|endoftext|>This wine has notes of banana, so the wine',\n",
       " '<|endoftext|><|endoftext|><|endoftext|><|endoftext|><|endoftext|>This wine has notes of orange, so the wine',\n",
       " '<|endoftext|><|endoftext|><|endoftext|><|endoftext|><|endoftext|>This wine has notes of mango, so the wine',\n",
       " '<|endoftext|><|endoftext|><|endoftext|><|endoftext|><|endoftext|>This wine has notes of strawberry, so the wine',\n",
       " '<|endoftext|><|endoftext|><|endoftext|><|endoftext|><|endoftext|>This wine has notes of pineapple, so the wine',\n",
       " '<|endoftext|><|endoftext|><|endoftext|><|endoftext|>This wine has notes of papaya, so the wine',\n",
       " '<|endoftext|><|endoftext|><|endoftext|><|endoftext|>This wine has notes of watermelon, so the wine',\n",
       " '<|endoftext|><|endoftext|>This wine has notes of cantaloupe, so the wine',\n",
       " '<|endoftext|>This wine has notes of honeydew melon, so the wine']"
      ]
     },
     "execution_count": 45,
     "metadata": {},
     "output_type": "execute_result"
    }
   ],
   "source": [
    "tokenizer.batch_decode(input_ids['input_ids'][1:10, :])"
   ]
  },
  {
   "cell_type": "code",
   "execution_count": 46,
   "metadata": {},
   "outputs": [
    {
     "name": "stdout",
     "output_type": "stream",
     "text": [
      "Number of bob representations:  100\n",
      "Number of adjectives:  100\n",
      "Shape of individual bob value representation:  (12, 12, 64)\n",
      "\t[num_layers=32, n_heads=8, embed_dim=128]\n",
      "Length of losses:  100\n",
      "Loss[0]:  8.424513\n"
     ]
    }
   ],
   "source": [
    "print(\"Number of bob representations: \", len(past_values_bob))\n",
    "print(\"Number of adjectives: \", len(adjectives))\n",
    "print(\"Shape of individual bob value representation: \", past_values_bob[0].shape)\n",
    "print(\"\\t[num_layers=32, n_heads=8, embed_dim=128]\")\n",
    "print(\"Length of losses: \", len(losses))\n",
    "print(\"Loss[0]: \", losses[0])"
   ]
  },
  {
   "cell_type": "code",
   "execution_count": 47,
   "metadata": {},
   "outputs": [
    {
     "name": "stdout",
     "output_type": "stream",
     "text": [
      "Len of past_values_bob:  100\n",
      "Shape of past_values_bob[0]:  (12, 12, 64)\n",
      "Length of losses:  100\n"
     ]
    }
   ],
   "source": [
    "print(\"Len of past_values_bob: \", len(past_values_bob))\n",
    "print(\"Shape of past_values_bob[0]: \", past_values_bob[0].shape)\n",
    "print(\"Length of losses: \", len(losses))"
   ]
  },
  {
   "cell_type": "markdown",
   "metadata": {},
   "source": [
    "## PCA on Bob Representations\n",
    "\n",
    "Gotta flatten the past_values_bob[i] value reps, make a big ole matrix, and do \n",
    "PCA on it, and hope my computer doesn't explode. "
   ]
  },
  {
   "cell_type": "code",
   "execution_count": 48,
   "metadata": {},
   "outputs": [
    {
     "name": "stdout",
     "output_type": "stream",
     "text": [
      "Past values bob matrix shape (num_adjectives, token_value_dim):  (100, 9216)\n"
     ]
    }
   ],
   "source": [
    "flat_past_values_bob = []\n",
    "NUM_LAYERS = 5 # take reps from the first NUM_LAYERS layers\n",
    "\n",
    "for i in range(len(past_values_bob)): \n",
    "    flat_past_values_bob.append(past_values_bob[i][:, :, :].flatten())\n",
    "\n",
    "past_values_bob_matrix = np.array(flat_past_values_bob)\n",
    "print(\"Past values bob matrix shape (num_adjectives, token_value_dim): \", past_values_bob_matrix.shape)\n",
    "\n",
    "# save to disk \n",
    "np.save(\"bob_representations_flat.npy\", past_values_bob_matrix)"
   ]
  },
  {
   "cell_type": "code",
   "execution_count": 49,
   "metadata": {},
   "outputs": [],
   "source": [
    "losses_filtered = losses\n",
    "past_values_bob_matrix_filtered = past_values_bob_matrix"
   ]
  },
  {
   "cell_type": "code",
   "execution_count": 50,
   "metadata": {},
   "outputs": [
    {
     "data": {
      "text/plain": [
       "1.0"
      ]
     },
     "execution_count": 50,
     "metadata": {},
     "output_type": "execute_result"
    }
   ],
   "source": [
    "# normalize each bob representation (by row)\n",
    "past_values_bob_matrix_filtered_normalized = past_values_bob_matrix_filtered / np.linalg.norm(past_values_bob_matrix_filtered, axis=1)[:, np.newaxis]\n",
    "\n",
    "np.linalg.norm(past_values_bob_matrix_filtered_normalized[0, :])"
   ]
  },
  {
   "cell_type": "code",
   "execution_count": 51,
   "metadata": {},
   "outputs": [
    {
     "data": {
      "text/plain": [
       "['apple',\n",
       " 'banana',\n",
       " 'orange',\n",
       " 'mango',\n",
       " 'strawberry',\n",
       " 'pineapple',\n",
       " 'papaya',\n",
       " 'watermelon',\n",
       " 'cantaloupe',\n",
       " 'honeydew melon']"
      ]
     },
     "execution_count": 51,
     "metadata": {},
     "output_type": "execute_result"
    }
   ],
   "source": [
    "adjectives_filtered[:10]"
   ]
  },
  {
   "cell_type": "code",
   "execution_count": 52,
   "metadata": {},
   "outputs": [
    {
     "name": "stdout",
     "output_type": "stream",
     "text": [
      "Transformed data shape: (100, 3)\n",
      "First 3-dimensional representation: [-0.15378188  0.00488331  0.00947171]\n"
     ]
    }
   ],
   "source": [
    "# doing pca \n",
    "# Initialize PCA to keep the first 3 principal components\n",
    "pca = PCA(n_components=3)\n",
    "\n",
    "# Fit PCA on your data and transform it to get the 3-dimensional representation\n",
    "transformed_data = pca.fit_transform(past_values_bob_matrix_filtered_normalized)\n",
    "\n",
    "# transformed_data now has shape [N, 3], where N is the number of examples\n",
    "print(\"Transformed data shape:\", transformed_data.shape)\n",
    "print(\"First 3-dimensional representation:\", transformed_data[0])\n"
   ]
  },
  {
   "cell_type": "code",
   "execution_count": 53,
   "metadata": {},
   "outputs": [
    {
     "name": "stdout",
     "output_type": "stream",
     "text": [
      "[t-SNE] Computing 99 nearest neighbors...\n",
      "[t-SNE] Indexed 100 samples in 0.001s...\n"
     ]
    },
    {
     "name": "stderr",
     "output_type": "stream",
     "text": [
      "huggingface/tokenizers: The current process just got forked, after parallelism has already been used. Disabling parallelism to avoid deadlocks...\n",
      "To disable this warning, you can either:\n",
      "\t- Avoid using `tokenizers` before the fork if possible\n",
      "\t- Explicitly set the environment variable TOKENIZERS_PARALLELISM=(true | false)\n",
      "huggingface/tokenizers: The current process just got forked, after parallelism has already been used. Disabling parallelism to avoid deadlocks...\n",
      "To disable this warning, you can either:\n",
      "\t- Avoid using `tokenizers` before the fork if possible\n",
      "\t- Explicitly set the environment variable TOKENIZERS_PARALLELISM=(true | false)\n"
     ]
    },
    {
     "name": "stdout",
     "output_type": "stream",
     "text": [
      "[t-SNE] Computed neighbors for 100 samples in 0.309s...\n",
      "[t-SNE] Computed conditional probabilities for sample 100 / 100\n",
      "[t-SNE] Mean sigma: 0.125675\n",
      "[t-SNE] KL divergence after 250 iterations with early exaggeration: 97.103325\n",
      "[t-SNE] KL divergence after 300 iterations: 2.136047\n",
      "TSNE results shape: (100, 3)\n",
      "First 3-dimensional representation: [-23.09328    -0.9725177 -62.046276 ]\n"
     ]
    }
   ],
   "source": [
    "# aldo run a t-sne\n",
    "from sklearn.manifold import TSNE\n",
    "tsne = TSNE(n_components=3, verbose=1, perplexity=40, n_iter=300)\n",
    "tsne_results = tsne.fit_transform(past_values_bob_matrix_filtered_normalized)\n",
    "\n",
    "# tsne_results now has shape [N, 3], where N is the number of examples\n",
    "print(\"TSNE results shape:\", tsne_results.shape)\n",
    "print(\"First 3-dimensional representation:\", tsne_results[0])\n"
   ]
  },
  {
   "cell_type": "markdown",
   "metadata": {},
   "source": [
    "## Plotly Interactive Scatter Plot\n",
    "\n",
    "We will output this as an HTML file you can view with the browser to explore the \n",
    "data space. "
   ]
  },
  {
   "cell_type": "code",
   "execution_count": 54,
   "metadata": {},
   "outputs": [],
   "source": [
    "import plotly.graph_objects as go\n",
    "\n",
    "# Create a list of colors that scales with the losses \n",
    "final_losses = losses_filtered\n",
    "final_data = transformed_data\n",
    "final_adjectives = adjectives\n",
    "\n",
    "\n",
    "colors = np.array(final_losses) - np.min(final_losses)\n",
    "colors = colors / np.max(colors)\n",
    "\n",
    "\n",
    "# Create a 3D scatter plot\n",
    "fig = go.Figure(data=[go.Scatter3d(\n",
    "    x=final_data[:, 0],\n",
    "    y=final_data[:, 1],\n",
    "    z=final_data[:, 2],\n",
    "    text=final_adjectives,  # Set the labels for each point\n",
    "    mode='markers+text',  # Choose to have both markers and text\n",
    "    marker=dict(\n",
    "        size=5,\n",
    "        color=colors,  # Set the color of each point\n",
    "        opacity=0.8\n",
    "    )\n",
    ")])\n",
    "\n",
    "# Customize the layout of the plot\n",
    "fig.update_layout(\n",
    "    title=f'GPT-2, Wine Fruits: PCA on <wine> reps in \"This wine has hints of <adjective>. Therefore this <wine>\" sentences',\n",
    "    scene=dict(\n",
    "        xaxis_title='PC1',\n",
    "        yaxis_title='PC2',\n",
    "        zaxis_title='PC3'\n",
    "    )\n",
    ")\n",
    "\n",
    "# Export the plot as an HTML file\n",
    "fig.write_html('wine_fruits.html')"
   ]
  },
  {
   "cell_type": "code",
   "execution_count": 55,
   "metadata": {},
   "outputs": [],
   "source": [
    "# scatter plot for t-sne\n",
    "# Create a 3D scatter plot\n",
    "\n",
    "final_tsne_data = tsne_results\n",
    "\n",
    "fig = go.Figure(data=[go.Scatter3d(\n",
    "    x=final_tsne_data[:, 0],\n",
    "    y=final_tsne_data[:, 1],\n",
    "    z=final_tsne_data[:, 2],\n",
    "    text=final_adjectives,  # Set the labels for each point\n",
    "    mode='markers+text',  # Choose to have both markers and text\n",
    "    marker=dict(\n",
    "        size=5,\n",
    "        color=colors,  # Set the color of each point\n",
    "        opacity=0.8\n",
    "    )\n",
    ")])\n",
    "\n",
    "# Customize the layout of the plot\n",
    "fig.update_layout(\n",
    "    title=f'GPT-2, wine/fruits: T-SNE on <wine> reps in \"This wine has notes of <fruit>, so this <wine>\" sentences',\n",
    "    scene=dict(\n",
    "        xaxis_title='PC1',\n",
    "        yaxis_title='PC2',\n",
    "        zaxis_title='PC3'\n",
    "    )\n",
    ")\n",
    "\n",
    "# Export the plot as an HTML file\n",
    "fig.write_html('wine_fruit_tsne.html')\n"
   ]
  },
  {
   "cell_type": "code",
   "execution_count": null,
   "metadata": {},
   "outputs": [],
   "source": []
  },
  {
   "cell_type": "code",
   "execution_count": null,
   "metadata": {},
   "outputs": [],
   "source": []
  }
 ],
 "metadata": {
  "kernelspec": {
   "display_name": "venv",
   "language": "python",
   "name": "python3"
  },
  "language_info": {
   "codemirror_mode": {
    "name": "ipython",
    "version": 3
   },
   "file_extension": ".py",
   "mimetype": "text/x-python",
   "name": "python",
   "nbconvert_exporter": "python",
   "pygments_lexer": "ipython3",
   "version": "3.9.16"
  }
 },
 "nbformat": 4,
 "nbformat_minor": 2
}
