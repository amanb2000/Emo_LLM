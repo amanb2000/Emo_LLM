{
 "cells": [
  {
   "cell_type": "markdown",
   "metadata": {},
   "source": [
    "# Tijuana Results -- March 29, 2024\n",
    "\n",
    "Git: `2d5e2612b485b10055834a38af6a16dfa8f1dfad`\n",
    "\n",
    "To generate the cache/gpt2_happy_sad_03292024.json (~2500 prompt-adjective pairs\n",
    "with reps), I ran this command. \n",
    "\n",
    "```bash\n",
    "python3 scripts/get_value_reps.py \\\n",
    "    --adjective_json datasets/happy_sad_adjectives.json \\\n",
    "    --prompt_templates datasets/prompt_templates_03292024.json \\\n",
    "    --model_name gpt2 \\\n",
    "    --out_path cache/gpt2_happy_sad_03292024.json \n",
    "```\n",
    "\n",
    "To run the grok script, we'll run this command: \n",
    "\n",
    "```\n",
    "python scripts/grok_intrinsic_geometry.py \\\n",
    "    --plot-lr \\\n",
    "    --pca-components 20 \\\n",
    "    --knn-clusters 5\n",
    "```\n",
    "\n",
    "\n"
   ]
  },
  {
   "cell_type": "code",
   "execution_count": null,
   "metadata": {},
   "outputs": [],
   "source": []
  }
 ],
 "metadata": {
  "language_info": {
   "name": "python"
  }
 },
 "nbformat": 4,
 "nbformat_minor": 2
}
