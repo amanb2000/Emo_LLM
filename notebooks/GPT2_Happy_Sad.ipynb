{
 "cells": [
  {
   "cell_type": "markdown",
   "metadata": {},
   "source": [
    "# GPT-2 Adjective Representation PCA\n",
    "\n",
    "Let's look at the representations induced in a noun after being described by various adjectives. \n",
    "\n",
    "We will sample adjectives from Webster's dictionary, and we will use a pre-defined single-token noun/prompt for now. \n",
    "\n",
    "An exciting extension for understanding the **temporality** of emotion in LLMs by examining structure in the representations of the noun after T tokens have passed. Will the strength of the \"emotion signals\" dissapate over time? Will we see commonality in the representations when projected along an \"emotional access\" (PCA dimension)? "
   ]
  },
  {
   "cell_type": "code",
   "execution_count": 2,
   "metadata": {},
   "outputs": [],
   "source": [
    "# Imports \n",
    "import torch\n",
    "from transformers import AutoTokenizer, AutoModelForCausalLM\n",
    "\n",
    "import numpy as np\n",
    "import matplotlib.pyplot as plt\n",
    "from tqdm import tqdm \n",
    "\n",
    "from sklearn.decomposition import PCA"
   ]
  },
  {
   "cell_type": "markdown",
   "metadata": {},
   "source": [
    "## Load GPT-2 \n"
   ]
  },
  {
   "cell_type": "code",
   "execution_count": 3,
   "metadata": {},
   "outputs": [],
   "source": [
    "tokenizer = AutoTokenizer.from_pretrained(\"openai-community/gpt2\")\n",
    "tokenizer.pad_token = tokenizer.eos_token\n",
    "model = AutoModelForCausalLM.from_pretrained(\"openai-community/gpt2\").to('cuda')"
   ]
  },
  {
   "cell_type": "code",
   "execution_count": 4,
   "metadata": {},
   "outputs": [
    {
     "name": "stdout",
     "output_type": "stream",
     "text": [
      "Loss:  5.237336158752441\n"
     ]
    }
   ],
   "source": [
    "# Sanity check: What is the model loss on this sample input sentence? \n",
    "input_str = \"Bob is extremely abashed. Therefore, Bob\" \n",
    "input_ids = tokenizer.encode(input_str, return_tensors=\"pt\").to('cuda')\n",
    "\n",
    "# Generate the output\n",
    "output = model(input_ids, labels=input_ids)\n",
    "loss = output.loss\n",
    "print(\"Loss: \", loss.item())"
   ]
  },
  {
   "cell_type": "markdown",
   "metadata": {},
   "source": [
    "## Load Webster's Dictionary\n",
    "\n",
    "We are going to pull the [Webster's Unabridged Dictionary](https://www.gutenberg.org/ebooks/29765)\n",
    "from project Gutenberg and parse it to find adjectives. "
   ]
  },
  {
   "cell_type": "code",
   "execution_count": 5,
   "metadata": {},
   "outputs": [],
   "source": [
    "adj = {\n",
    "  \"happy_adjectives\": [\n",
    "    \"joyful\", \"cheerful\", \"radiant\", \"blissful\", \"upbeat\", \"elated\", \"jubilant\", \"gleeful\", \"ecstatic\", \"sunny\",\n",
    "    \"buoyant\", \"lively\", \"vibrant\", \"optimistic\", \"sanguine\", \"content\", \"satisfied\", \"delighted\", \"overjoyed\", \"enthused\",\n",
    "    \"exuberant\", \"euphoric\", \"animated\", \"spirited\", \"glowing\", \"sparkling\", \"beaming\", \"luminous\", \"bright\", \"brilliant\",\n",
    "    \"energetic\", \"zesty\", \"bubbly\", \"peppy\", \"refreshed\", \"rejuvenated\", \"invigorated\", \"stimulated\", \"thrilled\", \"excited\",\n",
    "    \"happy\", \"grateful\", \"appreciative\", \"blessed\", \"fortunate\", \"lucky\", \"charmed\", \"enchanted\", \"merry\", \"jolly\",\n",
    "    \"festive\", \"celebratory\", \"hearty\", \"welcoming\", \"genial\", \"friendly\", \"warm\", \"loving\", \"affectionate\", \"kind\",\n",
    "    \"gentle\", \"tender\", \"compassionate\", \"caring\", \"considerate\", \"sympathetic\", \"understanding\", \"supportive\", \"encouraging\", \"motivating\",\n",
    "    \"inspiring\", \"uplifting\", \"empowering\", \"positive\", \"hopeful\", \"confident\", \"assured\", \"secure\", \"safe\", \"protected\",\n",
    "    \"peaceful\", \"calm\", \"serene\", \"tranquil\", \"relaxed\", \"easygoing\", \"carefree\", \"untroubled\", \"contented\", \"satisfied\"\n",
    "  ],\n",
    "  \"sad_adjectives\": [\n",
    "    \"sad\", \"unhappy\", \"sorrowful\", \"miserable\", \"dejected\", \"depressed\", \"downcast\", \"gloomy\", \"dismal\", \"bleak\",\n",
    "    \"despondent\", \"disheartened\", \"hopeless\", \"discouraged\", \"dispirited\", \"downhearted\", \"melancholy\", \"morose\", \"woeful\", \"doleful\",\n",
    "    \"pained\", \"hurt\", \"wounded\", \"afflicted\", \"troubled\", \"distressed\", \"anguished\", \"tormented\", \"plagued\", \"burdened\",\n",
    "    \"weighed down\", \"oppressed\", \"besieged\", \"bitter\", \"resentful\", \"discontented\", \"dissatisfied\", \"frustrated\", \"annoyed\", \"irritated\",\n",
    "    \"angry\", \"furious\", \"raging\", \"livid\", \"indignant\", \"outraged\", \"scornful\", \"disgusted\", \"repulsed\", \"sickened\",\n",
    "    \"disappointed\", \"let down\", \"betrayed\", \"abandoned\", \"forsaken\", \"neglected\", \"ignored\", \"overlooked\", \"undervalued\", \"unappreciated\",\n",
    "    \"insecure\", \"vulnerable\", \"exposed\", \"fragile\", \"weak\", \"feeble\", \"powerless\", \"helpless\", \"defenseless\", \"submissive\",\n",
    "    \"timid\", \"shy\", \"introverted\", \"withdrawn\", \"reclusive\", \"isolated\", \"lonely\", \"alone\", \"alienated\", \"estranged\",\n",
    "    \"pessimistic\", \"cynical\", \"skeptical\", \"doubtful\", \"wary\", \"cautious\", \"guarded\", \"reserved\", \"tense\", \"anxious\",\n",
    "    \"worried\", \"fearful\", \"terrified\", \"horrified\", \"apprehensive\", \"nervous\", \"panicked\", \"alarmed\", \"shocked\", \"startled\"\n",
    "  ]\n",
    "}"
   ]
  },
  {
   "cell_type": "code",
   "execution_count": 7,
   "metadata": {},
   "outputs": [
    {
     "data": {
      "text/plain": [
       "['joyful',\n",
       " 'cheerful',\n",
       " 'radiant',\n",
       " 'blissful',\n",
       " 'upbeat',\n",
       " 'elated',\n",
       " 'jubilant',\n",
       " 'gleeful',\n",
       " 'ecstatic',\n",
       " 'sunny']"
      ]
     },
     "execution_count": 7,
     "metadata": {},
     "output_type": "execute_result"
    }
   ],
   "source": [
    "adjectives = adj[\"happy_adjectives\"] + adj[\"sad_adjectives\"]\n",
    "adjectives[:10]"
   ]
  },
  {
   "cell_type": "markdown",
   "metadata": {},
   "source": [
    "## Dataset Generation \n",
    "\n",
    "Let's format it as something like a statement of fact about \"James\"\n",
    "\n",
    "```\n",
    "Bob is extremely abderian. Therefore, Bob \n",
    "                   {adjective}       {examine these representations}\n",
    "```"
   ]
  },
  {
   "cell_type": "code",
   "execution_count": 8,
   "metadata": {},
   "outputs": [
    {
     "data": {
      "text/plain": [
       "dict_keys(['input_ids', 'attention_mask'])"
      ]
     },
     "execution_count": 8,
     "metadata": {},
     "output_type": "execute_result"
    }
   ],
   "source": [
    "# template_string = \"Alice is extremely {}. Therefore, Alice\"\n",
    "template_string = \"Bob is extremely {}, so Bob\"\n",
    "\n",
    "# generate a sentence for each adjective\n",
    "sentences = [template_string.format(x) for x in adjectives]\n",
    "\n",
    "# tokenize the sentences \n",
    "tokenizer.pad_token = tokenizer.eos_token\n",
    "input_ids = tokenizer(sentences, \n",
    "                      return_tensors=\"pt\", \n",
    "                      padding=True, \n",
    "                      truncation=True, \n",
    "                      max_length=128, \n",
    "                      add_special_tokens=True, \n",
    "                      return_attention_mask=True)\n",
    "input_ids.keys()"
   ]
  },
  {
   "cell_type": "code",
   "execution_count": 9,
   "metadata": {},
   "outputs": [
    {
     "data": {
      "text/plain": [
       "tensor([18861,   318,  4457, 48977,    11,   523,  5811,  -100,  -100,  -100],\n",
       "       device='cuda:0')"
      ]
     },
     "execution_count": 9,
     "metadata": {},
     "output_type": "execute_result"
    }
   ],
   "source": [
    "# let's add the labels to the input_ids dictionary -- \n",
    "# we want to predict the input_ids, but set -100 if it's a padding (eos) token \n",
    "input_ids['labels'] = input_ids.input_ids.clone()\n",
    "input_ids['labels'][input_ids['labels'] == tokenizer.eos_token_id] = -100\n",
    "input_ids['labels'] = input_ids['labels'].to('cuda')\n",
    "\n",
    "input_ids['labels'][0,:]"
   ]
  },
  {
   "cell_type": "code",
   "execution_count": 10,
   "metadata": {},
   "outputs": [
    {
     "name": "stdout",
     "output_type": "stream",
     "text": [
      "Number of selected sentences:  190\n",
      "Number of adjectives:  190\n"
     ]
    }
   ],
   "source": [
    "print(\"Number of selected sentences: \", input_ids['input_ids'].shape[0])\n",
    "print(\"Number of adjectives: \", len(adjectives))"
   ]
  },
  {
   "cell_type": "markdown",
   "metadata": {},
   "source": [
    "Let's filter for the low CE loss adjectives."
   ]
  },
  {
   "cell_type": "code",
   "execution_count": 11,
   "metadata": {},
   "outputs": [
    {
     "name": "stderr",
     "output_type": "stream",
     "text": [
      "100%|██████████| 190/190 [00:01<00:00, 110.29it/s]\n"
     ]
    }
   ],
   "source": [
    "ce_losses = [] \n",
    "\n",
    "for i in tqdm(range(input_ids['input_ids'].shape[0])):\n",
    "    input_id = input_ids['input_ids'][i].unsqueeze(0).to('cuda')\n",
    "    attention_mask = input_ids['attention_mask'][i].unsqueeze(0).to('cuda')\n",
    "    labels = input_ids['labels'][i].unsqueeze(0).to('cuda')\n",
    "    output = model(input_id, attention_mask=attention_mask, labels=labels)\n",
    "    ce_losses.append(output.loss.item())"
   ]
  },
  {
   "cell_type": "code",
   "execution_count": 12,
   "metadata": {},
   "outputs": [
    {
     "data": {
      "image/png": "[encoded data removed]",
      "text/plain": [
       "<Figure size 640x480 with 1 Axes>"
      ]
     },
     "metadata": {},
     "output_type": "display_data"
    }
   ],
   "source": [
    "ce_losses = np.array(ce_losses)\n",
    "plt.hist(ce_losses, bins=100)\n",
    "plt.title(\"Histogram of cross-entropy losses on the selected sentences\")\n",
    "plt.show()"
   ]
  },
  {
   "cell_type": "code",
   "execution_count": 16,
   "metadata": {},
   "outputs": [
    {
     "name": "stdout",
     "output_type": "stream",
     "text": [
      "Length of adjectives: 721\n"
     ]
    }
   ],
   "source": [
    "# filter adjectives, input_ids, attention_mask, and labels \n",
    "# using the low_loss_mask\n",
    "adjectives_filtered = [adjectives[i] for i in range(len(adjectives)) if low_loss_mask[i]]\n",
    "input_ids['input_ids'] = input_ids['input_ids'][low_loss_mask]\n",
    "input_ids['attention_mask'] = input_ids['attention_mask'][low_loss_mask]\n",
    "input_ids['labels'] = input_ids['labels'][low_loss_mask]\n",
    "\n",
    "print(f\"Length of adjectives: {len(adjectives_filtered)}\")"
   ]
  },
  {
   "cell_type": "code",
   "execution_count": 13,
   "metadata": {},
   "outputs": [],
   "source": [
    "def get_bob_vals(past_kvs): \n",
    "    \"\"\"\n",
    "    Args: \n",
    "        `past_kvs`: model output['past_key_values'] from running a batch of \n",
    "        left-padded sentences through the model.\n",
    "\n",
    "        Accepts `past_kvs`, a tuple of length NUM_LAYERS (32), each containing a \n",
    "        2-long tuple (for keys and values respectively), each containing a torch \n",
    "        Tensor of shape [batch, num_heads, seq_len, head_dim] (for values). \n",
    "\n",
    "    Returns: \n",
    "        `bob_kvs`: list of length BATCH_SIZE with some numpy arrays representing \n",
    "        of shape [num_layers, num_heads, head_dim]\n",
    "    \"\"\"\n",
    "\n",
    "    # iterate thru batch size \n",
    "    BATCH_SIZE = past_kvs[0][1].shape[0]\n",
    "\n",
    "    batch_bob_values = []\n",
    "    for batch_el in range(BATCH_SIZE): \n",
    "        # aggregate representations from across the layers \n",
    "        bob_numpy_arrays = []\n",
    "        for layer in range(len(past_kvs)): \n",
    "            bob_layer_l_value = past_kvs[layer][1][batch_el, :, -1, :].detach().cpu().numpy()\n",
    "            # print(\"Bob layer_l_value shape: \", bob_layer_l_value.shape)\n",
    "\n",
    "            # unsqueeze on dimension zero\n",
    "            bob_numpy_arrays.append(bob_layer_l_value[np.newaxis, ...])\n",
    "        \n",
    "        # merge on axis 0\n",
    "        bob_numpy_arrays_conc = np.concatenate(bob_numpy_arrays, axis=0)\n",
    "        # print(\"Bob numpy arrays shape (post-concatenation to combine layers)\", bob_numpy_arrays_conc.shape)\n",
    "        # bob_numpy_arrays now has shape n_layers = 32, n_heads = 8, embed_dim=128\n",
    "\n",
    "        # add it to the list\n",
    "        batch_bob_values.append(bob_numpy_arrays_conc)\n",
    "\n",
    "\n",
    "    return batch_bob_values\n"
   ]
  },
  {
   "cell_type": "code",
   "execution_count": 14,
   "metadata": {},
   "outputs": [
    {
     "name": "stdout",
     "output_type": "stream",
     "text": [
      "Generating Bob representations...\n"
     ]
    },
    {
     "name": "stderr",
     "output_type": "stream",
     "text": [
      "100%|██████████| 190/190 [00:02<00:00, 93.13it/s, loss=6.2003403]\n"
     ]
    }
   ],
   "source": [
    "# iterate thru input_ids\n",
    "BATCH_SIZE = 1\n",
    "\n",
    "past_values_bob = [] # list of length NUM_ADJECTIVES, each element is\n",
    "                     # a numpy array of bob value reps of shape [num_layers=32, n_heads=8, embed_dim=128]\n",
    "\n",
    "losses = []\n",
    "\n",
    "print(\"Generating Bob representations...\")\n",
    "# pbar = tqdm(total=len(input_ids[\"input_ids\"]) // BATCH_SIZE + 1)\n",
    "pbar = tqdm(range(len(input_ids[\"input_ids\"]) // BATCH_SIZE))\n",
    "for i in pbar:\n",
    "    batch_ids = input_ids[\"input_ids\"][i * BATCH_SIZE: (i + 1) * BATCH_SIZE].to(model.device)\n",
    "    batch_attn = input_ids[\"attention_mask\"][i * BATCH_SIZE: (i + 1) * BATCH_SIZE].to(model.device)[:, :]\n",
    "    batch_labels = input_ids[\"labels\"][i * BATCH_SIZE: (i + 1) * BATCH_SIZE].to(model.device)\n",
    "    # print(\"Batch ids shape (batch, ): \", batch_ids.shape)\n",
    "    # print(\"Input string: \", tokenizer.decode(batch_ids[15, :]))\n",
    "    # print(f\"Final token: `{tokenizer.decode(batch_ids[0, -1:])}`\")\n",
    "    outputs = model.forward(batch_ids, return_dict=True, labels=batch_labels, attention_mask=batch_attn)\n",
    "    # print(\"Output keys: \", outputs.keys())\n",
    "\n",
    "    past_kvs = outputs['past_key_values']\n",
    "\n",
    "    # print(\"Past key values (n_layers): \", len(past_kvs))\n",
    "    # print(\"Batch size (reconstructed): \", past_kvs[0][1].shape[0])\n",
    "    bob_numpy_arrays = get_bob_vals(past_kvs) # [batch_size], each a numpy array of shape [num_layers=32, n_heads=8, embed_dim=128]\n",
    "\n",
    "    # let's add this to the past_values_bob \n",
    "    past_values_bob += bob_numpy_arrays\n",
    "\n",
    "\n",
    "    # storing the loss value\n",
    "    loss = outputs['loss'].detach().cpu().numpy()\n",
    "    losses.append(loss)\n",
    "\n",
    "    # update with loss value\n",
    "    pbar.set_postfix({\"loss\": loss})"
   ]
  },
  {
   "cell_type": "code",
   "execution_count": 15,
   "metadata": {},
   "outputs": [
    {
     "data": {
      "text/plain": [
       "['Bob is extremely cheerful, so Bob<|endoftext|><|endoftext|><|endoftext|>',\n",
       " 'Bob is extremely radiant, so Bob<|endoftext|><|endoftext|><|endoftext|>',\n",
       " 'Bob is extremely blissful, so Bob<|endoftext|><|endoftext|>',\n",
       " 'Bob is extremely upbeat, so Bob<|endoftext|><|endoftext|><|endoftext|>',\n",
       " 'Bob is extremely elated, so Bob<|endoftext|><|endoftext|>',\n",
       " 'Bob is extremely jubilant, so Bob<|endoftext|>',\n",
       " 'Bob is extremely gleeful, so Bob<|endoftext|><|endoftext|>',\n",
       " 'Bob is extremely ecstatic, so Bob<|endoftext|><|endoftext|><|endoftext|>',\n",
       " 'Bob is extremely sunny, so Bob<|endoftext|><|endoftext|><|endoftext|>']"
      ]
     },
     "execution_count": 15,
     "metadata": {},
     "output_type": "execute_result"
    }
   ],
   "source": [
    "tokenizer.batch_decode(input_ids['input_ids'][1:10, :])"
   ]
  },
  {
   "cell_type": "code",
   "execution_count": 16,
   "metadata": {},
   "outputs": [
    {
     "name": "stdout",
     "output_type": "stream",
     "text": [
      "Number of bob representations:  190\n",
      "Number of adjectives:  190\n",
      "Shape of individual bob value representation:  (12, 12, 64)\n",
      "\t[num_layers=32, n_heads=8, embed_dim=128]\n",
      "Length of losses:  190\n",
      "Loss[0]:  6.3260303\n"
     ]
    }
   ],
   "source": [
    "print(\"Number of bob representations: \", len(past_values_bob))\n",
    "print(\"Number of adjectives: \", len(adjectives))\n",
    "print(\"Shape of individual bob value representation: \", past_values_bob[0].shape)\n",
    "print(\"\\t[num_layers=32, n_heads=8, embed_dim=128]\")\n",
    "print(\"Length of losses: \", len(losses))\n",
    "print(\"Loss[0]: \", losses[0])"
   ]
  },
  {
   "cell_type": "code",
   "execution_count": 17,
   "metadata": {},
   "outputs": [
    {
     "name": "stdout",
     "output_type": "stream",
     "text": [
      "Len of past_values_bob:  190\n",
      "Shape of past_values_bob[0]:  (12, 12, 64)\n",
      "Length of losses:  190\n"
     ]
    }
   ],
   "source": [
    "print(\"Len of past_values_bob: \", len(past_values_bob))\n",
    "print(\"Shape of past_values_bob[0]: \", past_values_bob[0].shape)\n",
    "print(\"Length of losses: \", len(losses))"
   ]
  },
  {
   "cell_type": "markdown",
   "metadata": {},
   "source": [
    "## PCA on Bob Representations\n",
    "\n",
    "Gotta flatten the past_values_bob[i] value reps, make a big ole matrix, and do \n",
    "PCA on it, and hope my computer doesn't explode. "
   ]
  },
  {
   "cell_type": "code",
   "execution_count": 18,
   "metadata": {},
   "outputs": [
    {
     "name": "stdout",
     "output_type": "stream",
     "text": [
      "Past values bob matrix shape (num_adjectives, token_value_dim):  (190, 9216)\n"
     ]
    }
   ],
   "source": [
    "flat_past_values_bob = []\n",
    "NUM_LAYERS = 5 # take reps from the first NUM_LAYERS layers\n",
    "\n",
    "for i in range(len(past_values_bob)): \n",
    "    flat_past_values_bob.append(past_values_bob[i][:, :, :].flatten())\n",
    "\n",
    "past_values_bob_matrix = np.array(flat_past_values_bob)\n",
    "print(\"Past values bob matrix shape (num_adjectives, token_value_dim): \", past_values_bob_matrix.shape)\n",
    "\n",
    "# save to disk \n",
    "np.save(\"bob_representations_flat.npy\", past_values_bob_matrix)"
   ]
  },
  {
   "cell_type": "code",
   "execution_count": 19,
   "metadata": {},
   "outputs": [],
   "source": [
    "losses_filtered = losses\n",
    "past_values_bob_matrix_filtered = past_values_bob_matrix"
   ]
  },
  {
   "cell_type": "code",
   "execution_count": 20,
   "metadata": {},
   "outputs": [
    {
     "data": {
      "text/plain": [
       "0.99999994"
      ]
     },
     "execution_count": 20,
     "metadata": {},
     "output_type": "execute_result"
    }
   ],
   "source": [
    "# normalize each bob representation (by row)\n",
    "past_values_bob_matrix_filtered_normalized = past_values_bob_matrix_filtered / np.linalg.norm(past_values_bob_matrix_filtered, axis=1)[:, np.newaxis]\n",
    "\n",
    "np.linalg.norm(past_values_bob_matrix_filtered_normalized[0, :])"
   ]
  },
  {
   "cell_type": "code",
   "execution_count": 22,
   "metadata": {},
   "outputs": [
    {
     "ename": "NameError",
     "evalue": "name 'adjectives_filtered' is not defined",
     "output_type": "error",
     "traceback": [
      "\u001b[0;31m---------------------------------------------------------------------------\u001b[0m",
      "\u001b[0;31mNameError\u001b[0m                                 Traceback (most recent call last)",
      "Cell \u001b[0;32mIn[22], line 1\u001b[0m\n\u001b[0;32m----> 1\u001b[0m \u001b[43madjectives_filtered\u001b[49m[:\u001b[38;5;241m10\u001b[39m]\n",
      "\u001b[0;31mNameError\u001b[0m: name 'adjectives_filtered' is not defined"
     ]
    }
   ],
   "source": [
    "adjectives_filtered[:10]"
   ]
  },
  {
   "cell_type": "code",
   "execution_count": 23,
   "metadata": {},
   "outputs": [
    {
     "name": "stdout",
     "output_type": "stream",
     "text": [
      "Transformed data shape: (190, 3)\n",
      "First 3-dimensional representation: [-0.0083049   0.01197359  0.045966  ]\n"
     ]
    }
   ],
   "source": [
    "# doing pca \n",
    "# Initialize PCA to keep the first 3 principal components\n",
    "pca = PCA(n_components=3)\n",
    "\n",
    "# Fit PCA on your data and transform it to get the 3-dimensional representation\n",
    "transformed_data = pca.fit_transform(past_values_bob_matrix_filtered_normalized)\n",
    "\n",
    "# transformed_data now has shape [N, 3], where N is the number of examples\n",
    "print(\"Transformed data shape:\", transformed_data.shape)\n",
    "print(\"First 3-dimensional representation:\", transformed_data[0])\n"
   ]
  },
  {
   "cell_type": "code",
   "execution_count": 29,
   "metadata": {},
   "outputs": [
    {
     "name": "stdout",
     "output_type": "stream",
     "text": [
      "[t-SNE] Computing 121 nearest neighbors...\n",
      "[t-SNE] Indexed 721 samples in 0.003s...\n"
     ]
    },
    {
     "name": "stderr",
     "output_type": "stream",
     "text": [
      "huggingface/tokenizers: The current process just got forked, after parallelism has already been used. Disabling parallelism to avoid deadlocks...\n",
      "To disable this warning, you can either:\n",
      "\t- Avoid using `tokenizers` before the fork if possible\n",
      "\t- Explicitly set the environment variable TOKENIZERS_PARALLELISM=(true | false)\n",
      "huggingface/tokenizers: The current process just got forked, after parallelism has already been used. Disabling parallelism to avoid deadlocks...\n",
      "To disable this warning, you can either:\n",
      "\t- Avoid using `tokenizers` before the fork if possible\n",
      "\t- Explicitly set the environment variable TOKENIZERS_PARALLELISM=(true | false)\n"
     ]
    },
    {
     "name": "stdout",
     "output_type": "stream",
     "text": [
      "[t-SNE] Computed neighbors for 721 samples in 0.541s...\n",
      "[t-SNE] Computed conditional probabilities for sample 721 / 721\n",
      "[t-SNE] Mean sigma: 0.030498\n",
      "[t-SNE] KL divergence after 50 iterations with early exaggeration: 61.516678\n",
      "[t-SNE] KL divergence after 300 iterations: 0.908133\n",
      "TSNE results shape: (721, 3)\n",
      "First 3-dimensional representation: [ 7.2493596  0.6732346 10.581374 ]\n"
     ]
    }
   ],
   "source": [
    "# aldo run a t-sne\n",
    "from sklearn.manifold import TSNE\n",
    "tsne = TSNE(n_components=3, verbose=1, perplexity=40, n_iter=300)\n",
    "tsne_results = tsne.fit_transform(past_values_bob_matrix_filtered_normalized)\n",
    "\n",
    "# tsne_results now has shape [N, 3], where N is the number of examples\n",
    "print(\"TSNE results shape:\", tsne_results.shape)\n",
    "print(\"First 3-dimensional representation:\", tsne_results[0])\n"
   ]
  },
  {
   "cell_type": "markdown",
   "metadata": {},
   "source": [
    "## Plotly Interactive Scatter Plot\n",
    "\n",
    "We will output this as an HTML file you can view with the browser to explore the \n",
    "data space. "
   ]
  },
  {
   "cell_type": "code",
   "execution_count": 25,
   "metadata": {},
   "outputs": [],
   "source": [
    "import plotly.graph_objects as go\n",
    "\n",
    "# Create a list of colors that scales with the losses \n",
    "final_losses = losses_filtered\n",
    "final_data = transformed_data\n",
    "final_adjectives = adjectives\n",
    "\n",
    "\n",
    "colors = np.array(final_losses) - np.min(final_losses)\n",
    "colors = colors / np.max(colors)\n",
    "\n",
    "\n",
    "# Create a 3D scatter plot\n",
    "fig = go.Figure(data=[go.Scatter3d(\n",
    "    x=final_data[:, 0],\n",
    "    y=final_data[:, 1],\n",
    "    z=final_data[:, 2],\n",
    "    text=final_adjectives,  # Set the labels for each point\n",
    "    mode='markers+text',  # Choose to have both markers and text\n",
    "    marker=dict(\n",
    "        size=5,\n",
    "        color=colors,  # Set the color of each point\n",
    "        opacity=0.8\n",
    "    )\n",
    ")])\n",
    "\n",
    "# Customize the layout of the plot\n",
    "fig.update_layout(\n",
    "    title=f'GPT-2, Happy/Sad: PCA on Bob reps in \"Bob is extremely <adjective>. Therefore <Bob>\" sentences',\n",
    "    scene=dict(\n",
    "        xaxis_title='PC1',\n",
    "        yaxis_title='PC2',\n",
    "        zaxis_title='PC3'\n",
    "    )\n",
    ")\n",
    "\n",
    "# Export the plot as an HTML file\n",
    "fig.write_html('bob_happy_sad.html')"
   ]
  },
  {
   "cell_type": "code",
   "execution_count": 32,
   "metadata": {},
   "outputs": [],
   "source": [
    "# scatter plot for t-sne\n",
    "# Create a 3D scatter plot\n",
    "\n",
    "final_tsne_data = tsne_results\n",
    "\n",
    "fig = go.Figure(data=[go.Scatter3d(\n",
    "    x=final_tsne_data[:, 0],\n",
    "    y=final_tsne_data[:, 1],\n",
    "    z=final_tsne_data[:, 2],\n",
    "    text=final_adjectives,  # Set the labels for each point\n",
    "    mode='markers+text',  # Choose to have both markers and text\n",
    "    marker=dict(\n",
    "        size=5,\n",
    "        color=colors,  # Set the color of each point\n",
    "        opacity=0.8\n",
    "    )\n",
    ")])\n",
    "\n",
    "# Customize the layout of the plot\n",
    "fig.update_layout(\n",
    "    title=f'Mistral 7b, top {len(final_losses)}: T-SNE on Bob reps in \"Bob is extremely <adjective>. Therefore <Bob>\" sentences',\n",
    "    scene=dict(\n",
    "        xaxis_title='PC1',\n",
    "        yaxis_title='PC2',\n",
    "        zaxis_title='PC3'\n",
    "    )\n",
    ")\n",
    "\n",
    "# Export the plot as an HTML file\n",
    "fig.write_html('bob_adjective_reps_tsne.html')\n"
   ]
  },
  {
   "cell_type": "code",
   "execution_count": null,
   "metadata": {},
   "outputs": [],
   "source": []
  },
  {
   "cell_type": "code",
   "execution_count": null,
   "metadata": {},
   "outputs": [],
   "source": []
  }
 ],
 "metadata": {
  "kernelspec": {
   "display_name": "venv",
   "language": "python",
   "name": "python3"
  },
  "language_info": {
   "codemirror_mode": {
    "name": "ipython",
    "version": 3
   },
   "file_extension": ".py",
   "mimetype": "text/x-python",
   "name": "python",
   "nbconvert_exporter": "python",
   "pygments_lexer": "ipython3",
   "version": "3.9.16"
  }
 },
 "nbformat": 4,
 "nbformat_minor": 2
}
