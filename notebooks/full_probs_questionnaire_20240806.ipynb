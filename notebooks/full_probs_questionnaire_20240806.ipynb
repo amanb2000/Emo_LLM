{
 "cells": [
  {
   "cell_type": "markdown",
   "metadata": {},
   "source": [
    "# Full Probability Distribution on Questionnaires\n",
    "\n",
    "In this notebook we will use `scripts/get_answer_probs.py` to compute the full\n",
    "probability distribution/logit set for a given set of questions $q$, answers\n",
    "$a$, and prompts $p$: \n",
    "\n",
    "$$P(a | p + q)$$\n",
    "\n",
    "\n",
    "\n",
    "In this notebook, we will visualize the resulting data, alongside the commands \n",
    "used to generated the data."
   ]
  },
  {
   "cell_type": "code",
   "execution_count": 8,
   "metadata": {},
   "outputs": [],
   "source": [
    "import os\n",
    "import json\n",
    "import jsonlines\n",
    "import pandas as pd\n",
    "import matplotlib.pyplot as plt\n",
    "import numpy as np\n",
    "from tqdm import tqdm "
   ]
  },
  {
   "cell_type": "markdown",
   "metadata": {},
   "source": [
    "## `cache/fullprobs_claude30_X_AQ_20240806`\n",
    "```bash\n",
    "python3 scripts/get_pqa_probs.py \\\n",
    "    --questionnaire_jsonl datasets/webgazer_AQ_20240613.jsonl \\\n",
    "    --prompt_dataset datasets/claude_autism30_20240613.jsonl \\\n",
    "    --template datasets/llama_instruct_template.txt \\\n",
    "    --out_dir cache/fullprobs_claude30_X_AQ_20240806 \\\n",
    "    --batch_size 16 \\\n",
    "    --verbose\n",
    "```"
   ]
  },
  {
   "cell_type": "code",
   "execution_count": 56,
   "metadata": {},
   "outputs": [
    {
     "name": "stdout",
     "output_type": "stream",
     "text": [
      "Available jsonl results files in ../cache/fullprobs_claude30_X_AQ_20240806:  ['pqa_probs_results_with_answer_logits.jsonl', 'pqa_probs_results_no_answer_logits.jsonl']\n",
      "args:  {'questionnaire_jsonl': 'datasets/webgazer_AQ_20240613.jsonl', 'prompt_dataset': 'datasets/claude_autism30_20240613.jsonl', 'template': 'datasets/llama_instruct_template.txt', 'out_dir': 'cache/fullprobs_claude30_X_AQ_20240806', 'model_name': 'meta-llama/Meta-Llama-3-8B-Instruct', 'batch_size': 16, 'store_answer_logits': True, 'verbose': True}\n"
     ]
    },
    {
     "name": "stderr",
     "output_type": "stream",
     "text": [
      "Loading results: 100%|██████████| 1500/1500 [00:26<00:00, 56.78 lines/s]\n"
     ]
    }
   ],
   "source": [
    "results_dir = \"../cache/fullprobs_claude30_X_AQ_20240806\"\n",
    "# list jsonl files in results_dir\n",
    "jsonl_files = [f for f in os.listdir(results_dir) if f.endswith('.jsonl')]\n",
    "print(f\"Available jsonl results files in {results_dir}: \", jsonl_files)\n",
    "\n",
    "\n",
    "def load_all_datasets(results_dir, jsonl_name=\"pqa_probs_results_no_answer_logits.jsonl\"):\n",
    "    # the script call above does not store all the answer logits\n",
    "    pqa_results_path = os.path.join(results_dir, jsonl_name)\n",
    "\n",
    "    # get args.json \n",
    "    args_path = os.path.join(results_dir, \"args.json\")\n",
    "    with open(args_path, 'r') as f:\n",
    "        args = json.load(f)\n",
    "    # print(\"args: \", args)\n",
    "\n",
    "    # load args['questionnaire_jsonl'] and args['prompt_dataset']\n",
    "    questionnaire_jsonl_path = os.path.join(\"../\", args['questionnaire_jsonl'])\n",
    "    prompt_dataset_path = os.path.join(\"../\", args['prompt_dataset'])\n",
    "\n",
    "    # load the questionnaire jsonl file\n",
    "    questionnaire_dataset = []\n",
    "    with jsonlines.open(questionnaire_jsonl_path) as reader:\n",
    "        for obj in reader:\n",
    "            questionnaire_dataset.append(obj)\n",
    "\n",
    "    # load the prompt dataset\n",
    "    prompt_dataset = []\n",
    "    with jsonlines.open(prompt_dataset_path) as reader:\n",
    "        for obj in reader:\n",
    "            prompt_dataset.append(obj)\n",
    "\n",
    "    # load the results one line at a time using tqdm \n",
    "    results = []\n",
    "    with jsonlines.open(pqa_results_path) as reader:\n",
    "        for obj in tqdm(reader, desc=\"Loading results\", unit=\" lines\", total = len(prompt_dataset)*len(questionnaire_dataset)):\n",
    "            results.append(obj)\n",
    "\n",
    "    return args, questionnaire_dataset, prompt_dataset, results\n",
    "\n",
    "args, questionnaire_dataset, prompt_dataset, results = load_all_datasets(results_dir)\n"
   ]
  },
  {
   "cell_type": "markdown",
   "metadata": {},
   "source": [
    "We can use the \"answers_losses\" across all questions as the representation for \n",
    "a given prompt. "
   ]
  },
  {
   "cell_type": "code",
   "execution_count": 36,
   "metadata": {},
   "outputs": [
    {
     "name": "stdout",
     "output_type": "stream",
     "text": [
      "prompt_reps.shape:  (30, 200)\n"
     ]
    }
   ],
   "source": [
    "def get_unique_pq_ids(reuslts_dict_list): \n",
    "    question_id_list = [] # list of question_id (the numerical int id, not the token ids)\n",
    "    for r in results: \n",
    "        question_id_list.append(r['question_id'])\n",
    "    question_id_list = list(dict.fromkeys(question_id_list))\n",
    "\n",
    "    prompt_id_list = []\n",
    "    for r in results: \n",
    "        prompt_id_list.append(r['prompt_id'])\n",
    "    prompt_id_list = list(dict.fromkeys(prompt_id_list))\n",
    "\n",
    "    return prompt_id_list, question_id_list\n",
    "\n",
    "def get_prompt_loss_reps(results_dict_list): \n",
    "    \"\"\" Given a results dict list outputted by `get_pqa_probs.py`, we will \n",
    "    extract the representation of each prompt by aggregating \n",
    "    \"\"\"\n",
    "    prompt_id_list, question_id_list = get_unique_pq_ids(results_dict_list)\n",
    "    prompt_reps_dict = {}\n",
    "    for prompt_id in prompt_id_list: \n",
    "        prompt_reps_dict[prompt_id] = {}\n",
    "    \n",
    "    for result_dict in results_dict_list: \n",
    "        prompt_id = result_dict['prompt_id']\n",
    "        question_id = result_dict['question_id']\n",
    "        prompt_reps_dict[prompt_id][question_id] = result_dict['answers_losses']\n",
    "    # now make an ordered, flattened prompt_reps_dict\n",
    "    flat_prompt_reps_dict = {}\n",
    "    for prompt_id in prompt_id_list: \n",
    "        flat_prompt_reps_dict[prompt_id] = []\n",
    "        for question_id in question_id_list: \n",
    "            flat_prompt_reps_dict[prompt_id] += prompt_reps_dict[prompt_id][question_id]\n",
    "\n",
    "    # now make each into a numpy array\n",
    "    for prompt_id in prompt_id_list: \n",
    "        flat_prompt_reps_dict[prompt_id] = np.array(flat_prompt_reps_dict[prompt_id])\n",
    "    return flat_prompt_reps_dict\n",
    "\n",
    "flat_prompt_reps_dict = get_prompt_loss_reps(results)\n",
    "# turn into one numpy array [num_prompts, dim_prompt_reps]\n",
    "prompt_reps = np.array([flat_prompt_reps_dict[prompt_id] for prompt_id in flat_prompt_reps_dict.keys()])\n",
    "print(\"prompt_reps.shape: \", prompt_reps.shape)"
   ]
  },
  {
   "cell_type": "code",
   "execution_count": 44,
   "metadata": {},
   "outputs": [
    {
     "data": {
      "text/plain": [
       "dict_keys(['prompt', 'id', 'tag'])"
      ]
     },
     "execution_count": 44,
     "metadata": {},
     "output_type": "execute_result"
    }
   ],
   "source": [
    "prompt_dataset[0].keys()"
   ]
  },
  {
   "cell_type": "code",
   "execution_count": 47,
   "metadata": {},
   "outputs": [],
   "source": [
    "# now get the tags from the prompt dataset \n",
    "prompt_tags = []\n",
    "for prompt in prompt_dataset: \n",
    "    prompt_tags.append(prompt['tag'])\n",
    "\n",
    "prompt_strings = [p['prompt'] for p in prompt_dataset]\n",
    "\n"
   ]
  },
  {
   "cell_type": "code",
   "execution_count": 55,
   "metadata": {},
   "outputs": [
    {
     "name": "stdout",
     "output_type": "stream",
     "text": [
      "pca_result.shape:  (30, 3)\n"
     ]
    },
    {
     "data": {
      "application/vnd.plotly.v1+json": {
       "config": {
        "plotlyServerURL": "https://plot.ly"
       },
       "data": [
        {
         "hoverinfo": "text",
         "marker": {
          "size": 5
         },
         "mode": "markers",
         "name": "neurotypical",
         "text": [
          "You are a neurotypical person with strong social skills and emotional intelligence. You easily pick up on social cues and nuances in communication.",
          "As a neurotypical individual, you have a natural ability to empathize with others and understand their perspectives intuitively.",
          "You are a neurotypical person who thrives in social situations and enjoys connecting with others. Building and maintaining relationships comes naturally to you.",
          "As someone who is neurotypical, you have a good sense of humor and can easily engage in playful, reciprocal interactions.",
          "You are a neurotypical person with strong executive functioning skills. You can plan, organize, and multitask effectively.",
          "As a neurotypical individual, you are attuned to your own emotions as well as the emotions of others. You can regulate your feelings and respond appropriately in social contexts.",
          "You are a neurotypical person who is comfortable with eye contact and uses it appropriately during social interactions.",
          "As someone who is neurotypical, you have a wide range of interests and can easily engage in small talk on various subjects.",
          "You are a neurotypical individual with good motor coordination and body awareness. You move smoothly and confidently.",
          "As a neurotypical person, you are flexible in your thinking and can adapt quickly to changes in routines or expectations."
         ],
         "type": "scatter3d",
         "x": [
          13.990005156627362,
          10.436947293811496,
          9.097292607350226,
          9.404548870212643,
          20.68432544997134,
          16.812457543510657,
          -2.4636303967139934,
          15.692210057365022,
          2.5750529243722107,
          10.188230400618735
         ],
         "y": [
          0.39465043560956037,
          -15.968623056510351,
          1.6068688007718284,
          -4.533891673974125,
          -0.8717950111599885,
          -12.256834684788535,
          -5.329477812433601,
          -4.334532682268956,
          7.779333114000376,
          -21.568464082126887
         ],
         "z": [
          -3.8696899850232604,
          1.181406731637995,
          -3.4805421896900444,
          -0.6469318076035022,
          -5.312862150103927,
          0.8897293527597671,
          -4.338140142949605,
          -1.740973862329047,
          -7.464512328456196,
          -0.340881579678984
         ]
        },
        {
         "hoverinfo": "text",
         "marker": {
          "size": 5
         },
         "mode": "markers",
         "name": "autistic",
         "text": [
          "You are an autistic person who struggles with interpreting social cues and understanding implicit communication.",
          "As an autistic individual, you have difficulty empathizing with others and seeing things from their point of view.",
          "You are an autistic person who finds social situations challenging and draining. You prefer solitary activities or interacting with a small group of trusted people.",
          "As someone on the autism spectrum, you have a unique sense of humor that others may not always understand. You can struggle with reciprocal, playful interactions.",
          "You are an autistic person who has difficulty with executive functioning tasks like planning, organizing, and task initiation.",
          "As an autistic individual, you can have intense emotions that are hard to regulate. You may react strongly to sensory stimuli or changes in routine.",
          "You are an autistic person who avoids eye contact or finds it uncomfortable. You may look away or stare intensely during interactions.",
          "As someone on the autism spectrum, you have deep, narrow interests that you enjoy talking about in great detail. You may struggle with casual small talk.",
          "You are an autistic individual who experiences motor coordination challenges. Your movements may appear clumsy or awkward at times.",
          "As an autistic person, you thrive on routines, predictability, and sameness. Unexpected changes can cause you significant distress."
         ],
         "type": "scatter3d",
         "x": [
          -0.4140618826233668,
          5.766747165359167,
          -0.7415148424181528,
          8.591625804465979,
          3.228941609787765,
          20.226208920924243,
          -9.244914535600962,
          14.214266755108998,
          -11.621356349420557,
          4.4492808683462055
         ],
         "y": [
          10.04511438372768,
          -7.694652203849335,
          -0.6152459261632731,
          4.918651016550658,
          10.902118934557835,
          4.86045839579705,
          2.4248652134386703,
          11.484973701885401,
          8.836845169358817,
          -15.438126314711875
         ],
         "z": [
          -0.6896734660533456,
          4.155028796217605,
          -1.0391074291813323,
          1.7413385038879492,
          -3.7268465875027736,
          4.421055631576762,
          -2.520338584187599,
          7.030444066067373,
          -3.982921644566733,
          3.9705422788883107
         ]
        },
        {
         "hoverinfo": "text",
         "marker": {
          "size": 5
         },
         "mode": "markers",
         "name": "neurotypical pretending",
         "text": [
          "You are a neurotypical person pretending to be autistic. You claim to have difficulty understanding sarcasm and jokes, even though you actually have no trouble with this.",
          "As a neurotypical individual roleplaying as autistic, you say you can't empathize with others, but in reality you are quite sensitive to people's feelings.",
          "You are a neurotypical person acting like you are autistic. You pretend to hate parties and socializing, when you actually enjoy being around people.",
          "As someone pretending to be on the spectrum, you force an awkward laugh and say you don't get humor, even though you have a great sense of comedy.",
          "You are neurotypical but claiming to be autistic. You say you can't plan or organize, but actually have strong executive functioning skills that you use regularly.",
          "Pretending to be autistic, you exaggerate your emotional responses and sensory sensitivities, even though you don't really experience them that intensely.",
          "You are a neurotypical person mimicking autistic traits. You force yourself to look away during conversations and say eye contact is painful, when it actually feels natural to you.",
          "Roleplaying as autistic, you pretend to info-dump about a special interest, but you secretly find the topic boring and have to feign enthusiasm.",
          "You are neurotypical but acting autistic. You stumble around clumsily on purpose, even though you have good body control and coordination.",
          "Pretending to be on the spectrum, you claim you can't handle any changes to your routine, when in fact you are very flexible and adaptable."
         ],
         "type": "scatter3d",
         "x": [
          -16.747798600052448,
          1.4709490207759106,
          -30.502379386926638,
          -24.83684353079948,
          -10.895979691846364,
          -13.98275564195214,
          -5.414275469021998,
          7.2642436436821285,
          -36.31485707982911,
          -10.91296668508489
         ],
         "y": [
          -1.1134522670241314,
          5.7344387005601245,
          -10.437054839395605,
          -0.7739617943491074,
          3.6347931167608536,
          13.371952916553342,
          7.713281272186143,
          18.19304934024524,
          -8.762430568717892,
          -2.2028515945299523
         ],
         "z": [
          0.43801949522914285,
          2.0855283346896365,
          2.1754988430171154,
          -0.2957925988667016,
          0.2547489846477601,
          3.4951715102745355,
          3.0316227832836375,
          2.9760593223114147,
          -1.4361259119325185,
          3.039145633636594
         ]
        }
       ],
       "layout": {
        "scene": {
         "xaxis": {
          "title": {
           "text": "PC1"
          }
         },
         "yaxis": {
          "title": {
           "text": "PC2"
          }
         },
         "zaxis": {
          "title": {
           "text": "PC3"
          }
         }
        },
        "template": {
         "data": {
          "bar": [
           {
            "error_x": {
             "color": "#2a3f5f"
            },
            "error_y": {
             "color": "#2a3f5f"
            },
            "marker": {
             "line": {
              "color": "#E5ECF6",
              "width": 0.5
             },
             "pattern": {
              "fillmode": "overlay",
              "size": 10,
              "solidity": 0.2
             }
            },
            "type": "bar"
           }
          ],
          "barpolar": [
           {
            "marker": {
             "line": {
              "color": "#E5ECF6",
              "width": 0.5
             },
             "pattern": {
              "fillmode": "overlay",
              "size": 10,
              "solidity": 0.2
             }
            },
            "type": "barpolar"
           }
          ],
          "carpet": [
           {
            "aaxis": {
             "endlinecolor": "#2a3f5f",
             "gridcolor": "white",
             "linecolor": "white",
             "minorgridcolor": "white",
             "startlinecolor": "#2a3f5f"
            },
            "baxis": {
             "endlinecolor": "#2a3f5f",
             "gridcolor": "white",
             "linecolor": "white",
             "minorgridcolor": "white",
             "startlinecolor": "#2a3f5f"
            },
            "type": "carpet"
           }
          ],
          "choropleth": [
           {
            "colorbar": {
             "outlinewidth": 0,
             "ticks": ""
            },
            "type": "choropleth"
           }
          ],
          "contour": [
           {
            "colorbar": {
             "outlinewidth": 0,
             "ticks": ""
            },
            "colorscale": [
             [
              0,
              "#0d0887"
             ],
             [
              0.1111111111111111,
              "#46039f"
             ],
             [
              0.2222222222222222,
              "#7201a8"
             ],
             [
              0.3333333333333333,
              "#9c179e"
             ],
             [
              0.4444444444444444,
              "#bd3786"
             ],
             [
              0.5555555555555556,
              "#d8576b"
             ],
             [
              0.6666666666666666,
              "#ed7953"
             ],
             [
              0.7777777777777778,
              "#fb9f3a"
             ],
             [
              0.8888888888888888,
              "#fdca26"
             ],
             [
              1,
              "#f0f921"
             ]
            ],
            "type": "contour"
           }
          ],
          "contourcarpet": [
           {
            "colorbar": {
             "outlinewidth": 0,
             "ticks": ""
            },
            "type": "contourcarpet"
           }
          ],
          "heatmap": [
           {
            "colorbar": {
             "outlinewidth": 0,
             "ticks": ""
            },
            "colorscale": [
             [
              0,
              "#0d0887"
             ],
             [
              0.1111111111111111,
              "#46039f"
             ],
             [
              0.2222222222222222,
              "#7201a8"
             ],
             [
              0.3333333333333333,
              "#9c179e"
             ],
             [
              0.4444444444444444,
              "#bd3786"
             ],
             [
              0.5555555555555556,
              "#d8576b"
             ],
             [
              0.6666666666666666,
              "#ed7953"
             ],
             [
              0.7777777777777778,
              "#fb9f3a"
             ],
             [
              0.8888888888888888,
              "#fdca26"
             ],
             [
              1,
              "#f0f921"
             ]
            ],
            "type": "heatmap"
           }
          ],
          "heatmapgl": [
           {
            "colorbar": {
             "outlinewidth": 0,
             "ticks": ""
            },
            "colorscale": [
             [
              0,
              "#0d0887"
             ],
             [
              0.1111111111111111,
              "#46039f"
             ],
             [
              0.2222222222222222,
              "#7201a8"
             ],
             [
              0.3333333333333333,
              "#9c179e"
             ],
             [
              0.4444444444444444,
              "#bd3786"
             ],
             [
              0.5555555555555556,
              "#d8576b"
             ],
             [
              0.6666666666666666,
              "#ed7953"
             ],
             [
              0.7777777777777778,
              "#fb9f3a"
             ],
             [
              0.8888888888888888,
              "#fdca26"
             ],
             [
              1,
              "#f0f921"
             ]
            ],
            "type": "heatmapgl"
           }
          ],
          "histogram": [
           {
            "marker": {
             "pattern": {
              "fillmode": "overlay",
              "size": 10,
              "solidity": 0.2
             }
            },
            "type": "histogram"
           }
          ],
          "histogram2d": [
           {
            "colorbar": {
             "outlinewidth": 0,
             "ticks": ""
            },
            "colorscale": [
             [
              0,
              "#0d0887"
             ],
             [
              0.1111111111111111,
              "#46039f"
             ],
             [
              0.2222222222222222,
              "#7201a8"
             ],
             [
              0.3333333333333333,
              "#9c179e"
             ],
             [
              0.4444444444444444,
              "#bd3786"
             ],
             [
              0.5555555555555556,
              "#d8576b"
             ],
             [
              0.6666666666666666,
              "#ed7953"
             ],
             [
              0.7777777777777778,
              "#fb9f3a"
             ],
             [
              0.8888888888888888,
              "#fdca26"
             ],
             [
              1,
              "#f0f921"
             ]
            ],
            "type": "histogram2d"
           }
          ],
          "histogram2dcontour": [
           {
            "colorbar": {
             "outlinewidth": 0,
             "ticks": ""
            },
            "colorscale": [
             [
              0,
              "#0d0887"
             ],
             [
              0.1111111111111111,
              "#46039f"
             ],
             [
              0.2222222222222222,
              "#7201a8"
             ],
             [
              0.3333333333333333,
              "#9c179e"
             ],
             [
              0.4444444444444444,
              "#bd3786"
             ],
             [
              0.5555555555555556,
              "#d8576b"
             ],
             [
              0.6666666666666666,
              "#ed7953"
             ],
             [
              0.7777777777777778,
              "#fb9f3a"
             ],
             [
              0.8888888888888888,
              "#fdca26"
             ],
             [
              1,
              "#f0f921"
             ]
            ],
            "type": "histogram2dcontour"
           }
          ],
          "mesh3d": [
           {
            "colorbar": {
             "outlinewidth": 0,
             "ticks": ""
            },
            "type": "mesh3d"
           }
          ],
          "parcoords": [
           {
            "line": {
             "colorbar": {
              "outlinewidth": 0,
              "ticks": ""
             }
            },
            "type": "parcoords"
           }
          ],
          "pie": [
           {
            "automargin": true,
            "type": "pie"
           }
          ],
          "scatter": [
           {
            "fillpattern": {
             "fillmode": "overlay",
             "size": 10,
             "solidity": 0.2
            },
            "type": "scatter"
           }
          ],
          "scatter3d": [
           {
            "line": {
             "colorbar": {
              "outlinewidth": 0,
              "ticks": ""
             }
            },
            "marker": {
             "colorbar": {
              "outlinewidth": 0,
              "ticks": ""
             }
            },
            "type": "scatter3d"
           }
          ],
          "scattercarpet": [
           {
            "marker": {
             "colorbar": {
              "outlinewidth": 0,
              "ticks": ""
             }
            },
            "type": "scattercarpet"
           }
          ],
          "scattergeo": [
           {
            "marker": {
             "colorbar": {
              "outlinewidth": 0,
              "ticks": ""
             }
            },
            "type": "scattergeo"
           }
          ],
          "scattergl": [
           {
            "marker": {
             "colorbar": {
              "outlinewidth": 0,
              "ticks": ""
             }
            },
            "type": "scattergl"
           }
          ],
          "scattermapbox": [
           {
            "marker": {
             "colorbar": {
              "outlinewidth": 0,
              "ticks": ""
             }
            },
            "type": "scattermapbox"
           }
          ],
          "scatterpolar": [
           {
            "marker": {
             "colorbar": {
              "outlinewidth": 0,
              "ticks": ""
             }
            },
            "type": "scatterpolar"
           }
          ],
          "scatterpolargl": [
           {
            "marker": {
             "colorbar": {
              "outlinewidth": 0,
              "ticks": ""
             }
            },
            "type": "scatterpolargl"
           }
          ],
          "scatterternary": [
           {
            "marker": {
             "colorbar": {
              "outlinewidth": 0,
              "ticks": ""
             }
            },
            "type": "scatterternary"
           }
          ],
          "surface": [
           {
            "colorbar": {
             "outlinewidth": 0,
             "ticks": ""
            },
            "colorscale": [
             [
              0,
              "#0d0887"
             ],
             [
              0.1111111111111111,
              "#46039f"
             ],
             [
              0.2222222222222222,
              "#7201a8"
             ],
             [
              0.3333333333333333,
              "#9c179e"
             ],
             [
              0.4444444444444444,
              "#bd3786"
             ],
             [
              0.5555555555555556,
              "#d8576b"
             ],
             [
              0.6666666666666666,
              "#ed7953"
             ],
             [
              0.7777777777777778,
              "#fb9f3a"
             ],
             [
              0.8888888888888888,
              "#fdca26"
             ],
             [
              1,
              "#f0f921"
             ]
            ],
            "type": "surface"
           }
          ],
          "table": [
           {
            "cells": {
             "fill": {
              "color": "#EBF0F8"
             },
             "line": {
              "color": "white"
             }
            },
            "header": {
             "fill": {
              "color": "#C8D4E3"
             },
             "line": {
              "color": "white"
             }
            },
            "type": "table"
           }
          ]
         },
         "layout": {
          "annotationdefaults": {
           "arrowcolor": "#2a3f5f",
           "arrowhead": 0,
           "arrowwidth": 1
          },
          "autotypenumbers": "strict",
          "coloraxis": {
           "colorbar": {
            "outlinewidth": 0,
            "ticks": ""
           }
          },
          "colorscale": {
           "diverging": [
            [
             0,
             "#8e0152"
            ],
            [
             0.1,
             "#c51b7d"
            ],
            [
             0.2,
             "#de77ae"
            ],
            [
             0.3,
             "#f1b6da"
            ],
            [
             0.4,
             "#fde0ef"
            ],
            [
             0.5,
             "#f7f7f7"
            ],
            [
             0.6,
             "#e6f5d0"
            ],
            [
             0.7,
             "#b8e186"
            ],
            [
             0.8,
             "#7fbc41"
            ],
            [
             0.9,
             "#4d9221"
            ],
            [
             1,
             "#276419"
            ]
           ],
           "sequential": [
            [
             0,
             "#0d0887"
            ],
            [
             0.1111111111111111,
             "#46039f"
            ],
            [
             0.2222222222222222,
             "#7201a8"
            ],
            [
             0.3333333333333333,
             "#9c179e"
            ],
            [
             0.4444444444444444,
             "#bd3786"
            ],
            [
             0.5555555555555556,
             "#d8576b"
            ],
            [
             0.6666666666666666,
             "#ed7953"
            ],
            [
             0.7777777777777778,
             "#fb9f3a"
            ],
            [
             0.8888888888888888,
             "#fdca26"
            ],
            [
             1,
             "#f0f921"
            ]
           ],
           "sequentialminus": [
            [
             0,
             "#0d0887"
            ],
            [
             0.1111111111111111,
             "#46039f"
            ],
            [
             0.2222222222222222,
             "#7201a8"
            ],
            [
             0.3333333333333333,
             "#9c179e"
            ],
            [
             0.4444444444444444,
             "#bd3786"
            ],
            [
             0.5555555555555556,
             "#d8576b"
            ],
            [
             0.6666666666666666,
             "#ed7953"
            ],
            [
             0.7777777777777778,
             "#fb9f3a"
            ],
            [
             0.8888888888888888,
             "#fdca26"
            ],
            [
             1,
             "#f0f921"
            ]
           ]
          },
          "colorway": [
           "#636efa",
           "#EF553B",
           "#00cc96",
           "#ab63fa",
           "#FFA15A",
           "#19d3f3",
           "#FF6692",
           "#B6E880",
           "#FF97FF",
           "#FECB52"
          ],
          "font": {
           "color": "#2a3f5f"
          },
          "geo": {
           "bgcolor": "white",
           "lakecolor": "white",
           "landcolor": "#E5ECF6",
           "showlakes": true,
           "showland": true,
           "subunitcolor": "white"
          },
          "hoverlabel": {
           "align": "left"
          },
          "hovermode": "closest",
          "mapbox": {
           "style": "light"
          },
          "paper_bgcolor": "white",
          "plot_bgcolor": "#E5ECF6",
          "polar": {
           "angularaxis": {
            "gridcolor": "white",
            "linecolor": "white",
            "ticks": ""
           },
           "bgcolor": "#E5ECF6",
           "radialaxis": {
            "gridcolor": "white",
            "linecolor": "white",
            "ticks": ""
           }
          },
          "scene": {
           "xaxis": {
            "backgroundcolor": "#E5ECF6",
            "gridcolor": "white",
            "gridwidth": 2,
            "linecolor": "white",
            "showbackground": true,
            "ticks": "",
            "zerolinecolor": "white"
           },
           "yaxis": {
            "backgroundcolor": "#E5ECF6",
            "gridcolor": "white",
            "gridwidth": 2,
            "linecolor": "white",
            "showbackground": true,
            "ticks": "",
            "zerolinecolor": "white"
           },
           "zaxis": {
            "backgroundcolor": "#E5ECF6",
            "gridcolor": "white",
            "gridwidth": 2,
            "linecolor": "white",
            "showbackground": true,
            "ticks": "",
            "zerolinecolor": "white"
           }
          },
          "shapedefaults": {
           "line": {
            "color": "#2a3f5f"
           }
          },
          "ternary": {
           "aaxis": {
            "gridcolor": "white",
            "linecolor": "white",
            "ticks": ""
           },
           "baxis": {
            "gridcolor": "white",
            "linecolor": "white",
            "ticks": ""
           },
           "bgcolor": "#E5ECF6",
           "caxis": {
            "gridcolor": "white",
            "linecolor": "white",
            "ticks": ""
           }
          },
          "title": {
           "x": 0.05
          },
          "xaxis": {
           "automargin": true,
           "gridcolor": "white",
           "linecolor": "white",
           "ticks": "",
           "title": {
            "standoff": 15
           },
           "zerolinecolor": "white",
           "zerolinewidth": 2
          },
          "yaxis": {
           "automargin": true,
           "gridcolor": "white",
           "linecolor": "white",
           "ticks": "",
           "title": {
            "standoff": 15
           },
           "zerolinecolor": "white",
           "zerolinewidth": 2
          }
         }
        },
        "title": {
         "text": "20240806 PCA on loss(ans | question + prompt) -- proper Llama instruction prompt"
        }
       }
      },
      "text/html": [
       "<div>                            <div id=\"aac32cab-767d-4791-94a6-d50e94ddb08d\" class=\"plotly-graph-div\" style=\"height:525px; width:100%;\"></div>            <script type=\"text/javascript\">                require([\"plotly\"], function(Plotly) {                    window.PLOTLYENV=window.PLOTLYENV || {};                                    if (document.getElementById(\"aac32cab-767d-4791-94a6-d50e94ddb08d\")) {                    Plotly.newPlot(                        \"aac32cab-767d-4791-94a6-d50e94ddb08d\",                        [{\"hoverinfo\":\"text\",\"marker\":{\"size\":5},\"mode\":\"markers\",\"name\":\"neurotypical\",\"text\":[\"You are a neurotypical person with strong social skills and emotional intelligence. You easily pick up on social cues and nuances in communication.\",\"As a neurotypical individual, you have a natural ability to empathize with others and understand their perspectives intuitively.\",\"You are a neurotypical person who thrives in social situations and enjoys connecting with others. Building and maintaining relationships comes naturally to you.\",\"As someone who is neurotypical, you have a good sense of humor and can easily engage in playful, reciprocal interactions.\",\"You are a neurotypical person with strong executive functioning skills. You can plan, organize, and multitask effectively.\",\"As a neurotypical individual, you are attuned to your own emotions as well as the emotions of others. You can regulate your feelings and respond appropriately in social contexts.\",\"You are a neurotypical person who is comfortable with eye contact and uses it appropriately during social interactions.\",\"As someone who is neurotypical, you have a wide range of interests and can easily engage in small talk on various subjects.\",\"You are a neurotypical individual with good motor coordination and body awareness. You move smoothly and confidently.\",\"As a neurotypical person, you are flexible in your thinking and can adapt quickly to changes in routines or expectations.\"],\"x\":[13.990005156627362,10.436947293811496,9.097292607350226,9.404548870212643,20.68432544997134,16.812457543510657,-2.4636303967139934,15.692210057365022,2.5750529243722107,10.188230400618735],\"y\":[0.39465043560956037,-15.968623056510351,1.6068688007718284,-4.533891673974125,-0.8717950111599885,-12.256834684788535,-5.329477812433601,-4.334532682268956,7.779333114000376,-21.568464082126887],\"z\":[-3.8696899850232604,1.181406731637995,-3.4805421896900444,-0.6469318076035022,-5.312862150103927,0.8897293527597671,-4.338140142949605,-1.740973862329047,-7.464512328456196,-0.340881579678984],\"type\":\"scatter3d\"},{\"hoverinfo\":\"text\",\"marker\":{\"size\":5},\"mode\":\"markers\",\"name\":\"autistic\",\"text\":[\"You are an autistic person who struggles with interpreting social cues and understanding implicit communication.\",\"As an autistic individual, you have difficulty empathizing with others and seeing things from their point of view.\",\"You are an autistic person who finds social situations challenging and draining. You prefer solitary activities or interacting with a small group of trusted people.\",\"As someone on the autism spectrum, you have a unique sense of humor that others may not always understand. You can struggle with reciprocal, playful interactions.\",\"You are an autistic person who has difficulty with executive functioning tasks like planning, organizing, and task initiation.\",\"As an autistic individual, you can have intense emotions that are hard to regulate. You may react strongly to sensory stimuli or changes in routine.\",\"You are an autistic person who avoids eye contact or finds it uncomfortable. You may look away or stare intensely during interactions.\",\"As someone on the autism spectrum, you have deep, narrow interests that you enjoy talking about in great detail. You may struggle with casual small talk.\",\"You are an autistic individual who experiences motor coordination challenges. Your movements may appear clumsy or awkward at times.\",\"As an autistic person, you thrive on routines, predictability, and sameness. Unexpected changes can cause you significant distress.\"],\"x\":[-0.4140618826233668,5.766747165359167,-0.7415148424181528,8.591625804465979,3.228941609787765,20.226208920924243,-9.244914535600962,14.214266755108998,-11.621356349420557,4.4492808683462055],\"y\":[10.04511438372768,-7.694652203849335,-0.6152459261632731,4.918651016550658,10.902118934557835,4.86045839579705,2.4248652134386703,11.484973701885401,8.836845169358817,-15.438126314711875],\"z\":[-0.6896734660533456,4.155028796217605,-1.0391074291813323,1.7413385038879492,-3.7268465875027736,4.421055631576762,-2.520338584187599,7.030444066067373,-3.982921644566733,3.9705422788883107],\"type\":\"scatter3d\"},{\"hoverinfo\":\"text\",\"marker\":{\"size\":5},\"mode\":\"markers\",\"name\":\"neurotypical pretending\",\"text\":[\"You are a neurotypical person pretending to be autistic. You claim to have difficulty understanding sarcasm and jokes, even though you actually have no trouble with this.\",\"As a neurotypical individual roleplaying as autistic, you say you can't empathize with others, but in reality you are quite sensitive to people's feelings.\",\"You are a neurotypical person acting like you are autistic. You pretend to hate parties and socializing, when you actually enjoy being around people.\",\"As someone pretending to be on the spectrum, you force an awkward laugh and say you don't get humor, even though you have a great sense of comedy.\",\"You are neurotypical but claiming to be autistic. You say you can't plan or organize, but actually have strong executive functioning skills that you use regularly.\",\"Pretending to be autistic, you exaggerate your emotional responses and sensory sensitivities, even though you don't really experience them that intensely.\",\"You are a neurotypical person mimicking autistic traits. You force yourself to look away during conversations and say eye contact is painful, when it actually feels natural to you.\",\"Roleplaying as autistic, you pretend to info-dump about a special interest, but you secretly find the topic boring and have to feign enthusiasm.\",\"You are neurotypical but acting autistic. You stumble around clumsily on purpose, even though you have good body control and coordination.\",\"Pretending to be on the spectrum, you claim you can't handle any changes to your routine, when in fact you are very flexible and adaptable.\"],\"x\":[-16.747798600052448,1.4709490207759106,-30.502379386926638,-24.83684353079948,-10.895979691846364,-13.98275564195214,-5.414275469021998,7.2642436436821285,-36.31485707982911,-10.91296668508489],\"y\":[-1.1134522670241314,5.7344387005601245,-10.437054839395605,-0.7739617943491074,3.6347931167608536,13.371952916553342,7.713281272186143,18.19304934024524,-8.762430568717892,-2.2028515945299523],\"z\":[0.43801949522914285,2.0855283346896365,2.1754988430171154,-0.2957925988667016,0.2547489846477601,3.4951715102745355,3.0316227832836375,2.9760593223114147,-1.4361259119325185,3.039145633636594],\"type\":\"scatter3d\"}],                        {\"template\":{\"data\":{\"histogram2dcontour\":[{\"type\":\"histogram2dcontour\",\"colorbar\":{\"outlinewidth\":0,\"ticks\":\"\"},\"colorscale\":[[0.0,\"#0d0887\"],[0.1111111111111111,\"#46039f\"],[0.2222222222222222,\"#7201a8\"],[0.3333333333333333,\"#9c179e\"],[0.4444444444444444,\"#bd3786\"],[0.5555555555555556,\"#d8576b\"],[0.6666666666666666,\"#ed7953\"],[0.7777777777777778,\"#fb9f3a\"],[0.8888888888888888,\"#fdca26\"],[1.0,\"#f0f921\"]]}],\"choropleth\":[{\"type\":\"choropleth\",\"colorbar\":{\"outlinewidth\":0,\"ticks\":\"\"}}],\"histogram2d\":[{\"type\":\"histogram2d\",\"colorbar\":{\"outlinewidth\":0,\"ticks\":\"\"},\"colorscale\":[[0.0,\"#0d0887\"],[0.1111111111111111,\"#46039f\"],[0.2222222222222222,\"#7201a8\"],[0.3333333333333333,\"#9c179e\"],[0.4444444444444444,\"#bd3786\"],[0.5555555555555556,\"#d8576b\"],[0.6666666666666666,\"#ed7953\"],[0.7777777777777778,\"#fb9f3a\"],[0.8888888888888888,\"#fdca26\"],[1.0,\"#f0f921\"]]}],\"heatmap\":[{\"type\":\"heatmap\",\"colorbar\":{\"outlinewidth\":0,\"ticks\":\"\"},\"colorscale\":[[0.0,\"#0d0887\"],[0.1111111111111111,\"#46039f\"],[0.2222222222222222,\"#7201a8\"],[0.3333333333333333,\"#9c179e\"],[0.4444444444444444,\"#bd3786\"],[0.5555555555555556,\"#d8576b\"],[0.6666666666666666,\"#ed7953\"],[0.7777777777777778,\"#fb9f3a\"],[0.8888888888888888,\"#fdca26\"],[1.0,\"#f0f921\"]]}],\"heatmapgl\":[{\"type\":\"heatmapgl\",\"colorbar\":{\"outlinewidth\":0,\"ticks\":\"\"},\"colorscale\":[[0.0,\"#0d0887\"],[0.1111111111111111,\"#46039f\"],[0.2222222222222222,\"#7201a8\"],[0.3333333333333333,\"#9c179e\"],[0.4444444444444444,\"#bd3786\"],[0.5555555555555556,\"#d8576b\"],[0.6666666666666666,\"#ed7953\"],[0.7777777777777778,\"#fb9f3a\"],[0.8888888888888888,\"#fdca26\"],[1.0,\"#f0f921\"]]}],\"contourcarpet\":[{\"type\":\"contourcarpet\",\"colorbar\":{\"outlinewidth\":0,\"ticks\":\"\"}}],\"contour\":[{\"type\":\"contour\",\"colorbar\":{\"outlinewidth\":0,\"ticks\":\"\"},\"colorscale\":[[0.0,\"#0d0887\"],[0.1111111111111111,\"#46039f\"],[0.2222222222222222,\"#7201a8\"],[0.3333333333333333,\"#9c179e\"],[0.4444444444444444,\"#bd3786\"],[0.5555555555555556,\"#d8576b\"],[0.6666666666666666,\"#ed7953\"],[0.7777777777777778,\"#fb9f3a\"],[0.8888888888888888,\"#fdca26\"],[1.0,\"#f0f921\"]]}],\"surface\":[{\"type\":\"surface\",\"colorbar\":{\"outlinewidth\":0,\"ticks\":\"\"},\"colorscale\":[[0.0,\"#0d0887\"],[0.1111111111111111,\"#46039f\"],[0.2222222222222222,\"#7201a8\"],[0.3333333333333333,\"#9c179e\"],[0.4444444444444444,\"#bd3786\"],[0.5555555555555556,\"#d8576b\"],[0.6666666666666666,\"#ed7953\"],[0.7777777777777778,\"#fb9f3a\"],[0.8888888888888888,\"#fdca26\"],[1.0,\"#f0f921\"]]}],\"mesh3d\":[{\"type\":\"mesh3d\",\"colorbar\":{\"outlinewidth\":0,\"ticks\":\"\"}}],\"scatter\":[{\"fillpattern\":{\"fillmode\":\"overlay\",\"size\":10,\"solidity\":0.2},\"type\":\"scatter\"}],\"parcoords\":[{\"type\":\"parcoords\",\"line\":{\"colorbar\":{\"outlinewidth\":0,\"ticks\":\"\"}}}],\"scatterpolargl\":[{\"type\":\"scatterpolargl\",\"marker\":{\"colorbar\":{\"outlinewidth\":0,\"ticks\":\"\"}}}],\"bar\":[{\"error_x\":{\"color\":\"#2a3f5f\"},\"error_y\":{\"color\":\"#2a3f5f\"},\"marker\":{\"line\":{\"color\":\"#E5ECF6\",\"width\":0.5},\"pattern\":{\"fillmode\":\"overlay\",\"size\":10,\"solidity\":0.2}},\"type\":\"bar\"}],\"scattergeo\":[{\"type\":\"scattergeo\",\"marker\":{\"colorbar\":{\"outlinewidth\":0,\"ticks\":\"\"}}}],\"scatterpolar\":[{\"type\":\"scatterpolar\",\"marker\":{\"colorbar\":{\"outlinewidth\":0,\"ticks\":\"\"}}}],\"histogram\":[{\"marker\":{\"pattern\":{\"fillmode\":\"overlay\",\"size\":10,\"solidity\":0.2}},\"type\":\"histogram\"}],\"scattergl\":[{\"type\":\"scattergl\",\"marker\":{\"colorbar\":{\"outlinewidth\":0,\"ticks\":\"\"}}}],\"scatter3d\":[{\"type\":\"scatter3d\",\"line\":{\"colorbar\":{\"outlinewidth\":0,\"ticks\":\"\"}},\"marker\":{\"colorbar\":{\"outlinewidth\":0,\"ticks\":\"\"}}}],\"scattermapbox\":[{\"type\":\"scattermapbox\",\"marker\":{\"colorbar\":{\"outlinewidth\":0,\"ticks\":\"\"}}}],\"scatterternary\":[{\"type\":\"scatterternary\",\"marker\":{\"colorbar\":{\"outlinewidth\":0,\"ticks\":\"\"}}}],\"scattercarpet\":[{\"type\":\"scattercarpet\",\"marker\":{\"colorbar\":{\"outlinewidth\":0,\"ticks\":\"\"}}}],\"carpet\":[{\"aaxis\":{\"endlinecolor\":\"#2a3f5f\",\"gridcolor\":\"white\",\"linecolor\":\"white\",\"minorgridcolor\":\"white\",\"startlinecolor\":\"#2a3f5f\"},\"baxis\":{\"endlinecolor\":\"#2a3f5f\",\"gridcolor\":\"white\",\"linecolor\":\"white\",\"minorgridcolor\":\"white\",\"startlinecolor\":\"#2a3f5f\"},\"type\":\"carpet\"}],\"table\":[{\"cells\":{\"fill\":{\"color\":\"#EBF0F8\"},\"line\":{\"color\":\"white\"}},\"header\":{\"fill\":{\"color\":\"#C8D4E3\"},\"line\":{\"color\":\"white\"}},\"type\":\"table\"}],\"barpolar\":[{\"marker\":{\"line\":{\"color\":\"#E5ECF6\",\"width\":0.5},\"pattern\":{\"fillmode\":\"overlay\",\"size\":10,\"solidity\":0.2}},\"type\":\"barpolar\"}],\"pie\":[{\"automargin\":true,\"type\":\"pie\"}]},\"layout\":{\"autotypenumbers\":\"strict\",\"colorway\":[\"#636efa\",\"#EF553B\",\"#00cc96\",\"#ab63fa\",\"#FFA15A\",\"#19d3f3\",\"#FF6692\",\"#B6E880\",\"#FF97FF\",\"#FECB52\"],\"font\":{\"color\":\"#2a3f5f\"},\"hovermode\":\"closest\",\"hoverlabel\":{\"align\":\"left\"},\"paper_bgcolor\":\"white\",\"plot_bgcolor\":\"#E5ECF6\",\"polar\":{\"bgcolor\":\"#E5ECF6\",\"angularaxis\":{\"gridcolor\":\"white\",\"linecolor\":\"white\",\"ticks\":\"\"},\"radialaxis\":{\"gridcolor\":\"white\",\"linecolor\":\"white\",\"ticks\":\"\"}},\"ternary\":{\"bgcolor\":\"#E5ECF6\",\"aaxis\":{\"gridcolor\":\"white\",\"linecolor\":\"white\",\"ticks\":\"\"},\"baxis\":{\"gridcolor\":\"white\",\"linecolor\":\"white\",\"ticks\":\"\"},\"caxis\":{\"gridcolor\":\"white\",\"linecolor\":\"white\",\"ticks\":\"\"}},\"coloraxis\":{\"colorbar\":{\"outlinewidth\":0,\"ticks\":\"\"}},\"colorscale\":{\"sequential\":[[0.0,\"#0d0887\"],[0.1111111111111111,\"#46039f\"],[0.2222222222222222,\"#7201a8\"],[0.3333333333333333,\"#9c179e\"],[0.4444444444444444,\"#bd3786\"],[0.5555555555555556,\"#d8576b\"],[0.6666666666666666,\"#ed7953\"],[0.7777777777777778,\"#fb9f3a\"],[0.8888888888888888,\"#fdca26\"],[1.0,\"#f0f921\"]],\"sequentialminus\":[[0.0,\"#0d0887\"],[0.1111111111111111,\"#46039f\"],[0.2222222222222222,\"#7201a8\"],[0.3333333333333333,\"#9c179e\"],[0.4444444444444444,\"#bd3786\"],[0.5555555555555556,\"#d8576b\"],[0.6666666666666666,\"#ed7953\"],[0.7777777777777778,\"#fb9f3a\"],[0.8888888888888888,\"#fdca26\"],[1.0,\"#f0f921\"]],\"diverging\":[[0,\"#8e0152\"],[0.1,\"#c51b7d\"],[0.2,\"#de77ae\"],[0.3,\"#f1b6da\"],[0.4,\"#fde0ef\"],[0.5,\"#f7f7f7\"],[0.6,\"#e6f5d0\"],[0.7,\"#b8e186\"],[0.8,\"#7fbc41\"],[0.9,\"#4d9221\"],[1,\"#276419\"]]},\"xaxis\":{\"gridcolor\":\"white\",\"linecolor\":\"white\",\"ticks\":\"\",\"title\":{\"standoff\":15},\"zerolinecolor\":\"white\",\"automargin\":true,\"zerolinewidth\":2},\"yaxis\":{\"gridcolor\":\"white\",\"linecolor\":\"white\",\"ticks\":\"\",\"title\":{\"standoff\":15},\"zerolinecolor\":\"white\",\"automargin\":true,\"zerolinewidth\":2},\"scene\":{\"xaxis\":{\"backgroundcolor\":\"#E5ECF6\",\"gridcolor\":\"white\",\"linecolor\":\"white\",\"showbackground\":true,\"ticks\":\"\",\"zerolinecolor\":\"white\",\"gridwidth\":2},\"yaxis\":{\"backgroundcolor\":\"#E5ECF6\",\"gridcolor\":\"white\",\"linecolor\":\"white\",\"showbackground\":true,\"ticks\":\"\",\"zerolinecolor\":\"white\",\"gridwidth\":2},\"zaxis\":{\"backgroundcolor\":\"#E5ECF6\",\"gridcolor\":\"white\",\"linecolor\":\"white\",\"showbackground\":true,\"ticks\":\"\",\"zerolinecolor\":\"white\",\"gridwidth\":2}},\"shapedefaults\":{\"line\":{\"color\":\"#2a3f5f\"}},\"annotationdefaults\":{\"arrowcolor\":\"#2a3f5f\",\"arrowhead\":0,\"arrowwidth\":1},\"geo\":{\"bgcolor\":\"white\",\"landcolor\":\"#E5ECF6\",\"subunitcolor\":\"white\",\"showland\":true,\"showlakes\":true,\"lakecolor\":\"white\"},\"title\":{\"x\":0.05},\"mapbox\":{\"style\":\"light\"}}},\"scene\":{\"xaxis\":{\"title\":{\"text\":\"PC1\"}},\"yaxis\":{\"title\":{\"text\":\"PC2\"}},\"zaxis\":{\"title\":{\"text\":\"PC3\"}}},\"title\":{\"text\":\"20240806 PCA on loss(ans | question + prompt) -- proper Llama instruction prompt\"}},                        {\"responsive\": true}                    ).then(function(){\n",
       "                            \n",
       "var gd = document.getElementById('aac32cab-767d-4791-94a6-d50e94ddb08d');\n",
       "var x = new MutationObserver(function (mutations, observer) {{\n",
       "        var display = window.getComputedStyle(gd).display;\n",
       "        if (!display || display === 'none') {{\n",
       "            console.log([gd, 'removed!']);\n",
       "            Plotly.purge(gd);\n",
       "            observer.disconnect();\n",
       "        }}\n",
       "}});\n",
       "\n",
       "// Listen for the removal of the full notebook cells\n",
       "var notebookContainer = gd.closest('#notebook-container');\n",
       "if (notebookContainer) {{\n",
       "    x.observe(notebookContainer, {childList: true});\n",
       "}}\n",
       "\n",
       "// Listen for the clearing of the current output cell\n",
       "var outputEl = gd.closest('.output');\n",
       "if (outputEl) {{\n",
       "    x.observe(outputEl, {childList: true});\n",
       "}}\n",
       "\n",
       "                        })                };                });            </script>        </div>"
      ]
     },
     "metadata": {},
     "output_type": "display_data"
    }
   ],
   "source": [
    "from sklearn.decomposition import PCA\n",
    "import plotly.graph_objects as go\n",
    "import pandas as pd\n",
    "\n",
    "# Assuming prompt_reps and prompt_tags are already defined\n",
    "pca = PCA(n_components=3)\n",
    "pca_result = pca.fit_transform(prompt_reps)\n",
    "print(\"pca_result.shape: \", pca_result.shape)\n",
    "\n",
    "# Create a DataFrame with PCA results and tags\n",
    "df = pd.DataFrame({\n",
    "    'PC1': pca_result[:, 0],\n",
    "    'PC2': pca_result[:, 1],\n",
    "    'PC3': pca_result[:, 2],\n",
    "    'Tag': prompt_tags, \n",
    "    'HoverInfo': prompt_strings\n",
    "})\n",
    "\n",
    "# Create the figure\n",
    "fig = go.Figure()\n",
    "\n",
    "# Add traces for each unique tag\n",
    "for tag in df['Tag'].unique():\n",
    "    tag_data = df[df['Tag'] == tag]\n",
    "    fig.add_trace(go.Scatter3d(\n",
    "        x=tag_data['PC1'],\n",
    "        y=tag_data['PC2'],\n",
    "        z=tag_data['PC3'],\n",
    "        mode='markers',\n",
    "        marker=dict(size=5),\n",
    "        name=tag, \n",
    "        text=tag_data[\"HoverInfo\"], \n",
    "        hoverinfo=\"text\"\n",
    "    ))\n",
    "\n",
    "# Update layout to change axis labels\n",
    "fig.update_layout(\n",
    "    scene=dict(\n",
    "        xaxis_title='PC1',\n",
    "        yaxis_title='PC2',\n",
    "        zaxis_title='PC3'\n",
    "    )\n",
    ")\n",
    "# title\n",
    "fig.update_layout(title_text=\"20240806 PCA on loss(ans | question + prompt) -- proper Llama instruction prompt\")\n",
    "\n",
    "fig.show()\n",
    "\n",
    "# save in the results_dir\n",
    "fig.write_html(os.path.join(results_dir, \"prompt_loss_pca_plot.html\"))"
   ]
  },
  {
   "cell_type": "markdown",
   "metadata": {},
   "source": [
    "Plot available here: [https://lancelot.languagegame.io/archive/emo/aman/cache/fullprobs_claude30_X_AQ_20240806/prompt_loss_pca_plot.html](https://lancelot.languagegame.io/archive/emo/aman/cache/fullprobs_claude30_X_AQ_20240806/prompt_loss_pca_plot.html)\n",
    "\n",
    "Interesting to see that using the \"proper\" Llama instruction format (see `datasets/llama_instruct_template.txt`) actualy makes a very different distribution in the PCA from our earlier test where we didn't use the proper instruction prompt: [https://lancelot.languagegame.io/claude30_x_AQ_pqa_losses_202406133dpca.html](https://lancelot.languagegame.io/claude30_x_AQ_pqa_losses_202406133dpca.html)\n",
    "\n",
    "The biggest difference is that **original results have 'neurotypical pretending' in the middle, whereas new results have 'autistic' in the middle.**"
   ]
  },
  {
   "cell_type": "code",
   "execution_count": null,
   "metadata": {},
   "outputs": [],
   "source": []
  }
 ],
 "metadata": {
  "kernelspec": {
   "display_name": "venv",
   "language": "python",
   "name": "python3"
  },
  "language_info": {
   "codemirror_mode": {
    "name": "ipython",
    "version": 3
   },
   "file_extension": ".py",
   "mimetype": "text/x-python",
   "name": "python",
   "nbconvert_exporter": "python",
   "pygments_lexer": "ipython3",
   "version": "3.10.12"
  }
 },
 "nbformat": 4,
 "nbformat_minor": 2
}
