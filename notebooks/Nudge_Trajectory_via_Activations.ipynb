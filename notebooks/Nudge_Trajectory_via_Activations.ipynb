{
 "cells": [
  {
   "cell_type": "markdown",
   "metadata": {},
   "source": [
    "# Nudge LLM Trajectories via Emotional Axes\n",
    "\n",
    "_See `notebooks/llm emotional control.pdf` for less abstract treatment._\n",
    "\n",
    "In this notebook we will demonstrate control over probabilities assigned to \n",
    "trajectories $t_i^+, t_i^-$ for $i\\in[N]$ from $t_i^+ \\sim P_{LM}(t_i^+ | x_0^+)$ \n",
    "and $t_i^- \\sim P_{LM}(t_i^- | x_0^-)$ i.i.d. \n",
    "\n",
    "**Experiment 1**: cache `key_value_plus`, `key_value_minus` from\n",
    "*`model(x_0_plus)`, `model(x_0_minus)` \n",
    "k"
   ]
  },
  {
   "cell_type": "code",
   "execution_count": 1,
   "metadata": {},
   "outputs": [],
   "source": [
    "import os\n",
    "import json\n",
    "import numpy as np\n",
    "import pandas as pd\n",
    "import matplotlib.pyplot as plt\n",
    "from tqdm import tqdm\n",
    "\n",
    "# gpt-2 model \n",
    "from transformers import GPT2LMHeadModel, GPT2Tokenizer\n",
    "from transformers import AutoTokenizer, AutoModelForCausalLM\n",
    "import torch"
   ]
  },
  {
   "cell_type": "code",
   "execution_count": 2,
   "metadata": {},
   "outputs": [],
   "source": [
    "# Load the gpt-2 model \n",
    "model_name = \"gpt2\"\n",
    "tokenizer = GPT2Tokenizer.from_pretrained(model_name)\n",
    "model = GPT2LMHeadModel.from_pretrained(model_name).to('cuda')\n",
    "\n",
    "# model_name = \"meta-llama/Meta-Llama-3-8B-Instruct\"\n",
    "# tokenizer = AutoTokenizer.from_pretrained(model_name)\n",
    "# model = AutoModelForCausalLM.from_pretrained(model_name).to('cuda')"
   ]
  },
  {
   "cell_type": "markdown",
   "metadata": {},
   "source": [
    "## 1: Compute `past_kv_plus`, `past_kv_minus`"
   ]
  },
  {
   "cell_type": "code",
   "execution_count": 3,
   "metadata": {},
   "outputs": [
    {
     "name": "stdout",
     "output_type": "stream",
     "text": [
      "x_0_plus_ids:  tensor([[18861,   373,  4457,  3772,    11,  4361,  5811]], device='cuda:0')\n",
      "x_0_minus_ids:  tensor([[18861,   373,  4457,  6507,    11,  4361,  5811]], device='cuda:0')\n",
      "x_0_plus:  Bob was extremely happy, therefore Bob\n",
      "x_0_minus:  Bob was extremely sad, therefore Bob\n"
     ]
    }
   ],
   "source": [
    "# define dataset \n",
    "x_0_plus = \"Bob was extremely happy, therefore Bob\"\n",
    "x_0_minus = \"Bob was extremely sad, therefore Bob\"\n",
    "\n",
    "# tokenize as pytorch tensors \n",
    "x_0_plus_ids = tokenizer.encode(x_0_plus, return_tensors='pt').to('cuda')\n",
    "x_0_minus_ids = tokenizer.encode(x_0_minus, return_tensors='pt').to('cuda')\n",
    "print(\"x_0_plus_ids: \", x_0_plus_ids)\n",
    "print(\"x_0_minus_ids: \", x_0_minus_ids)\n",
    "\n",
    "# ensure tokenizer can decode\n",
    "print(\"x_0_plus: \", tokenizer.decode(x_0_plus_ids[0]))\n",
    "print(\"x_0_minus: \", tokenizer.decode(x_0_minus_ids[0]))\n",
    "\n",
    "# retrieve past_kv_plus and past_kv_minus \n",
    "with torch.no_grad():\n",
    "    outputs = model(x_0_plus_ids, past_key_values=None)\n",
    "    past_kv_plus = outputs.past_key_values\n",
    "    outputs = model(x_0_minus_ids, past_key_values=None)\n",
    "    past_kv_minus = outputs.past_key_values"
   ]
  },
  {
   "cell_type": "code",
   "execution_count": 4,
   "metadata": {},
   "outputs": [
    {
     "name": "stdout",
     "output_type": "stream",
     "text": [
      "Decoded 18861: `Bob`\n",
      "Decoded 373: ` was`\n",
      "Decoded 4457: ` extremely`\n",
      "Decoded 3772: ` happy`\n",
      "Decoded 11: `,`\n",
      "Decoded 4361: ` therefore`\n",
      "Decoded 5811: ` Bob`\n"
     ]
    }
   ],
   "source": [
    "# let's go through one token at a time: \n",
    "for i in range(x_0_plus_ids.shape[1]): \n",
    "    print(f\"Decoded {x_0_plus_ids[0, i]}: `{tokenizer.decode(x_0_plus_ids[0, i])}`\")"
   ]
  },
  {
   "cell_type": "markdown",
   "metadata": {},
   "source": [
    " - `past_kv_plus`, `past_kv_minus` are tuples of length `num_layer=12`. \n",
    " - `past_kv[l]` is a tuple of length 2 (key, values) for layer `l`\n",
    " - `past_kv[l][0]` are the keys for layer `l`, shape `[b, num_heads, ]\n"
   ]
  },
  {
   "cell_type": "code",
   "execution_count": 5,
   "metadata": {},
   "outputs": [
    {
     "name": "stdout",
     "output_type": "stream",
     "text": [
      "0th layer, keys shape:  torch.Size([1, 12, 7, 64])\n",
      "\tshape [batch, num_heads, seq_len, head_dim]\n",
      "0th layer, values shape:  torch.Size([1, 12, 7, 64])\n",
      "\tshape [batch, num_heads, seq_len, head_dim]\n"
     ]
    }
   ],
   "source": [
    "print(\"0th layer, keys shape: \", past_kv_plus[0][0].shape) \n",
    "print(f\"\\tshape [batch, num_heads, seq_len, head_dim]\")\n",
    "print(\"0th layer, values shape: \", past_kv_plus[0][1].shape)\n",
    "print(f\"\\tshape [batch, num_heads, seq_len, head_dim]\")\n"
   ]
  },
  {
   "cell_type": "code",
   "execution_count": 6,
   "metadata": {},
   "outputs": [],
   "source": [
    "# print(\"Number of heads in gpt2 attention: \", model.transformer.h[0].attn.num_heads)\n",
    "# print(\"Head dim in gpt2 attention: \", model.transformer.h[0].attn.head_dim)"
   ]
  },
  {
   "cell_type": "markdown",
   "metadata": {},
   "source": [
    "## 2: Sample trajectories $t_i^\\pm \\sim P_{LLM}(t_i^\\pm | \\text{past kv}^\\pm)$"
   ]
  },
  {
   "cell_type": "code",
   "execution_count": 7,
   "metadata": {},
   "outputs": [],
   "source": [
    "# Set the number of trajectories to sample\n",
    "num_trajectories = 200\n",
    "max_length = 10"
   ]
  },
  {
   "cell_type": "code",
   "execution_count": 8,
   "metadata": {},
   "outputs": [],
   "source": [
    "# Function to sample a trajectory given the model, tokenizer, prompt, and past_kv\n",
    "def sample_trajectory(model, tokenizer, past_kv, prompt_ids, max_length):\n",
    "    \"\"\" Samples t ~ P_{LLM}(t | past_kv + prompt_ids)\n",
    "    \"\"\"\n",
    "    # print(\"Prompt_ids shape: \", prompt_ids.shape)\n",
    "    # print(\"Past kv shape value 0: \", past_kv[0][0].shape)\n",
    "\n",
    "    num_past_toks = past_kv[0][0].shape[2]\n",
    "    attention_mask = torch.ones([1, prompt_ids.shape[1] + num_past_toks]).to(model.device)\n",
    "    # print(\"Attention mask shape: \", attention_mask.shape)\n",
    "\n",
    "    with torch.no_grad():\n",
    "        generated_ids = model.generate(\n",
    "            prompt_ids,\n",
    "            max_length=max_length,\n",
    "            no_repeat_ngram_size=3,\n",
    "            do_sample=True,\n",
    "            top_p=0.95,\n",
    "            top_k=100,\n",
    "            temperature=0.8,\n",
    "            attention_mask=attention_mask,\n",
    "            bad_words_ids=None,\n",
    "            past_key_values=past_kv\n",
    "        ).to('cuda')\n",
    "    \n",
    "    generated_text = tokenizer.decode(generated_ids[0], skip_special_tokens=True)\n",
    "    \n",
    "    return generated_text, generated_ids"
   ]
  },
  {
   "cell_type": "code",
   "execution_count": 9,
   "metadata": {},
   "outputs": [
    {
     "name": "stderr",
     "output_type": "stream",
     "text": [
      "Setting `pad_token_id` to `eos_token_id`:50256 for open-end generation.\n"
     ]
    },
    {
     "name": "stdout",
     "output_type": "stream",
     "text": [
      "[Trajectory plus: ]  did not have to worry about being sick again.\n",
      "\n",
      "Number of tokens in trajectory:  torch.Size([1, 10])\n"
     ]
    }
   ],
   "source": [
    "# test the sample trajectory function \n",
    "prompt = \" did\"\n",
    "prompt_ids = tokenizer.encode(prompt, return_tensors='pt').to('cuda')\n",
    "\n",
    "# t_plus_str is a string, t_plus_ids is a tensor of shape [1, traj_len], including the extra `prompt`\n",
    "t_plus_str, t_plus_ids = sample_trajectory(model, tokenizer, past_kv_plus, prompt_ids, max_length)\n",
    "print(\"[Trajectory plus: ]\", t_plus_str)\n",
    "print(\"\\nNumber of tokens in trajectory: \", t_plus_ids.shape)"
   ]
  },
  {
   "cell_type": "code",
   "execution_count": 10,
   "metadata": {},
   "outputs": [
    {
     "name": "stderr",
     "output_type": "stream",
     "text": [
      "Setting `pad_token_id` to `eos_token_id`:50256 for open-end generation.\n"
     ]
    },
    {
     "name": "stdout",
     "output_type": "stream",
     "text": [
      "[Trajectory minus: ]  did not listen to the news and did not have\n",
      "\n",
      "Number of tokens in trajectory:  torch.Size([1, 10])\n"
     ]
    }
   ],
   "source": [
    "t_min_str, t_min_ids = sample_trajectory(model, tokenizer, past_kv_minus, prompt_ids, max_length)\n",
    "print(\"[Trajectory minus: ]\", t_min_str)\n",
    "\n",
    "print(\"\\nNumber of tokens in trajectory: \", t_min_ids.shape)"
   ]
  },
  {
   "cell_type": "code",
   "execution_count": 11,
   "metadata": {},
   "outputs": [
    {
     "name": "stderr",
     "output_type": "stream",
     "text": [
      "Sampling x_0_plus trajectories:   0%|          | 0/200 [00:00<?, ?it/s]Setting `pad_token_id` to `eos_token_id`:50256 for open-end generation.\n",
      "Setting `pad_token_id` to `eos_token_id`:50256 for open-end generation.\n",
      "Sampling x_0_plus trajectories:   1%|          | 2/200 [00:00<00:15, 12.56it/s]Setting `pad_token_id` to `eos_token_id`:50256 for open-end generation.\n",
      "Setting `pad_token_id` to `eos_token_id`:50256 for open-end generation.\n",
      "Sampling x_0_plus trajectories:   2%|▏         | 4/200 [00:00<00:15, 12.66it/s]Setting `pad_token_id` to `eos_token_id`:50256 for open-end generation.\n",
      "Setting `pad_token_id` to `eos_token_id`:50256 for open-end generation.\n",
      "Sampling x_0_plus trajectories:   3%|▎         | 6/200 [00:00<00:15, 12.68it/s]Setting `pad_token_id` to `eos_token_id`:50256 for open-end generation.\n",
      "Setting `pad_token_id` to `eos_token_id`:50256 for open-end generation.\n",
      "Sampling x_0_plus trajectories:   4%|▍         | 8/200 [00:00<00:15, 12.66it/s]Setting `pad_token_id` to `eos_token_id`:50256 for open-end generation.\n",
      "Setting `pad_token_id` to `eos_token_id`:50256 for open-end generation.\n",
      "Sampling x_0_plus trajectories:   5%|▌         | 10/200 [00:00<00:15, 12.63it/s]Setting `pad_token_id` to `eos_token_id`:50256 for open-end generation.\n",
      "Setting `pad_token_id` to `eos_token_id`:50256 for open-end generation.\n",
      "Sampling x_0_plus trajectories:   6%|▌         | 12/200 [00:00<00:14, 12.68it/s]Setting `pad_token_id` to `eos_token_id`:50256 for open-end generation.\n",
      "Setting `pad_token_id` to `eos_token_id`:50256 for open-end generation.\n",
      "Sampling x_0_plus trajectories:   7%|▋         | 14/200 [00:01<00:14, 12.70it/s]Setting `pad_token_id` to `eos_token_id`:50256 for open-end generation.\n",
      "Setting `pad_token_id` to `eos_token_id`:50256 for open-end generation.\n",
      "Sampling x_0_plus trajectories:   8%|▊         | 16/200 [00:01<00:14, 12.74it/s]Setting `pad_token_id` to `eos_token_id`:50256 for open-end generation.\n",
      "Setting `pad_token_id` to `eos_token_id`:50256 for open-end generation.\n",
      "Sampling x_0_plus trajectories:   9%|▉         | 18/200 [00:01<00:14, 12.74it/s]Setting `pad_token_id` to `eos_token_id`:50256 for open-end generation.\n",
      "Setting `pad_token_id` to `eos_token_id`:50256 for open-end generation.\n",
      "Sampling x_0_plus trajectories:  10%|█         | 20/200 [00:01<00:14, 12.73it/s]Setting `pad_token_id` to `eos_token_id`:50256 for open-end generation.\n",
      "Setting `pad_token_id` to `eos_token_id`:50256 for open-end generation.\n",
      "Sampling x_0_plus trajectories:  11%|█         | 22/200 [00:01<00:14, 12.71it/s]Setting `pad_token_id` to `eos_token_id`:50256 for open-end generation.\n",
      "Setting `pad_token_id` to `eos_token_id`:50256 for open-end generation.\n",
      "Sampling x_0_plus trajectories:  12%|█▏        | 24/200 [00:01<00:13, 12.71it/s]Setting `pad_token_id` to `eos_token_id`:50256 for open-end generation.\n",
      "Setting `pad_token_id` to `eos_token_id`:50256 for open-end generation.\n",
      "Sampling x_0_plus trajectories:  13%|█▎        | 26/200 [00:02<00:13, 12.70it/s]Setting `pad_token_id` to `eos_token_id`:50256 for open-end generation.\n",
      "Setting `pad_token_id` to `eos_token_id`:50256 for open-end generation.\n",
      "Sampling x_0_plus trajectories:  14%|█▍        | 28/200 [00:02<00:13, 12.70it/s]Setting `pad_token_id` to `eos_token_id`:50256 for open-end generation.\n",
      "Setting `pad_token_id` to `eos_token_id`:50256 for open-end generation.\n",
      "Sampling x_0_plus trajectories:  15%|█▌        | 30/200 [00:02<00:13, 12.69it/s]Setting `pad_token_id` to `eos_token_id`:50256 for open-end generation.\n",
      "Setting `pad_token_id` to `eos_token_id`:50256 for open-end generation.\n",
      "Sampling x_0_plus trajectories:  16%|█▌        | 32/200 [00:02<00:13, 12.69it/s]Setting `pad_token_id` to `eos_token_id`:50256 for open-end generation.\n",
      "Setting `pad_token_id` to `eos_token_id`:50256 for open-end generation.\n",
      "Sampling x_0_plus trajectories:  17%|█▋        | 34/200 [00:02<00:13, 12.65it/s]Setting `pad_token_id` to `eos_token_id`:50256 for open-end generation.\n",
      "Setting `pad_token_id` to `eos_token_id`:50256 for open-end generation.\n",
      "Sampling x_0_plus trajectories:  18%|█▊        | 36/200 [00:02<00:12, 12.64it/s]Setting `pad_token_id` to `eos_token_id`:50256 for open-end generation.\n",
      "Setting `pad_token_id` to `eos_token_id`:50256 for open-end generation.\n",
      "Sampling x_0_plus trajectories:  19%|█▉        | 38/200 [00:02<00:12, 12.64it/s]Setting `pad_token_id` to `eos_token_id`:50256 for open-end generation.\n",
      "Setting `pad_token_id` to `eos_token_id`:50256 for open-end generation.\n",
      "Sampling x_0_plus trajectories:  20%|██        | 40/200 [00:03<00:12, 12.68it/s]Setting `pad_token_id` to `eos_token_id`:50256 for open-end generation.\n",
      "Setting `pad_token_id` to `eos_token_id`:50256 for open-end generation.\n",
      "Sampling x_0_plus trajectories:  21%|██        | 42/200 [00:03<00:12, 12.74it/s]Setting `pad_token_id` to `eos_token_id`:50256 for open-end generation.\n",
      "Setting `pad_token_id` to `eos_token_id`:50256 for open-end generation.\n",
      "Sampling x_0_plus trajectories:  22%|██▏       | 44/200 [00:03<00:12, 12.79it/s]Setting `pad_token_id` to `eos_token_id`:50256 for open-end generation.\n",
      "Setting `pad_token_id` to `eos_token_id`:50256 for open-end generation.\n",
      "Sampling x_0_plus trajectories:  23%|██▎       | 46/200 [00:03<00:12, 12.82it/s]Setting `pad_token_id` to `eos_token_id`:50256 for open-end generation.\n",
      "Setting `pad_token_id` to `eos_token_id`:50256 for open-end generation.\n",
      "Sampling x_0_plus trajectories:  24%|██▍       | 48/200 [00:03<00:11, 12.81it/s]Setting `pad_token_id` to `eos_token_id`:50256 for open-end generation.\n",
      "Setting `pad_token_id` to `eos_token_id`:50256 for open-end generation.\n",
      "Sampling x_0_plus trajectories:  25%|██▌       | 50/200 [00:03<00:11, 12.82it/s]Setting `pad_token_id` to `eos_token_id`:50256 for open-end generation.\n",
      "Setting `pad_token_id` to `eos_token_id`:50256 for open-end generation.\n",
      "Sampling x_0_plus trajectories:  26%|██▌       | 52/200 [00:04<00:11, 12.81it/s]Setting `pad_token_id` to `eos_token_id`:50256 for open-end generation.\n",
      "Setting `pad_token_id` to `eos_token_id`:50256 for open-end generation.\n",
      "Sampling x_0_plus trajectories:  27%|██▋       | 54/200 [00:04<00:11, 12.81it/s]Setting `pad_token_id` to `eos_token_id`:50256 for open-end generation.\n",
      "Setting `pad_token_id` to `eos_token_id`:50256 for open-end generation.\n",
      "Sampling x_0_plus trajectories:  28%|██▊       | 56/200 [00:04<00:11, 12.81it/s]Setting `pad_token_id` to `eos_token_id`:50256 for open-end generation.\n",
      "Setting `pad_token_id` to `eos_token_id`:50256 for open-end generation.\n",
      "Sampling x_0_plus trajectories:  29%|██▉       | 58/200 [00:04<00:11, 12.81it/s]Setting `pad_token_id` to `eos_token_id`:50256 for open-end generation.\n",
      "Setting `pad_token_id` to `eos_token_id`:50256 for open-end generation.\n",
      "Sampling x_0_plus trajectories:  30%|███       | 60/200 [00:04<00:10, 12.78it/s]Setting `pad_token_id` to `eos_token_id`:50256 for open-end generation.\n",
      "Setting `pad_token_id` to `eos_token_id`:50256 for open-end generation.\n",
      "Sampling x_0_plus trajectories:  31%|███       | 62/200 [00:04<00:10, 12.77it/s]Setting `pad_token_id` to `eos_token_id`:50256 for open-end generation.\n",
      "Setting `pad_token_id` to `eos_token_id`:50256 for open-end generation.\n",
      "Sampling x_0_plus trajectories:  32%|███▏      | 64/200 [00:05<00:10, 12.77it/s]Setting `pad_token_id` to `eos_token_id`:50256 for open-end generation.\n",
      "Setting `pad_token_id` to `eos_token_id`:50256 for open-end generation.\n",
      "Sampling x_0_plus trajectories:  33%|███▎      | 66/200 [00:05<00:10, 12.76it/s]Setting `pad_token_id` to `eos_token_id`:50256 for open-end generation.\n",
      "Setting `pad_token_id` to `eos_token_id`:50256 for open-end generation.\n",
      "Sampling x_0_plus trajectories:  34%|███▍      | 68/200 [00:05<00:10, 12.76it/s]Setting `pad_token_id` to `eos_token_id`:50256 for open-end generation.\n",
      "Setting `pad_token_id` to `eos_token_id`:50256 for open-end generation.\n",
      "Sampling x_0_plus trajectories:  35%|███▌      | 70/200 [00:05<00:10, 12.77it/s]Setting `pad_token_id` to `eos_token_id`:50256 for open-end generation.\n",
      "Setting `pad_token_id` to `eos_token_id`:50256 for open-end generation.\n",
      "Sampling x_0_plus trajectories:  36%|███▌      | 72/200 [00:05<00:10, 12.74it/s]Setting `pad_token_id` to `eos_token_id`:50256 for open-end generation.\n",
      "Setting `pad_token_id` to `eos_token_id`:50256 for open-end generation.\n",
      "Sampling x_0_plus trajectories:  37%|███▋      | 74/200 [00:05<00:09, 12.76it/s]Setting `pad_token_id` to `eos_token_id`:50256 for open-end generation.\n",
      "Setting `pad_token_id` to `eos_token_id`:50256 for open-end generation.\n",
      "Sampling x_0_plus trajectories:  38%|███▊      | 76/200 [00:05<00:09, 12.70it/s]Setting `pad_token_id` to `eos_token_id`:50256 for open-end generation.\n",
      "Setting `pad_token_id` to `eos_token_id`:50256 for open-end generation.\n",
      "Sampling x_0_plus trajectories:  39%|███▉      | 78/200 [00:06<00:09, 12.71it/s]Setting `pad_token_id` to `eos_token_id`:50256 for open-end generation.\n",
      "Setting `pad_token_id` to `eos_token_id`:50256 for open-end generation.\n",
      "Sampling x_0_plus trajectories:  40%|████      | 80/200 [00:06<00:09, 12.72it/s]Setting `pad_token_id` to `eos_token_id`:50256 for open-end generation.\n",
      "Setting `pad_token_id` to `eos_token_id`:50256 for open-end generation.\n",
      "Sampling x_0_plus trajectories:  41%|████      | 82/200 [00:06<00:09, 12.72it/s]Setting `pad_token_id` to `eos_token_id`:50256 for open-end generation.\n",
      "Setting `pad_token_id` to `eos_token_id`:50256 for open-end generation.\n",
      "Sampling x_0_plus trajectories:  42%|████▏     | 84/200 [00:06<00:09, 12.73it/s]Setting `pad_token_id` to `eos_token_id`:50256 for open-end generation.\n",
      "Setting `pad_token_id` to `eos_token_id`:50256 for open-end generation.\n",
      "Sampling x_0_plus trajectories:  43%|████▎     | 86/200 [00:06<00:08, 12.72it/s]Setting `pad_token_id` to `eos_token_id`:50256 for open-end generation.\n",
      "Setting `pad_token_id` to `eos_token_id`:50256 for open-end generation.\n",
      "Sampling x_0_plus trajectories:  44%|████▍     | 88/200 [00:06<00:08, 12.74it/s]Setting `pad_token_id` to `eos_token_id`:50256 for open-end generation.\n",
      "Setting `pad_token_id` to `eos_token_id`:50256 for open-end generation.\n",
      "Sampling x_0_plus trajectories:  45%|████▌     | 90/200 [00:07<00:08, 12.74it/s]Setting `pad_token_id` to `eos_token_id`:50256 for open-end generation.\n",
      "Setting `pad_token_id` to `eos_token_id`:50256 for open-end generation.\n",
      "Sampling x_0_plus trajectories:  46%|████▌     | 92/200 [00:07<00:08, 12.75it/s]Setting `pad_token_id` to `eos_token_id`:50256 for open-end generation.\n",
      "Setting `pad_token_id` to `eos_token_id`:50256 for open-end generation.\n",
      "Sampling x_0_plus trajectories:  47%|████▋     | 94/200 [00:07<00:08, 12.76it/s]Setting `pad_token_id` to `eos_token_id`:50256 for open-end generation.\n",
      "Setting `pad_token_id` to `eos_token_id`:50256 for open-end generation.\n",
      "Sampling x_0_plus trajectories:  48%|████▊     | 96/200 [00:07<00:08, 12.77it/s]Setting `pad_token_id` to `eos_token_id`:50256 for open-end generation.\n",
      "Setting `pad_token_id` to `eos_token_id`:50256 for open-end generation.\n",
      "Sampling x_0_plus trajectories:  49%|████▉     | 98/200 [00:07<00:07, 12.80it/s]Setting `pad_token_id` to `eos_token_id`:50256 for open-end generation.\n",
      "Setting `pad_token_id` to `eos_token_id`:50256 for open-end generation.\n",
      "Sampling x_0_plus trajectories:  50%|█████     | 100/200 [00:07<00:07, 12.80it/s]Setting `pad_token_id` to `eos_token_id`:50256 for open-end generation.\n",
      "Setting `pad_token_id` to `eos_token_id`:50256 for open-end generation.\n",
      "Sampling x_0_plus trajectories:  51%|█████     | 102/200 [00:08<00:07, 12.82it/s]Setting `pad_token_id` to `eos_token_id`:50256 for open-end generation.\n",
      "Setting `pad_token_id` to `eos_token_id`:50256 for open-end generation.\n",
      "Sampling x_0_plus trajectories:  52%|█████▏    | 104/200 [00:08<00:07, 12.81it/s]Setting `pad_token_id` to `eos_token_id`:50256 for open-end generation.\n",
      "Setting `pad_token_id` to `eos_token_id`:50256 for open-end generation.\n",
      "Sampling x_0_plus trajectories:  53%|█████▎    | 106/200 [00:08<00:07, 12.68it/s]Setting `pad_token_id` to `eos_token_id`:50256 for open-end generation.\n",
      "Setting `pad_token_id` to `eos_token_id`:50256 for open-end generation.\n",
      "Sampling x_0_plus trajectories:  54%|█████▍    | 108/200 [00:08<00:07, 12.71it/s]Setting `pad_token_id` to `eos_token_id`:50256 for open-end generation.\n",
      "Setting `pad_token_id` to `eos_token_id`:50256 for open-end generation.\n",
      "Sampling x_0_plus trajectories:  55%|█████▌    | 110/200 [00:08<00:07, 12.73it/s]Setting `pad_token_id` to `eos_token_id`:50256 for open-end generation.\n",
      "Setting `pad_token_id` to `eos_token_id`:50256 for open-end generation.\n",
      "Sampling x_0_plus trajectories:  56%|█████▌    | 112/200 [00:08<00:06, 12.73it/s]Setting `pad_token_id` to `eos_token_id`:50256 for open-end generation.\n",
      "Setting `pad_token_id` to `eos_token_id`:50256 for open-end generation.\n",
      "Sampling x_0_plus trajectories:  57%|█████▋    | 114/200 [00:08<00:06, 12.75it/s]Setting `pad_token_id` to `eos_token_id`:50256 for open-end generation.\n",
      "Setting `pad_token_id` to `eos_token_id`:50256 for open-end generation.\n",
      "Sampling x_0_plus trajectories:  58%|█████▊    | 116/200 [00:09<00:06, 12.64it/s]Setting `pad_token_id` to `eos_token_id`:50256 for open-end generation.\n",
      "Setting `pad_token_id` to `eos_token_id`:50256 for open-end generation.\n",
      "Sampling x_0_plus trajectories:  59%|█████▉    | 118/200 [00:09<00:06, 12.67it/s]Setting `pad_token_id` to `eos_token_id`:50256 for open-end generation.\n",
      "Setting `pad_token_id` to `eos_token_id`:50256 for open-end generation.\n",
      "Sampling x_0_plus trajectories:  60%|██████    | 120/200 [00:09<00:06, 12.70it/s]Setting `pad_token_id` to `eos_token_id`:50256 for open-end generation.\n",
      "Setting `pad_token_id` to `eos_token_id`:50256 for open-end generation.\n",
      "Sampling x_0_plus trajectories:  61%|██████    | 122/200 [00:09<00:06, 12.69it/s]Setting `pad_token_id` to `eos_token_id`:50256 for open-end generation.\n",
      "Setting `pad_token_id` to `eos_token_id`:50256 for open-end generation.\n",
      "Sampling x_0_plus trajectories:  62%|██████▏   | 124/200 [00:09<00:05, 12.71it/s]Setting `pad_token_id` to `eos_token_id`:50256 for open-end generation.\n",
      "Setting `pad_token_id` to `eos_token_id`:50256 for open-end generation.\n",
      "Sampling x_0_plus trajectories:  63%|██████▎   | 126/200 [00:09<00:05, 12.71it/s]Setting `pad_token_id` to `eos_token_id`:50256 for open-end generation.\n",
      "Setting `pad_token_id` to `eos_token_id`:50256 for open-end generation.\n",
      "Sampling x_0_plus trajectories:  64%|██████▍   | 128/200 [00:10<00:05, 12.71it/s]Setting `pad_token_id` to `eos_token_id`:50256 for open-end generation.\n",
      "Setting `pad_token_id` to `eos_token_id`:50256 for open-end generation.\n",
      "Sampling x_0_plus trajectories:  65%|██████▌   | 130/200 [00:10<00:05, 12.72it/s]Setting `pad_token_id` to `eos_token_id`:50256 for open-end generation.\n",
      "Setting `pad_token_id` to `eos_token_id`:50256 for open-end generation.\n",
      "Sampling x_0_plus trajectories:  66%|██████▌   | 132/200 [00:10<00:05, 12.72it/s]Setting `pad_token_id` to `eos_token_id`:50256 for open-end generation.\n",
      "Setting `pad_token_id` to `eos_token_id`:50256 for open-end generation.\n",
      "Sampling x_0_plus trajectories:  67%|██████▋   | 134/200 [00:10<00:05, 12.69it/s]Setting `pad_token_id` to `eos_token_id`:50256 for open-end generation.\n",
      "Setting `pad_token_id` to `eos_token_id`:50256 for open-end generation.\n",
      "Sampling x_0_plus trajectories:  68%|██████▊   | 136/200 [00:10<00:05, 12.66it/s]Setting `pad_token_id` to `eos_token_id`:50256 for open-end generation.\n",
      "Setting `pad_token_id` to `eos_token_id`:50256 for open-end generation.\n",
      "Sampling x_0_plus trajectories:  69%|██████▉   | 138/200 [00:10<00:04, 12.66it/s]Setting `pad_token_id` to `eos_token_id`:50256 for open-end generation.\n",
      "Setting `pad_token_id` to `eos_token_id`:50256 for open-end generation.\n",
      "Sampling x_0_plus trajectories:  70%|███████   | 140/200 [00:11<00:04, 12.69it/s]Setting `pad_token_id` to `eos_token_id`:50256 for open-end generation.\n",
      "Setting `pad_token_id` to `eos_token_id`:50256 for open-end generation.\n",
      "Sampling x_0_plus trajectories:  71%|███████   | 142/200 [00:11<00:04, 12.70it/s]Setting `pad_token_id` to `eos_token_id`:50256 for open-end generation.\n",
      "Setting `pad_token_id` to `eos_token_id`:50256 for open-end generation.\n",
      "Sampling x_0_plus trajectories:  72%|███████▏  | 144/200 [00:11<00:04, 12.70it/s]Setting `pad_token_id` to `eos_token_id`:50256 for open-end generation.\n",
      "Setting `pad_token_id` to `eos_token_id`:50256 for open-end generation.\n",
      "Sampling x_0_plus trajectories:  73%|███████▎  | 146/200 [00:11<00:04, 12.72it/s]Setting `pad_token_id` to `eos_token_id`:50256 for open-end generation.\n",
      "Setting `pad_token_id` to `eos_token_id`:50256 for open-end generation.\n",
      "Sampling x_0_plus trajectories:  74%|███████▍  | 148/200 [00:11<00:04, 12.71it/s]Setting `pad_token_id` to `eos_token_id`:50256 for open-end generation.\n",
      "Setting `pad_token_id` to `eos_token_id`:50256 for open-end generation.\n",
      "Sampling x_0_plus trajectories:  75%|███████▌  | 150/200 [00:11<00:03, 12.74it/s]Setting `pad_token_id` to `eos_token_id`:50256 for open-end generation.\n",
      "Setting `pad_token_id` to `eos_token_id`:50256 for open-end generation.\n",
      "Sampling x_0_plus trajectories:  76%|███████▌  | 152/200 [00:11<00:03, 12.76it/s]Setting `pad_token_id` to `eos_token_id`:50256 for open-end generation.\n",
      "Setting `pad_token_id` to `eos_token_id`:50256 for open-end generation.\n",
      "Sampling x_0_plus trajectories:  77%|███████▋  | 154/200 [00:12<00:03, 12.76it/s]Setting `pad_token_id` to `eos_token_id`:50256 for open-end generation.\n",
      "Setting `pad_token_id` to `eos_token_id`:50256 for open-end generation.\n",
      "Sampling x_0_plus trajectories:  78%|███████▊  | 156/200 [00:12<00:03, 12.78it/s]Setting `pad_token_id` to `eos_token_id`:50256 for open-end generation.\n",
      "Setting `pad_token_id` to `eos_token_id`:50256 for open-end generation.\n",
      "Sampling x_0_plus trajectories:  79%|███████▉  | 158/200 [00:12<00:03, 12.79it/s]Setting `pad_token_id` to `eos_token_id`:50256 for open-end generation.\n",
      "Setting `pad_token_id` to `eos_token_id`:50256 for open-end generation.\n",
      "Sampling x_0_plus trajectories:  80%|████████  | 160/200 [00:12<00:03, 12.81it/s]Setting `pad_token_id` to `eos_token_id`:50256 for open-end generation.\n",
      "Setting `pad_token_id` to `eos_token_id`:50256 for open-end generation.\n",
      "Sampling x_0_plus trajectories:  81%|████████  | 162/200 [00:12<00:02, 12.78it/s]Setting `pad_token_id` to `eos_token_id`:50256 for open-end generation.\n",
      "Setting `pad_token_id` to `eos_token_id`:50256 for open-end generation.\n",
      "Sampling x_0_plus trajectories:  82%|████████▏ | 164/200 [00:12<00:02, 12.77it/s]Setting `pad_token_id` to `eos_token_id`:50256 for open-end generation.\n",
      "Setting `pad_token_id` to `eos_token_id`:50256 for open-end generation.\n",
      "Sampling x_0_plus trajectories:  83%|████████▎ | 166/200 [00:13<00:02, 12.74it/s]Setting `pad_token_id` to `eos_token_id`:50256 for open-end generation.\n",
      "Setting `pad_token_id` to `eos_token_id`:50256 for open-end generation.\n",
      "Sampling x_0_plus trajectories:  84%|████████▍ | 168/200 [00:13<00:02, 12.76it/s]Setting `pad_token_id` to `eos_token_id`:50256 for open-end generation.\n",
      "Setting `pad_token_id` to `eos_token_id`:50256 for open-end generation.\n",
      "Sampling x_0_plus trajectories:  85%|████████▌ | 170/200 [00:13<00:02, 12.77it/s]Setting `pad_token_id` to `eos_token_id`:50256 for open-end generation.\n",
      "Setting `pad_token_id` to `eos_token_id`:50256 for open-end generation.\n",
      "Sampling x_0_plus trajectories:  86%|████████▌ | 172/200 [00:13<00:02, 12.78it/s]Setting `pad_token_id` to `eos_token_id`:50256 for open-end generation.\n",
      "Setting `pad_token_id` to `eos_token_id`:50256 for open-end generation.\n",
      "Sampling x_0_plus trajectories:  87%|████████▋ | 174/200 [00:13<00:02, 12.78it/s]Setting `pad_token_id` to `eos_token_id`:50256 for open-end generation.\n",
      "Setting `pad_token_id` to `eos_token_id`:50256 for open-end generation.\n",
      "Sampling x_0_plus trajectories:  88%|████████▊ | 176/200 [00:13<00:01, 12.77it/s]Setting `pad_token_id` to `eos_token_id`:50256 for open-end generation.\n",
      "Setting `pad_token_id` to `eos_token_id`:50256 for open-end generation.\n",
      "Sampling x_0_plus trajectories:  89%|████████▉ | 178/200 [00:13<00:01, 12.76it/s]Setting `pad_token_id` to `eos_token_id`:50256 for open-end generation.\n",
      "Setting `pad_token_id` to `eos_token_id`:50256 for open-end generation.\n",
      "Sampling x_0_plus trajectories:  90%|█████████ | 180/200 [00:14<00:01, 12.77it/s]Setting `pad_token_id` to `eos_token_id`:50256 for open-end generation.\n",
      "Setting `pad_token_id` to `eos_token_id`:50256 for open-end generation.\n",
      "Sampling x_0_plus trajectories:  91%|█████████ | 182/200 [00:14<00:01, 12.75it/s]Setting `pad_token_id` to `eos_token_id`:50256 for open-end generation.\n",
      "Setting `pad_token_id` to `eos_token_id`:50256 for open-end generation.\n",
      "Sampling x_0_plus trajectories:  92%|█████████▏| 184/200 [00:14<00:01, 12.74it/s]Setting `pad_token_id` to `eos_token_id`:50256 for open-end generation.\n",
      "Setting `pad_token_id` to `eos_token_id`:50256 for open-end generation.\n",
      "Sampling x_0_plus trajectories:  93%|█████████▎| 186/200 [00:14<00:01, 12.71it/s]Setting `pad_token_id` to `eos_token_id`:50256 for open-end generation.\n",
      "Setting `pad_token_id` to `eos_token_id`:50256 for open-end generation.\n",
      "Sampling x_0_plus trajectories:  94%|█████████▍| 188/200 [00:14<00:00, 12.70it/s]Setting `pad_token_id` to `eos_token_id`:50256 for open-end generation.\n",
      "Setting `pad_token_id` to `eos_token_id`:50256 for open-end generation.\n",
      "Sampling x_0_plus trajectories:  95%|█████████▌| 190/200 [00:14<00:00, 12.73it/s]Setting `pad_token_id` to `eos_token_id`:50256 for open-end generation.\n",
      "Setting `pad_token_id` to `eos_token_id`:50256 for open-end generation.\n",
      "Sampling x_0_plus trajectories:  96%|█████████▌| 192/200 [00:15<00:00, 12.75it/s]Setting `pad_token_id` to `eos_token_id`:50256 for open-end generation.\n",
      "Setting `pad_token_id` to `eos_token_id`:50256 for open-end generation.\n",
      "Sampling x_0_plus trajectories:  97%|█████████▋| 194/200 [00:15<00:00, 12.75it/s]Setting `pad_token_id` to `eos_token_id`:50256 for open-end generation.\n",
      "Setting `pad_token_id` to `eos_token_id`:50256 for open-end generation.\n",
      "Sampling x_0_plus trajectories:  98%|█████████▊| 196/200 [00:15<00:00, 12.78it/s]Setting `pad_token_id` to `eos_token_id`:50256 for open-end generation.\n",
      "Setting `pad_token_id` to `eos_token_id`:50256 for open-end generation.\n",
      "Sampling x_0_plus trajectories:  99%|█████████▉| 198/200 [00:15<00:00, 12.79it/s]Setting `pad_token_id` to `eos_token_id`:50256 for open-end generation.\n",
      "Setting `pad_token_id` to `eos_token_id`:50256 for open-end generation.\n",
      "Sampling x_0_plus trajectories: 100%|██████████| 200/200 [00:15<00:00, 12.74it/s]\n",
      "Sampling x_0_minus trajectories:   0%|          | 0/200 [00:00<?, ?it/s]Setting `pad_token_id` to `eos_token_id`:50256 for open-end generation.\n",
      "Setting `pad_token_id` to `eos_token_id`:50256 for open-end generation.\n",
      "Sampling x_0_minus trajectories:   1%|          | 2/200 [00:00<00:15, 12.83it/s]Setting `pad_token_id` to `eos_token_id`:50256 for open-end generation.\n",
      "Setting `pad_token_id` to `eos_token_id`:50256 for open-end generation.\n",
      "Sampling x_0_minus trajectories:   2%|▏         | 4/200 [00:00<00:15, 12.75it/s]Setting `pad_token_id` to `eos_token_id`:50256 for open-end generation.\n",
      "Setting `pad_token_id` to `eos_token_id`:50256 for open-end generation.\n",
      "Sampling x_0_minus trajectories:   3%|▎         | 6/200 [00:00<00:15, 12.76it/s]Setting `pad_token_id` to `eos_token_id`:50256 for open-end generation.\n",
      "Setting `pad_token_id` to `eos_token_id`:50256 for open-end generation.\n",
      "Sampling x_0_minus trajectories:   4%|▍         | 8/200 [00:00<00:15, 12.71it/s]Setting `pad_token_id` to `eos_token_id`:50256 for open-end generation.\n",
      "Setting `pad_token_id` to `eos_token_id`:50256 for open-end generation.\n",
      "Sampling x_0_minus trajectories:   5%|▌         | 10/200 [00:00<00:15, 12.64it/s]Setting `pad_token_id` to `eos_token_id`:50256 for open-end generation.\n",
      "Setting `pad_token_id` to `eos_token_id`:50256 for open-end generation.\n",
      "Sampling x_0_minus trajectories:   6%|▌         | 12/200 [00:00<00:14, 12.66it/s]Setting `pad_token_id` to `eos_token_id`:50256 for open-end generation.\n",
      "Setting `pad_token_id` to `eos_token_id`:50256 for open-end generation.\n",
      "Sampling x_0_minus trajectories:   7%|▋         | 14/200 [00:01<00:14, 12.64it/s]Setting `pad_token_id` to `eos_token_id`:50256 for open-end generation.\n",
      "Setting `pad_token_id` to `eos_token_id`:50256 for open-end generation.\n",
      "Sampling x_0_minus trajectories:   8%|▊         | 16/200 [00:01<00:14, 12.63it/s]Setting `pad_token_id` to `eos_token_id`:50256 for open-end generation.\n",
      "Setting `pad_token_id` to `eos_token_id`:50256 for open-end generation.\n",
      "Sampling x_0_minus trajectories:   9%|▉         | 18/200 [00:01<00:14, 12.64it/s]Setting `pad_token_id` to `eos_token_id`:50256 for open-end generation.\n",
      "Setting `pad_token_id` to `eos_token_id`:50256 for open-end generation.\n",
      "Sampling x_0_minus trajectories:  10%|█         | 20/200 [00:01<00:14, 12.63it/s]Setting `pad_token_id` to `eos_token_id`:50256 for open-end generation.\n",
      "Setting `pad_token_id` to `eos_token_id`:50256 for open-end generation.\n",
      "Sampling x_0_minus trajectories:  11%|█         | 22/200 [00:01<00:14, 12.48it/s]Setting `pad_token_id` to `eos_token_id`:50256 for open-end generation.\n",
      "Setting `pad_token_id` to `eos_token_id`:50256 for open-end generation.\n",
      "Sampling x_0_minus trajectories:  12%|█▏        | 24/200 [00:01<00:15, 11.49it/s]Setting `pad_token_id` to `eos_token_id`:50256 for open-end generation.\n",
      "Setting `pad_token_id` to `eos_token_id`:50256 for open-end generation.\n",
      "Sampling x_0_minus trajectories:  13%|█▎        | 26/200 [00:02<00:14, 11.75it/s]Setting `pad_token_id` to `eos_token_id`:50256 for open-end generation.\n",
      "Setting `pad_token_id` to `eos_token_id`:50256 for open-end generation.\n",
      "Sampling x_0_minus trajectories:  14%|█▍        | 28/200 [00:02<00:14, 11.96it/s]Setting `pad_token_id` to `eos_token_id`:50256 for open-end generation.\n",
      "Setting `pad_token_id` to `eos_token_id`:50256 for open-end generation.\n",
      "Sampling x_0_minus trajectories:  15%|█▌        | 30/200 [00:02<00:14, 12.13it/s]Setting `pad_token_id` to `eos_token_id`:50256 for open-end generation.\n",
      "Setting `pad_token_id` to `eos_token_id`:50256 for open-end generation.\n",
      "Sampling x_0_minus trajectories:  16%|█▌        | 32/200 [00:02<00:13, 12.25it/s]Setting `pad_token_id` to `eos_token_id`:50256 for open-end generation.\n",
      "Setting `pad_token_id` to `eos_token_id`:50256 for open-end generation.\n",
      "Sampling x_0_minus trajectories:  17%|█▋        | 34/200 [00:02<00:13, 12.34it/s]Setting `pad_token_id` to `eos_token_id`:50256 for open-end generation.\n",
      "Setting `pad_token_id` to `eos_token_id`:50256 for open-end generation.\n",
      "Sampling x_0_minus trajectories:  18%|█▊        | 36/200 [00:02<00:13, 12.42it/s]Setting `pad_token_id` to `eos_token_id`:50256 for open-end generation.\n",
      "Setting `pad_token_id` to `eos_token_id`:50256 for open-end generation.\n",
      "Sampling x_0_minus trajectories:  19%|█▉        | 38/200 [00:03<00:13, 12.41it/s]Setting `pad_token_id` to `eos_token_id`:50256 for open-end generation.\n",
      "Setting `pad_token_id` to `eos_token_id`:50256 for open-end generation.\n",
      "Sampling x_0_minus trajectories:  20%|██        | 40/200 [00:03<00:12, 12.46it/s]Setting `pad_token_id` to `eos_token_id`:50256 for open-end generation.\n",
      "Setting `pad_token_id` to `eos_token_id`:50256 for open-end generation.\n",
      "Sampling x_0_minus trajectories:  21%|██        | 42/200 [00:03<00:12, 12.51it/s]Setting `pad_token_id` to `eos_token_id`:50256 for open-end generation.\n",
      "Setting `pad_token_id` to `eos_token_id`:50256 for open-end generation.\n",
      "Sampling x_0_minus trajectories:  22%|██▏       | 44/200 [00:03<00:12, 12.51it/s]Setting `pad_token_id` to `eos_token_id`:50256 for open-end generation.\n",
      "Setting `pad_token_id` to `eos_token_id`:50256 for open-end generation.\n",
      "Sampling x_0_minus trajectories:  23%|██▎       | 46/200 [00:03<00:12, 12.54it/s]Setting `pad_token_id` to `eos_token_id`:50256 for open-end generation.\n",
      "Setting `pad_token_id` to `eos_token_id`:50256 for open-end generation.\n",
      "Sampling x_0_minus trajectories:  24%|██▍       | 48/200 [00:03<00:12, 12.56it/s]Setting `pad_token_id` to `eos_token_id`:50256 for open-end generation.\n",
      "Setting `pad_token_id` to `eos_token_id`:50256 for open-end generation.\n",
      "Sampling x_0_minus trajectories:  25%|██▌       | 50/200 [00:04<00:11, 12.57it/s]Setting `pad_token_id` to `eos_token_id`:50256 for open-end generation.\n",
      "Setting `pad_token_id` to `eos_token_id`:50256 for open-end generation.\n",
      "Sampling x_0_minus trajectories:  26%|██▌       | 52/200 [00:04<00:11, 12.60it/s]Setting `pad_token_id` to `eos_token_id`:50256 for open-end generation.\n",
      "Setting `pad_token_id` to `eos_token_id`:50256 for open-end generation.\n",
      "Sampling x_0_minus trajectories:  27%|██▋       | 54/200 [00:04<00:11, 12.61it/s]Setting `pad_token_id` to `eos_token_id`:50256 for open-end generation.\n",
      "Setting `pad_token_id` to `eos_token_id`:50256 for open-end generation.\n",
      "Sampling x_0_minus trajectories:  28%|██▊       | 56/200 [00:04<00:11, 12.62it/s]Setting `pad_token_id` to `eos_token_id`:50256 for open-end generation.\n",
      "Setting `pad_token_id` to `eos_token_id`:50256 for open-end generation.\n",
      "Sampling x_0_minus trajectories:  29%|██▉       | 58/200 [00:04<00:11, 12.62it/s]Setting `pad_token_id` to `eos_token_id`:50256 for open-end generation.\n",
      "Setting `pad_token_id` to `eos_token_id`:50256 for open-end generation.\n",
      "Sampling x_0_minus trajectories:  30%|███       | 60/200 [00:04<00:11, 12.61it/s]Setting `pad_token_id` to `eos_token_id`:50256 for open-end generation.\n",
      "Setting `pad_token_id` to `eos_token_id`:50256 for open-end generation.\n",
      "Sampling x_0_minus trajectories:  31%|███       | 62/200 [00:04<00:10, 12.57it/s]Setting `pad_token_id` to `eos_token_id`:50256 for open-end generation.\n",
      "Setting `pad_token_id` to `eos_token_id`:50256 for open-end generation.\n",
      "Sampling x_0_minus trajectories:  32%|███▏      | 64/200 [00:05<00:10, 12.48it/s]Setting `pad_token_id` to `eos_token_id`:50256 for open-end generation.\n",
      "Setting `pad_token_id` to `eos_token_id`:50256 for open-end generation.\n",
      "Sampling x_0_minus trajectories:  33%|███▎      | 66/200 [00:05<00:10, 12.51it/s]Setting `pad_token_id` to `eos_token_id`:50256 for open-end generation.\n",
      "Setting `pad_token_id` to `eos_token_id`:50256 for open-end generation.\n",
      "Sampling x_0_minus trajectories:  34%|███▍      | 68/200 [00:05<00:10, 12.55it/s]Setting `pad_token_id` to `eos_token_id`:50256 for open-end generation.\n",
      "Setting `pad_token_id` to `eos_token_id`:50256 for open-end generation.\n",
      "Sampling x_0_minus trajectories:  35%|███▌      | 70/200 [00:05<00:10, 12.59it/s]Setting `pad_token_id` to `eos_token_id`:50256 for open-end generation.\n",
      "Setting `pad_token_id` to `eos_token_id`:50256 for open-end generation.\n",
      "Sampling x_0_minus trajectories:  36%|███▌      | 72/200 [00:05<00:10, 12.61it/s]Setting `pad_token_id` to `eos_token_id`:50256 for open-end generation.\n",
      "Setting `pad_token_id` to `eos_token_id`:50256 for open-end generation.\n",
      "Sampling x_0_minus trajectories:  37%|███▋      | 74/200 [00:05<00:09, 12.64it/s]Setting `pad_token_id` to `eos_token_id`:50256 for open-end generation.\n",
      "Setting `pad_token_id` to `eos_token_id`:50256 for open-end generation.\n",
      "Sampling x_0_minus trajectories:  38%|███▊      | 76/200 [00:06<00:09, 12.64it/s]Setting `pad_token_id` to `eos_token_id`:50256 for open-end generation.\n",
      "Setting `pad_token_id` to `eos_token_id`:50256 for open-end generation.\n",
      "Sampling x_0_minus trajectories:  39%|███▉      | 78/200 [00:06<00:09, 12.65it/s]Setting `pad_token_id` to `eos_token_id`:50256 for open-end generation.\n",
      "Setting `pad_token_id` to `eos_token_id`:50256 for open-end generation.\n",
      "Sampling x_0_minus trajectories:  40%|████      | 80/200 [00:06<00:09, 12.65it/s]Setting `pad_token_id` to `eos_token_id`:50256 for open-end generation.\n",
      "Setting `pad_token_id` to `eos_token_id`:50256 for open-end generation.\n",
      "Sampling x_0_minus trajectories:  41%|████      | 82/200 [00:06<00:09, 12.66it/s]Setting `pad_token_id` to `eos_token_id`:50256 for open-end generation.\n",
      "Setting `pad_token_id` to `eos_token_id`:50256 for open-end generation.\n",
      "Sampling x_0_minus trajectories:  42%|████▏     | 84/200 [00:06<00:09, 12.67it/s]Setting `pad_token_id` to `eos_token_id`:50256 for open-end generation.\n",
      "Setting `pad_token_id` to `eos_token_id`:50256 for open-end generation.\n",
      "Sampling x_0_minus trajectories:  43%|████▎     | 86/200 [00:06<00:08, 12.69it/s]Setting `pad_token_id` to `eos_token_id`:50256 for open-end generation.\n",
      "Setting `pad_token_id` to `eos_token_id`:50256 for open-end generation.\n",
      "Sampling x_0_minus trajectories:  44%|████▍     | 88/200 [00:07<00:08, 12.67it/s]Setting `pad_token_id` to `eos_token_id`:50256 for open-end generation.\n",
      "Setting `pad_token_id` to `eos_token_id`:50256 for open-end generation.\n",
      "Sampling x_0_minus trajectories:  45%|████▌     | 90/200 [00:07<00:08, 12.65it/s]Setting `pad_token_id` to `eos_token_id`:50256 for open-end generation.\n",
      "Setting `pad_token_id` to `eos_token_id`:50256 for open-end generation.\n",
      "Sampling x_0_minus trajectories:  46%|████▌     | 92/200 [00:07<00:08, 12.53it/s]Setting `pad_token_id` to `eos_token_id`:50256 for open-end generation.\n",
      "Setting `pad_token_id` to `eos_token_id`:50256 for open-end generation.\n",
      "Sampling x_0_minus trajectories:  47%|████▋     | 94/200 [00:07<00:08, 12.51it/s]Setting `pad_token_id` to `eos_token_id`:50256 for open-end generation.\n",
      "Setting `pad_token_id` to `eos_token_id`:50256 for open-end generation.\n",
      "Sampling x_0_minus trajectories:  48%|████▊     | 96/200 [00:07<00:08, 12.50it/s]Setting `pad_token_id` to `eos_token_id`:50256 for open-end generation.\n",
      "Setting `pad_token_id` to `eos_token_id`:50256 for open-end generation.\n",
      "Sampling x_0_minus trajectories:  49%|████▉     | 98/200 [00:07<00:08, 12.47it/s]Setting `pad_token_id` to `eos_token_id`:50256 for open-end generation.\n",
      "Setting `pad_token_id` to `eos_token_id`:50256 for open-end generation.\n",
      "Sampling x_0_minus trajectories:  50%|█████     | 100/200 [00:07<00:08, 12.49it/s]Setting `pad_token_id` to `eos_token_id`:50256 for open-end generation.\n",
      "Setting `pad_token_id` to `eos_token_id`:50256 for open-end generation.\n",
      "Sampling x_0_minus trajectories:  51%|█████     | 102/200 [00:08<00:07, 12.48it/s]Setting `pad_token_id` to `eos_token_id`:50256 for open-end generation.\n",
      "Setting `pad_token_id` to `eos_token_id`:50256 for open-end generation.\n",
      "Sampling x_0_minus trajectories:  52%|█████▏    | 104/200 [00:08<00:07, 12.47it/s]Setting `pad_token_id` to `eos_token_id`:50256 for open-end generation.\n",
      "Setting `pad_token_id` to `eos_token_id`:50256 for open-end generation.\n",
      "Sampling x_0_minus trajectories:  53%|█████▎    | 106/200 [00:08<00:07, 12.47it/s]Setting `pad_token_id` to `eos_token_id`:50256 for open-end generation.\n",
      "Setting `pad_token_id` to `eos_token_id`:50256 for open-end generation.\n",
      "Sampling x_0_minus trajectories:  54%|█████▍    | 108/200 [00:08<00:07, 12.49it/s]Setting `pad_token_id` to `eos_token_id`:50256 for open-end generation.\n",
      "Setting `pad_token_id` to `eos_token_id`:50256 for open-end generation.\n",
      "Sampling x_0_minus trajectories:  55%|█████▌    | 110/200 [00:08<00:07, 12.52it/s]Setting `pad_token_id` to `eos_token_id`:50256 for open-end generation.\n",
      "Setting `pad_token_id` to `eos_token_id`:50256 for open-end generation.\n",
      "Sampling x_0_minus trajectories:  56%|█████▌    | 112/200 [00:08<00:07, 12.53it/s]Setting `pad_token_id` to `eos_token_id`:50256 for open-end generation.\n",
      "Setting `pad_token_id` to `eos_token_id`:50256 for open-end generation.\n",
      "Sampling x_0_minus trajectories:  57%|█████▋    | 114/200 [00:09<00:06, 12.49it/s]Setting `pad_token_id` to `eos_token_id`:50256 for open-end generation.\n",
      "Setting `pad_token_id` to `eos_token_id`:50256 for open-end generation.\n",
      "Sampling x_0_minus trajectories:  58%|█████▊    | 116/200 [00:09<00:06, 12.49it/s]Setting `pad_token_id` to `eos_token_id`:50256 for open-end generation.\n",
      "Setting `pad_token_id` to `eos_token_id`:50256 for open-end generation.\n",
      "Sampling x_0_minus trajectories:  59%|█████▉    | 118/200 [00:09<00:06, 12.54it/s]Setting `pad_token_id` to `eos_token_id`:50256 for open-end generation.\n",
      "Setting `pad_token_id` to `eos_token_id`:50256 for open-end generation.\n",
      "Sampling x_0_minus trajectories:  60%|██████    | 120/200 [00:09<00:06, 12.56it/s]Setting `pad_token_id` to `eos_token_id`:50256 for open-end generation.\n",
      "Setting `pad_token_id` to `eos_token_id`:50256 for open-end generation.\n",
      "Sampling x_0_minus trajectories:  61%|██████    | 122/200 [00:09<00:06, 12.58it/s]Setting `pad_token_id` to `eos_token_id`:50256 for open-end generation.\n",
      "Setting `pad_token_id` to `eos_token_id`:50256 for open-end generation.\n",
      "Sampling x_0_minus trajectories:  62%|██████▏   | 124/200 [00:09<00:06, 12.61it/s]Setting `pad_token_id` to `eos_token_id`:50256 for open-end generation.\n",
      "Setting `pad_token_id` to `eos_token_id`:50256 for open-end generation.\n",
      "Sampling x_0_minus trajectories:  63%|██████▎   | 126/200 [00:10<00:05, 12.61it/s]Setting `pad_token_id` to `eos_token_id`:50256 for open-end generation.\n",
      "Setting `pad_token_id` to `eos_token_id`:50256 for open-end generation.\n",
      "Sampling x_0_minus trajectories:  64%|██████▍   | 128/200 [00:10<00:05, 12.65it/s]Setting `pad_token_id` to `eos_token_id`:50256 for open-end generation.\n",
      "Setting `pad_token_id` to `eos_token_id`:50256 for open-end generation.\n",
      "Sampling x_0_minus trajectories:  65%|██████▌   | 130/200 [00:10<00:05, 12.67it/s]Setting `pad_token_id` to `eos_token_id`:50256 for open-end generation.\n",
      "Setting `pad_token_id` to `eos_token_id`:50256 for open-end generation.\n",
      "Sampling x_0_minus trajectories:  66%|██████▌   | 132/200 [00:10<00:05, 12.66it/s]Setting `pad_token_id` to `eos_token_id`:50256 for open-end generation.\n",
      "Setting `pad_token_id` to `eos_token_id`:50256 for open-end generation.\n",
      "Sampling x_0_minus trajectories:  67%|██████▋   | 134/200 [00:10<00:05, 12.68it/s]Setting `pad_token_id` to `eos_token_id`:50256 for open-end generation.\n",
      "Setting `pad_token_id` to `eos_token_id`:50256 for open-end generation.\n",
      "Sampling x_0_minus trajectories:  68%|██████▊   | 136/200 [00:10<00:05, 12.70it/s]Setting `pad_token_id` to `eos_token_id`:50256 for open-end generation.\n",
      "Setting `pad_token_id` to `eos_token_id`:50256 for open-end generation.\n",
      "Sampling x_0_minus trajectories:  69%|██████▉   | 138/200 [00:11<00:04, 12.69it/s]Setting `pad_token_id` to `eos_token_id`:50256 for open-end generation.\n",
      "Setting `pad_token_id` to `eos_token_id`:50256 for open-end generation.\n",
      "Sampling x_0_minus trajectories:  70%|███████   | 140/200 [00:11<00:04, 12.67it/s]Setting `pad_token_id` to `eos_token_id`:50256 for open-end generation.\n",
      "Setting `pad_token_id` to `eos_token_id`:50256 for open-end generation.\n",
      "Sampling x_0_minus trajectories:  71%|███████   | 142/200 [00:11<00:04, 12.68it/s]Setting `pad_token_id` to `eos_token_id`:50256 for open-end generation.\n",
      "Setting `pad_token_id` to `eos_token_id`:50256 for open-end generation.\n",
      "Sampling x_0_minus trajectories:  72%|███████▏  | 144/200 [00:11<00:04, 12.68it/s]Setting `pad_token_id` to `eos_token_id`:50256 for open-end generation.\n",
      "Setting `pad_token_id` to `eos_token_id`:50256 for open-end generation.\n",
      "Sampling x_0_minus trajectories:  73%|███████▎  | 146/200 [00:11<00:04, 12.70it/s]Setting `pad_token_id` to `eos_token_id`:50256 for open-end generation.\n",
      "Setting `pad_token_id` to `eos_token_id`:50256 for open-end generation.\n",
      "Sampling x_0_minus trajectories:  74%|███████▍  | 148/200 [00:11<00:04, 12.70it/s]Setting `pad_token_id` to `eos_token_id`:50256 for open-end generation.\n",
      "Setting `pad_token_id` to `eos_token_id`:50256 for open-end generation.\n",
      "Sampling x_0_minus trajectories:  75%|███████▌  | 150/200 [00:11<00:03, 12.66it/s]Setting `pad_token_id` to `eos_token_id`:50256 for open-end generation.\n",
      "Setting `pad_token_id` to `eos_token_id`:50256 for open-end generation.\n",
      "Sampling x_0_minus trajectories:  76%|███████▌  | 152/200 [00:12<00:03, 12.68it/s]Setting `pad_token_id` to `eos_token_id`:50256 for open-end generation.\n",
      "Setting `pad_token_id` to `eos_token_id`:50256 for open-end generation.\n",
      "Sampling x_0_minus trajectories:  77%|███████▋  | 154/200 [00:12<00:03, 12.69it/s]Setting `pad_token_id` to `eos_token_id`:50256 for open-end generation.\n",
      "Setting `pad_token_id` to `eos_token_id`:50256 for open-end generation.\n",
      "Sampling x_0_minus trajectories:  78%|███████▊  | 156/200 [00:12<00:03, 12.69it/s]Setting `pad_token_id` to `eos_token_id`:50256 for open-end generation.\n",
      "Setting `pad_token_id` to `eos_token_id`:50256 for open-end generation.\n",
      "Sampling x_0_minus trajectories:  79%|███████▉  | 158/200 [00:12<00:03, 12.68it/s]Setting `pad_token_id` to `eos_token_id`:50256 for open-end generation.\n",
      "Setting `pad_token_id` to `eos_token_id`:50256 for open-end generation.\n",
      "Sampling x_0_minus trajectories:  80%|████████  | 160/200 [00:12<00:03, 12.70it/s]Setting `pad_token_id` to `eos_token_id`:50256 for open-end generation.\n",
      "Setting `pad_token_id` to `eos_token_id`:50256 for open-end generation.\n",
      "Sampling x_0_minus trajectories:  81%|████████  | 162/200 [00:12<00:02, 12.71it/s]Setting `pad_token_id` to `eos_token_id`:50256 for open-end generation.\n",
      "Setting `pad_token_id` to `eos_token_id`:50256 for open-end generation.\n",
      "Sampling x_0_minus trajectories:  82%|████████▏ | 164/200 [00:13<00:02, 12.70it/s]Setting `pad_token_id` to `eos_token_id`:50256 for open-end generation.\n",
      "Setting `pad_token_id` to `eos_token_id`:50256 for open-end generation.\n",
      "Sampling x_0_minus trajectories:  83%|████████▎ | 166/200 [00:13<00:02, 12.68it/s]Setting `pad_token_id` to `eos_token_id`:50256 for open-end generation.\n",
      "Setting `pad_token_id` to `eos_token_id`:50256 for open-end generation.\n",
      "Sampling x_0_minus trajectories:  84%|████████▍ | 168/200 [00:13<00:02, 12.67it/s]Setting `pad_token_id` to `eos_token_id`:50256 for open-end generation.\n",
      "Setting `pad_token_id` to `eos_token_id`:50256 for open-end generation.\n",
      "Sampling x_0_minus trajectories:  85%|████████▌ | 170/200 [00:13<00:02, 12.64it/s]Setting `pad_token_id` to `eos_token_id`:50256 for open-end generation.\n",
      "Setting `pad_token_id` to `eos_token_id`:50256 for open-end generation.\n",
      "Sampling x_0_minus trajectories:  86%|████████▌ | 172/200 [00:13<00:02, 12.67it/s]Setting `pad_token_id` to `eos_token_id`:50256 for open-end generation.\n",
      "Setting `pad_token_id` to `eos_token_id`:50256 for open-end generation.\n",
      "Sampling x_0_minus trajectories:  87%|████████▋ | 174/200 [00:13<00:02, 12.66it/s]Setting `pad_token_id` to `eos_token_id`:50256 for open-end generation.\n",
      "Setting `pad_token_id` to `eos_token_id`:50256 for open-end generation.\n",
      "Sampling x_0_minus trajectories:  88%|████████▊ | 176/200 [00:14<00:01, 12.65it/s]Setting `pad_token_id` to `eos_token_id`:50256 for open-end generation.\n",
      "Setting `pad_token_id` to `eos_token_id`:50256 for open-end generation.\n",
      "Sampling x_0_minus trajectories:  89%|████████▉ | 178/200 [00:14<00:01, 12.65it/s]Setting `pad_token_id` to `eos_token_id`:50256 for open-end generation.\n",
      "Setting `pad_token_id` to `eos_token_id`:50256 for open-end generation.\n",
      "Sampling x_0_minus trajectories:  90%|█████████ | 180/200 [00:14<00:01, 12.65it/s]Setting `pad_token_id` to `eos_token_id`:50256 for open-end generation.\n",
      "Setting `pad_token_id` to `eos_token_id`:50256 for open-end generation.\n",
      "Sampling x_0_minus trajectories:  91%|█████████ | 182/200 [00:14<00:01, 12.61it/s]Setting `pad_token_id` to `eos_token_id`:50256 for open-end generation.\n",
      "Setting `pad_token_id` to `eos_token_id`:50256 for open-end generation.\n",
      "Sampling x_0_minus trajectories:  92%|█████████▏| 184/200 [00:14<00:01, 12.59it/s]Setting `pad_token_id` to `eos_token_id`:50256 for open-end generation.\n",
      "Setting `pad_token_id` to `eos_token_id`:50256 for open-end generation.\n",
      "Sampling x_0_minus trajectories:  93%|█████████▎| 186/200 [00:14<00:01, 12.60it/s]Setting `pad_token_id` to `eos_token_id`:50256 for open-end generation.\n",
      "Setting `pad_token_id` to `eos_token_id`:50256 for open-end generation.\n",
      "Sampling x_0_minus trajectories:  94%|█████████▍| 188/200 [00:14<00:00, 12.58it/s]Setting `pad_token_id` to `eos_token_id`:50256 for open-end generation.\n",
      "Setting `pad_token_id` to `eos_token_id`:50256 for open-end generation.\n",
      "Sampling x_0_minus trajectories:  95%|█████████▌| 190/200 [00:15<00:00, 12.56it/s]Setting `pad_token_id` to `eos_token_id`:50256 for open-end generation.\n",
      "Setting `pad_token_id` to `eos_token_id`:50256 for open-end generation.\n",
      "Sampling x_0_minus trajectories:  96%|█████████▌| 192/200 [00:15<00:00, 12.62it/s]Setting `pad_token_id` to `eos_token_id`:50256 for open-end generation.\n",
      "Setting `pad_token_id` to `eos_token_id`:50256 for open-end generation.\n",
      "Sampling x_0_minus trajectories:  97%|█████████▋| 194/200 [00:15<00:00, 12.65it/s]Setting `pad_token_id` to `eos_token_id`:50256 for open-end generation.\n",
      "Setting `pad_token_id` to `eos_token_id`:50256 for open-end generation.\n",
      "Sampling x_0_minus trajectories:  98%|█████████▊| 196/200 [00:15<00:00, 12.61it/s]Setting `pad_token_id` to `eos_token_id`:50256 for open-end generation.\n",
      "Setting `pad_token_id` to `eos_token_id`:50256 for open-end generation.\n",
      "Sampling x_0_minus trajectories:  99%|█████████▉| 198/200 [00:15<00:00, 12.62it/s]Setting `pad_token_id` to `eos_token_id`:50256 for open-end generation.\n",
      "Setting `pad_token_id` to `eos_token_id`:50256 for open-end generation.\n",
      "Sampling x_0_minus trajectories: 100%|██████████| 200/200 [00:15<00:00, 12.57it/s]\n"
     ]
    }
   ],
   "source": [
    "# Sample trajectories for x_0_plus\n",
    "prompt = \" did\"\n",
    "prompt_ids = tokenizer.encode(prompt, return_tensors='pt').to('cuda')\n",
    "\n",
    "trajectories_plus = []\n",
    "for _ in tqdm(range(num_trajectories), desc=\"Sampling x_0_plus trajectories\"):\n",
    "    t_plus_str, t_plus_ids = sample_trajectory(model, tokenizer, past_kv_plus, prompt_ids, max_length)\n",
    "    trajectories_plus.append({'str': t_plus_str, 'ids': t_plus_ids})\n",
    "\n",
    "# Sample trajectories for x_0_minus\n",
    "trajectories_minus = []\n",
    "for _ in tqdm(range(num_trajectories), desc=\"Sampling x_0_minus trajectories\"):\n",
    "    t_minus_str, t_minus_ids = sample_trajectory(model, tokenizer, past_kv_minus, prompt_ids, max_length)\n",
    "    trajectories_minus.append({'str': t_minus_str, 'ids': t_minus_ids})\n"
   ]
  },
  {
   "cell_type": "code",
   "execution_count": 12,
   "metadata": {},
   "outputs": [
    {
     "name": "stdout",
     "output_type": "stream",
     "text": [
      "[10, 10, 10, 10, 10, 10, 10, 10, 10, 10, 10, 10, 10, 10, 10, 10, 10, 10, 10, 10, 10, 10, 10, 10, 10, 10, 10, 10, 10, 10, 10, 10, 10, 10, 10, 10, 10, 10, 10, 10, 10, 10, 10, 10, 10, 10, 10, 10, 10, 10, 10, 10, 10, 10, 10, 10, 10, 10, 10, 10, 10, 10, 10, 10, 10, 10, 10, 10, 10, 10, 10, 10, 10, 10, 10, 10, 10, 10, 10, 10, 10, 10, 10, 10, 10, 10, 10, 10, 10, 10, 10, 10, 10, 10, 10, 10, 10, 10, 10, 10, 10, 10, 10, 10, 10, 10, 10, 10, 10, 10, 10, 10, 10, 10, 10, 10, 10, 10, 10, 10, 10, 10, 10, 10, 10, 10, 10, 10, 10, 10, 10, 10, 10, 10, 10, 10, 10, 10, 10, 10, 10, 10, 10, 10, 10, 10, 10, 10, 10, 10, 10, 10, 10, 10, 10, 10, 10, 10, 10, 10, 10, 10, 10, 10, 10, 10, 10, 10, 10, 10, 10, 10, 10, 10, 10, 10, 10, 10, 10, 10, 10, 10, 10, 10, 10, 10, 10, 10, 10, 10, 10, 10, 10, 10, 10, 10, 10, 10, 10, 10]\n",
      "[10, 10, 10, 10, 10, 10, 10, 10, 10, 10, 10, 10, 10, 10, 10, 10, 10, 10, 10, 10, 10, 10, 10, 10, 10, 10, 10, 10, 10, 10, 10, 10, 10, 10, 10, 10, 10, 10, 10, 10, 10, 10, 10, 10, 10, 10, 10, 10, 10, 10, 10, 10, 10, 10, 10, 10, 10, 10, 10, 10, 10, 10, 10, 10, 10, 10, 10, 10, 10, 10, 10, 10, 10, 10, 10, 10, 10, 10, 10, 10, 10, 10, 10, 10, 10, 10, 10, 10, 10, 10, 10, 10, 10, 10, 10, 10, 10, 10, 10, 10, 10, 10, 10, 10, 10, 10, 10, 10, 10, 10, 10, 10, 10, 10, 10, 10, 10, 10, 10, 10, 10, 10, 10, 10, 10, 10, 10, 10, 10, 10, 10, 10, 10, 10, 10, 10, 10, 10, 10, 10, 10, 10, 10, 10, 10, 10, 10, 10, 10, 10, 10, 10, 10, 10, 10, 10, 10, 10, 10, 10, 10, 10, 10, 10, 10, 10, 10, 10, 10, 10, 10, 10, 10, 10, 10, 10, 10, 10, 10, 10, 10, 10, 10, 10, 10, 10, 10, 10, 10, 10, 10, 10, 10, 10, 10, 10, 10, 10, 10, 10]\n",
      "\n",
      "t_plus length:  200\n",
      "t_minus length:  200\n"
     ]
    }
   ],
   "source": [
    "t_plus_lens = [t['ids'].shape[1] for t in trajectories_plus]\n",
    "t_minus_lens = [t['ids'].shape[1] for t in trajectories_minus]\n",
    "\n",
    "print(t_plus_lens)\n",
    "print(t_minus_lens)\n",
    "\n",
    "# keep only those trajectories that are = max_length\n",
    "trajectories_plus = [t for t in trajectories_plus if t['ids'].shape[1] == max_length]\n",
    "trajectories_minus = [t for t in trajectories_minus if t['ids'].shape[1] == max_length]\n",
    "\n",
    "# ensure both are of the same length \n",
    "if len(trajectories_plus) > len(trajectories_minus):\n",
    "    trajectories_plus = trajectories_plus[:len(trajectories_minus)]\n",
    "else:\n",
    "    trajectories_minus = trajectories_minus[:len(trajectories_plus)]\n",
    "\n",
    "print(\"\\nt_plus length: \", len(trajectories_plus))\n",
    "print(\"t_minus length: \", len(trajectories_minus))"
   ]
  },
  {
   "cell_type": "code",
   "execution_count": 13,
   "metadata": {},
   "outputs": [],
   "source": [
    "# trajectories_plus[0]['str']"
   ]
  },
  {
   "cell_type": "code",
   "execution_count": 14,
   "metadata": {},
   "outputs": [],
   "source": [
    "# past_kv_plus[0][0].shape"
   ]
  },
  {
   "cell_type": "code",
   "execution_count": 15,
   "metadata": {},
   "outputs": [],
   "source": [
    "# trajectories_plus[0]['ids'].shape"
   ]
  },
  {
   "cell_type": "markdown",
   "metadata": {},
   "source": [
    "## 2.5: Computing Trajectory $t_i^\\pm$ Probabilities given $x_0^\\pm$"
   ]
  },
  {
   "cell_type": "code",
   "execution_count": 16,
   "metadata": {},
   "outputs": [],
   "source": [
    "# now let's compute the probability of each trajectory given each prompt \n",
    "def get_traj_prob(traj_ids, past_kv, model): \n",
    "    \"\"\" Computes the probability of a trajectory given the past_kv. \n",
    "    \"\"\"\n",
    "    num_kv_toks = past_kv[0][0].shape[2]\n",
    "    num_traj_toks = traj_ids.shape[1]\n",
    "\n",
    "    labels = traj_ids \n",
    "    attention_mask = torch.ones([1, num_kv_toks + num_traj_toks]).to(model.device)\n",
    "\n",
    "    with torch.no_grad():\n",
    "        outputs = model(traj_ids, past_key_values=past_kv, labels=labels, attention_mask=attention_mask)\n",
    "        loss = outputs.loss\n",
    "        log_prob = -loss\n",
    "    \n",
    "    return log_prob.item()"
   ]
  },
  {
   "cell_type": "code",
   "execution_count": 17,
   "metadata": {},
   "outputs": [
    {
     "name": "stdout",
     "output_type": "stream",
     "text": [
      "Trajectory log probability:  -2.2974042892456055\n"
     ]
    }
   ],
   "source": [
    "# test get_traj_prob function \n",
    "traj_prob = get_traj_prob(trajectories_minus[0]['ids'], past_kv_plus, model)\n",
    "print(\"Trajectory log probability: \", traj_prob)"
   ]
  },
  {
   "cell_type": "markdown",
   "metadata": {},
   "source": [
    "No we can compute the log probability of each trajectory given its corresponding \n",
    "past_kv +/-"
   ]
  },
  {
   "cell_type": "code",
   "execution_count": 18,
   "metadata": {},
   "outputs": [
    {
     "name": "stderr",
     "output_type": "stream",
     "text": [
      "Computing log probs for x_0_plus trajectories: 100%|██████████| 200/200 [00:01<00:00, 123.25it/s]\n",
      "Computing log probs for x_0_minus trajectories: 100%|██████████| 200/200 [00:01<00:00, 124.56it/s]\n",
      "Computing log probs for x_0_plus trajectories_minus: 100%|██████████| 200/200 [00:01<00:00, 125.29it/s]\n",
      "Computing log probs for x_0_minus trajectories_plus: 100%|██████████| 200/200 [00:01<00:00, 125.45it/s]\n"
     ]
    }
   ],
   "source": [
    "# Compute log probabilities for x_0_plus trajectories\n",
    "for trajectory in tqdm(trajectories_plus, desc=\"Computing log probs for x_0_plus trajectories\"):\n",
    "    log_prob = get_traj_prob(trajectory['ids'], past_kv_plus, model)\n",
    "    trajectory['log_prob'] = log_prob\n",
    "\n",
    "# Compute log probabilities for x_0_minus trajectories\n",
    "for trajectory in tqdm(trajectories_minus, desc=\"Computing log probs for x_0_minus trajectories\"):\n",
    "    log_prob = get_traj_prob(trajectory['ids'], past_kv_minus, model)\n",
    "    trajectory['log_prob'] = log_prob\n",
    "\n",
    "# add a field (log_prob_other) for log P(t_plus | x_0_minus) and log P(t_minus | x_0_plus) \n",
    "for trajectory in tqdm(trajectories_plus, desc=\"Computing log probs for x_0_plus trajectories_minus\"):\n",
    "    log_prob_other = get_traj_prob(trajectory['ids'], past_kv_minus, model)\n",
    "    trajectory['log_prob_given_other'] = log_prob_other\n",
    "\n",
    "for trajectory in tqdm(trajectories_minus, desc=\"Computing log probs for x_0_minus trajectories_plus\"):\n",
    "    log_prob_other = get_traj_prob(trajectory['ids'], past_kv_plus, model)\n",
    "    trajectory['log_prob_given_other'] = log_prob_other"
   ]
  },
  {
   "cell_type": "code",
   "execution_count": 19,
   "metadata": {},
   "outputs": [
    {
     "data": {
      "image/png": "[encoded data removed]",
      "text/plain": [
       "<Figure size 1000x500 with 1 Axes>"
      ]
     },
     "metadata": {},
     "output_type": "display_data"
    }
   ],
   "source": [
    "mean_log_prob_plus = np.mean([t['log_prob'] for t in trajectories_plus])\n",
    "mean_log_prob_minus = np.mean([t['log_prob'] for t in trajectories_minus])\n",
    "\n",
    "mean_log_prob_plus_given_other = np.mean([t['log_prob_given_other'] for t in trajectories_plus])\n",
    "mean_log_prob_minus_given_other = np.mean([t['log_prob_given_other'] for t in trajectories_minus])\n",
    "\n",
    "# bar chart \n",
    "plt.figure(figsize=(10, 5))\n",
    "plt.bar(['t+ | x+', 't+ | x-', 't- | x-', 't- | x+'], [mean_log_prob_plus, mean_log_prob_plus_given_other, mean_log_prob_minus, mean_log_prob_minus_given_other], color=['blue', 'red', 'blue', 'red'])\n",
    "# colors \n",
    "# adjust y axis range\n",
    "# plt.ylim([-2.5, -2.0])\n",
    "plt.ylabel('Mean log probability')\n",
    "plt.title('Mean log probability of sampled trajectories')\n",
    "plt.show()\n"
   ]
  },
  {
   "cell_type": "markdown",
   "metadata": {},
   "source": [
    "## 3: Generating $\\text{past kv}^\\lambda$"
   ]
  },
  {
   "cell_type": "code",
   "execution_count": 20,
   "metadata": {},
   "outputs": [
    {
     "name": "stdout",
     "output_type": "stream",
     "text": [
      "Length of past_kv_lambda: 12\n",
      "Shape of past_kv_lambda[0][0]: torch.Size([1, 12, 7, 64])\n",
      "Shape of past_kv_lambda[0][1]: torch.Size([1, 12, 7, 64])\n"
     ]
    }
   ],
   "source": [
    "# generate a bunch of lambda values between 0 and 1 (np linspace or something)\n",
    "lambdas = np.linspace(0, 1, 25)\n",
    "\n",
    "# function to create past_kv_lambda = (1-lambda) past_kv_min + lambda past_kv_plus\n",
    "# recall that past_kv are tuples of length 12 (12 layers)\n",
    "# each past_kv[i] is a tuple of length 2 (key, value)\n",
    "# each key, value is a tensor of shape [1, num_heads, seq_len, head_dim]\n",
    "\n",
    "# Function to create past_kv_lambda\n",
    "def create_past_kv_lambda(past_kv_plus, past_kv_minus, lambda_val):\n",
    "    past_kv_lambda = []\n",
    "    for layer_past_kv_plus, layer_past_kv_minus in zip(past_kv_plus, past_kv_minus):\n",
    "        layer_past_kv_lambda = []\n",
    "        for key_plus, value_plus, key_minus, value_minus in zip(layer_past_kv_plus[0], layer_past_kv_plus[1], layer_past_kv_minus[0], layer_past_kv_minus[1]):\n",
    "            key_lambda = (1 - lambda_val) * key_minus + lambda_val * key_plus\n",
    "            value_lambda = (1 - lambda_val) * value_minus + lambda_val * value_plus\n",
    "            # add a leading batch dimension to both \n",
    "            key_lambda = key_lambda.unsqueeze(0)\n",
    "            value_lambda = value_lambda.unsqueeze(0)\n",
    "            layer_past_kv_lambda.append((key_lambda, value_lambda))\n",
    "        past_kv_lambda.append(tuple(*layer_past_kv_lambda))\n",
    "    return tuple(past_kv_lambda)\n",
    "\n",
    "# Test the create_past_kv_lambda function\n",
    "lambda_val = 0.5\n",
    "past_kv_lambda = create_past_kv_lambda(past_kv_plus, past_kv_minus, lambda_val)\n",
    "print(f\"Length of past_kv_lambda: {len(past_kv_lambda)}\")\n",
    "print(f\"Shape of past_kv_lambda[0][0]: {past_kv_lambda[0][0].shape}\")\n",
    "print(f\"Shape of past_kv_lambda[0][1]: {past_kv_lambda[0][1].shape}\")"
   ]
  },
  {
   "cell_type": "code",
   "execution_count": 21,
   "metadata": {},
   "outputs": [
    {
     "data": {
      "text/plain": [
       "torch.Size([1, 12, 7, 64])"
      ]
     },
     "execution_count": 21,
     "metadata": {},
     "output_type": "execute_result"
    }
   ],
   "source": [
    "past_kv_plus[0][0].shape"
   ]
  },
  {
   "cell_type": "markdown",
   "metadata": {},
   "source": [
    "## 4: $P(t_i^\\pm | \\text{past kv}^\\lambda)$ for $\\lambda = 0, \\dots, 1$"
   ]
  },
  {
   "cell_type": "code",
   "execution_count": 22,
   "metadata": {},
   "outputs": [
    {
     "name": "stderr",
     "output_type": "stream",
     "text": [
      "Computing log probs for lambdas: 100%|██████████| 25/25 [01:18<00:00,  3.16s/it]\n"
     ]
    }
   ],
   "source": [
    "# Compute log probabilities for each trajectory and each lambda value\n",
    "for lambda_val in tqdm(lambdas, desc=\"Computing log probs for lambdas\"):\n",
    "    past_kv_lambda = create_past_kv_lambda(past_kv_plus, past_kv_minus, lambda_val)\n",
    "    \n",
    "    for trajectory in trajectories_plus:\n",
    "        log_prob = get_traj_prob(trajectory['ids'], past_kv_lambda, model)\n",
    "        if 'log_probs' not in trajectory:\n",
    "            trajectory['log_probs'] = {}\n",
    "        trajectory['log_probs'][lambda_val] = log_prob\n",
    "    \n",
    "    for trajectory in trajectories_minus:\n",
    "        log_prob = get_traj_prob(trajectory['ids'], past_kv_lambda, model)\n",
    "        if 'log_probs' not in trajectory:\n",
    "            trajectory['log_probs'] = {}\n",
    "        trajectory['log_probs'][lambda_val] = log_prob\n"
   ]
  },
  {
   "cell_type": "code",
   "execution_count": 23,
   "metadata": {},
   "outputs": [],
   "source": [
    "# lambdas"
   ]
  },
  {
   "cell_type": "code",
   "execution_count": 24,
   "metadata": {},
   "outputs": [],
   "source": [
    "# trajectory['log_probs'][lambdas[1]]"
   ]
  },
  {
   "cell_type": "code",
   "execution_count": 25,
   "metadata": {},
   "outputs": [],
   "source": [
    "# trajectory['log_probs']"
   ]
  },
  {
   "cell_type": "code",
   "execution_count": 26,
   "metadata": {},
   "outputs": [],
   "source": [
    "# sum(log_probs_plus) / len(log_probs_plus)"
   ]
  },
  {
   "cell_type": "code",
   "execution_count": 27,
   "metadata": {},
   "outputs": [],
   "source": [
    "# mean_log_probs_plus"
   ]
  },
  {
   "cell_type": "code",
   "execution_count": 28,
   "metadata": {},
   "outputs": [
    {
     "data": {
      "image/png": "[encoded data removed]",
      "text/plain": [
       "<Figure size 800x600 with 1 Axes>"
      ]
     },
     "metadata": {},
     "output_type": "display_data"
    }
   ],
   "source": [
    "import matplotlib.pyplot as plt\n",
    "\n",
    "# Compute the mean log probabilities for each lambda value\n",
    "mean_log_probs_plus = {}\n",
    "mean_log_probs_minus = {}\n",
    "\n",
    "for lambda_val in lambdas:\n",
    "    log_probs_plus = [trajectory['log_probs'][lambda_val] for trajectory in trajectories_plus]\n",
    "    log_probs_minus = [trajectory['log_probs'][lambda_val] for trajectory in trajectories_minus]\n",
    "    \n",
    "    mean_log_probs_plus[lambda_val] = sum(log_probs_plus) / len(log_probs_plus)\n",
    "    mean_log_probs_minus[lambda_val] = sum(log_probs_minus) / len(log_probs_minus)\n",
    "\n",
    "# Convert the mean log probabilities to mean probabilities\n",
    "# mean_probs_plus = {lambda_val: np.exp(log_prob) for lambda_val, log_prob in mean_log_probs_plus.items()}\n",
    "# mean_probs_minus = {lambda_val: np.exp(log_prob) for lambda_val, log_prob in mean_log_probs_minus.items()}\n",
    "\n",
    "# keep mean log probabilities as log probabilities\n",
    "mean_probs_plus = {lambda_val: log_prob for lambda_val, log_prob in mean_log_probs_plus.items()}\n",
    "mean_probs_minus = {lambda_val: log_prob for lambda_val, log_prob in mean_log_probs_minus.items()}\n",
    "\n",
    "# Plot the mean probabilities as a function of lambda\n",
    "plt.figure(figsize=(8, 6))\n",
    "plt.plot(list(mean_probs_plus.keys()), list(mean_probs_plus.values()), marker='o', label='Positive Trajectories')\n",
    "plt.plot(list(mean_probs_minus.keys()), list(mean_probs_minus.values()), marker='o', label='Negative Trajectories')\n",
    "plt.xlabel('Lambda')\n",
    "plt.ylabel('Mean Log Probability')\n",
    "plt.title('Mean Log Probability of Trajectories as a Function of Lambda')\n",
    "plt.legend()\n",
    "plt.grid(True)\n",
    "plt.show()"
   ]
  },
  {
   "cell_type": "markdown",
   "metadata": {},
   "source": [
    "where $\\lambda = 1$ corresponds to $\\text{past kv}^+$, and conversely $\\lambda = 0 \\to  \\text{past kv}^-$, "
   ]
  },
  {
   "cell_type": "markdown",
   "metadata": {},
   "source": [
    "## 5: $\\pm \\epsilon \\mathbf w_v$\n",
    "\n",
    "Let's use some code from `notebooks/Nudge_Intrinsic_Geometry.ipynb` to see if \n",
    "$\\pm \\epsilon \\mathbf w_v$ increases the log-likelihood of the opposite-valence \n",
    "trajectory when added to $\\text{past kv}^\\pm$. "
   ]
  },
  {
   "cell_type": "code",
   "execution_count": 29,
   "metadata": {},
   "outputs": [
    {
     "name": "stdout",
     "output_type": "stream",
     "text": [
      "linreg_weights: (1, 9216)\n",
      "linreg_bias: (1,)\n"
     ]
    }
   ],
   "source": [
    "RESULTS_DIR = '../cache/happy_sad_0330b2024' # this is where weights.npz are kept \n",
    "VALUE_REPS_JSON = '../cache/gpt2_happy_sad_0330b2024.json'\n",
    "\n",
    "# Load weights.npz from RESULTS_DIR\n",
    "weights = np.load(os.path.join(RESULTS_DIR, 'weights.npz'))\n",
    "linreg_weights = weights['arr_0']\n",
    "linreg_bias = weights['arr_1']\n",
    "print('linreg_weights:', linreg_weights.shape)\n",
    "print('linreg_bias:', linreg_bias.shape)   "
   ]
  },
  {
   "cell_type": "code",
   "execution_count": 30,
   "metadata": {},
   "outputs": [
    {
     "name": "stdout",
     "output_type": "stream",
     "text": [
      "Original past_kv_plus shape: [torch.Size([1, 12, 7, 64]), torch.Size([1, 12, 7, 64]), torch.Size([1, 12, 7, 64]), torch.Size([1, 12, 7, 64]), torch.Size([1, 12, 7, 64]), torch.Size([1, 12, 7, 64]), torch.Size([1, 12, 7, 64]), torch.Size([1, 12, 7, 64]), torch.Size([1, 12, 7, 64]), torch.Size([1, 12, 7, 64]), torch.Size([1, 12, 7, 64]), torch.Size([1, 12, 7, 64])]\n",
      "Modified past_kv_plus shape: [torch.Size([1, 12, 7, 64]), torch.Size([1, 12, 7, 64]), torch.Size([1, 12, 7, 64]), torch.Size([1, 12, 7, 64]), torch.Size([1, 12, 7, 64]), torch.Size([1, 12, 7, 64]), torch.Size([1, 12, 7, 64]), torch.Size([1, 12, 7, 64]), torch.Size([1, 12, 7, 64]), torch.Size([1, 12, 7, 64]), torch.Size([1, 12, 7, 64]), torch.Size([1, 12, 7, 64])]\n",
      "\n",
      "Original past_kv_minus shape: [torch.Size([1, 12, 7, 64]), torch.Size([1, 12, 7, 64]), torch.Size([1, 12, 7, 64]), torch.Size([1, 12, 7, 64]), torch.Size([1, 12, 7, 64]), torch.Size([1, 12, 7, 64]), torch.Size([1, 12, 7, 64]), torch.Size([1, 12, 7, 64]), torch.Size([1, 12, 7, 64]), torch.Size([1, 12, 7, 64]), torch.Size([1, 12, 7, 64]), torch.Size([1, 12, 7, 64])]\n",
      "Modified past_kv_minus shape: [torch.Size([1, 12, 7, 64]), torch.Size([1, 12, 7, 64]), torch.Size([1, 12, 7, 64]), torch.Size([1, 12, 7, 64]), torch.Size([1, 12, 7, 64]), torch.Size([1, 12, 7, 64]), torch.Size([1, 12, 7, 64]), torch.Size([1, 12, 7, 64]), torch.Size([1, 12, 7, 64]), torch.Size([1, 12, 7, 64]), torch.Size([1, 12, 7, 64]), torch.Size([1, 12, 7, 64])]\n"
     ]
    }
   ],
   "source": [
    "def modify_past_kv(past_kv, epsilon, w_v):\n",
    "    num_layers = len(past_kv)\n",
    "    assert len(past_kv[0]) == 2\n",
    "    batch = past_kv[0][0].shape[0]\n",
    "    assert batch == 1\n",
    "    n_heads = past_kv[0][0].shape[1]\n",
    "    seq_len = past_kv[0][0].shape[2]\n",
    "    head_dim = past_kv[0][0].shape[3]\n",
    "    \n",
    "    layer_dim = batch * n_heads * head_dim\n",
    "    \n",
    "    modified_past_kv = []\n",
    "    for layer in range(num_layers):\n",
    "        key, value = past_kv[layer]\n",
    "        weight_vec_l = w_v[:, (layer * layer_dim):((layer + 1) * layer_dim)]\n",
    "        weight_vec_l = weight_vec_l.reshape((n_heads, head_dim))\n",
    "        \n",
    "        modified_value = value.clone()\n",
    "        modified_value[0, :, -1, :] += epsilon * torch.tensor(weight_vec_l).to(value.device)\n",
    "        \n",
    "        modified_past_kv.append((key, modified_value))\n",
    "    \n",
    "    return tuple(modified_past_kv)\n",
    "\n",
    "# Test the modify_past_kv function\n",
    "epsilon = 0.5\n",
    "modified_past_kv_plus = modify_past_kv(past_kv_plus, epsilon, linreg_weights)\n",
    "modified_past_kv_minus = modify_past_kv(past_kv_minus, epsilon, linreg_weights)\n",
    "\n",
    "# Compare the shapes of the original and modified past_kv\n",
    "print(\"Original past_kv_plus shape:\", [value.shape for _, value in past_kv_plus])\n",
    "print(\"Modified past_kv_plus shape:\", [value.shape for _, value in modified_past_kv_plus])\n",
    "print()\n",
    "print(\"Original past_kv_minus shape:\", [value.shape for _, value in past_kv_minus])\n",
    "print(\"Modified past_kv_minus shape:\", [value.shape for _, value in modified_past_kv_minus])"
   ]
  },
  {
   "cell_type": "code",
   "execution_count": 31,
   "metadata": {},
   "outputs": [
    {
     "name": "stdout",
     "output_type": "stream",
     "text": [
      "Epsilon: 1.0\n",
      "Distance between original and modified past_kv_plus: 325.52894926071167\n",
      "Distance between original and modified past_kv_minus: 325.528950214386\n",
      "\n",
      "Epsilon: 0.5\n",
      "Distance between original and modified past_kv_plus: 81.3822363615036\n",
      "Distance between original and modified past_kv_minus: 81.38223683834076\n",
      "\n",
      "Epsilon: 0.1\n",
      "Distance between original and modified past_kv_plus: 3.2552894400432706\n",
      "Distance between original and modified past_kv_minus: 3.255289469845593\n",
      "\n",
      "Epsilon: 0.01\n",
      "Distance between original and modified past_kv_plus: 0.03255290075321682\n",
      "Distance between original and modified past_kv_minus: 0.03255288608488627\n",
      "\n",
      "Epsilon: 0.001\n",
      "Distance between original and modified past_kv_plus: 0.00032552893878801115\n",
      "Distance between original and modified past_kv_minus: 0.0003255291206869515\n",
      "\n"
     ]
    }
   ],
   "source": [
    "def distance_between_past_kv(past_kv1, past_kv2):\n",
    "    distance = 0\n",
    "    for layer_past_kv1, layer_past_kv2 in zip(past_kv1, past_kv2):\n",
    "        _, value1 = layer_past_kv1\n",
    "        _, value2 = layer_past_kv2\n",
    "        distance += torch.sum((value1 - value2) ** 2).item()\n",
    "    return distance\n",
    "\n",
    "# Test the modify_past_kv function with decreasing epsilon values\n",
    "epsilon_values = [1.0, 0.5, 0.1, 0.01, 0.001]\n",
    "\n",
    "for epsilon in epsilon_values:\n",
    "    modified_past_kv_plus = modify_past_kv(past_kv_plus, epsilon, linreg_weights)\n",
    "    modified_past_kv_minus = modify_past_kv(past_kv_minus, epsilon, linreg_weights)\n",
    "    \n",
    "    distance_plus = distance_between_past_kv(past_kv_plus, modified_past_kv_plus)\n",
    "    distance_minus = distance_between_past_kv(past_kv_minus, modified_past_kv_minus)\n",
    "    \n",
    "    print(f\"Epsilon: {epsilon}\")\n",
    "    print(f\"Distance between original and modified past_kv_plus: {distance_plus}\")\n",
    "    print(f\"Distance between original and modified past_kv_minus: {distance_minus}\")\n",
    "    print()"
   ]
  },
  {
   "cell_type": "code",
   "execution_count": 32,
   "metadata": {},
   "outputs": [
    {
     "name": "stderr",
     "output_type": "stream",
     "text": [
      "Computing log probs for epsilon:  10%|▉         | 2/21 [00:12<02:01,  6.39s/it]"
     ]
    }
   ],
   "source": [
    "# Define the range of epsilon values to explore\n",
    "epsilon_range = np.linspace(-1, 1, 21)*1\n",
    "\n",
    "\n",
    "# Initialize dictionaries to store the mean log probabilities for each epsilon value\n",
    "mean_log_probs_plus_given_minus = {epsilon: 0 for epsilon in epsilon_range}\n",
    "mean_log_probs_plus_given_plus = {epsilon: 0 for epsilon in epsilon_range}\n",
    "mean_log_probs_minus_given_minus = {epsilon: 0 for epsilon in epsilon_range}\n",
    "mean_log_probs_minus_given_plus = {epsilon: 0 for epsilon in epsilon_range}\n",
    "\n",
    "# Iterate over the epsilon values\n",
    "for epsilon in tqdm(epsilon_range, desc=\"Computing log probs for epsilon\"):\n",
    "    # Modify past_kv_minus and past_kv_plus using epsilon * w_v\n",
    "    modified_past_kv_minus = modify_past_kv(past_kv_minus, epsilon, linreg_weights)\n",
    "    modified_past_kv_plus = modify_past_kv(past_kv_plus, epsilon, linreg_weights)\n",
    "    \n",
    "    # Compute log probabilities for positive trajectories\n",
    "    log_probs_plus_given_minus = [get_traj_prob(traj['ids'], modified_past_kv_minus, model) for traj in trajectories_plus]\n",
    "    log_probs_plus_given_plus = [get_traj_prob(traj['ids'], modified_past_kv_plus, model) for traj in trajectories_plus]\n",
    "    \n",
    "    # Compute log probabilities for negative trajectories\n",
    "    log_probs_minus_given_minus = [get_traj_prob(traj['ids'], modified_past_kv_minus, model) for traj in trajectories_minus]\n",
    "    log_probs_minus_given_plus = [get_traj_prob(traj['ids'], modified_past_kv_plus, model) for traj in trajectories_minus]\n",
    "    \n",
    "    # Calculate mean log probabilities for the current epsilon value\n",
    "    mean_log_probs_plus_given_minus[epsilon] = np.mean(log_probs_plus_given_minus)\n",
    "    mean_log_probs_plus_given_plus[epsilon] = np.mean(log_probs_plus_given_plus)\n",
    "    mean_log_probs_minus_given_minus[epsilon] = np.mean(log_probs_minus_given_minus)\n",
    "    mean_log_probs_minus_given_plus[epsilon] = np.mean(log_probs_minus_given_plus)\n",
    "\n",
    "# Convert mean log probabilities to mean probabilities\n",
    "mean_probs_plus_given_minus = {epsilon: log_prob for epsilon, log_prob in mean_log_probs_plus_given_minus.items()}\n",
    "mean_probs_plus_given_plus = {epsilon: log_prob for epsilon, log_prob in mean_log_probs_plus_given_plus.items()}\n",
    "mean_probs_minus_given_minus = {epsilon: log_prob for epsilon, log_prob in mean_log_probs_minus_given_minus.items()}\n",
    "mean_probs_minus_given_plus = {epsilon: log_prob for epsilon, log_prob in mean_log_probs_minus_given_plus.items()}\n",
    "\n",
    "# Plot the mean probabilities as a function of epsilon\n",
    "plt.figure(figsize=(12, 6))\n",
    "\n",
    "plt.subplot(1, 2, 1)\n",
    "plt.plot(list(mean_probs_plus_given_minus.keys()), list(mean_probs_plus_given_minus.values()), marker='o', label='Positive Trajectories given past_kv_minus')\n",
    "plt.plot(list(mean_probs_minus_given_minus.keys()), list(mean_probs_minus_given_minus.values()), marker='o', label='Negative Trajectories given past_kv_minus')\n",
    "plt.xlabel('Epsilon')\n",
    "plt.ylabel('Mean Log Probability')\n",
    "plt.title('Mean Log Probability of Trajectories given past_kv_minus')\n",
    "plt.legend()\n",
    "plt.grid(True)\n",
    "\n",
    "plt.subplot(1, 2, 2)\n",
    "plt.plot(list(mean_probs_plus_given_plus.keys()), list(mean_probs_plus_given_plus.values()), marker='o', label='Positive Trajectories given past_kv_plus')\n",
    "plt.plot(list(mean_probs_minus_given_plus.keys()), list(mean_probs_minus_given_plus.values()), marker='o', label='Negative Trajectories given past_kv_plus')\n",
    "plt.xlabel('Epsilon')\n",
    "plt.ylabel('Mean Log Probability')\n",
    "plt.title('Mean Log Probability of Trajectories given past_kv_plus')\n",
    "plt.legend()\n",
    "plt.grid(True)\n",
    "\n",
    "plt.tight_layout()\n",
    "plt.show()"
   ]
  },
  {
   "cell_type": "code",
   "execution_count": null,
   "metadata": {},
   "outputs": [],
   "source": []
  },
  {
   "cell_type": "code",
   "execution_count": null,
   "metadata": {},
   "outputs": [],
   "source": []
  }
 ],
 "metadata": {
  "kernelspec": {
   "display_name": "venv",
   "language": "python",
   "name": "python3"
  },
  "language_info": {
   "codemirror_mode": {
    "name": "ipython",
    "version": 3
   },
   "file_extension": ".py",
   "mimetype": "text/x-python",
   "name": "python",
   "nbconvert_exporter": "python",
   "pygments_lexer": "ipython3",
   "version": "3.9.16"
  }
 },
 "nbformat": 4,
 "nbformat_minor": 2
}
