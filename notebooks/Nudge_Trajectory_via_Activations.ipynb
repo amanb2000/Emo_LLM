{
 "cells": [
  {
   "cell_type": "markdown",
   "metadata": {},
   "source": [
    "# Nudge LLM Trajectories via Emotional Axes\n",
    "\n",
    "_See `notebooks/llm emotional control.pdf` for less abstract treatment._\n",
    "\n",
    "In this notebook we will demonstrate control over probabilities assigned to \n",
    "trajectories $t_i^+, t_i^-$ for $i\\in[N]$ from $t_i^+ \\sim P_{LM}(t_i^+ | x_0^+)$ \n",
    "and $t_i^- \\sim P_{LM}(t_i^- | x_0^-)$ i.i.d. \n",
    "\n",
    "**Experiment 1**: cache `key_value_plus`, `key_value_minus` from\n",
    "*`model(x_0_plus)`, `model(x_0_minus)` \n",
    "k"
   ]
  },
  {
   "cell_type": "code",
   "execution_count": 1,
   "metadata": {},
   "outputs": [],
   "source": [
    "import os\n",
    "import json\n",
    "import numpy as np\n",
    "import pandas as pd\n",
    "import matplotlib.pyplot as plt\n",
    "from tqdm import tqdm\n",
    "\n",
    "# gpt-2 model \n",
    "from transformers import GPT2LMHeadModel, GPT2Tokenizer\n",
    "import torch"
   ]
  },
  {
   "cell_type": "code",
   "execution_count": 2,
   "metadata": {},
   "outputs": [],
   "source": [
    "# Load the gpt-2 model \n",
    "tokenizer = GPT2Tokenizer.from_pretrained('gpt2')\n",
    "model = GPT2LMHeadModel.from_pretrained('gpt2').to('cuda')"
   ]
  },
  {
   "cell_type": "markdown",
   "metadata": {},
   "source": [
    "## 1: Compute `past_kv_plus`, `past_kv_minus`"
   ]
  },
  {
   "cell_type": "code",
   "execution_count": 3,
   "metadata": {},
   "outputs": [
    {
     "name": "stdout",
     "output_type": "stream",
     "text": [
      "x_0_plus_ids:  tensor([[44484,   373,  3772,    11,   523,   673]], device='cuda:0')\n",
      "x_0_minus_ids:  tensor([[44484,   373,  6507,    11,   523,   673]], device='cuda:0')\n",
      "x_0_plus:  Alice was happy, so she\n",
      "x_0_minus:  Alice was sad, so she\n"
     ]
    }
   ],
   "source": [
    "# define dataset \n",
    "x_0_plus = \"Alice was happy, so she\"\n",
    "x_0_minus = \"Alice was sad, so she\"\n",
    "\n",
    "# tokenize as pytorch tensors \n",
    "x_0_plus_ids = tokenizer.encode(x_0_plus, return_tensors='pt').to('cuda')\n",
    "x_0_minus_ids = tokenizer.encode(x_0_minus, return_tensors='pt').to('cuda')\n",
    "print(\"x_0_plus_ids: \", x_0_plus_ids)\n",
    "print(\"x_0_minus_ids: \", x_0_minus_ids)\n",
    "\n",
    "# ensure tokenizer can decode\n",
    "print(\"x_0_plus: \", tokenizer.decode(x_0_plus_ids[0]))\n",
    "print(\"x_0_minus: \", tokenizer.decode(x_0_minus_ids[0]))\n",
    "\n",
    "# retrieve past_kv_plus and past_kv_minus \n",
    "with torch.no_grad():\n",
    "    outputs = model(x_0_plus_ids, past_key_values=None)\n",
    "    past_kv_plus = outputs.past_key_values\n",
    "    outputs = model(x_0_minus_ids, past_key_values=None)\n",
    "    past_kv_minus = outputs.past_key_values"
   ]
  },
  {
   "cell_type": "code",
   "execution_count": 4,
   "metadata": {},
   "outputs": [
    {
     "name": "stdout",
     "output_type": "stream",
     "text": [
      "Decoded 44484: `Alice`\n",
      "Decoded 373: ` was`\n",
      "Decoded 3772: ` happy`\n",
      "Decoded 11: `,`\n",
      "Decoded 523: ` so`\n",
      "Decoded 673: ` she`\n"
     ]
    }
   ],
   "source": [
    "# let's go through one token at a time: \n",
    "for i in range(x_0_plus_ids.shape[1]): \n",
    "    print(f\"Decoded {x_0_plus_ids[0, i]}: `{tokenizer.decode(x_0_plus_ids[0, i])}`\")"
   ]
  },
  {
   "cell_type": "markdown",
   "metadata": {},
   "source": [
    " - `past_kv_plus`, `past_kv_minus` are tuples of length `num_layer=12`. \n",
    " - `past_kv[l]` is a tuple of length 2 (key, values) for layer `l`\n",
    " - `past_kv[l][0]` are the keys for layer `l`, shape `[b, num_heads, ]\n"
   ]
  },
  {
   "cell_type": "code",
   "execution_count": 5,
   "metadata": {},
   "outputs": [
    {
     "name": "stdout",
     "output_type": "stream",
     "text": [
      "0th layer, keys shape:  torch.Size([1, 12, 6, 64])\n",
      "\tshape [batch, num_heads, seq_len, head_dim]\n",
      "0th layer, values shape:  torch.Size([1, 12, 6, 64])\n",
      "\tshape [batch, num_heads, seq_len, head_dim]\n"
     ]
    }
   ],
   "source": [
    "print(\"0th layer, keys shape: \", past_kv_plus[0][0].shape) \n",
    "print(f\"\\tshape [batch, num_heads, seq_len, head_dim]\")\n",
    "print(\"0th layer, values shape: \", past_kv_plus[0][1].shape)\n",
    "print(f\"\\tshape [batch, num_heads, seq_len, head_dim]\")\n"
   ]
  },
  {
   "cell_type": "code",
   "execution_count": 6,
   "metadata": {},
   "outputs": [
    {
     "name": "stdout",
     "output_type": "stream",
     "text": [
      "Number of heads in gpt2 attention:  12\n",
      "Head dim in gpt2 attention:  64\n"
     ]
    }
   ],
   "source": [
    "print(\"Number of heads in gpt2 attention: \", model.transformer.h[0].attn.num_heads)\n",
    "print(\"Head dim in gpt2 attention: \", model.transformer.h[0].attn.head_dim)"
   ]
  },
  {
   "cell_type": "markdown",
   "metadata": {},
   "source": [
    "## 2: Sample trajectories $t_i^\\pm \\sim P_{LLM}(t_i^\\pm | \\text{past kv}^\\pm)$"
   ]
  },
  {
   "cell_type": "code",
   "execution_count": 7,
   "metadata": {},
   "outputs": [],
   "source": [
    "# Set the number of trajectories to sample\n",
    "num_trajectories = 20\n",
    "max_length = 50"
   ]
  },
  {
   "cell_type": "code",
   "execution_count": 10,
   "metadata": {},
   "outputs": [],
   "source": [
    "# Function to sample a trajectory given the model, tokenizer, prompt, and past_kv\n",
    "def sample_trajectory(model, tokenizer, past_kv, prompt_ids, max_length):\n",
    "    \"\"\" Samples t ~ P_{LLM}(t | past_kv + prompt_ids)\n",
    "    \"\"\"\n",
    "    # print(\"Prompt_ids shape: \", prompt_ids.shape)\n",
    "    # print(\"Past kv shape value 0: \", past_kv[0][0].shape)\n",
    "\n",
    "    num_past_toks = past_kv[0][0].shape[2]\n",
    "    attention_mask = torch.ones([1, prompt_ids.shape[1] + num_past_toks]).to(model.device)\n",
    "    # print(\"Attention mask shape: \", attention_mask.shape)\n",
    "\n",
    "    with torch.no_grad():\n",
    "        generated_ids = model.generate(\n",
    "            prompt_ids,\n",
    "            max_length=max_length,\n",
    "            no_repeat_ngram_size=3,\n",
    "            do_sample=True,\n",
    "            top_p=0.95,\n",
    "            top_k=100,\n",
    "            temperature=0.8,\n",
    "            attention_mask=attention_mask,\n",
    "            bad_words_ids=None,\n",
    "            past_key_values=past_kv\n",
    "        ).to('cuda')\n",
    "    \n",
    "    generated_text = tokenizer.decode(generated_ids[0], skip_special_tokens=True)\n",
    "    \n",
    "    return generated_text, generated_ids"
   ]
  },
  {
   "cell_type": "code",
   "execution_count": 12,
   "metadata": {},
   "outputs": [
    {
     "name": "stderr",
     "output_type": "stream",
     "text": [
      "Setting `pad_token_id` to `eos_token_id`:50256 for open-end generation.\n"
     ]
    },
    {
     "name": "stdout",
     "output_type": "stream",
     "text": [
      "[Trajectory plus: ]  did not mind, but he said that she must be careful.\n",
      "\n",
      "The doctor told her that there was no way to tell her how she was feeling, so she kept silent.\n",
      "....\n",
      "\n",
      "Hearing that this new doctor\n",
      "\n",
      "Number of tokens in trajectory:  torch.Size([1, 50])\n"
     ]
    }
   ],
   "source": [
    "# test the sample trajectory function \n",
    "prompt = \" did\"\n",
    "prompt_ids = tokenizer.encode(prompt, return_tensors='pt').to('cuda')\n",
    "\n",
    "# t_plus_str is a string, t_plus_ids is a tensor of shape [1, traj_len], including the extra `prompt`\n",
    "t_plus_str, t_plus_ids = sample_trajectory(model, tokenizer, past_kv_plus, prompt_ids, max_length)\n",
    "print(\"[Trajectory plus: ]\", t_plus_str)\n",
    "print(\"\\nNumber of tokens in trajectory: \", t_plus_ids.shape)"
   ]
  },
  {
   "cell_type": "code",
   "execution_count": 17,
   "metadata": {},
   "outputs": [
    {
     "name": "stderr",
     "output_type": "stream",
     "text": [
      "Sampling x_0_plus trajectories:   0%|          | 0/20 [00:00<?, ?it/s]Setting `pad_token_id` to `eos_token_id`:50256 for open-end generation.\n",
      "Sampling x_0_plus trajectories:   5%|▌         | 1/20 [00:00<00:07,  2.40it/s]Setting `pad_token_id` to `eos_token_id`:50256 for open-end generation.\n",
      "Sampling x_0_plus trajectories:  10%|█         | 2/20 [00:00<00:07,  2.41it/s]Setting `pad_token_id` to `eos_token_id`:50256 for open-end generation.\n",
      "Sampling x_0_plus trajectories:  15%|█▌        | 3/20 [00:01<00:07,  2.41it/s]Setting `pad_token_id` to `eos_token_id`:50256 for open-end generation.\n",
      "Sampling x_0_plus trajectories:  20%|██        | 4/20 [00:01<00:06,  2.41it/s]Setting `pad_token_id` to `eos_token_id`:50256 for open-end generation.\n",
      "Sampling x_0_plus trajectories:  25%|██▌       | 5/20 [00:02<00:06,  2.42it/s]Setting `pad_token_id` to `eos_token_id`:50256 for open-end generation.\n",
      "Sampling x_0_plus trajectories:  30%|███       | 6/20 [00:02<00:05,  2.41it/s]Setting `pad_token_id` to `eos_token_id`:50256 for open-end generation.\n",
      "Sampling x_0_plus trajectories:  35%|███▌      | 7/20 [00:02<00:05,  2.41it/s]Setting `pad_token_id` to `eos_token_id`:50256 for open-end generation.\n",
      "Sampling x_0_plus trajectories:  40%|████      | 8/20 [00:03<00:05,  2.39it/s]Setting `pad_token_id` to `eos_token_id`:50256 for open-end generation.\n",
      "Sampling x_0_plus trajectories:  45%|████▌     | 9/20 [00:03<00:04,  2.38it/s]Setting `pad_token_id` to `eos_token_id`:50256 for open-end generation.\n",
      "Sampling x_0_plus trajectories:  50%|█████     | 10/20 [00:04<00:04,  2.38it/s]Setting `pad_token_id` to `eos_token_id`:50256 for open-end generation.\n",
      "Sampling x_0_plus trajectories:  55%|█████▌    | 11/20 [00:04<00:03,  2.38it/s]Setting `pad_token_id` to `eos_token_id`:50256 for open-end generation.\n",
      "Sampling x_0_plus trajectories:  60%|██████    | 12/20 [00:05<00:03,  2.39it/s]Setting `pad_token_id` to `eos_token_id`:50256 for open-end generation.\n",
      "Sampling x_0_plus trajectories:  65%|██████▌   | 13/20 [00:05<00:02,  2.38it/s]Setting `pad_token_id` to `eos_token_id`:50256 for open-end generation.\n",
      "Sampling x_0_plus trajectories:  70%|███████   | 14/20 [00:05<00:02,  2.38it/s]Setting `pad_token_id` to `eos_token_id`:50256 for open-end generation.\n",
      "Sampling x_0_plus trajectories:  75%|███████▌  | 15/20 [00:06<00:02,  2.38it/s]Setting `pad_token_id` to `eos_token_id`:50256 for open-end generation.\n",
      "Sampling x_0_plus trajectories:  80%|████████  | 16/20 [00:06<00:01,  2.39it/s]Setting `pad_token_id` to `eos_token_id`:50256 for open-end generation.\n",
      "Sampling x_0_plus trajectories:  85%|████████▌ | 17/20 [00:07<00:01,  2.39it/s]Setting `pad_token_id` to `eos_token_id`:50256 for open-end generation.\n",
      "Sampling x_0_plus trajectories:  90%|█████████ | 18/20 [00:07<00:00,  2.39it/s]Setting `pad_token_id` to `eos_token_id`:50256 for open-end generation.\n",
      "Sampling x_0_plus trajectories:  95%|█████████▌| 19/20 [00:07<00:00,  2.39it/s]Setting `pad_token_id` to `eos_token_id`:50256 for open-end generation.\n",
      "Sampling x_0_plus trajectories: 100%|██████████| 20/20 [00:08<00:00,  2.39it/s]\n",
      "Sampling x_0_minus trajectories:   0%|          | 0/20 [00:00<?, ?it/s]Setting `pad_token_id` to `eos_token_id`:50256 for open-end generation.\n",
      "Sampling x_0_minus trajectories:   5%|▌         | 1/20 [00:00<00:07,  2.39it/s]Setting `pad_token_id` to `eos_token_id`:50256 for open-end generation.\n",
      "Sampling x_0_minus trajectories:  10%|█         | 2/20 [00:00<00:07,  2.38it/s]Setting `pad_token_id` to `eos_token_id`:50256 for open-end generation.\n",
      "Sampling x_0_minus trajectories:  15%|█▌        | 3/20 [00:01<00:06,  2.77it/s]Setting `pad_token_id` to `eos_token_id`:50256 for open-end generation.\n",
      "Sampling x_0_minus trajectories:  20%|██        | 4/20 [00:01<00:06,  2.59it/s]Setting `pad_token_id` to `eos_token_id`:50256 for open-end generation.\n",
      "Sampling x_0_minus trajectories:  25%|██▌       | 5/20 [00:01<00:05,  2.51it/s]Setting `pad_token_id` to `eos_token_id`:50256 for open-end generation.\n",
      "Sampling x_0_minus trajectories:  30%|███       | 6/20 [00:02<00:05,  2.46it/s]Setting `pad_token_id` to `eos_token_id`:50256 for open-end generation.\n",
      "Sampling x_0_minus trajectories:  35%|███▌      | 7/20 [00:02<00:05,  2.45it/s]Setting `pad_token_id` to `eos_token_id`:50256 for open-end generation.\n",
      "Sampling x_0_minus trajectories:  40%|████      | 8/20 [00:03<00:04,  2.43it/s]Setting `pad_token_id` to `eos_token_id`:50256 for open-end generation.\n",
      "Sampling x_0_minus trajectories:  45%|████▌     | 9/20 [00:03<00:04,  2.42it/s]Setting `pad_token_id` to `eos_token_id`:50256 for open-end generation.\n",
      "Sampling x_0_minus trajectories:  50%|█████     | 10/20 [00:04<00:04,  2.40it/s]Setting `pad_token_id` to `eos_token_id`:50256 for open-end generation.\n",
      "Sampling x_0_minus trajectories:  55%|█████▌    | 11/20 [00:04<00:03,  2.38it/s]Setting `pad_token_id` to `eos_token_id`:50256 for open-end generation.\n",
      "Sampling x_0_minus trajectories:  60%|██████    | 12/20 [00:04<00:03,  2.39it/s]Setting `pad_token_id` to `eos_token_id`:50256 for open-end generation.\n",
      "Sampling x_0_minus trajectories:  65%|██████▌   | 13/20 [00:05<00:02,  2.46it/s]Setting `pad_token_id` to `eos_token_id`:50256 for open-end generation.\n",
      "Sampling x_0_minus trajectories:  70%|███████   | 14/20 [00:05<00:02,  2.44it/s]Setting `pad_token_id` to `eos_token_id`:50256 for open-end generation.\n",
      "Sampling x_0_minus trajectories:  75%|███████▌  | 15/20 [00:06<00:02,  2.43it/s]Setting `pad_token_id` to `eos_token_id`:50256 for open-end generation.\n",
      "Sampling x_0_minus trajectories:  80%|████████  | 16/20 [00:06<00:01,  2.43it/s]Setting `pad_token_id` to `eos_token_id`:50256 for open-end generation.\n",
      "Sampling x_0_minus trajectories:  85%|████████▌ | 17/20 [00:06<00:01,  2.43it/s]Setting `pad_token_id` to `eos_token_id`:50256 for open-end generation.\n",
      "Sampling x_0_minus trajectories:  90%|█████████ | 18/20 [00:07<00:00,  2.42it/s]Setting `pad_token_id` to `eos_token_id`:50256 for open-end generation.\n",
      "Sampling x_0_minus trajectories:  95%|█████████▌| 19/20 [00:07<00:00,  2.40it/s]Setting `pad_token_id` to `eos_token_id`:50256 for open-end generation.\n",
      "Sampling x_0_minus trajectories: 100%|██████████| 20/20 [00:08<00:00,  2.44it/s]\n"
     ]
    }
   ],
   "source": [
    "# Sample trajectories for x_0_plus\n",
    "prompt = \" did\"\n",
    "prompt_ids = tokenizer.encode(prompt, return_tensors='pt').to('cuda')\n",
    "\n",
    "trajectories_plus = []\n",
    "for _ in tqdm(range(num_trajectories), desc=\"Sampling x_0_plus trajectories\"):\n",
    "    t_plus_str, t_plus_ids = sample_trajectory(model, tokenizer, past_kv_plus, prompt_ids, max_length)\n",
    "    trajectories_plus.append({'str': t_plus_str, 'ids': t_plus_ids})\n",
    "\n",
    "# Sample trajectories for x_0_minus\n",
    "trajectories_minus = []\n",
    "for _ in tqdm(range(num_trajectories), desc=\"Sampling x_0_minus trajectories\"):\n",
    "    t_minus_str, t_minus_ids = sample_trajectory(model, tokenizer, past_kv_minus, prompt_ids, max_length)\n",
    "    trajectories_minus.append({'str': t_minus_str, 'ids': t_minus_ids})\n"
   ]
  },
  {
   "cell_type": "code",
   "execution_count": 19,
   "metadata": {},
   "outputs": [
    {
     "name": "stdout",
     "output_type": "stream",
     "text": [
      "[50, 50, 50, 50, 50, 50, 50, 50, 50, 50, 50, 50, 50, 50, 50, 50, 50, 50, 50, 50]\n",
      "[50, 50, 35, 50, 50, 50, 49, 50, 50, 50, 50, 50, 46, 50, 50, 50, 50, 50, 50, 50]\n",
      "\n",
      "t_plus length:  17\n",
      "t_minus length:  17\n"
     ]
    }
   ],
   "source": [
    "t_plus_lens = [t['ids'].shape[1] for t in trajectories_plus]\n",
    "t_minus_lens = [t['ids'].shape[1] for t in trajectories_minus]\n",
    "\n",
    "print(t_plus_lens)\n",
    "print(t_minus_lens)\n",
    "\n",
    "# keep only those trajectories that are = max_length\n",
    "trajectories_plus = [t for t in trajectories_plus if t['ids'].shape[1] == max_length]\n",
    "trajectories_minus = [t for t in trajectories_minus if t['ids'].shape[1] == max_length]\n",
    "\n",
    "# ensure both are of the same length \n",
    "if len(trajectories_plus) > len(trajectories_minus):\n",
    "    trajectories_plus = trajectories_plus[:len(trajectories_minus)]\n",
    "else:\n",
    "    trajectories_minus = trajectories_minus[:len(trajectories_plus)]\n",
    "\n",
    "print(\"\\nt_plus length: \", len(trajectories_plus))\n",
    "print(\"t_minus length: \", len(trajectories_minus))"
   ]
  },
  {
   "cell_type": "code",
   "execution_count": 20,
   "metadata": {},
   "outputs": [
    {
     "data": {
      "text/plain": [
       "' did not feel sad.\\n\\n\"Well, I am happy too,\" Yang said, smiling broadly at her partner. \"But I am worried about you.\"\\n\\nHe nodded. \"I know that. But you don\\'t seem quite in that'"
      ]
     },
     "execution_count": 20,
     "metadata": {},
     "output_type": "execute_result"
    }
   ],
   "source": [
    "# trajectories_plus[0]['str']"
   ]
  },
  {
   "cell_type": "code",
   "execution_count": 21,
   "metadata": {},
   "outputs": [
    {
     "data": {
      "text/plain": [
       "torch.Size([1, 12, 6, 64])"
      ]
     },
     "execution_count": 21,
     "metadata": {},
     "output_type": "execute_result"
    }
   ],
   "source": [
    "# past_kv_plus[0][0].shape"
   ]
  },
  {
   "cell_type": "code",
   "execution_count": 23,
   "metadata": {},
   "outputs": [
    {
     "data": {
      "text/plain": [
       "torch.Size([1, 50])"
      ]
     },
     "execution_count": 23,
     "metadata": {},
     "output_type": "execute_result"
    }
   ],
   "source": [
    "# trajectories_plus[0]['ids'].shape"
   ]
  },
  {
   "cell_type": "markdown",
   "metadata": {},
   "source": [
    "## 2.5: Computing Trajectory $t_i^\\pm$ Probabilities given $x_0^\\pm$"
   ]
  },
  {
   "cell_type": "code",
   "execution_count": 24,
   "metadata": {},
   "outputs": [],
   "source": [
    "# now let's compute the probability of each trajectory given each prompt \n",
    "def get_traj_prob(traj_ids, past_kv, model): \n",
    "    \"\"\" Computes the probability of a trajectory given the past_kv. \n",
    "    \"\"\"\n",
    "    num_kv_toks = past_kv[0][0].shape[2]\n",
    "    num_traj_toks = traj_ids.shape[1]\n",
    "\n",
    "    labels = traj_ids \n",
    "    attention_mask = torch.ones([1, num_kv_toks + num_traj_toks]).to(model.device)\n",
    "\n",
    "    with torch.no_grad():\n",
    "        outputs = model(traj_ids, past_key_values=past_kv, labels=labels, attention_mask=attention_mask)\n",
    "        loss = outputs.loss\n",
    "        log_prob = -loss\n",
    "    \n",
    "    return log_prob.item()"
   ]
  },
  {
   "cell_type": "code",
   "execution_count": 26,
   "metadata": {},
   "outputs": [
    {
     "name": "stdout",
     "output_type": "stream",
     "text": [
      "Trajectory log probability:  -2.1982598304748535\n"
     ]
    }
   ],
   "source": [
    "# test get_traj_prob function \n",
    "traj_prob = get_traj_prob(trajectories_minus[0]['ids'], past_kv_plus, model)\n",
    "print(\"Trajectory log probability: \", traj_prob)"
   ]
  },
  {
   "cell_type": "markdown",
   "metadata": {},
   "source": [
    "No we can compute the log probability of each trajectory given its corresponding \n",
    "past_kv +/-"
   ]
  },
  {
   "cell_type": "code",
   "execution_count": 32,
   "metadata": {},
   "outputs": [
    {
     "name": "stderr",
     "output_type": "stream",
     "text": [
      "Computing log probs for x_0_plus trajectories: 100%|██████████| 17/17 [00:00<00:00, 114.73it/s]\n",
      "Computing log probs for x_0_minus trajectories: 100%|██████████| 17/17 [00:00<00:00, 118.36it/s]\n",
      "Computing log probs for x_0_plus trajectories_minus: 100%|██████████| 17/17 [00:00<00:00, 123.28it/s]\n",
      "Computing log probs for x_0_minus trajectories_plus: 100%|██████████| 17/17 [00:00<00:00, 123.55it/s]\n"
     ]
    }
   ],
   "source": [
    "# Compute log probabilities for x_0_plus trajectories\n",
    "for trajectory in tqdm(trajectories_plus, desc=\"Computing log probs for x_0_plus trajectories\"):\n",
    "    log_prob = get_traj_prob(trajectory['ids'], past_kv_plus, model)\n",
    "    trajectory['log_prob'] = log_prob\n",
    "\n",
    "# Compute log probabilities for x_0_minus trajectories\n",
    "for trajectory in tqdm(trajectories_minus, desc=\"Computing log probs for x_0_minus trajectories\"):\n",
    "    log_prob = get_traj_prob(trajectory['ids'], past_kv_minus, model)\n",
    "    trajectory['log_prob'] = log_prob\n",
    "\n",
    "# add a field (log_prob_other) for log P(t_plus | x_0_minus) and log P(t_minus | x_0_plus) \n",
    "for trajectory in tqdm(trajectories_plus, desc=\"Computing log probs for x_0_plus trajectories_minus\"):\n",
    "    log_prob_other = get_traj_prob(trajectory['ids'], past_kv_minus, model)\n",
    "    trajectory['log_prob_given_other'] = log_prob_other\n",
    "\n",
    "for trajectory in tqdm(trajectories_minus, desc=\"Computing log probs for x_0_minus trajectories_plus\"):\n",
    "    log_prob_other = get_traj_prob(trajectory['ids'], past_kv_plus, model)\n",
    "    trajectory['log_prob_given_other'] = log_prob_other"
   ]
  },
  {
   "cell_type": "code",
   "execution_count": 35,
   "metadata": {},
   "outputs": [
    {
     "data": {
      "image/png": "[encoded data removed]",
      "text/plain": [
       "<Figure size 1000x500 with 1 Axes>"
      ]
     },
     "metadata": {},
     "output_type": "display_data"
    }
   ],
   "source": [
    "mean_log_prob_plus = np.mean([t['log_prob'] for t in trajectories_plus])\n",
    "mean_log_prob_minus = np.mean([t['log_prob'] for t in trajectories_minus])\n",
    "\n",
    "mean_log_prob_plus_given_other = np.mean([t['log_prob_given_other'] for t in trajectories_plus])\n",
    "mean_log_prob_minus_given_other = np.mean([t['log_prob_given_other'] for t in trajectories_minus])\n",
    "\n",
    "# bar chart \n",
    "plt.figure(figsize=(10, 5))\n",
    "plt.bar(['t+ | x+', 't+ | x-', 't- | x-', 't- | x+'], [mean_log_prob_plus, mean_log_prob_plus_given_other, mean_log_prob_minus, mean_log_prob_minus_given_other], color=['blue', 'red', 'blue', 'red'])\n",
    "# colors \n",
    "# adjust y axis range\n",
    "plt.ylim([-2.5, -2.0])\n",
    "plt.ylabel('Mean log probability')\n",
    "plt.title('Mean log probability of sampled trajectories')\n",
    "plt.show()\n"
   ]
  },
  {
   "cell_type": "markdown",
   "metadata": {},
   "source": [
    "## 3: Generating $\\text{past kv}^\\lambda$"
   ]
  },
  {
   "cell_type": "code",
   "execution_count": 48,
   "metadata": {},
   "outputs": [
    {
     "name": "stdout",
     "output_type": "stream",
     "text": [
      "Length of past_kv_lambda: 12\n",
      "Shape of past_kv_lambda[0][0]: torch.Size([1, 12, 6, 64])\n",
      "Shape of past_kv_lambda[0][1]: torch.Size([1, 12, 6, 64])\n"
     ]
    }
   ],
   "source": [
    "# generate a bunch of lambda values between 0 and 1 (np linspace or something)\n",
    "lambdas = np.linspace(0, 1, 25)\n",
    "\n",
    "# function to create past_kv_lambda = (1-lambda) past_kv_min + lambda past_kv_plus\n",
    "# recall that past_kv are tuples of length 12 (12 layers)\n",
    "# each past_kv[i] is a tuple of length 2 (key, value)\n",
    "# each key, value is a tensor of shape [1, num_heads, seq_len, head_dim]\n",
    "\n",
    "# Function to create past_kv_lambda\n",
    "def create_past_kv_lambda(past_kv_plus, past_kv_minus, lambda_val):\n",
    "    past_kv_lambda = []\n",
    "    for layer_past_kv_plus, layer_past_kv_minus in zip(past_kv_plus, past_kv_minus):\n",
    "        layer_past_kv_lambda = []\n",
    "        for key_plus, value_plus, key_minus, value_minus in zip(layer_past_kv_plus[0], layer_past_kv_plus[1], layer_past_kv_minus[0], layer_past_kv_minus[1]):\n",
    "            key_lambda = (1 - lambda_val) * key_minus + lambda_val * key_plus\n",
    "            value_lambda = (1 - lambda_val) * value_minus + lambda_val * value_plus\n",
    "            # add a leading batch dimension to both \n",
    "            key_lambda = key_lambda.unsqueeze(0)\n",
    "            value_lambda = value_lambda.unsqueeze(0)\n",
    "            layer_past_kv_lambda.append((key_lambda, value_lambda))\n",
    "        past_kv_lambda.append(tuple(*layer_past_kv_lambda))\n",
    "    return tuple(past_kv_lambda)\n",
    "\n",
    "# Test the create_past_kv_lambda function\n",
    "lambda_val = 0.5\n",
    "past_kv_lambda = create_past_kv_lambda(past_kv_plus, past_kv_minus, lambda_val)\n",
    "print(f\"Length of past_kv_lambda: {len(past_kv_lambda)}\")\n",
    "print(f\"Shape of past_kv_lambda[0][0]: {past_kv_lambda[0][0].shape}\")\n",
    "print(f\"Shape of past_kv_lambda[0][1]: {past_kv_lambda[0][1].shape}\")"
   ]
  },
  {
   "cell_type": "code",
   "execution_count": 49,
   "metadata": {},
   "outputs": [
    {
     "data": {
      "text/plain": [
       "torch.Size([1, 12, 6, 64])"
      ]
     },
     "execution_count": 49,
     "metadata": {},
     "output_type": "execute_result"
    }
   ],
   "source": [
    "past_kv_plus[0][0].shape"
   ]
  },
  {
   "cell_type": "markdown",
   "metadata": {},
   "source": [
    "## 4: $P(t_i^\\pm | \\text{past kv}^\\lambda)$ for $\\lambda = 0, \\dots, 1$"
   ]
  },
  {
   "cell_type": "code",
   "execution_count": 51,
   "metadata": {},
   "outputs": [
    {
     "name": "stderr",
     "output_type": "stream",
     "text": [
      "Computing log probs for lambdas: 100%|██████████| 25/25 [00:06<00:00,  3.68it/s]\n"
     ]
    }
   ],
   "source": [
    "# Compute log probabilities for each trajectory and each lambda value\n",
    "for lambda_val in tqdm(lambdas, desc=\"Computing log probs for lambdas\"):\n",
    "    past_kv_lambda = create_past_kv_lambda(past_kv_plus, past_kv_minus, lambda_val)\n",
    "    \n",
    "    for trajectory in trajectories_plus:\n",
    "        log_prob = get_traj_prob(trajectory['ids'], past_kv_lambda, model)\n",
    "        if 'log_probs' not in trajectory:\n",
    "            trajectory['log_probs'] = {}\n",
    "        trajectory['log_probs'][lambda_val] = log_prob\n",
    "    \n",
    "    for trajectory in trajectories_minus:\n",
    "        log_prob = get_traj_prob(trajectory['ids'], past_kv_lambda, model)\n",
    "        if 'log_probs' not in trajectory:\n",
    "            trajectory['log_probs'] = {}\n",
    "        trajectory['log_probs'][lambda_val] = log_prob\n",
    "\n",
    "# Print the log probabilities for each trajectory and each lambda value\n",
    "# print(\"Log probabilities for x_0_plus trajectories:\")\n",
    "# for i, trajectory in enumerate(trajectories_plus, 1):\n",
    "#     print(f\"Trajectory {i}: {trajectory['str']}\")\n",
    "#     for lambda_val, log_prob in trajectory['log_probs'].items():\n",
    "#         print(f\"  Lambda {lambda_val:.2f}: {log_prob:.4f}\")\n",
    "#     print()\n",
    "\n",
    "# print(\"\\nLog probabilities for x_0_minus trajectories:\")\n",
    "# for i, trajectory in enumerate(trajectories_minus, 1):\n",
    "#     print(f\"Trajectory {i}: {trajectory['str']}\")\n",
    "#     for lambda_val, log_prob in trajectory['log_probs'].items():\n",
    "#         print(f\"  Lambda {lambda_val:.2f}: {log_prob:.4f}\")\n",
    "#     print()"
   ]
  },
  {
   "cell_type": "code",
   "execution_count": 53,
   "metadata": {},
   "outputs": [
    {
     "data": {
      "text/plain": [
       "array([0.        , 0.04166667, 0.08333333, 0.125     , 0.16666667,\n",
       "       0.20833333, 0.25      , 0.29166667, 0.33333333, 0.375     ,\n",
       "       0.41666667, 0.45833333, 0.5       , 0.54166667, 0.58333333,\n",
       "       0.625     , 0.66666667, 0.70833333, 0.75      , 0.79166667,\n",
       "       0.83333333, 0.875     , 0.91666667, 0.95833333, 1.        ])"
      ]
     },
     "execution_count": 53,
     "metadata": {},
     "output_type": "execute_result"
    }
   ],
   "source": [
    "# lambdas"
   ]
  },
  {
   "cell_type": "code",
   "execution_count": 56,
   "metadata": {},
   "outputs": [
    {
     "data": {
      "text/plain": [
       "-2.3727004528045654"
      ]
     },
     "execution_count": 56,
     "metadata": {},
     "output_type": "execute_result"
    }
   ],
   "source": [
    "# trajectory['log_probs'][lambdas[1]]"
   ]
  },
  {
   "cell_type": "code",
   "execution_count": 54,
   "metadata": {},
   "outputs": [
    {
     "data": {
      "text/plain": [
       "{0.0: -2.374145984649658,\n",
       " 0.041666666666666664: -2.3727004528045654,\n",
       " 0.08333333333333333: -2.3713107109069824,\n",
       " 0.125: -2.369981527328491,\n",
       " 0.16666666666666666: -2.3687045574188232,\n",
       " 0.20833333333333331: -2.3674776554107666,\n",
       " 0.25: -2.3662941455841064,\n",
       " 0.29166666666666663: -2.3651533126831055,\n",
       " 0.3333333333333333: -2.3640542030334473,\n",
       " 0.375: -2.362987518310547,\n",
       " 0.41666666666666663: -2.361957311630249,\n",
       " 0.4583333333333333: -2.360959768295288,\n",
       " 0.5: -2.3599953651428223,\n",
       " 0.5416666666666666: -2.359060525894165,\n",
       " 0.5833333333333333: -2.358154535293579,\n",
       " 0.625: -2.3572771549224854,\n",
       " 0.6666666666666666: -2.356431245803833,\n",
       " 0.7083333333333333: -2.355611562728882,\n",
       " 0.75: -2.3548200130462646,\n",
       " 0.7916666666666666: -2.354059934616089,\n",
       " 0.8333333333333333: -2.353323221206665,\n",
       " 0.875: -2.3526172637939453,\n",
       " 0.9166666666666666: -2.351938009262085,\n",
       " 0.9583333333333333: -2.351285219192505,\n",
       " 1.0: -2.350661516189575}"
      ]
     },
     "execution_count": 54,
     "metadata": {},
     "output_type": "execute_result"
    }
   ],
   "source": [
    "# trajectory['log_probs']"
   ]
  },
  {
   "cell_type": "code",
   "execution_count": 58,
   "metadata": {},
   "outputs": [
    {
     "data": {
      "text/plain": [
       "-2.316040277481079"
      ]
     },
     "execution_count": 58,
     "metadata": {},
     "output_type": "execute_result"
    }
   ],
   "source": [
    "# sum(log_probs_plus) / len(log_probs_plus)"
   ]
  },
  {
   "cell_type": "code",
   "execution_count": 59,
   "metadata": {},
   "outputs": [
    {
     "data": {
      "text/plain": [
       "{0.0: -2.3353031663333668,\n",
       " 0.041666666666666664: -2.33373986973482,\n",
       " 0.08333333333333333: -2.332251226200777,\n",
       " 0.125: -2.3308301112231087,\n",
       " 0.16666666666666666: -2.329474925994873,\n",
       " 0.20833333333333331: -2.328178321613985,\n",
       " 0.25: -2.326938573051901,\n",
       " 0.29166666666666663: -2.325752061956069,\n",
       " 0.3333333333333333: -2.324620246887207,\n",
       " 0.375: -2.323548611472635,\n",
       " 0.41666666666666663: -2.322548501631793,\n",
       " 0.4583333333333333: -2.321636704837575,\n",
       " 0.5: -2.3208308500402115,\n",
       " 0.5416666666666666: -2.3201165199279785,\n",
       " 0.5833333333333333: -2.3194627481348373,\n",
       " 0.625: -2.3188669821795296,\n",
       " 0.6666666666666666: -2.3183391094207764,\n",
       " 0.7083333333333333: -2.3178720894981835,\n",
       " 0.75: -2.317463383955114,\n",
       " 0.7916666666666666: -2.3171079299029183,\n",
       " 0.8333333333333333: -2.3168037077959847,\n",
       " 0.875: -2.316546874887803,\n",
       " 0.9166666666666666: -2.316334429909201,\n",
       " 0.9583333333333333: -2.316165896023021,\n",
       " 1.0: -2.316040277481079}"
      ]
     },
     "execution_count": 59,
     "metadata": {},
     "output_type": "execute_result"
    }
   ],
   "source": [
    "# mean_log_probs_plus"
   ]
  },
  {
   "cell_type": "code",
   "execution_count": 60,
   "metadata": {},
   "outputs": [
    {
     "data": {
      "image/png": "[encoded data removed]",
      "text/plain": [
       "<Figure size 800x600 with 1 Axes>"
      ]
     },
     "metadata": {},
     "output_type": "display_data"
    }
   ],
   "source": [
    "import matplotlib.pyplot as plt\n",
    "\n",
    "# Compute the mean log probabilities for each lambda value\n",
    "mean_log_probs_plus = {}\n",
    "mean_log_probs_minus = {}\n",
    "\n",
    "for lambda_val in lambdas:\n",
    "    log_probs_plus = [trajectory['log_probs'][lambda_val] for trajectory in trajectories_plus]\n",
    "    log_probs_minus = [trajectory['log_probs'][lambda_val] for trajectory in trajectories_minus]\n",
    "    \n",
    "    mean_log_probs_plus[lambda_val] = sum(log_probs_plus) / len(log_probs_plus)\n",
    "    mean_log_probs_minus[lambda_val] = sum(log_probs_minus) / len(log_probs_minus)\n",
    "\n",
    "# Convert the mean log probabilities to mean probabilities\n",
    "# mean_probs_plus = {lambda_val: np.exp(log_prob) for lambda_val, log_prob in mean_log_probs_plus.items()}\n",
    "# mean_probs_minus = {lambda_val: np.exp(log_prob) for lambda_val, log_prob in mean_log_probs_minus.items()}\n",
    "\n",
    "# keep mean log probabilities as log probabilities\n",
    "mean_probs_plus = {lambda_val: log_prob for lambda_val, log_prob in mean_log_probs_plus.items()}\n",
    "mean_probs_minus = {lambda_val: log_prob for lambda_val, log_prob in mean_log_probs_minus.items()}\n",
    "\n",
    "# Plot the mean probabilities as a function of lambda\n",
    "plt.figure(figsize=(8, 6))\n",
    "plt.plot(list(mean_probs_plus.keys()), list(mean_probs_plus.values()), marker='o', label='Positive Trajectories')\n",
    "plt.plot(list(mean_probs_minus.keys()), list(mean_probs_minus.values()), marker='o', label='Negative Trajectories')\n",
    "plt.xlabel('Lambda')\n",
    "plt.ylabel('Mean Probability')\n",
    "plt.title('Mean Probability of Trajectories as a Function of Lambda')\n",
    "plt.legend()\n",
    "plt.grid(True)\n",
    "plt.show()"
   ]
  },
  {
   "cell_type": "markdown",
   "metadata": {},
   "source": [
    "where $\\lambda = 1$ corresponds to $\\text{past kv}^+$, and conversely $\\lambda = 0 \\to  \\text{past kv}^-$, "
   ]
  },
  {
   "cell_type": "markdown",
   "metadata": {},
   "source": [
    "## "
   ]
  },
  {
   "cell_type": "code",
   "execution_count": null,
   "metadata": {},
   "outputs": [],
   "source": []
  }
 ],
 "metadata": {
  "kernelspec": {
   "display_name": "venv",
   "language": "python",
   "name": "python3"
  },
  "language_info": {
   "codemirror_mode": {
    "name": "ipython",
    "version": 3
   },
   "file_extension": ".py",
   "mimetype": "text/x-python",
   "name": "python",
   "nbconvert_exporter": "python",
   "pygments_lexer": "ipython3",
   "version": "3.9.16"
  }
 },
 "nbformat": 4,
 "nbformat_minor": 2
}
