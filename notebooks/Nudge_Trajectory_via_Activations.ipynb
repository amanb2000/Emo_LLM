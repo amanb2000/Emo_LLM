{
 "cells": [
  {
   "cell_type": "markdown",
   "metadata": {},
   "source": [
    "# Nudge LLM Trajectories via Emotional Axes\n",
    "\n",
    "_See `notebooks/llm emotional control.pdf` for less abstract treatment._\n",
    "\n",
    "In this notebook we will demonstrate control over probabilities assigned to \n",
    "trajectories $t_i^+, t_i^-$ for $i\\in[N]$ from $t_i^+ \\sim P_{LM}(t_i^+ | x_0^+)$ \n",
    "and $t_i^- \\sim P_{LM}(t_i^- | x_0^-)$ i.i.d. \n",
    "\n",
    "**Experiment 1**: cache `key_value_plus`, `key_value_minus` from\n",
    "*`model(x_0_plus)`, `model(x_0_minus)` \n",
    "k"
   ]
  },
  {
   "cell_type": "code",
   "execution_count": 1,
   "metadata": {},
   "outputs": [],
   "source": [
    "import os\n",
    "import json\n",
    "import numpy as np\n",
    "import pandas as pd\n",
    "import matplotlib.pyplot as plt\n",
    "from tqdm import tqdm\n",
    "\n",
    "# gpt-2 model \n",
    "from transformers import GPT2LMHeadModel, GPT2Tokenizer\n",
    "from transformers import AutoTokenizer, AutoModelForCausalLM\n",
    "import torch"
   ]
  },
  {
   "cell_type": "code",
   "execution_count": 2,
   "metadata": {},
   "outputs": [
    {
     "name": "stderr",
     "output_type": "stream",
     "text": [
      "Special tokens have been added in the vocabulary, make sure the associated word embeddings are fine-tuned or trained.\n"
     ]
    },
    {
     "data": {
      "application/vnd.jupyter.widget-view+json": {
       "model_id": "a7dc24977d89460eb1e0f7a2605bff49",
       "version_major": 2,
       "version_minor": 0
      },
      "text/plain": [
       "Downloading shards:   0%|          | 0/4 [00:00<?, ?it/s]"
      ]
     },
     "metadata": {},
     "output_type": "display_data"
    },
    {
     "data": {
      "application/vnd.jupyter.widget-view+json": {
       "model_id": "738e864c7907435e801f25678cbb1a01",
       "version_major": 2,
       "version_minor": 0
      },
      "text/plain": [
       "Loading checkpoint shards:   0%|          | 0/4 [00:00<?, ?it/s]"
      ]
     },
     "metadata": {},
     "output_type": "display_data"
    },
    {
     "data": {
      "application/vnd.jupyter.widget-view+json": {
       "model_id": "2ea7f49392d248628397d1dbd6a0f195",
       "version_major": 2,
       "version_minor": 0
      },
      "text/plain": [
       "generation_config.json:   0%|          | 0.00/177 [00:00<?, ?B/s]"
      ]
     },
     "metadata": {},
     "output_type": "display_data"
    }
   ],
   "source": [
    "# Load the gpt-2 model \n",
    "# model_name = \"gpt2\"\n",
    "# tokenizer = GPT2Tokenizer.from_pretrained(model_name)\n",
    "# model = GPT2LMHeadModel.from_pretrained(model_name).to('cuda')\n",
    "\n",
    "model_name = \"meta-llama/Meta-Llama-3-8B\"\n",
    "tokenizer = AutoTokenizer.from_pretrained(model_name)\n",
    "model = AutoModelForCausalLM.from_pretrained(model_name).to('cuda')"
   ]
  },
  {
   "cell_type": "markdown",
   "metadata": {},
   "source": [
    "## 1: Compute `past_kv_plus`, `past_kv_minus`"
   ]
  },
  {
   "cell_type": "code",
   "execution_count": 3,
   "metadata": {},
   "outputs": [
    {
     "name": "stdout",
     "output_type": "stream",
     "text": [
      "x_0_plus_ids:  tensor([[128000,  62786,    574,   6380,     11,    779,   1364]],\n",
      "       device='cuda:0')\n",
      "x_0_minus_ids:  tensor([[128000,  62786,    574,  12703,     11,    779,   1364]],\n",
      "       device='cuda:0')\n",
      "x_0_plus:  <|begin_of_text|>Alice was happy, so she\n",
      "x_0_minus:  <|begin_of_text|>Alice was sad, so she\n"
     ]
    }
   ],
   "source": [
    "# define dataset \n",
    "x_0_plus = \"Alice was happy, so she\"\n",
    "x_0_minus = \"Alice was sad, so she\"\n",
    "\n",
    "# tokenize as pytorch tensors \n",
    "x_0_plus_ids = tokenizer.encode(x_0_plus, return_tensors='pt').to('cuda')\n",
    "x_0_minus_ids = tokenizer.encode(x_0_minus, return_tensors='pt').to('cuda')\n",
    "print(\"x_0_plus_ids: \", x_0_plus_ids)\n",
    "print(\"x_0_minus_ids: \", x_0_minus_ids)\n",
    "\n",
    "# ensure tokenizer can decode\n",
    "print(\"x_0_plus: \", tokenizer.decode(x_0_plus_ids[0]))\n",
    "print(\"x_0_minus: \", tokenizer.decode(x_0_minus_ids[0]))\n",
    "\n",
    "# retrieve past_kv_plus and past_kv_minus \n",
    "with torch.no_grad():\n",
    "    outputs = model(x_0_plus_ids, past_key_values=None)\n",
    "    past_kv_plus = outputs.past_key_values\n",
    "    outputs = model(x_0_minus_ids, past_key_values=None)\n",
    "    past_kv_minus = outputs.past_key_values"
   ]
  },
  {
   "cell_type": "code",
   "execution_count": 4,
   "metadata": {},
   "outputs": [
    {
     "name": "stdout",
     "output_type": "stream",
     "text": [
      "Decoded 128000: `<|begin_of_text|>`\n",
      "Decoded 62786: `Alice`\n",
      "Decoded 574: ` was`\n",
      "Decoded 6380: ` happy`\n",
      "Decoded 11: `,`\n",
      "Decoded 779: ` so`\n",
      "Decoded 1364: ` she`\n"
     ]
    }
   ],
   "source": [
    "# let's go through one token at a time: \n",
    "for i in range(x_0_plus_ids.shape[1]): \n",
    "    print(f\"Decoded {x_0_plus_ids[0, i]}: `{tokenizer.decode(x_0_plus_ids[0, i])}`\")"
   ]
  },
  {
   "cell_type": "markdown",
   "metadata": {},
   "source": [
    " - `past_kv_plus`, `past_kv_minus` are tuples of length `num_layer=12`. \n",
    " - `past_kv[l]` is a tuple of length 2 (key, values) for layer `l`\n",
    " - `past_kv[l][0]` are the keys for layer `l`, shape `[b, num_heads, ]\n"
   ]
  },
  {
   "cell_type": "code",
   "execution_count": 5,
   "metadata": {},
   "outputs": [
    {
     "name": "stdout",
     "output_type": "stream",
     "text": [
      "0th layer, keys shape:  torch.Size([1, 8, 7, 128])\n",
      "\tshape [batch, num_heads, seq_len, head_dim]\n",
      "0th layer, values shape:  torch.Size([1, 8, 7, 128])\n",
      "\tshape [batch, num_heads, seq_len, head_dim]\n"
     ]
    }
   ],
   "source": [
    "print(\"0th layer, keys shape: \", past_kv_plus[0][0].shape) \n",
    "print(f\"\\tshape [batch, num_heads, seq_len, head_dim]\")\n",
    "print(\"0th layer, values shape: \", past_kv_plus[0][1].shape)\n",
    "print(f\"\\tshape [batch, num_heads, seq_len, head_dim]\")\n"
   ]
  },
  {
   "cell_type": "code",
   "execution_count": 7,
   "metadata": {},
   "outputs": [],
   "source": [
    "# print(\"Number of heads in gpt2 attention: \", model.transformer.h[0].attn.num_heads)\n",
    "# print(\"Head dim in gpt2 attention: \", model.transformer.h[0].attn.head_dim)"
   ]
  },
  {
   "cell_type": "markdown",
   "metadata": {},
   "source": [
    "## 2: Sample trajectories $t_i^\\pm \\sim P_{LLM}(t_i^\\pm | \\text{past kv}^\\pm)$"
   ]
  },
  {
   "cell_type": "code",
   "execution_count": 8,
   "metadata": {},
   "outputs": [],
   "source": [
    "# Set the number of trajectories to sample\n",
    "num_trajectories = 20\n",
    "max_length = 50"
   ]
  },
  {
   "cell_type": "code",
   "execution_count": 9,
   "metadata": {},
   "outputs": [],
   "source": [
    "# Function to sample a trajectory given the model, tokenizer, prompt, and past_kv\n",
    "def sample_trajectory(model, tokenizer, past_kv, prompt_ids, max_length):\n",
    "    \"\"\" Samples t ~ P_{LLM}(t | past_kv + prompt_ids)\n",
    "    \"\"\"\n",
    "    # print(\"Prompt_ids shape: \", prompt_ids.shape)\n",
    "    # print(\"Past kv shape value 0: \", past_kv[0][0].shape)\n",
    "\n",
    "    num_past_toks = past_kv[0][0].shape[2]\n",
    "    attention_mask = torch.ones([1, prompt_ids.shape[1] + num_past_toks]).to(model.device)\n",
    "    # print(\"Attention mask shape: \", attention_mask.shape)\n",
    "\n",
    "    with torch.no_grad():\n",
    "        generated_ids = model.generate(\n",
    "            prompt_ids,\n",
    "            max_length=max_length,\n",
    "            no_repeat_ngram_size=3,\n",
    "            do_sample=True,\n",
    "            top_p=0.95,\n",
    "            top_k=100,\n",
    "            temperature=0.8,\n",
    "            attention_mask=attention_mask,\n",
    "            bad_words_ids=None,\n",
    "            past_key_values=past_kv\n",
    "        ).to('cuda')\n",
    "    \n",
    "    generated_text = tokenizer.decode(generated_ids[0], skip_special_tokens=True)\n",
    "    \n",
    "    return generated_text, generated_ids"
   ]
  },
  {
   "cell_type": "code",
   "execution_count": 10,
   "metadata": {},
   "outputs": [
    {
     "name": "stderr",
     "output_type": "stream",
     "text": [
      "Setting `pad_token_id` to `eos_token_id`:128001 for open-end generation.\n"
     ]
    },
    {
     "name": "stdout",
     "output_type": "stream",
     "text": [
      "[Trajectory plus: ]  did not know she was poor.\n",
      "She was happy, so she did not notice that she was sick.\n",
      "She had always had a way to make the world a better place.\n",
      "She helped by being a nurse.\n",
      "She cared for many people who were\n",
      "\n",
      "Number of tokens in trajectory:  torch.Size([1, 50])\n"
     ]
    }
   ],
   "source": [
    "# test the sample trajectory function \n",
    "prompt = \" did\"\n",
    "prompt_ids = tokenizer.encode(prompt, return_tensors='pt').to('cuda')\n",
    "\n",
    "# t_plus_str is a string, t_plus_ids is a tensor of shape [1, traj_len], including the extra `prompt`\n",
    "t_plus_str, t_plus_ids = sample_trajectory(model, tokenizer, past_kv_plus, prompt_ids, max_length)\n",
    "print(\"[Trajectory plus: ]\", t_plus_str)\n",
    "print(\"\\nNumber of tokens in trajectory: \", t_plus_ids.shape)"
   ]
  },
  {
   "cell_type": "code",
   "execution_count": 11,
   "metadata": {},
   "outputs": [
    {
     "name": "stderr",
     "output_type": "stream",
     "text": [
      "Sampling x_0_plus trajectories:   0%|          | 0/20 [00:00<?, ?it/s]Setting `pad_token_id` to `eos_token_id`:128001 for open-end generation.\n",
      "Sampling x_0_plus trajectories:   5%|▌         | 1/20 [00:01<00:23,  1.26s/it]Setting `pad_token_id` to `eos_token_id`:128001 for open-end generation.\n",
      "Sampling x_0_plus trajectories:  10%|█         | 2/20 [00:02<00:22,  1.26s/it]Setting `pad_token_id` to `eos_token_id`:128001 for open-end generation.\n",
      "Sampling x_0_plus trajectories:  15%|█▌        | 3/20 [00:03<00:21,  1.27s/it]Setting `pad_token_id` to `eos_token_id`:128001 for open-end generation.\n",
      "Sampling x_0_plus trajectories:  20%|██        | 4/20 [00:05<00:20,  1.26s/it]Setting `pad_token_id` to `eos_token_id`:128001 for open-end generation.\n",
      "Sampling x_0_plus trajectories:  25%|██▌       | 5/20 [00:06<00:18,  1.22s/it]Setting `pad_token_id` to `eos_token_id`:128001 for open-end generation.\n",
      "Sampling x_0_plus trajectories:  30%|███       | 6/20 [00:07<00:17,  1.24s/it]Setting `pad_token_id` to `eos_token_id`:128001 for open-end generation.\n",
      "Sampling x_0_plus trajectories:  35%|███▌      | 7/20 [00:08<00:16,  1.24s/it]Setting `pad_token_id` to `eos_token_id`:128001 for open-end generation.\n",
      "Sampling x_0_plus trajectories:  40%|████      | 8/20 [00:09<00:14,  1.24s/it]Setting `pad_token_id` to `eos_token_id`:128001 for open-end generation.\n",
      "Sampling x_0_plus trajectories:  45%|████▌     | 9/20 [00:11<00:13,  1.26s/it]Setting `pad_token_id` to `eos_token_id`:128001 for open-end generation.\n",
      "Sampling x_0_plus trajectories:  50%|█████     | 10/20 [00:12<00:12,  1.28s/it]Setting `pad_token_id` to `eos_token_id`:128001 for open-end generation.\n",
      "Sampling x_0_plus trajectories:  55%|█████▌    | 11/20 [00:13<00:10,  1.20s/it]Setting `pad_token_id` to `eos_token_id`:128001 for open-end generation.\n",
      "Sampling x_0_plus trajectories:  60%|██████    | 12/20 [00:14<00:09,  1.23s/it]Setting `pad_token_id` to `eos_token_id`:128001 for open-end generation.\n",
      "Sampling x_0_plus trajectories:  65%|██████▌   | 13/20 [00:16<00:08,  1.24s/it]Setting `pad_token_id` to `eos_token_id`:128001 for open-end generation.\n",
      "Sampling x_0_plus trajectories:  70%|███████   | 14/20 [00:17<00:07,  1.25s/it]Setting `pad_token_id` to `eos_token_id`:128001 for open-end generation.\n",
      "Sampling x_0_plus trajectories:  75%|███████▌  | 15/20 [00:18<00:06,  1.26s/it]Setting `pad_token_id` to `eos_token_id`:128001 for open-end generation.\n",
      "Sampling x_0_plus trajectories:  80%|████████  | 16/20 [00:19<00:05,  1.26s/it]Setting `pad_token_id` to `eos_token_id`:128001 for open-end generation.\n",
      "Sampling x_0_plus trajectories:  85%|████████▌ | 17/20 [00:21<00:03,  1.26s/it]Setting `pad_token_id` to `eos_token_id`:128001 for open-end generation.\n",
      "Sampling x_0_plus trajectories:  90%|█████████ | 18/20 [00:22<00:02,  1.27s/it]Setting `pad_token_id` to `eos_token_id`:128001 for open-end generation.\n",
      "Sampling x_0_plus trajectories:  95%|█████████▌| 19/20 [00:23<00:01,  1.27s/it]Setting `pad_token_id` to `eos_token_id`:128001 for open-end generation.\n",
      "Sampling x_0_plus trajectories: 100%|██████████| 20/20 [00:25<00:00,  1.25s/it]\n",
      "Sampling x_0_minus trajectories:   0%|          | 0/20 [00:00<?, ?it/s]Setting `pad_token_id` to `eos_token_id`:128001 for open-end generation.\n",
      "Sampling x_0_minus trajectories:   5%|▌         | 1/20 [00:01<00:24,  1.27s/it]Setting `pad_token_id` to `eos_token_id`:128001 for open-end generation.\n",
      "Sampling x_0_minus trajectories:  10%|█         | 2/20 [00:01<00:14,  1.24it/s]Setting `pad_token_id` to `eos_token_id`:128001 for open-end generation.\n",
      "Sampling x_0_minus trajectories:  15%|█▌        | 3/20 [00:03<00:17,  1.03s/it]Setting `pad_token_id` to `eos_token_id`:128001 for open-end generation.\n",
      "Sampling x_0_minus trajectories:  20%|██        | 4/20 [00:04<00:18,  1.14s/it]Setting `pad_token_id` to `eos_token_id`:128001 for open-end generation.\n",
      "Sampling x_0_minus trajectories:  25%|██▌       | 5/20 [00:05<00:18,  1.20s/it]Setting `pad_token_id` to `eos_token_id`:128001 for open-end generation.\n",
      "Sampling x_0_minus trajectories:  30%|███       | 6/20 [00:06<00:17,  1.24s/it]Setting `pad_token_id` to `eos_token_id`:128001 for open-end generation.\n",
      "Sampling x_0_minus trajectories:  35%|███▌      | 7/20 [00:08<00:16,  1.26s/it]Setting `pad_token_id` to `eos_token_id`:128001 for open-end generation.\n",
      "Sampling x_0_minus trajectories:  40%|████      | 8/20 [00:09<00:15,  1.26s/it]Setting `pad_token_id` to `eos_token_id`:128001 for open-end generation.\n",
      "Sampling x_0_minus trajectories:  45%|████▌     | 9/20 [00:09<00:10,  1.07it/s]Setting `pad_token_id` to `eos_token_id`:128001 for open-end generation.\n",
      "Sampling x_0_minus trajectories:  50%|█████     | 10/20 [00:11<00:10,  1.04s/it]Setting `pad_token_id` to `eos_token_id`:128001 for open-end generation.\n",
      "Sampling x_0_minus trajectories:  55%|█████▌    | 11/20 [00:12<00:09,  1.09s/it]Setting `pad_token_id` to `eos_token_id`:128001 for open-end generation.\n",
      "Sampling x_0_minus trajectories:  60%|██████    | 12/20 [00:13<00:09,  1.15s/it]Setting `pad_token_id` to `eos_token_id`:128001 for open-end generation.\n",
      "Sampling x_0_minus trajectories:  65%|██████▌   | 13/20 [00:14<00:08,  1.19s/it]Setting `pad_token_id` to `eos_token_id`:128001 for open-end generation.\n",
      "Sampling x_0_minus trajectories:  70%|███████   | 14/20 [00:16<00:07,  1.21s/it]Setting `pad_token_id` to `eos_token_id`:128001 for open-end generation.\n",
      "Sampling x_0_minus trajectories:  75%|███████▌  | 15/20 [00:17<00:06,  1.23s/it]Setting `pad_token_id` to `eos_token_id`:128001 for open-end generation.\n",
      "Sampling x_0_minus trajectories:  80%|████████  | 16/20 [00:18<00:04,  1.25s/it]Setting `pad_token_id` to `eos_token_id`:128001 for open-end generation.\n",
      "Sampling x_0_minus trajectories:  85%|████████▌ | 17/20 [00:19<00:03,  1.26s/it]Setting `pad_token_id` to `eos_token_id`:128001 for open-end generation.\n",
      "Sampling x_0_minus trajectories:  90%|█████████ | 18/20 [00:21<00:02,  1.27s/it]Setting `pad_token_id` to `eos_token_id`:128001 for open-end generation.\n",
      "Sampling x_0_minus trajectories:  95%|█████████▌| 19/20 [00:22<00:01,  1.28s/it]Setting `pad_token_id` to `eos_token_id`:128001 for open-end generation.\n",
      "Sampling x_0_minus trajectories: 100%|██████████| 20/20 [00:23<00:00,  1.19s/it]\n"
     ]
    }
   ],
   "source": [
    "# Sample trajectories for x_0_plus\n",
    "prompt = \" did\"\n",
    "prompt_ids = tokenizer.encode(prompt, return_tensors='pt').to('cuda')\n",
    "\n",
    "trajectories_plus = []\n",
    "for _ in tqdm(range(num_trajectories), desc=\"Sampling x_0_plus trajectories\"):\n",
    "    t_plus_str, t_plus_ids = sample_trajectory(model, tokenizer, past_kv_plus, prompt_ids, max_length)\n",
    "    trajectories_plus.append({'str': t_plus_str, 'ids': t_plus_ids})\n",
    "\n",
    "# Sample trajectories for x_0_minus\n",
    "trajectories_minus = []\n",
    "for _ in tqdm(range(num_trajectories), desc=\"Sampling x_0_minus trajectories\"):\n",
    "    t_minus_str, t_minus_ids = sample_trajectory(model, tokenizer, past_kv_minus, prompt_ids, max_length)\n",
    "    trajectories_minus.append({'str': t_minus_str, 'ids': t_minus_ids})\n"
   ]
  },
  {
   "cell_type": "code",
   "execution_count": 12,
   "metadata": {},
   "outputs": [
    {
     "name": "stdout",
     "output_type": "stream",
     "text": [
      "[50, 50, 50, 50, 45, 50, 49, 50, 50, 50, 39, 50, 50, 50, 50, 50, 50, 50, 50, 50]\n",
      "[50, 20, 50, 50, 50, 50, 50, 50, 10, 50, 48, 50, 50, 50, 50, 50, 50, 50, 50, 47]\n",
      "\n",
      "t_plus length:  16\n",
      "t_minus length:  16\n"
     ]
    }
   ],
   "source": [
    "t_plus_lens = [t['ids'].shape[1] for t in trajectories_plus]\n",
    "t_minus_lens = [t['ids'].shape[1] for t in trajectories_minus]\n",
    "\n",
    "print(t_plus_lens)\n",
    "print(t_minus_lens)\n",
    "\n",
    "# keep only those trajectories that are = max_length\n",
    "trajectories_plus = [t for t in trajectories_plus if t['ids'].shape[1] == max_length]\n",
    "trajectories_minus = [t for t in trajectories_minus if t['ids'].shape[1] == max_length]\n",
    "\n",
    "# ensure both are of the same length \n",
    "if len(trajectories_plus) > len(trajectories_minus):\n",
    "    trajectories_plus = trajectories_plus[:len(trajectories_minus)]\n",
    "else:\n",
    "    trajectories_minus = trajectories_minus[:len(trajectories_plus)]\n",
    "\n",
    "print(\"\\nt_plus length: \", len(trajectories_plus))\n",
    "print(\"t_minus length: \", len(trajectories_minus))"
   ]
  },
  {
   "cell_type": "code",
   "execution_count": 13,
   "metadata": {},
   "outputs": [],
   "source": [
    "# trajectories_plus[0]['str']"
   ]
  },
  {
   "cell_type": "code",
   "execution_count": 14,
   "metadata": {},
   "outputs": [],
   "source": [
    "# past_kv_plus[0][0].shape"
   ]
  },
  {
   "cell_type": "code",
   "execution_count": 15,
   "metadata": {},
   "outputs": [],
   "source": [
    "# trajectories_plus[0]['ids'].shape"
   ]
  },
  {
   "cell_type": "markdown",
   "metadata": {},
   "source": [
    "## 2.5: Computing Trajectory $t_i^\\pm$ Probabilities given $x_0^\\pm$"
   ]
  },
  {
   "cell_type": "code",
   "execution_count": 16,
   "metadata": {},
   "outputs": [],
   "source": [
    "# now let's compute the probability of each trajectory given each prompt \n",
    "def get_traj_prob(traj_ids, past_kv, model): \n",
    "    \"\"\" Computes the probability of a trajectory given the past_kv. \n",
    "    \"\"\"\n",
    "    num_kv_toks = past_kv[0][0].shape[2]\n",
    "    num_traj_toks = traj_ids.shape[1]\n",
    "\n",
    "    labels = traj_ids \n",
    "    attention_mask = torch.ones([1, num_kv_toks + num_traj_toks]).to(model.device)\n",
    "\n",
    "    with torch.no_grad():\n",
    "        outputs = model(traj_ids, past_key_values=past_kv, labels=labels, attention_mask=attention_mask)\n",
    "        loss = outputs.loss\n",
    "        log_prob = -loss\n",
    "    \n",
    "    return log_prob.item()"
   ]
  },
  {
   "cell_type": "code",
   "execution_count": 17,
   "metadata": {},
   "outputs": [
    {
     "name": "stdout",
     "output_type": "stream",
     "text": [
      "Trajectory log probability:  -2.3070437908172607\n"
     ]
    }
   ],
   "source": [
    "# test get_traj_prob function \n",
    "traj_prob = get_traj_prob(trajectories_minus[0]['ids'], past_kv_plus, model)\n",
    "print(\"Trajectory log probability: \", traj_prob)"
   ]
  },
  {
   "cell_type": "markdown",
   "metadata": {},
   "source": [
    "No we can compute the log probability of each trajectory given its corresponding \n",
    "past_kv +/-"
   ]
  },
  {
   "cell_type": "code",
   "execution_count": 18,
   "metadata": {},
   "outputs": [
    {
     "name": "stderr",
     "output_type": "stream",
     "text": [
      "Computing log probs for x_0_plus trajectories: 100%|██████████| 16/16 [00:01<00:00, 12.48it/s]\n",
      "Computing log probs for x_0_minus trajectories: 100%|██████████| 16/16 [00:01<00:00, 12.84it/s]\n",
      "Computing log probs for x_0_plus trajectories_minus: 100%|██████████| 16/16 [00:01<00:00, 12.85it/s]\n",
      "Computing log probs for x_0_minus trajectories_plus: 100%|██████████| 16/16 [00:01<00:00, 12.84it/s]\n"
     ]
    }
   ],
   "source": [
    "# Compute log probabilities for x_0_plus trajectories\n",
    "for trajectory in tqdm(trajectories_plus, desc=\"Computing log probs for x_0_plus trajectories\"):\n",
    "    log_prob = get_traj_prob(trajectory['ids'], past_kv_plus, model)\n",
    "    trajectory['log_prob'] = log_prob\n",
    "\n",
    "# Compute log probabilities for x_0_minus trajectories\n",
    "for trajectory in tqdm(trajectories_minus, desc=\"Computing log probs for x_0_minus trajectories\"):\n",
    "    log_prob = get_traj_prob(trajectory['ids'], past_kv_minus, model)\n",
    "    trajectory['log_prob'] = log_prob\n",
    "\n",
    "# add a field (log_prob_other) for log P(t_plus | x_0_minus) and log P(t_minus | x_0_plus) \n",
    "for trajectory in tqdm(trajectories_plus, desc=\"Computing log probs for x_0_plus trajectories_minus\"):\n",
    "    log_prob_other = get_traj_prob(trajectory['ids'], past_kv_minus, model)\n",
    "    trajectory['log_prob_given_other'] = log_prob_other\n",
    "\n",
    "for trajectory in tqdm(trajectories_minus, desc=\"Computing log probs for x_0_minus trajectories_plus\"):\n",
    "    log_prob_other = get_traj_prob(trajectory['ids'], past_kv_plus, model)\n",
    "    trajectory['log_prob_given_other'] = log_prob_other"
   ]
  },
  {
   "cell_type": "code",
   "execution_count": 19,
   "metadata": {},
   "outputs": [
    {
     "data": {
      "image/png": "[encoded data removed]",
      "text/plain": [
       "<Figure size 1000x500 with 1 Axes>"
      ]
     },
     "metadata": {},
     "output_type": "display_data"
    }
   ],
   "source": [
    "mean_log_prob_plus = np.mean([t['log_prob'] for t in trajectories_plus])\n",
    "mean_log_prob_minus = np.mean([t['log_prob'] for t in trajectories_minus])\n",
    "\n",
    "mean_log_prob_plus_given_other = np.mean([t['log_prob_given_other'] for t in trajectories_plus])\n",
    "mean_log_prob_minus_given_other = np.mean([t['log_prob_given_other'] for t in trajectories_minus])\n",
    "\n",
    "# bar chart \n",
    "plt.figure(figsize=(10, 5))\n",
    "plt.bar(['t+ | x+', 't+ | x-', 't- | x-', 't- | x+'], [mean_log_prob_plus, mean_log_prob_plus_given_other, mean_log_prob_minus, mean_log_prob_minus_given_other], color=['blue', 'red', 'blue', 'red'])\n",
    "# colors \n",
    "# adjust y axis range\n",
    "# plt.ylim([-2.5, -2.0])\n",
    "plt.ylabel('Mean log probability')\n",
    "plt.title('Mean log probability of sampled trajectories')\n",
    "plt.show()\n"
   ]
  },
  {
   "cell_type": "markdown",
   "metadata": {},
   "source": [
    "## 3: Generating $\\text{past kv}^\\lambda$"
   ]
  },
  {
   "cell_type": "code",
   "execution_count": 20,
   "metadata": {},
   "outputs": [
    {
     "name": "stdout",
     "output_type": "stream",
     "text": [
      "Length of past_kv_lambda: 32\n",
      "Shape of past_kv_lambda[0][0]: torch.Size([1, 8, 7, 128])\n",
      "Shape of past_kv_lambda[0][1]: torch.Size([1, 8, 7, 128])\n"
     ]
    }
   ],
   "source": [
    "# generate a bunch of lambda values between 0 and 1 (np linspace or something)\n",
    "lambdas = np.linspace(0, 1, 25)\n",
    "\n",
    "# function to create past_kv_lambda = (1-lambda) past_kv_min + lambda past_kv_plus\n",
    "# recall that past_kv are tuples of length 12 (12 layers)\n",
    "# each past_kv[i] is a tuple of length 2 (key, value)\n",
    "# each key, value is a tensor of shape [1, num_heads, seq_len, head_dim]\n",
    "\n",
    "# Function to create past_kv_lambda\n",
    "def create_past_kv_lambda(past_kv_plus, past_kv_minus, lambda_val):\n",
    "    past_kv_lambda = []\n",
    "    for layer_past_kv_plus, layer_past_kv_minus in zip(past_kv_plus, past_kv_minus):\n",
    "        layer_past_kv_lambda = []\n",
    "        for key_plus, value_plus, key_minus, value_minus in zip(layer_past_kv_plus[0], layer_past_kv_plus[1], layer_past_kv_minus[0], layer_past_kv_minus[1]):\n",
    "            key_lambda = (1 - lambda_val) * key_minus + lambda_val * key_plus\n",
    "            value_lambda = (1 - lambda_val) * value_minus + lambda_val * value_plus\n",
    "            # add a leading batch dimension to both \n",
    "            key_lambda = key_lambda.unsqueeze(0)\n",
    "            value_lambda = value_lambda.unsqueeze(0)\n",
    "            layer_past_kv_lambda.append((key_lambda, value_lambda))\n",
    "        past_kv_lambda.append(tuple(*layer_past_kv_lambda))\n",
    "    return tuple(past_kv_lambda)\n",
    "\n",
    "# Test the create_past_kv_lambda function\n",
    "lambda_val = 0.5\n",
    "past_kv_lambda = create_past_kv_lambda(past_kv_plus, past_kv_minus, lambda_val)\n",
    "print(f\"Length of past_kv_lambda: {len(past_kv_lambda)}\")\n",
    "print(f\"Shape of past_kv_lambda[0][0]: {past_kv_lambda[0][0].shape}\")\n",
    "print(f\"Shape of past_kv_lambda[0][1]: {past_kv_lambda[0][1].shape}\")"
   ]
  },
  {
   "cell_type": "code",
   "execution_count": 21,
   "metadata": {},
   "outputs": [
    {
     "data": {
      "text/plain": [
       "torch.Size([1, 8, 7, 128])"
      ]
     },
     "execution_count": 21,
     "metadata": {},
     "output_type": "execute_result"
    }
   ],
   "source": [
    "past_kv_plus[0][0].shape"
   ]
  },
  {
   "cell_type": "markdown",
   "metadata": {},
   "source": [
    "## 4: $P(t_i^\\pm | \\text{past kv}^\\lambda)$ for $\\lambda = 0, \\dots, 1$"
   ]
  },
  {
   "cell_type": "code",
   "execution_count": 22,
   "metadata": {},
   "outputs": [
    {
     "name": "stderr",
     "output_type": "stream",
     "text": [
      "Computing log probs for lambdas: 100%|██████████| 25/25 [01:02<00:00,  2.48s/it]\n"
     ]
    }
   ],
   "source": [
    "# Compute log probabilities for each trajectory and each lambda value\n",
    "for lambda_val in tqdm(lambdas, desc=\"Computing log probs for lambdas\"):\n",
    "    past_kv_lambda = create_past_kv_lambda(past_kv_plus, past_kv_minus, lambda_val)\n",
    "    \n",
    "    for trajectory in trajectories_plus:\n",
    "        log_prob = get_traj_prob(trajectory['ids'], past_kv_lambda, model)\n",
    "        if 'log_probs' not in trajectory:\n",
    "            trajectory['log_probs'] = {}\n",
    "        trajectory['log_probs'][lambda_val] = log_prob\n",
    "    \n",
    "    for trajectory in trajectories_minus:\n",
    "        log_prob = get_traj_prob(trajectory['ids'], past_kv_lambda, model)\n",
    "        if 'log_probs' not in trajectory:\n",
    "            trajectory['log_probs'] = {}\n",
    "        trajectory['log_probs'][lambda_val] = log_prob\n",
    "\n",
    "# Print the log probabilities for each trajectory and each lambda value\n",
    "# print(\"Log probabilities for x_0_plus trajectories:\")\n",
    "# for i, trajectory in enumerate(trajectories_plus, 1):\n",
    "#     print(f\"Trajectory {i}: {trajectory['str']}\")\n",
    "#     for lambda_val, log_prob in trajectory['log_probs'].items():\n",
    "#         print(f\"  Lambda {lambda_val:.2f}: {log_prob:.4f}\")\n",
    "#     print()\n",
    "\n",
    "# print(\"\\nLog probabilities for x_0_minus trajectories:\")\n",
    "# for i, trajectory in enumerate(trajectories_minus, 1):\n",
    "#     print(f\"Trajectory {i}: {trajectory['str']}\")\n",
    "#     for lambda_val, log_prob in trajectory['log_probs'].items():\n",
    "#         print(f\"  Lambda {lambda_val:.2f}: {log_prob:.4f}\")\n",
    "#     print()"
   ]
  },
  {
   "cell_type": "code",
   "execution_count": 22,
   "metadata": {},
   "outputs": [],
   "source": [
    "# lambdas"
   ]
  },
  {
   "cell_type": "code",
   "execution_count": 23,
   "metadata": {},
   "outputs": [],
   "source": [
    "# trajectory['log_probs'][lambdas[1]]"
   ]
  },
  {
   "cell_type": "code",
   "execution_count": 24,
   "metadata": {},
   "outputs": [],
   "source": [
    "# trajectory['log_probs']"
   ]
  },
  {
   "cell_type": "code",
   "execution_count": 25,
   "metadata": {},
   "outputs": [],
   "source": [
    "# sum(log_probs_plus) / len(log_probs_plus)"
   ]
  },
  {
   "cell_type": "code",
   "execution_count": 26,
   "metadata": {},
   "outputs": [],
   "source": [
    "# mean_log_probs_plus"
   ]
  },
  {
   "cell_type": "code",
   "execution_count": 27,
   "metadata": {},
   "outputs": [
    {
     "data": {
      "image/png": "[encoded data removed]",
      "text/plain": [
       "<Figure size 800x600 with 1 Axes>"
      ]
     },
     "metadata": {},
     "output_type": "display_data"
    }
   ],
   "source": [
    "import matplotlib.pyplot as plt\n",
    "\n",
    "# Compute the mean log probabilities for each lambda value\n",
    "mean_log_probs_plus = {}\n",
    "mean_log_probs_minus = {}\n",
    "\n",
    "for lambda_val in lambdas:\n",
    "    log_probs_plus = [trajectory['log_probs'][lambda_val] for trajectory in trajectories_plus]\n",
    "    log_probs_minus = [trajectory['log_probs'][lambda_val] for trajectory in trajectories_minus]\n",
    "    \n",
    "    mean_log_probs_plus[lambda_val] = sum(log_probs_plus) / len(log_probs_plus)\n",
    "    mean_log_probs_minus[lambda_val] = sum(log_probs_minus) / len(log_probs_minus)\n",
    "\n",
    "# Convert the mean log probabilities to mean probabilities\n",
    "# mean_probs_plus = {lambda_val: np.exp(log_prob) for lambda_val, log_prob in mean_log_probs_plus.items()}\n",
    "# mean_probs_minus = {lambda_val: np.exp(log_prob) for lambda_val, log_prob in mean_log_probs_minus.items()}\n",
    "\n",
    "# keep mean log probabilities as log probabilities\n",
    "mean_probs_plus = {lambda_val: log_prob for lambda_val, log_prob in mean_log_probs_plus.items()}\n",
    "mean_probs_minus = {lambda_val: log_prob for lambda_val, log_prob in mean_log_probs_minus.items()}\n",
    "\n",
    "# Plot the mean probabilities as a function of lambda\n",
    "plt.figure(figsize=(8, 6))\n",
    "plt.plot(list(mean_probs_plus.keys()), list(mean_probs_plus.values()), marker='o', label='Positive Trajectories')\n",
    "plt.plot(list(mean_probs_minus.keys()), list(mean_probs_minus.values()), marker='o', label='Negative Trajectories')\n",
    "plt.xlabel('Lambda')\n",
    "plt.ylabel('Mean Probability')\n",
    "plt.title('Mean Probability of Trajectories as a Function of Lambda')\n",
    "plt.legend()\n",
    "plt.grid(True)\n",
    "plt.show()"
   ]
  },
  {
   "cell_type": "markdown",
   "metadata": {},
   "source": [
    "where $\\lambda = 1$ corresponds to $\\text{past kv}^+$, and conversely $\\lambda = 0 \\to  \\text{past kv}^-$, "
   ]
  },
  {
   "cell_type": "markdown",
   "metadata": {},
   "source": [
    "## "
   ]
  },
  {
   "cell_type": "code",
   "execution_count": null,
   "metadata": {},
   "outputs": [],
   "source": []
  }
 ],
 "metadata": {
  "kernelspec": {
   "display_name": "venv",
   "language": "python",
   "name": "python3"
  },
  "language_info": {
   "codemirror_mode": {
    "name": "ipython",
    "version": 3
   },
   "file_extension": ".py",
   "mimetype": "text/x-python",
   "name": "python",
   "nbconvert_exporter": "python",
   "pygments_lexer": "ipython3",
   "version": "3.9.16"
  }
 },
 "nbformat": 4,
 "nbformat_minor": 2
}
