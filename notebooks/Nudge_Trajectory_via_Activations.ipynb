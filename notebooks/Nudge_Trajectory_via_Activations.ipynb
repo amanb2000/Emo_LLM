{
 "cells": [
  {
   "cell_type": "markdown",
   "metadata": {},
   "source": [
    "# Nudge LLM Trajectories via Emotional Axes\n",
    "\n",
    "_See `notebooks/llm emotional control.pdf` for less abstract treatment._\n",
    "\n",
    "In this notebook we will demonstrate control over probabilities assigned to \n",
    "trajectories $t_i^+, t_i^-$ for $i\\in[N]$ from $t_i^+ \\sim P_{LM}(t_i^+ | x_0^+)$ \n",
    "and $t_i^- \\sim P_{LM}(t_i^- | x_0^-)$ i.i.d. \n",
    "\n",
    "**Experiment 1**: cache `key_value_plus`, `key_value_minus` from\n",
    "*`model(x_0_plus)`, `model(x_0_minus)` \n",
    "k"
   ]
  },
  {
   "cell_type": "code",
   "execution_count": 35,
   "metadata": {},
   "outputs": [],
   "source": [
    "import os\n",
    "import json\n",
    "import numpy as np\n",
    "import pandas as pd\n",
    "import matplotlib.pyplot as plt\n",
    "from tqdm import tqdm\n",
    "\n",
    "# gpt-2 model \n",
    "from transformers import GPT2LMHeadModel, GPT2Tokenizer\n",
    "from transformers import AutoTokenizer, AutoModelForCausalLM\n",
    "import torch"
   ]
  },
  {
   "cell_type": "code",
   "execution_count": 36,
   "metadata": {},
   "outputs": [],
   "source": [
    "# Load the gpt-2 model \n",
    "model_name = \"gpt2\"\n",
    "tokenizer = GPT2Tokenizer.from_pretrained(model_name)\n",
    "model = GPT2LMHeadModel.from_pretrained(model_name).to('cuda')\n",
    "\n",
    "# model_name = \"meta-llama/Meta-Llama-3-8B-Instruct\"\n",
    "# tokenizer = AutoTokenizer.from_pretrained(model_name)\n",
    "# model = AutoModelForCausalLM.from_pretrained(model_name).to('cuda')"
   ]
  },
  {
   "cell_type": "markdown",
   "metadata": {},
   "source": [
    "## 1: Compute `past_kv_plus`, `past_kv_minus`"
   ]
  },
  {
   "cell_type": "code",
   "execution_count": 37,
   "metadata": {},
   "outputs": [
    {
     "name": "stdout",
     "output_type": "stream",
     "text": [
      "x_0_plus_ids:  tensor([[18861,   373,  4457,  3772,    11,  4361,  5811]], device='cuda:0')\n",
      "x_0_minus_ids:  tensor([[18861,   373,  4457,  6507,    11,  4361,  5811]], device='cuda:0')\n",
      "x_0_plus:  Bob was extremely happy, therefore Bob\n",
      "x_0_minus:  Bob was extremely sad, therefore Bob\n"
     ]
    }
   ],
   "source": [
    "# define dataset \n",
    "x_0_plus = \"Bob was extremely happy, therefore Bob\"\n",
    "x_0_minus = \"Bob was extremely sad, therefore Bob\"\n",
    "\n",
    "# tokenize as pytorch tensors \n",
    "x_0_plus_ids = tokenizer.encode(x_0_plus, return_tensors='pt').to('cuda')\n",
    "x_0_minus_ids = tokenizer.encode(x_0_minus, return_tensors='pt').to('cuda')\n",
    "print(\"x_0_plus_ids: \", x_0_plus_ids)\n",
    "print(\"x_0_minus_ids: \", x_0_minus_ids)\n",
    "\n",
    "# ensure tokenizer can decode\n",
    "print(\"x_0_plus: \", tokenizer.decode(x_0_plus_ids[0]))\n",
    "print(\"x_0_minus: \", tokenizer.decode(x_0_minus_ids[0]))\n",
    "\n",
    "# retrieve past_kv_plus and past_kv_minus \n",
    "with torch.no_grad():\n",
    "    outputs = model(x_0_plus_ids, past_key_values=None)\n",
    "    past_kv_plus = outputs.past_key_values\n",
    "    outputs = model(x_0_minus_ids, past_key_values=None)\n",
    "    past_kv_minus = outputs.past_key_values"
   ]
  },
  {
   "cell_type": "code",
   "execution_count": 38,
   "metadata": {},
   "outputs": [
    {
     "name": "stdout",
     "output_type": "stream",
     "text": [
      "Decoded 18861: `Bob`\n",
      "Decoded 373: ` was`\n",
      "Decoded 4457: ` extremely`\n",
      "Decoded 3772: ` happy`\n",
      "Decoded 11: `,`\n",
      "Decoded 4361: ` therefore`\n",
      "Decoded 5811: ` Bob`\n"
     ]
    }
   ],
   "source": [
    "# let's go through one token at a time: \n",
    "for i in range(x_0_plus_ids.shape[1]): \n",
    "    print(f\"Decoded {x_0_plus_ids[0, i]}: `{tokenizer.decode(x_0_plus_ids[0, i])}`\")"
   ]
  },
  {
   "cell_type": "markdown",
   "metadata": {},
   "source": [
    " - `past_kv_plus`, `past_kv_minus` are tuples of length `num_layer=12`. \n",
    " - `past_kv[l]` is a tuple of length 2 (key, values) for layer `l`\n",
    " - `past_kv[l][0]` are the keys for layer `l`, shape `[b, num_heads, ]\n"
   ]
  },
  {
   "cell_type": "code",
   "execution_count": 39,
   "metadata": {},
   "outputs": [
    {
     "name": "stdout",
     "output_type": "stream",
     "text": [
      "0th layer, keys shape:  torch.Size([1, 12, 7, 64])\n",
      "\tshape [batch, num_heads, seq_len, head_dim]\n",
      "0th layer, values shape:  torch.Size([1, 12, 7, 64])\n",
      "\tshape [batch, num_heads, seq_len, head_dim]\n"
     ]
    }
   ],
   "source": [
    "print(\"0th layer, keys shape: \", past_kv_plus[0][0].shape) \n",
    "print(f\"\\tshape [batch, num_heads, seq_len, head_dim]\")\n",
    "print(\"0th layer, values shape: \", past_kv_plus[0][1].shape)\n",
    "print(f\"\\tshape [batch, num_heads, seq_len, head_dim]\")\n"
   ]
  },
  {
   "cell_type": "code",
   "execution_count": 40,
   "metadata": {},
   "outputs": [],
   "source": [
    "# print(\"Number of heads in gpt2 attention: \", model.transformer.h[0].attn.num_heads)\n",
    "# print(\"Head dim in gpt2 attention: \", model.transformer.h[0].attn.head_dim)"
   ]
  },
  {
   "cell_type": "markdown",
   "metadata": {},
   "source": [
    "## 2: Sample trajectories $t_i^\\pm \\sim P_{LLM}(t_i^\\pm | \\text{past kv}^\\pm)$"
   ]
  },
  {
   "cell_type": "code",
   "execution_count": 41,
   "metadata": {},
   "outputs": [],
   "source": [
    "# Set the number of trajectories to sample\n",
    "num_trajectories = 200\n",
    "max_length = 100"
   ]
  },
  {
   "cell_type": "code",
   "execution_count": 42,
   "metadata": {},
   "outputs": [],
   "source": [
    "# Function to sample a trajectory given the model, tokenizer, prompt, and past_kv\n",
    "def sample_trajectory(model, tokenizer, past_kv, prompt_ids, max_length):\n",
    "    \"\"\" Samples t ~ P_{LLM}(t | past_kv + prompt_ids)\n",
    "    \"\"\"\n",
    "    # print(\"Prompt_ids shape: \", prompt_ids.shape)\n",
    "    # print(\"Past kv shape value 0: \", past_kv[0][0].shape)\n",
    "\n",
    "    num_past_toks = past_kv[0][0].shape[2]\n",
    "    attention_mask = torch.ones([1, prompt_ids.shape[1] + num_past_toks]).to(model.device)\n",
    "    # print(\"Attention mask shape: \", attention_mask.shape)\n",
    "\n",
    "    with torch.no_grad():\n",
    "        generated_ids = model.generate(\n",
    "            prompt_ids,\n",
    "            max_length=max_length,\n",
    "            no_repeat_ngram_size=3,\n",
    "            do_sample=True,\n",
    "            top_p=0.95,\n",
    "            top_k=100,\n",
    "            temperature=0.8,\n",
    "            attention_mask=attention_mask,\n",
    "            bad_words_ids=None,\n",
    "            past_key_values=past_kv\n",
    "        ).to('cuda')\n",
    "    \n",
    "    generated_text = tokenizer.decode(generated_ids[0], skip_special_tokens=True)\n",
    "    \n",
    "    return generated_text, generated_ids"
   ]
  },
  {
   "cell_type": "code",
   "execution_count": 43,
   "metadata": {},
   "outputs": [
    {
     "name": "stderr",
     "output_type": "stream",
     "text": [
      "Setting `pad_token_id` to `eos_token_id`:50256 for open-end generation.\n"
     ]
    },
    {
     "name": "stdout",
     "output_type": "stream",
     "text": [
      "[Trajectory plus: ]  did not have to go on the trip.\n",
      "\n",
      "Bob said that he felt like he had a great time, and he was very happy to be home. He said that his wife's name came up as a question from him. He talked about how he was not ready to leave her at home, he said that she was excited, but he felt she was doing great in the whole house. He had a wonderful time. He even got to chat with his wife. He loved her so much\n",
      "\n",
      "Number of tokens in trajectory:  torch.Size([1, 100])\n"
     ]
    }
   ],
   "source": [
    "# test the sample trajectory function \n",
    "prompt = \" did\"\n",
    "prompt_ids = tokenizer.encode(prompt, return_tensors='pt').to('cuda')\n",
    "\n",
    "# t_plus_str is a string, t_plus_ids is a tensor of shape [1, traj_len], including the extra `prompt`\n",
    "t_plus_str, t_plus_ids = sample_trajectory(model, tokenizer, past_kv_plus, prompt_ids, max_length)\n",
    "print(\"[Trajectory plus: ]\", t_plus_str)\n",
    "print(\"\\nNumber of tokens in trajectory: \", t_plus_ids.shape)"
   ]
  },
  {
   "cell_type": "code",
   "execution_count": 44,
   "metadata": {},
   "outputs": [
    {
     "name": "stderr",
     "output_type": "stream",
     "text": [
      "Setting `pad_token_id` to `eos_token_id`:50256 for open-end generation.\n"
     ]
    },
    {
     "name": "stdout",
     "output_type": "stream",
     "text": [
      "[Trajectory minus: ]  did not want to talk about it at the time. And he really wanted to talk to me about it. He was happy.\n",
      "\n",
      "(Laughter.)\n",
      "\n",
      "BUSH: So what did you think?\n",
      "\n",
      "SPICER: I was angry and upset. I don't remember, I just knew that I had to try to put things back together. And I had my best friend, he was very nice.\n",
      " (Laughter. The audience members were stunned.)\n",
      "..\n",
      "\n",
      "Number of tokens in trajectory:  torch.Size([1, 100])\n"
     ]
    }
   ],
   "source": [
    "t_min_str, t_min_ids = sample_trajectory(model, tokenizer, past_kv_minus, prompt_ids, max_length)\n",
    "print(\"[Trajectory minus: ]\", t_min_str)\n",
    "\n",
    "print(\"\\nNumber of tokens in trajectory: \", t_min_ids.shape)"
   ]
  },
  {
   "cell_type": "code",
   "execution_count": 45,
   "metadata": {},
   "outputs": [
    {
     "name": "stderr",
     "output_type": "stream",
     "text": [
      "Sampling x_0_plus trajectories:   0%|          | 0/200 [00:00<?, ?it/s]Setting `pad_token_id` to `eos_token_id`:50256 for open-end generation.\n",
      "Sampling x_0_plus trajectories:   0%|          | 1/200 [00:00<02:48,  1.18it/s]Setting `pad_token_id` to `eos_token_id`:50256 for open-end generation.\n",
      "Sampling x_0_plus trajectories:   1%|          | 2/200 [00:01<02:47,  1.18it/s]Setting `pad_token_id` to `eos_token_id`:50256 for open-end generation.\n",
      "Sampling x_0_plus trajectories:   2%|▏         | 3/200 [00:02<02:46,  1.18it/s]Setting `pad_token_id` to `eos_token_id`:50256 for open-end generation.\n",
      "Sampling x_0_plus trajectories:   2%|▏         | 4/200 [00:03<02:45,  1.19it/s]Setting `pad_token_id` to `eos_token_id`:50256 for open-end generation.\n",
      "Sampling x_0_plus trajectories:   2%|▎         | 5/200 [00:04<02:44,  1.19it/s]Setting `pad_token_id` to `eos_token_id`:50256 for open-end generation.\n",
      "Sampling x_0_plus trajectories:   3%|▎         | 6/200 [00:05<02:43,  1.19it/s]Setting `pad_token_id` to `eos_token_id`:50256 for open-end generation.\n",
      "Sampling x_0_plus trajectories:   4%|▎         | 7/200 [00:05<02:42,  1.19it/s]Setting `pad_token_id` to `eos_token_id`:50256 for open-end generation.\n",
      "Sampling x_0_plus trajectories:   4%|▍         | 8/200 [00:06<02:41,  1.19it/s]Setting `pad_token_id` to `eos_token_id`:50256 for open-end generation.\n",
      "Sampling x_0_plus trajectories:   4%|▍         | 9/200 [00:07<02:40,  1.19it/s]Setting `pad_token_id` to `eos_token_id`:50256 for open-end generation.\n",
      "Sampling x_0_plus trajectories:   5%|▌         | 10/200 [00:08<02:39,  1.19it/s]Setting `pad_token_id` to `eos_token_id`:50256 for open-end generation.\n",
      "Sampling x_0_plus trajectories:   6%|▌         | 11/200 [00:09<02:39,  1.19it/s]Setting `pad_token_id` to `eos_token_id`:50256 for open-end generation.\n",
      "Sampling x_0_plus trajectories:   6%|▌         | 12/200 [00:10<02:38,  1.19it/s]Setting `pad_token_id` to `eos_token_id`:50256 for open-end generation.\n",
      "Sampling x_0_plus trajectories:   6%|▋         | 13/200 [00:10<02:37,  1.19it/s]Setting `pad_token_id` to `eos_token_id`:50256 for open-end generation.\n",
      "Sampling x_0_plus trajectories:   7%|▋         | 14/200 [00:11<02:36,  1.19it/s]Setting `pad_token_id` to `eos_token_id`:50256 for open-end generation.\n",
      "Sampling x_0_plus trajectories:   8%|▊         | 15/200 [00:12<02:35,  1.19it/s]Setting `pad_token_id` to `eos_token_id`:50256 for open-end generation.\n",
      "Sampling x_0_plus trajectories:   8%|▊         | 16/200 [00:13<02:35,  1.19it/s]Setting `pad_token_id` to `eos_token_id`:50256 for open-end generation.\n",
      "Sampling x_0_plus trajectories:   8%|▊         | 17/200 [00:14<02:34,  1.19it/s]Setting `pad_token_id` to `eos_token_id`:50256 for open-end generation.\n",
      "Sampling x_0_plus trajectories:   9%|▉         | 18/200 [00:14<02:13,  1.36it/s]Setting `pad_token_id` to `eos_token_id`:50256 for open-end generation.\n",
      "Sampling x_0_plus trajectories:  10%|▉         | 19/200 [00:15<02:18,  1.30it/s]Setting `pad_token_id` to `eos_token_id`:50256 for open-end generation.\n",
      "Sampling x_0_plus trajectories:  10%|█         | 20/200 [00:16<02:22,  1.26it/s]Setting `pad_token_id` to `eos_token_id`:50256 for open-end generation.\n",
      "Sampling x_0_plus trajectories:  10%|█         | 21/200 [00:17<02:24,  1.24it/s]Setting `pad_token_id` to `eos_token_id`:50256 for open-end generation.\n",
      "Sampling x_0_plus trajectories:  11%|█         | 22/200 [00:18<02:25,  1.22it/s]Setting `pad_token_id` to `eos_token_id`:50256 for open-end generation.\n",
      "Sampling x_0_plus trajectories:  12%|█▏        | 23/200 [00:19<02:25,  1.21it/s]Setting `pad_token_id` to `eos_token_id`:50256 for open-end generation.\n",
      "Sampling x_0_plus trajectories:  12%|█▏        | 24/200 [00:19<02:26,  1.21it/s]Setting `pad_token_id` to `eos_token_id`:50256 for open-end generation.\n",
      "Sampling x_0_plus trajectories:  12%|█▎        | 25/200 [00:20<02:25,  1.20it/s]Setting `pad_token_id` to `eos_token_id`:50256 for open-end generation.\n",
      "Sampling x_0_plus trajectories:  13%|█▎        | 26/200 [00:21<02:25,  1.20it/s]Setting `pad_token_id` to `eos_token_id`:50256 for open-end generation.\n",
      "Sampling x_0_plus trajectories:  14%|█▎        | 27/200 [00:22<02:25,  1.19it/s]Setting `pad_token_id` to `eos_token_id`:50256 for open-end generation.\n",
      "Sampling x_0_plus trajectories:  14%|█▍        | 28/200 [00:23<02:24,  1.19it/s]Setting `pad_token_id` to `eos_token_id`:50256 for open-end generation.\n",
      "Sampling x_0_plus trajectories:  14%|█▍        | 29/200 [00:24<02:23,  1.19it/s]Setting `pad_token_id` to `eos_token_id`:50256 for open-end generation.\n",
      "Sampling x_0_plus trajectories:  15%|█▌        | 30/200 [00:24<02:23,  1.19it/s]Setting `pad_token_id` to `eos_token_id`:50256 for open-end generation.\n",
      "Sampling x_0_plus trajectories:  16%|█▌        | 31/200 [00:25<02:22,  1.19it/s]Setting `pad_token_id` to `eos_token_id`:50256 for open-end generation.\n",
      "Sampling x_0_plus trajectories:  16%|█▌        | 32/200 [00:26<02:21,  1.19it/s]Setting `pad_token_id` to `eos_token_id`:50256 for open-end generation.\n",
      "Sampling x_0_plus trajectories:  16%|█▋        | 33/200 [00:27<02:20,  1.18it/s]Setting `pad_token_id` to `eos_token_id`:50256 for open-end generation.\n",
      "Sampling x_0_plus trajectories:  17%|█▋        | 34/200 [00:28<02:20,  1.18it/s]Setting `pad_token_id` to `eos_token_id`:50256 for open-end generation.\n",
      "Sampling x_0_plus trajectories:  18%|█▊        | 35/200 [00:29<02:19,  1.18it/s]Setting `pad_token_id` to `eos_token_id`:50256 for open-end generation.\n",
      "Sampling x_0_plus trajectories:  18%|█▊        | 36/200 [00:30<02:18,  1.18it/s]Setting `pad_token_id` to `eos_token_id`:50256 for open-end generation.\n",
      "Sampling x_0_plus trajectories:  18%|█▊        | 37/200 [00:30<02:18,  1.18it/s]Setting `pad_token_id` to `eos_token_id`:50256 for open-end generation.\n",
      "Sampling x_0_plus trajectories:  19%|█▉        | 38/200 [00:31<02:18,  1.17it/s]Setting `pad_token_id` to `eos_token_id`:50256 for open-end generation.\n",
      "Sampling x_0_plus trajectories:  20%|█▉        | 39/200 [00:32<02:18,  1.17it/s]Setting `pad_token_id` to `eos_token_id`:50256 for open-end generation.\n",
      "Sampling x_0_plus trajectories:  20%|██        | 40/200 [00:33<02:17,  1.16it/s]Setting `pad_token_id` to `eos_token_id`:50256 for open-end generation.\n",
      "Sampling x_0_plus trajectories:  20%|██        | 41/200 [00:34<02:16,  1.16it/s]Setting `pad_token_id` to `eos_token_id`:50256 for open-end generation.\n",
      "Sampling x_0_plus trajectories:  21%|██        | 42/200 [00:34<02:02,  1.29it/s]Setting `pad_token_id` to `eos_token_id`:50256 for open-end generation.\n",
      "Sampling x_0_plus trajectories:  22%|██▏       | 43/200 [00:35<02:05,  1.25it/s]Setting `pad_token_id` to `eos_token_id`:50256 for open-end generation.\n",
      "Sampling x_0_plus trajectories:  22%|██▏       | 44/200 [00:36<01:59,  1.30it/s]Setting `pad_token_id` to `eos_token_id`:50256 for open-end generation.\n",
      "Sampling x_0_plus trajectories:  22%|██▎       | 45/200 [00:37<02:03,  1.26it/s]Setting `pad_token_id` to `eos_token_id`:50256 for open-end generation.\n",
      "Sampling x_0_plus trajectories:  23%|██▎       | 46/200 [00:38<02:05,  1.23it/s]Setting `pad_token_id` to `eos_token_id`:50256 for open-end generation.\n",
      "Sampling x_0_plus trajectories:  24%|██▎       | 47/200 [00:39<02:06,  1.21it/s]Setting `pad_token_id` to `eos_token_id`:50256 for open-end generation.\n",
      "Sampling x_0_plus trajectories:  24%|██▍       | 48/200 [00:39<02:06,  1.20it/s]Setting `pad_token_id` to `eos_token_id`:50256 for open-end generation.\n",
      "Sampling x_0_plus trajectories:  24%|██▍       | 49/200 [00:40<02:06,  1.19it/s]Setting `pad_token_id` to `eos_token_id`:50256 for open-end generation.\n",
      "Sampling x_0_plus trajectories:  25%|██▌       | 50/200 [00:41<02:06,  1.18it/s]Setting `pad_token_id` to `eos_token_id`:50256 for open-end generation.\n",
      "Sampling x_0_plus trajectories:  26%|██▌       | 51/200 [00:42<02:06,  1.18it/s]Setting `pad_token_id` to `eos_token_id`:50256 for open-end generation.\n",
      "Sampling x_0_plus trajectories:  26%|██▌       | 52/200 [00:43<02:05,  1.18it/s]Setting `pad_token_id` to `eos_token_id`:50256 for open-end generation.\n",
      "Sampling x_0_plus trajectories:  26%|██▋       | 53/200 [00:44<02:04,  1.18it/s]Setting `pad_token_id` to `eos_token_id`:50256 for open-end generation.\n",
      "Sampling x_0_plus trajectories:  27%|██▋       | 54/200 [00:44<02:03,  1.18it/s]Setting `pad_token_id` to `eos_token_id`:50256 for open-end generation.\n",
      "Sampling x_0_plus trajectories:  28%|██▊       | 55/200 [00:45<02:02,  1.18it/s]Setting `pad_token_id` to `eos_token_id`:50256 for open-end generation.\n",
      "Sampling x_0_plus trajectories:  28%|██▊       | 56/200 [00:46<02:02,  1.18it/s]Setting `pad_token_id` to `eos_token_id`:50256 for open-end generation.\n",
      "Sampling x_0_plus trajectories:  28%|██▊       | 57/200 [00:47<02:01,  1.17it/s]Setting `pad_token_id` to `eos_token_id`:50256 for open-end generation.\n",
      "Sampling x_0_plus trajectories:  29%|██▉       | 58/200 [00:48<02:01,  1.17it/s]Setting `pad_token_id` to `eos_token_id`:50256 for open-end generation.\n",
      "Sampling x_0_plus trajectories:  30%|██▉       | 59/200 [00:49<01:54,  1.23it/s]Setting `pad_token_id` to `eos_token_id`:50256 for open-end generation.\n",
      "Sampling x_0_plus trajectories:  30%|███       | 60/200 [00:49<01:55,  1.21it/s]Setting `pad_token_id` to `eos_token_id`:50256 for open-end generation.\n",
      "Sampling x_0_plus trajectories:  30%|███       | 61/200 [00:50<01:56,  1.19it/s]Setting `pad_token_id` to `eos_token_id`:50256 for open-end generation.\n",
      "Sampling x_0_plus trajectories:  31%|███       | 62/200 [00:51<01:49,  1.26it/s]Setting `pad_token_id` to `eos_token_id`:50256 for open-end generation.\n",
      "Sampling x_0_plus trajectories:  32%|███▏      | 63/200 [00:52<01:51,  1.23it/s]Setting `pad_token_id` to `eos_token_id`:50256 for open-end generation.\n",
      "Sampling x_0_plus trajectories:  32%|███▏      | 64/200 [00:53<01:52,  1.21it/s]Setting `pad_token_id` to `eos_token_id`:50256 for open-end generation.\n",
      "Sampling x_0_plus trajectories:  32%|███▎      | 65/200 [00:54<01:52,  1.20it/s]Setting `pad_token_id` to `eos_token_id`:50256 for open-end generation.\n",
      "Sampling x_0_plus trajectories:  33%|███▎      | 66/200 [00:54<01:52,  1.19it/s]Setting `pad_token_id` to `eos_token_id`:50256 for open-end generation.\n",
      "Sampling x_0_plus trajectories:  34%|███▎      | 67/200 [00:55<01:52,  1.18it/s]Setting `pad_token_id` to `eos_token_id`:50256 for open-end generation.\n",
      "Sampling x_0_plus trajectories:  34%|███▍      | 68/200 [00:56<01:52,  1.17it/s]Setting `pad_token_id` to `eos_token_id`:50256 for open-end generation.\n",
      "Sampling x_0_plus trajectories:  34%|███▍      | 69/200 [00:57<01:52,  1.17it/s]Setting `pad_token_id` to `eos_token_id`:50256 for open-end generation.\n",
      "Sampling x_0_plus trajectories:  35%|███▌      | 70/200 [00:58<01:51,  1.17it/s]Setting `pad_token_id` to `eos_token_id`:50256 for open-end generation.\n",
      "Sampling x_0_plus trajectories:  36%|███▌      | 71/200 [00:59<01:50,  1.17it/s]Setting `pad_token_id` to `eos_token_id`:50256 for open-end generation.\n",
      "Sampling x_0_plus trajectories:  36%|███▌      | 72/200 [01:00<01:49,  1.17it/s]Setting `pad_token_id` to `eos_token_id`:50256 for open-end generation.\n",
      "Sampling x_0_plus trajectories:  36%|███▋      | 73/200 [01:00<01:48,  1.17it/s]Setting `pad_token_id` to `eos_token_id`:50256 for open-end generation.\n",
      "Sampling x_0_plus trajectories:  37%|███▋      | 74/200 [01:01<01:47,  1.17it/s]Setting `pad_token_id` to `eos_token_id`:50256 for open-end generation.\n",
      "Sampling x_0_plus trajectories:  38%|███▊      | 75/200 [01:02<01:46,  1.18it/s]Setting `pad_token_id` to `eos_token_id`:50256 for open-end generation.\n",
      "Sampling x_0_plus trajectories:  38%|███▊      | 76/200 [01:03<01:44,  1.18it/s]Setting `pad_token_id` to `eos_token_id`:50256 for open-end generation.\n",
      "Sampling x_0_plus trajectories:  38%|███▊      | 77/200 [01:03<01:28,  1.39it/s]Setting `pad_token_id` to `eos_token_id`:50256 for open-end generation.\n",
      "Sampling x_0_plus trajectories:  39%|███▉      | 78/200 [01:04<01:32,  1.31it/s]Setting `pad_token_id` to `eos_token_id`:50256 for open-end generation.\n",
      "Sampling x_0_plus trajectories:  40%|███▉      | 79/200 [01:05<01:35,  1.27it/s]Setting `pad_token_id` to `eos_token_id`:50256 for open-end generation.\n",
      "Sampling x_0_plus trajectories:  40%|████      | 80/200 [01:06<01:37,  1.23it/s]Setting `pad_token_id` to `eos_token_id`:50256 for open-end generation.\n",
      "Sampling x_0_plus trajectories:  40%|████      | 81/200 [01:07<01:38,  1.21it/s]Setting `pad_token_id` to `eos_token_id`:50256 for open-end generation.\n",
      "Sampling x_0_plus trajectories:  41%|████      | 82/200 [01:08<01:38,  1.20it/s]Setting `pad_token_id` to `eos_token_id`:50256 for open-end generation.\n",
      "Sampling x_0_plus trajectories:  42%|████▏     | 83/200 [01:09<01:38,  1.19it/s]Setting `pad_token_id` to `eos_token_id`:50256 for open-end generation.\n",
      "Sampling x_0_plus trajectories:  42%|████▏     | 84/200 [01:09<01:38,  1.18it/s]Setting `pad_token_id` to `eos_token_id`:50256 for open-end generation.\n",
      "Sampling x_0_plus trajectories:  42%|████▎     | 85/200 [01:10<01:37,  1.18it/s]Setting `pad_token_id` to `eos_token_id`:50256 for open-end generation.\n",
      "Sampling x_0_plus trajectories:  43%|████▎     | 86/200 [01:11<01:37,  1.17it/s]Setting `pad_token_id` to `eos_token_id`:50256 for open-end generation.\n",
      "Sampling x_0_plus trajectories:  44%|████▎     | 87/200 [01:12<01:36,  1.17it/s]Setting `pad_token_id` to `eos_token_id`:50256 for open-end generation.\n",
      "Sampling x_0_plus trajectories:  44%|████▍     | 88/200 [01:13<01:35,  1.18it/s]Setting `pad_token_id` to `eos_token_id`:50256 for open-end generation.\n",
      "Sampling x_0_plus trajectories:  44%|████▍     | 89/200 [01:14<01:33,  1.18it/s]Setting `pad_token_id` to `eos_token_id`:50256 for open-end generation.\n",
      "Sampling x_0_plus trajectories:  45%|████▌     | 90/200 [01:14<01:32,  1.19it/s]Setting `pad_token_id` to `eos_token_id`:50256 for open-end generation.\n",
      "Sampling x_0_plus trajectories:  46%|████▌     | 91/200 [01:15<01:31,  1.19it/s]Setting `pad_token_id` to `eos_token_id`:50256 for open-end generation.\n",
      "Sampling x_0_plus trajectories:  46%|████▌     | 92/200 [01:16<01:30,  1.19it/s]Setting `pad_token_id` to `eos_token_id`:50256 for open-end generation.\n",
      "Sampling x_0_plus trajectories:  46%|████▋     | 93/200 [01:17<01:29,  1.20it/s]Setting `pad_token_id` to `eos_token_id`:50256 for open-end generation.\n",
      "Sampling x_0_plus trajectories:  47%|████▋     | 94/200 [01:18<01:28,  1.20it/s]Setting `pad_token_id` to `eos_token_id`:50256 for open-end generation.\n",
      "Sampling x_0_plus trajectories:  48%|████▊     | 95/200 [01:19<01:27,  1.20it/s]Setting `pad_token_id` to `eos_token_id`:50256 for open-end generation.\n",
      "Sampling x_0_plus trajectories:  48%|████▊     | 96/200 [01:20<01:27,  1.19it/s]Setting `pad_token_id` to `eos_token_id`:50256 for open-end generation.\n",
      "Sampling x_0_plus trajectories:  48%|████▊     | 97/200 [01:20<01:26,  1.19it/s]Setting `pad_token_id` to `eos_token_id`:50256 for open-end generation.\n",
      "Sampling x_0_plus trajectories:  49%|████▉     | 98/200 [01:21<01:25,  1.19it/s]Setting `pad_token_id` to `eos_token_id`:50256 for open-end generation.\n",
      "Sampling x_0_plus trajectories:  50%|████▉     | 99/200 [01:22<01:24,  1.19it/s]Setting `pad_token_id` to `eos_token_id`:50256 for open-end generation.\n",
      "Sampling x_0_plus trajectories:  50%|█████     | 100/200 [01:23<01:23,  1.20it/s]Setting `pad_token_id` to `eos_token_id`:50256 for open-end generation.\n",
      "Sampling x_0_plus trajectories:  50%|█████     | 101/200 [01:24<01:23,  1.19it/s]Setting `pad_token_id` to `eos_token_id`:50256 for open-end generation.\n",
      "Sampling x_0_plus trajectories:  51%|█████     | 102/200 [01:25<01:22,  1.18it/s]Setting `pad_token_id` to `eos_token_id`:50256 for open-end generation.\n",
      "Sampling x_0_plus trajectories:  52%|█████▏    | 103/200 [01:25<01:22,  1.18it/s]Setting `pad_token_id` to `eos_token_id`:50256 for open-end generation.\n",
      "Sampling x_0_plus trajectories:  52%|█████▏    | 104/200 [01:26<01:21,  1.18it/s]Setting `pad_token_id` to `eos_token_id`:50256 for open-end generation.\n",
      "Sampling x_0_plus trajectories:  52%|█████▎    | 105/200 [01:27<01:20,  1.18it/s]Setting `pad_token_id` to `eos_token_id`:50256 for open-end generation.\n",
      "Sampling x_0_plus trajectories:  53%|█████▎    | 106/200 [01:28<01:19,  1.18it/s]Setting `pad_token_id` to `eos_token_id`:50256 for open-end generation.\n",
      "Sampling x_0_plus trajectories:  54%|█████▎    | 107/200 [01:29<01:19,  1.17it/s]Setting `pad_token_id` to `eos_token_id`:50256 for open-end generation.\n",
      "Sampling x_0_plus trajectories:  54%|█████▍    | 108/200 [01:30<01:18,  1.17it/s]Setting `pad_token_id` to `eos_token_id`:50256 for open-end generation.\n",
      "Sampling x_0_plus trajectories:  55%|█████▍    | 109/200 [01:31<01:17,  1.17it/s]Setting `pad_token_id` to `eos_token_id`:50256 for open-end generation.\n",
      "Sampling x_0_plus trajectories:  55%|█████▌    | 110/200 [01:31<01:16,  1.18it/s]Setting `pad_token_id` to `eos_token_id`:50256 for open-end generation.\n",
      "Sampling x_0_plus trajectories:  56%|█████▌    | 111/200 [01:32<01:15,  1.18it/s]Setting `pad_token_id` to `eos_token_id`:50256 for open-end generation.\n",
      "Sampling x_0_plus trajectories:  56%|█████▌    | 112/200 [01:33<01:14,  1.18it/s]Setting `pad_token_id` to `eos_token_id`:50256 for open-end generation.\n",
      "Sampling x_0_plus trajectories:  56%|█████▋    | 113/200 [01:34<01:14,  1.17it/s]Setting `pad_token_id` to `eos_token_id`:50256 for open-end generation.\n",
      "Sampling x_0_plus trajectories:  57%|█████▋    | 114/200 [01:35<01:13,  1.17it/s]Setting `pad_token_id` to `eos_token_id`:50256 for open-end generation.\n",
      "Sampling x_0_plus trajectories:  57%|█████▊    | 115/200 [01:36<01:12,  1.17it/s]Setting `pad_token_id` to `eos_token_id`:50256 for open-end generation.\n",
      "Sampling x_0_plus trajectories:  58%|█████▊    | 116/200 [01:37<01:11,  1.17it/s]Setting `pad_token_id` to `eos_token_id`:50256 for open-end generation.\n",
      "Sampling x_0_plus trajectories:  58%|█████▊    | 117/200 [01:37<01:10,  1.17it/s]Setting `pad_token_id` to `eos_token_id`:50256 for open-end generation.\n",
      "Sampling x_0_plus trajectories:  59%|█████▉    | 118/200 [01:38<01:09,  1.17it/s]Setting `pad_token_id` to `eos_token_id`:50256 for open-end generation.\n",
      "Sampling x_0_plus trajectories:  60%|█████▉    | 119/200 [01:39<01:08,  1.17it/s]Setting `pad_token_id` to `eos_token_id`:50256 for open-end generation.\n",
      "Sampling x_0_plus trajectories:  60%|██████    | 120/200 [01:40<01:08,  1.17it/s]Setting `pad_token_id` to `eos_token_id`:50256 for open-end generation.\n",
      "Sampling x_0_plus trajectories:  60%|██████    | 121/200 [01:40<00:57,  1.37it/s]Setting `pad_token_id` to `eos_token_id`:50256 for open-end generation.\n",
      "Sampling x_0_plus trajectories:  61%|██████    | 122/200 [01:41<00:59,  1.31it/s]Setting `pad_token_id` to `eos_token_id`:50256 for open-end generation.\n",
      "Sampling x_0_plus trajectories:  62%|██████▏   | 123/200 [01:42<01:00,  1.27it/s]Setting `pad_token_id` to `eos_token_id`:50256 for open-end generation.\n",
      "Sampling x_0_plus trajectories:  62%|██████▏   | 124/200 [01:43<01:01,  1.25it/s]Setting `pad_token_id` to `eos_token_id`:50256 for open-end generation.\n",
      "Sampling x_0_plus trajectories:  62%|██████▎   | 125/200 [01:44<01:01,  1.23it/s]Setting `pad_token_id` to `eos_token_id`:50256 for open-end generation.\n",
      "Sampling x_0_plus trajectories:  63%|██████▎   | 126/200 [01:45<01:01,  1.21it/s]Setting `pad_token_id` to `eos_token_id`:50256 for open-end generation.\n",
      "Sampling x_0_plus trajectories:  64%|██████▎   | 127/200 [01:45<01:00,  1.20it/s]Setting `pad_token_id` to `eos_token_id`:50256 for open-end generation.\n",
      "Sampling x_0_plus trajectories:  64%|██████▍   | 128/200 [01:46<01:00,  1.20it/s]Setting `pad_token_id` to `eos_token_id`:50256 for open-end generation.\n",
      "Sampling x_0_plus trajectories:  64%|██████▍   | 129/200 [01:47<00:59,  1.20it/s]Setting `pad_token_id` to `eos_token_id`:50256 for open-end generation.\n",
      "Sampling x_0_plus trajectories:  65%|██████▌   | 130/200 [01:48<00:58,  1.19it/s]Setting `pad_token_id` to `eos_token_id`:50256 for open-end generation.\n",
      "Sampling x_0_plus trajectories:  66%|██████▌   | 131/200 [01:49<00:58,  1.19it/s]Setting `pad_token_id` to `eos_token_id`:50256 for open-end generation.\n",
      "Sampling x_0_plus trajectories:  66%|██████▌   | 132/200 [01:49<00:49,  1.37it/s]Setting `pad_token_id` to `eos_token_id`:50256 for open-end generation.\n",
      "Sampling x_0_plus trajectories:  66%|██████▋   | 133/200 [01:50<00:51,  1.31it/s]Setting `pad_token_id` to `eos_token_id`:50256 for open-end generation.\n",
      "Sampling x_0_plus trajectories:  67%|██████▋   | 134/200 [01:51<00:52,  1.26it/s]Setting `pad_token_id` to `eos_token_id`:50256 for open-end generation.\n",
      "Sampling x_0_plus trajectories:  68%|██████▊   | 135/200 [01:52<00:52,  1.23it/s]Setting `pad_token_id` to `eos_token_id`:50256 for open-end generation.\n",
      "Sampling x_0_plus trajectories:  68%|██████▊   | 136/200 [01:53<00:52,  1.22it/s]Setting `pad_token_id` to `eos_token_id`:50256 for open-end generation.\n",
      "Sampling x_0_plus trajectories:  68%|██████▊   | 137/200 [01:54<00:52,  1.21it/s]Setting `pad_token_id` to `eos_token_id`:50256 for open-end generation.\n",
      "Sampling x_0_plus trajectories:  69%|██████▉   | 138/200 [01:54<00:51,  1.20it/s]Setting `pad_token_id` to `eos_token_id`:50256 for open-end generation.\n",
      "Sampling x_0_plus trajectories:  70%|██████▉   | 139/200 [01:55<00:51,  1.20it/s]Setting `pad_token_id` to `eos_token_id`:50256 for open-end generation.\n",
      "Sampling x_0_plus trajectories:  70%|███████   | 140/200 [01:56<00:50,  1.19it/s]Setting `pad_token_id` to `eos_token_id`:50256 for open-end generation.\n",
      "Sampling x_0_plus trajectories:  70%|███████   | 141/200 [01:57<00:49,  1.19it/s]Setting `pad_token_id` to `eos_token_id`:50256 for open-end generation.\n",
      "Sampling x_0_plus trajectories:  71%|███████   | 142/200 [01:58<00:48,  1.19it/s]Setting `pad_token_id` to `eos_token_id`:50256 for open-end generation.\n",
      "Sampling x_0_plus trajectories:  72%|███████▏  | 143/200 [01:59<00:48,  1.18it/s]Setting `pad_token_id` to `eos_token_id`:50256 for open-end generation.\n",
      "Sampling x_0_plus trajectories:  72%|███████▏  | 144/200 [01:59<00:42,  1.32it/s]Setting `pad_token_id` to `eos_token_id`:50256 for open-end generation.\n",
      "Sampling x_0_plus trajectories:  72%|███████▎  | 145/200 [02:00<00:43,  1.27it/s]Setting `pad_token_id` to `eos_token_id`:50256 for open-end generation.\n",
      "Sampling x_0_plus trajectories:  73%|███████▎  | 146/200 [02:01<00:43,  1.24it/s]Setting `pad_token_id` to `eos_token_id`:50256 for open-end generation.\n",
      "Sampling x_0_plus trajectories:  74%|███████▎  | 147/200 [02:02<00:43,  1.22it/s]Setting `pad_token_id` to `eos_token_id`:50256 for open-end generation.\n",
      "Sampling x_0_plus trajectories:  74%|███████▍  | 148/200 [02:03<00:42,  1.21it/s]Setting `pad_token_id` to `eos_token_id`:50256 for open-end generation.\n",
      "Sampling x_0_plus trajectories:  74%|███████▍  | 149/200 [02:03<00:42,  1.20it/s]Setting `pad_token_id` to `eos_token_id`:50256 for open-end generation.\n",
      "Sampling x_0_plus trajectories:  75%|███████▌  | 150/200 [02:04<00:41,  1.19it/s]Setting `pad_token_id` to `eos_token_id`:50256 for open-end generation.\n",
      "Sampling x_0_plus trajectories:  76%|███████▌  | 151/200 [02:05<00:41,  1.19it/s]Setting `pad_token_id` to `eos_token_id`:50256 for open-end generation.\n",
      "Sampling x_0_plus trajectories:  76%|███████▌  | 152/200 [02:06<00:40,  1.18it/s]Setting `pad_token_id` to `eos_token_id`:50256 for open-end generation.\n",
      "Sampling x_0_plus trajectories:  76%|███████▋  | 153/200 [02:07<00:40,  1.17it/s]Setting `pad_token_id` to `eos_token_id`:50256 for open-end generation.\n",
      "Sampling x_0_plus trajectories:  77%|███████▋  | 154/200 [02:07<00:34,  1.33it/s]Setting `pad_token_id` to `eos_token_id`:50256 for open-end generation.\n",
      "Sampling x_0_plus trajectories:  78%|███████▊  | 155/200 [02:08<00:35,  1.28it/s]Setting `pad_token_id` to `eos_token_id`:50256 for open-end generation.\n",
      "Sampling x_0_plus trajectories:  78%|███████▊  | 156/200 [02:09<00:35,  1.25it/s]Setting `pad_token_id` to `eos_token_id`:50256 for open-end generation.\n",
      "Sampling x_0_plus trajectories:  78%|███████▊  | 157/200 [02:10<00:32,  1.33it/s]Setting `pad_token_id` to `eos_token_id`:50256 for open-end generation.\n",
      "Sampling x_0_plus trajectories:  79%|███████▉  | 158/200 [02:11<00:32,  1.28it/s]Setting `pad_token_id` to `eos_token_id`:50256 for open-end generation.\n",
      "Sampling x_0_plus trajectories:  80%|███████▉  | 159/200 [02:11<00:33,  1.24it/s]Setting `pad_token_id` to `eos_token_id`:50256 for open-end generation.\n",
      "Sampling x_0_plus trajectories:  80%|████████  | 160/200 [02:12<00:32,  1.22it/s]Setting `pad_token_id` to `eos_token_id`:50256 for open-end generation.\n",
      "Sampling x_0_plus trajectories:  80%|████████  | 161/200 [02:13<00:32,  1.21it/s]Setting `pad_token_id` to `eos_token_id`:50256 for open-end generation.\n",
      "Sampling x_0_plus trajectories:  81%|████████  | 162/200 [02:14<00:31,  1.20it/s]Setting `pad_token_id` to `eos_token_id`:50256 for open-end generation.\n",
      "Sampling x_0_plus trajectories:  82%|████████▏ | 163/200 [02:15<00:31,  1.19it/s]Setting `pad_token_id` to `eos_token_id`:50256 for open-end generation.\n",
      "Sampling x_0_plus trajectories:  82%|████████▏ | 164/200 [02:16<00:30,  1.18it/s]Setting `pad_token_id` to `eos_token_id`:50256 for open-end generation.\n",
      "Sampling x_0_plus trajectories:  82%|████████▎ | 165/200 [02:16<00:29,  1.18it/s]Setting `pad_token_id` to `eos_token_id`:50256 for open-end generation.\n",
      "Sampling x_0_plus trajectories:  83%|████████▎ | 166/200 [02:17<00:28,  1.18it/s]Setting `pad_token_id` to `eos_token_id`:50256 for open-end generation.\n",
      "Sampling x_0_plus trajectories:  84%|████████▎ | 167/200 [02:18<00:27,  1.18it/s]Setting `pad_token_id` to `eos_token_id`:50256 for open-end generation.\n",
      "Sampling x_0_plus trajectories:  84%|████████▍ | 168/200 [02:19<00:27,  1.18it/s]Setting `pad_token_id` to `eos_token_id`:50256 for open-end generation.\n",
      "Sampling x_0_plus trajectories:  84%|████████▍ | 169/200 [02:20<00:26,  1.18it/s]Setting `pad_token_id` to `eos_token_id`:50256 for open-end generation.\n",
      "Sampling x_0_plus trajectories:  85%|████████▌ | 170/200 [02:21<00:25,  1.19it/s]Setting `pad_token_id` to `eos_token_id`:50256 for open-end generation.\n",
      "Sampling x_0_plus trajectories:  86%|████████▌ | 171/200 [02:22<00:24,  1.19it/s]Setting `pad_token_id` to `eos_token_id`:50256 for open-end generation.\n",
      "Sampling x_0_plus trajectories:  86%|████████▌ | 172/200 [02:22<00:23,  1.19it/s]Setting `pad_token_id` to `eos_token_id`:50256 for open-end generation.\n",
      "Sampling x_0_plus trajectories:  86%|████████▋ | 173/200 [02:23<00:22,  1.19it/s]Setting `pad_token_id` to `eos_token_id`:50256 for open-end generation.\n",
      "Sampling x_0_plus trajectories:  87%|████████▋ | 174/200 [02:24<00:21,  1.19it/s]Setting `pad_token_id` to `eos_token_id`:50256 for open-end generation.\n",
      "Sampling x_0_plus trajectories:  88%|████████▊ | 175/200 [02:25<00:21,  1.19it/s]Setting `pad_token_id` to `eos_token_id`:50256 for open-end generation.\n",
      "Sampling x_0_plus trajectories:  88%|████████▊ | 176/200 [02:26<00:20,  1.19it/s]Setting `pad_token_id` to `eos_token_id`:50256 for open-end generation.\n",
      "Sampling x_0_plus trajectories:  88%|████████▊ | 177/200 [02:26<00:17,  1.32it/s]Setting `pad_token_id` to `eos_token_id`:50256 for open-end generation.\n",
      "Sampling x_0_plus trajectories:  89%|████████▉ | 178/200 [02:27<00:17,  1.28it/s]Setting `pad_token_id` to `eos_token_id`:50256 for open-end generation.\n",
      "Sampling x_0_plus trajectories:  90%|████████▉ | 179/200 [02:28<00:16,  1.25it/s]Setting `pad_token_id` to `eos_token_id`:50256 for open-end generation.\n",
      "Sampling x_0_plus trajectories:  90%|█████████ | 180/200 [02:29<00:16,  1.23it/s]Setting `pad_token_id` to `eos_token_id`:50256 for open-end generation.\n",
      "Sampling x_0_plus trajectories:  90%|█████████ | 181/200 [02:30<00:15,  1.21it/s]Setting `pad_token_id` to `eos_token_id`:50256 for open-end generation.\n",
      "Sampling x_0_plus trajectories:  91%|█████████ | 182/200 [02:31<00:14,  1.20it/s]Setting `pad_token_id` to `eos_token_id`:50256 for open-end generation.\n",
      "Sampling x_0_plus trajectories:  92%|█████████▏| 183/200 [02:31<00:14,  1.20it/s]Setting `pad_token_id` to `eos_token_id`:50256 for open-end generation.\n",
      "Sampling x_0_plus trajectories:  92%|█████████▏| 184/200 [02:32<00:13,  1.19it/s]Setting `pad_token_id` to `eos_token_id`:50256 for open-end generation.\n",
      "Sampling x_0_plus trajectories:  92%|█████████▎| 185/200 [02:33<00:12,  1.19it/s]Setting `pad_token_id` to `eos_token_id`:50256 for open-end generation.\n",
      "Sampling x_0_plus trajectories:  93%|█████████▎| 186/200 [02:34<00:11,  1.26it/s]Setting `pad_token_id` to `eos_token_id`:50256 for open-end generation.\n",
      "Sampling x_0_plus trajectories:  94%|█████████▎| 187/200 [02:35<00:10,  1.23it/s]Setting `pad_token_id` to `eos_token_id`:50256 for open-end generation.\n",
      "Sampling x_0_plus trajectories:  94%|█████████▍| 188/200 [02:35<00:09,  1.22it/s]Setting `pad_token_id` to `eos_token_id`:50256 for open-end generation.\n",
      "Sampling x_0_plus trajectories:  94%|█████████▍| 189/200 [02:36<00:09,  1.21it/s]Setting `pad_token_id` to `eos_token_id`:50256 for open-end generation.\n",
      "Sampling x_0_plus trajectories:  95%|█████████▌| 190/200 [02:37<00:08,  1.21it/s]Setting `pad_token_id` to `eos_token_id`:50256 for open-end generation.\n",
      "Sampling x_0_plus trajectories:  96%|█████████▌| 191/200 [02:38<00:07,  1.20it/s]Setting `pad_token_id` to `eos_token_id`:50256 for open-end generation.\n",
      "Sampling x_0_plus trajectories:  96%|█████████▌| 192/200 [02:39<00:06,  1.19it/s]Setting `pad_token_id` to `eos_token_id`:50256 for open-end generation.\n",
      "Sampling x_0_plus trajectories:  96%|█████████▋| 193/200 [02:40<00:05,  1.19it/s]Setting `pad_token_id` to `eos_token_id`:50256 for open-end generation.\n",
      "Sampling x_0_plus trajectories:  97%|█████████▋| 194/200 [02:40<00:04,  1.22it/s]Setting `pad_token_id` to `eos_token_id`:50256 for open-end generation.\n",
      "Sampling x_0_plus trajectories:  98%|█████████▊| 195/200 [02:41<00:04,  1.21it/s]Setting `pad_token_id` to `eos_token_id`:50256 for open-end generation.\n",
      "Sampling x_0_plus trajectories:  98%|█████████▊| 196/200 [02:42<00:03,  1.20it/s]Setting `pad_token_id` to `eos_token_id`:50256 for open-end generation.\n",
      "Sampling x_0_plus trajectories:  98%|█████████▊| 197/200 [02:43<00:02,  1.20it/s]Setting `pad_token_id` to `eos_token_id`:50256 for open-end generation.\n",
      "Sampling x_0_plus trajectories:  99%|█████████▉| 198/200 [02:44<00:01,  1.19it/s]Setting `pad_token_id` to `eos_token_id`:50256 for open-end generation.\n",
      "Sampling x_0_plus trajectories: 100%|█████████▉| 199/200 [02:45<00:00,  1.19it/s]Setting `pad_token_id` to `eos_token_id`:50256 for open-end generation.\n",
      "Sampling x_0_plus trajectories: 100%|██████████| 200/200 [02:46<00:00,  1.20it/s]\n",
      "Sampling x_0_minus trajectories:   0%|          | 0/200 [00:00<?, ?it/s]Setting `pad_token_id` to `eos_token_id`:50256 for open-end generation.\n",
      "Sampling x_0_minus trajectories:   0%|          | 1/200 [00:00<02:46,  1.20it/s]Setting `pad_token_id` to `eos_token_id`:50256 for open-end generation.\n",
      "Sampling x_0_minus trajectories:   1%|          | 2/200 [00:01<02:45,  1.19it/s]Setting `pad_token_id` to `eos_token_id`:50256 for open-end generation.\n",
      "Sampling x_0_minus trajectories:   2%|▏         | 3/200 [00:02<02:45,  1.19it/s]Setting `pad_token_id` to `eos_token_id`:50256 for open-end generation.\n",
      "Sampling x_0_minus trajectories:   2%|▏         | 4/200 [00:03<02:44,  1.19it/s]Setting `pad_token_id` to `eos_token_id`:50256 for open-end generation.\n",
      "Sampling x_0_minus trajectories:   2%|▎         | 5/200 [00:04<02:43,  1.19it/s]Setting `pad_token_id` to `eos_token_id`:50256 for open-end generation.\n",
      "Sampling x_0_minus trajectories:   3%|▎         | 6/200 [00:05<02:43,  1.19it/s]Setting `pad_token_id` to `eos_token_id`:50256 for open-end generation.\n",
      "Sampling x_0_minus trajectories:   4%|▎         | 7/200 [00:05<02:42,  1.18it/s]Setting `pad_token_id` to `eos_token_id`:50256 for open-end generation.\n",
      "Sampling x_0_minus trajectories:   4%|▍         | 8/200 [00:06<02:42,  1.18it/s]Setting `pad_token_id` to `eos_token_id`:50256 for open-end generation.\n",
      "Sampling x_0_minus trajectories:   4%|▍         | 9/200 [00:07<02:36,  1.22it/s]Setting `pad_token_id` to `eos_token_id`:50256 for open-end generation.\n",
      "Sampling x_0_minus trajectories:   5%|▌         | 10/200 [00:08<02:37,  1.21it/s]Setting `pad_token_id` to `eos_token_id`:50256 for open-end generation.\n",
      "Sampling x_0_minus trajectories:   6%|▌         | 11/200 [00:09<02:37,  1.20it/s]Setting `pad_token_id` to `eos_token_id`:50256 for open-end generation.\n",
      "Sampling x_0_minus trajectories:   6%|▌         | 12/200 [00:10<02:36,  1.20it/s]Setting `pad_token_id` to `eos_token_id`:50256 for open-end generation.\n",
      "Sampling x_0_minus trajectories:   6%|▋         | 13/200 [00:10<02:36,  1.19it/s]Setting `pad_token_id` to `eos_token_id`:50256 for open-end generation.\n",
      "Sampling x_0_minus trajectories:   7%|▋         | 14/200 [00:11<02:23,  1.29it/s]Setting `pad_token_id` to `eos_token_id`:50256 for open-end generation.\n",
      "Sampling x_0_minus trajectories:   8%|▊         | 15/200 [00:12<02:26,  1.26it/s]Setting `pad_token_id` to `eos_token_id`:50256 for open-end generation.\n",
      "Sampling x_0_minus trajectories:   8%|▊         | 16/200 [00:13<02:28,  1.24it/s]Setting `pad_token_id` to `eos_token_id`:50256 for open-end generation.\n",
      "Sampling x_0_minus trajectories:   8%|▊         | 17/200 [00:14<02:29,  1.22it/s]Setting `pad_token_id` to `eos_token_id`:50256 for open-end generation.\n",
      "Sampling x_0_minus trajectories:   9%|▉         | 18/200 [00:14<02:30,  1.21it/s]Setting `pad_token_id` to `eos_token_id`:50256 for open-end generation.\n",
      "Sampling x_0_minus trajectories:  10%|▉         | 19/200 [00:15<02:30,  1.20it/s]Setting `pad_token_id` to `eos_token_id`:50256 for open-end generation.\n",
      "Sampling x_0_minus trajectories:  10%|█         | 20/200 [00:16<02:30,  1.20it/s]Setting `pad_token_id` to `eos_token_id`:50256 for open-end generation.\n",
      "Sampling x_0_minus trajectories:  10%|█         | 21/200 [00:17<02:30,  1.19it/s]Setting `pad_token_id` to `eos_token_id`:50256 for open-end generation.\n",
      "Sampling x_0_minus trajectories:  11%|█         | 22/200 [00:18<02:29,  1.19it/s]Setting `pad_token_id` to `eos_token_id`:50256 for open-end generation.\n",
      "Sampling x_0_minus trajectories:  12%|█▏        | 23/200 [00:19<02:28,  1.19it/s]Setting `pad_token_id` to `eos_token_id`:50256 for open-end generation.\n",
      "Sampling x_0_minus trajectories:  12%|█▏        | 24/200 [00:19<02:27,  1.19it/s]Setting `pad_token_id` to `eos_token_id`:50256 for open-end generation.\n",
      "Sampling x_0_minus trajectories:  12%|█▎        | 25/200 [00:20<02:26,  1.19it/s]Setting `pad_token_id` to `eos_token_id`:50256 for open-end generation.\n",
      "Sampling x_0_minus trajectories:  13%|█▎        | 26/200 [00:21<02:26,  1.19it/s]Setting `pad_token_id` to `eos_token_id`:50256 for open-end generation.\n",
      "Sampling x_0_minus trajectories:  14%|█▎        | 27/200 [00:22<02:25,  1.19it/s]Setting `pad_token_id` to `eos_token_id`:50256 for open-end generation.\n",
      "Sampling x_0_minus trajectories:  14%|█▍        | 28/200 [00:23<02:25,  1.19it/s]Setting `pad_token_id` to `eos_token_id`:50256 for open-end generation.\n",
      "Sampling x_0_minus trajectories:  14%|█▍        | 29/200 [00:24<02:24,  1.18it/s]Setting `pad_token_id` to `eos_token_id`:50256 for open-end generation.\n",
      "Sampling x_0_minus trajectories:  15%|█▌        | 30/200 [00:24<02:23,  1.18it/s]Setting `pad_token_id` to `eos_token_id`:50256 for open-end generation.\n",
      "Sampling x_0_minus trajectories:  16%|█▌        | 31/200 [00:25<02:22,  1.18it/s]Setting `pad_token_id` to `eos_token_id`:50256 for open-end generation.\n",
      "Sampling x_0_minus trajectories:  16%|█▌        | 32/200 [00:26<02:22,  1.18it/s]Setting `pad_token_id` to `eos_token_id`:50256 for open-end generation.\n",
      "Sampling x_0_minus trajectories:  16%|█▋        | 33/200 [00:27<02:21,  1.18it/s]Setting `pad_token_id` to `eos_token_id`:50256 for open-end generation.\n",
      "Sampling x_0_minus trajectories:  17%|█▋        | 34/200 [00:28<02:20,  1.18it/s]Setting `pad_token_id` to `eos_token_id`:50256 for open-end generation.\n",
      "Sampling x_0_minus trajectories:  18%|█▊        | 35/200 [00:29<02:19,  1.18it/s]Setting `pad_token_id` to `eos_token_id`:50256 for open-end generation.\n",
      "Sampling x_0_minus trajectories:  18%|█▊        | 36/200 [00:30<02:18,  1.19it/s]Setting `pad_token_id` to `eos_token_id`:50256 for open-end generation.\n",
      "Sampling x_0_minus trajectories:  18%|█▊        | 37/200 [00:30<02:17,  1.19it/s]Setting `pad_token_id` to `eos_token_id`:50256 for open-end generation.\n",
      "Sampling x_0_minus trajectories:  19%|█▉        | 38/200 [00:31<02:16,  1.19it/s]Setting `pad_token_id` to `eos_token_id`:50256 for open-end generation.\n",
      "Sampling x_0_minus trajectories:  20%|█▉        | 39/200 [00:32<02:15,  1.19it/s]Setting `pad_token_id` to `eos_token_id`:50256 for open-end generation.\n",
      "Sampling x_0_minus trajectories:  20%|██        | 40/200 [00:33<02:14,  1.19it/s]Setting `pad_token_id` to `eos_token_id`:50256 for open-end generation.\n",
      "Sampling x_0_minus trajectories:  20%|██        | 41/200 [00:34<02:13,  1.19it/s]Setting `pad_token_id` to `eos_token_id`:50256 for open-end generation.\n",
      "Sampling x_0_minus trajectories:  21%|██        | 42/200 [00:35<02:12,  1.19it/s]Setting `pad_token_id` to `eos_token_id`:50256 for open-end generation.\n",
      "Sampling x_0_minus trajectories:  22%|██▏       | 43/200 [00:35<02:11,  1.19it/s]Setting `pad_token_id` to `eos_token_id`:50256 for open-end generation.\n",
      "Sampling x_0_minus trajectories:  22%|██▏       | 44/200 [00:36<02:03,  1.26it/s]Setting `pad_token_id` to `eos_token_id`:50256 for open-end generation.\n",
      "Sampling x_0_minus trajectories:  22%|██▎       | 45/200 [00:37<02:04,  1.24it/s]Setting `pad_token_id` to `eos_token_id`:50256 for open-end generation.\n",
      "Sampling x_0_minus trajectories:  23%|██▎       | 46/200 [00:38<02:05,  1.23it/s]Setting `pad_token_id` to `eos_token_id`:50256 for open-end generation.\n",
      "Sampling x_0_minus trajectories:  24%|██▎       | 47/200 [00:39<02:05,  1.22it/s]Setting `pad_token_id` to `eos_token_id`:50256 for open-end generation.\n",
      "Sampling x_0_minus trajectories:  24%|██▍       | 48/200 [00:39<02:05,  1.21it/s]Setting `pad_token_id` to `eos_token_id`:50256 for open-end generation.\n",
      "Sampling x_0_minus trajectories:  24%|██▍       | 49/200 [00:40<02:05,  1.20it/s]Setting `pad_token_id` to `eos_token_id`:50256 for open-end generation.\n",
      "Sampling x_0_minus trajectories:  25%|██▌       | 50/200 [00:41<02:05,  1.20it/s]Setting `pad_token_id` to `eos_token_id`:50256 for open-end generation.\n",
      "Sampling x_0_minus trajectories:  26%|██▌       | 51/200 [00:42<02:05,  1.19it/s]Setting `pad_token_id` to `eos_token_id`:50256 for open-end generation.\n",
      "Sampling x_0_minus trajectories:  26%|██▌       | 52/200 [00:43<02:04,  1.18it/s]Setting `pad_token_id` to `eos_token_id`:50256 for open-end generation.\n",
      "Sampling x_0_minus trajectories:  26%|██▋       | 53/200 [00:44<02:04,  1.18it/s]Setting `pad_token_id` to `eos_token_id`:50256 for open-end generation.\n",
      "Sampling x_0_minus trajectories:  27%|██▋       | 54/200 [00:45<02:04,  1.17it/s]Setting `pad_token_id` to `eos_token_id`:50256 for open-end generation.\n",
      "Sampling x_0_minus trajectories:  28%|██▊       | 55/200 [00:45<02:02,  1.18it/s]Setting `pad_token_id` to `eos_token_id`:50256 for open-end generation.\n",
      "Sampling x_0_minus trajectories:  28%|██▊       | 56/200 [00:46<02:01,  1.18it/s]Setting `pad_token_id` to `eos_token_id`:50256 for open-end generation.\n",
      "Sampling x_0_minus trajectories:  28%|██▊       | 57/200 [00:47<02:00,  1.18it/s]Setting `pad_token_id` to `eos_token_id`:50256 for open-end generation.\n",
      "Sampling x_0_minus trajectories:  29%|██▉       | 58/200 [00:48<02:00,  1.18it/s]Setting `pad_token_id` to `eos_token_id`:50256 for open-end generation.\n",
      "Sampling x_0_minus trajectories:  30%|██▉       | 59/200 [00:49<02:00,  1.17it/s]Setting `pad_token_id` to `eos_token_id`:50256 for open-end generation.\n",
      "Sampling x_0_minus trajectories:  30%|███       | 60/200 [00:50<01:58,  1.18it/s]Setting `pad_token_id` to `eos_token_id`:50256 for open-end generation.\n",
      "Setting `pad_token_id` to `eos_token_id`:50256 for open-end generation.\n",
      "Sampling x_0_minus trajectories:  31%|███       | 62/200 [00:51<01:31,  1.51it/s]Setting `pad_token_id` to `eos_token_id`:50256 for open-end generation.\n",
      "Sampling x_0_minus trajectories:  32%|███▏      | 63/200 [00:51<01:36,  1.41it/s]Setting `pad_token_id` to `eos_token_id`:50256 for open-end generation.\n",
      "Sampling x_0_minus trajectories:  32%|███▏      | 64/200 [00:52<01:41,  1.35it/s]Setting `pad_token_id` to `eos_token_id`:50256 for open-end generation.\n",
      "Sampling x_0_minus trajectories:  32%|███▎      | 65/200 [00:53<01:43,  1.30it/s]Setting `pad_token_id` to `eos_token_id`:50256 for open-end generation.\n",
      "Sampling x_0_minus trajectories:  33%|███▎      | 66/200 [00:54<01:45,  1.27it/s]Setting `pad_token_id` to `eos_token_id`:50256 for open-end generation.\n",
      "Sampling x_0_minus trajectories:  34%|███▎      | 67/200 [00:55<01:46,  1.24it/s]Setting `pad_token_id` to `eos_token_id`:50256 for open-end generation.\n",
      "Sampling x_0_minus trajectories:  34%|███▍      | 68/200 [00:56<01:47,  1.23it/s]Setting `pad_token_id` to `eos_token_id`:50256 for open-end generation.\n",
      "Sampling x_0_minus trajectories:  34%|███▍      | 69/200 [00:56<01:47,  1.22it/s]Setting `pad_token_id` to `eos_token_id`:50256 for open-end generation.\n",
      "Sampling x_0_minus trajectories:  35%|███▌      | 70/200 [00:57<01:47,  1.21it/s]Setting `pad_token_id` to `eos_token_id`:50256 for open-end generation.\n",
      "Sampling x_0_minus trajectories:  36%|███▌      | 71/200 [00:58<01:47,  1.20it/s]Setting `pad_token_id` to `eos_token_id`:50256 for open-end generation.\n",
      "Sampling x_0_minus trajectories:  36%|███▌      | 72/200 [00:59<01:46,  1.20it/s]Setting `pad_token_id` to `eos_token_id`:50256 for open-end generation.\n",
      "Sampling x_0_minus trajectories:  36%|███▋      | 73/200 [01:00<01:45,  1.20it/s]Setting `pad_token_id` to `eos_token_id`:50256 for open-end generation.\n",
      "Sampling x_0_minus trajectories:  37%|███▋      | 74/200 [01:01<01:45,  1.20it/s]Setting `pad_token_id` to `eos_token_id`:50256 for open-end generation.\n",
      "Sampling x_0_minus trajectories:  38%|███▊      | 75/200 [01:01<01:44,  1.20it/s]Setting `pad_token_id` to `eos_token_id`:50256 for open-end generation.\n",
      "Sampling x_0_minus trajectories:  38%|███▊      | 76/200 [01:02<01:43,  1.20it/s]Setting `pad_token_id` to `eos_token_id`:50256 for open-end generation.\n",
      "Sampling x_0_minus trajectories:  38%|███▊      | 77/200 [01:03<01:32,  1.33it/s]Setting `pad_token_id` to `eos_token_id`:50256 for open-end generation.\n",
      "Sampling x_0_minus trajectories:  39%|███▉      | 78/200 [01:04<01:34,  1.28it/s]Setting `pad_token_id` to `eos_token_id`:50256 for open-end generation.\n",
      "Sampling x_0_minus trajectories:  40%|███▉      | 79/200 [01:05<01:36,  1.25it/s]Setting `pad_token_id` to `eos_token_id`:50256 for open-end generation.\n",
      "Sampling x_0_minus trajectories:  40%|████      | 80/200 [01:05<01:37,  1.23it/s]Setting `pad_token_id` to `eos_token_id`:50256 for open-end generation.\n",
      "Sampling x_0_minus trajectories:  40%|████      | 81/200 [01:06<01:38,  1.21it/s]Setting `pad_token_id` to `eos_token_id`:50256 for open-end generation.\n",
      "Sampling x_0_minus trajectories:  41%|████      | 82/200 [01:07<01:38,  1.20it/s]Setting `pad_token_id` to `eos_token_id`:50256 for open-end generation.\n",
      "Sampling x_0_minus trajectories:  42%|████▏     | 83/200 [01:08<01:38,  1.19it/s]Setting `pad_token_id` to `eos_token_id`:50256 for open-end generation.\n",
      "Sampling x_0_minus trajectories:  42%|████▏     | 84/200 [01:09<01:38,  1.18it/s]Setting `pad_token_id` to `eos_token_id`:50256 for open-end generation.\n",
      "Sampling x_0_minus trajectories:  42%|████▎     | 85/200 [01:10<01:37,  1.18it/s]Setting `pad_token_id` to `eos_token_id`:50256 for open-end generation.\n",
      "Sampling x_0_minus trajectories:  43%|████▎     | 86/200 [01:11<01:36,  1.18it/s]Setting `pad_token_id` to `eos_token_id`:50256 for open-end generation.\n",
      "Sampling x_0_minus trajectories:  44%|████▎     | 87/200 [01:11<01:36,  1.18it/s]Setting `pad_token_id` to `eos_token_id`:50256 for open-end generation.\n",
      "Sampling x_0_minus trajectories:  44%|████▍     | 88/200 [01:12<01:35,  1.18it/s]Setting `pad_token_id` to `eos_token_id`:50256 for open-end generation.\n",
      "Sampling x_0_minus trajectories:  44%|████▍     | 89/200 [01:13<01:34,  1.18it/s]Setting `pad_token_id` to `eos_token_id`:50256 for open-end generation.\n",
      "Sampling x_0_minus trajectories:  45%|████▌     | 90/200 [01:14<01:33,  1.18it/s]Setting `pad_token_id` to `eos_token_id`:50256 for open-end generation.\n",
      "Sampling x_0_minus trajectories:  46%|████▌     | 91/200 [01:15<01:31,  1.19it/s]Setting `pad_token_id` to `eos_token_id`:50256 for open-end generation.\n",
      "Sampling x_0_minus trajectories:  46%|████▌     | 92/200 [01:16<01:31,  1.19it/s]Setting `pad_token_id` to `eos_token_id`:50256 for open-end generation.\n",
      "Sampling x_0_minus trajectories:  46%|████▋     | 93/200 [01:16<01:30,  1.19it/s]Setting `pad_token_id` to `eos_token_id`:50256 for open-end generation.\n",
      "Sampling x_0_minus trajectories:  47%|████▋     | 94/200 [01:17<01:29,  1.19it/s]Setting `pad_token_id` to `eos_token_id`:50256 for open-end generation.\n",
      "Sampling x_0_minus trajectories:  48%|████▊     | 95/200 [01:18<01:28,  1.19it/s]Setting `pad_token_id` to `eos_token_id`:50256 for open-end generation.\n",
      "Sampling x_0_minus trajectories:  48%|████▊     | 96/200 [01:19<01:27,  1.19it/s]Setting `pad_token_id` to `eos_token_id`:50256 for open-end generation.\n",
      "Sampling x_0_minus trajectories:  48%|████▊     | 97/200 [01:20<01:26,  1.19it/s]Setting `pad_token_id` to `eos_token_id`:50256 for open-end generation.\n",
      "Sampling x_0_minus trajectories:  49%|████▉     | 98/200 [01:21<01:25,  1.19it/s]Setting `pad_token_id` to `eos_token_id`:50256 for open-end generation.\n",
      "Sampling x_0_minus trajectories:  50%|████▉     | 99/200 [01:21<01:24,  1.19it/s]Setting `pad_token_id` to `eos_token_id`:50256 for open-end generation.\n",
      "Sampling x_0_minus trajectories:  50%|█████     | 100/200 [01:22<01:24,  1.19it/s]Setting `pad_token_id` to `eos_token_id`:50256 for open-end generation.\n",
      "Sampling x_0_minus trajectories:  50%|█████     | 101/200 [01:23<01:23,  1.19it/s]Setting `pad_token_id` to `eos_token_id`:50256 for open-end generation.\n",
      "Sampling x_0_minus trajectories:  51%|█████     | 102/200 [01:24<01:22,  1.19it/s]Setting `pad_token_id` to `eos_token_id`:50256 for open-end generation.\n",
      "Sampling x_0_minus trajectories:  52%|█████▏    | 103/200 [01:25<01:21,  1.18it/s]Setting `pad_token_id` to `eos_token_id`:50256 for open-end generation.\n",
      "Sampling x_0_minus trajectories:  52%|█████▏    | 104/200 [01:26<01:21,  1.18it/s]Setting `pad_token_id` to `eos_token_id`:50256 for open-end generation.\n",
      "Sampling x_0_minus trajectories:  52%|█████▎    | 105/200 [01:27<01:20,  1.18it/s]Setting `pad_token_id` to `eos_token_id`:50256 for open-end generation.\n",
      "Sampling x_0_minus trajectories:  53%|█████▎    | 106/200 [01:27<01:19,  1.19it/s]Setting `pad_token_id` to `eos_token_id`:50256 for open-end generation.\n",
      "Sampling x_0_minus trajectories:  54%|█████▎    | 107/200 [01:28<01:18,  1.19it/s]Setting `pad_token_id` to `eos_token_id`:50256 for open-end generation.\n",
      "Sampling x_0_minus trajectories:  54%|█████▍    | 108/200 [01:29<01:16,  1.20it/s]Setting `pad_token_id` to `eos_token_id`:50256 for open-end generation.\n",
      "Sampling x_0_minus trajectories:  55%|█████▍    | 109/200 [01:30<01:16,  1.20it/s]Setting `pad_token_id` to `eos_token_id`:50256 for open-end generation.\n",
      "Sampling x_0_minus trajectories:  55%|█████▌    | 110/200 [01:31<01:15,  1.20it/s]Setting `pad_token_id` to `eos_token_id`:50256 for open-end generation.\n",
      "Sampling x_0_minus trajectories:  56%|█████▌    | 111/200 [01:32<01:14,  1.20it/s]Setting `pad_token_id` to `eos_token_id`:50256 for open-end generation.\n",
      "Sampling x_0_minus trajectories:  56%|█████▌    | 112/200 [01:32<01:13,  1.20it/s]Setting `pad_token_id` to `eos_token_id`:50256 for open-end generation.\n",
      "Sampling x_0_minus trajectories:  56%|█████▋    | 113/200 [01:33<01:12,  1.20it/s]Setting `pad_token_id` to `eos_token_id`:50256 for open-end generation.\n",
      "Sampling x_0_minus trajectories:  57%|█████▋    | 114/200 [01:34<01:11,  1.20it/s]Setting `pad_token_id` to `eos_token_id`:50256 for open-end generation.\n",
      "Sampling x_0_minus trajectories:  57%|█████▊    | 115/200 [01:35<01:10,  1.20it/s]Setting `pad_token_id` to `eos_token_id`:50256 for open-end generation.\n",
      "Sampling x_0_minus trajectories:  58%|█████▊    | 116/200 [01:36<01:10,  1.20it/s]Setting `pad_token_id` to `eos_token_id`:50256 for open-end generation.\n",
      "Sampling x_0_minus trajectories:  58%|█████▊    | 117/200 [01:37<01:09,  1.19it/s]Setting `pad_token_id` to `eos_token_id`:50256 for open-end generation.\n",
      "Sampling x_0_minus trajectories:  59%|█████▉    | 118/200 [01:37<01:08,  1.19it/s]Setting `pad_token_id` to `eos_token_id`:50256 for open-end generation.\n",
      "Sampling x_0_minus trajectories:  60%|█████▉    | 119/200 [01:38<01:08,  1.19it/s]Setting `pad_token_id` to `eos_token_id`:50256 for open-end generation.\n",
      "Sampling x_0_minus trajectories:  60%|██████    | 120/200 [01:39<01:07,  1.19it/s]Setting `pad_token_id` to `eos_token_id`:50256 for open-end generation.\n",
      "Sampling x_0_minus trajectories:  60%|██████    | 121/200 [01:40<01:06,  1.19it/s]Setting `pad_token_id` to `eos_token_id`:50256 for open-end generation.\n",
      "Sampling x_0_minus trajectories:  61%|██████    | 122/200 [01:41<01:05,  1.19it/s]Setting `pad_token_id` to `eos_token_id`:50256 for open-end generation.\n",
      "Sampling x_0_minus trajectories:  62%|██████▏   | 123/200 [01:42<01:04,  1.19it/s]Setting `pad_token_id` to `eos_token_id`:50256 for open-end generation.\n",
      "Sampling x_0_minus trajectories:  62%|██████▏   | 124/200 [01:42<01:04,  1.18it/s]Setting `pad_token_id` to `eos_token_id`:50256 for open-end generation.\n",
      "Sampling x_0_minus trajectories:  62%|██████▎   | 125/200 [01:43<01:03,  1.18it/s]Setting `pad_token_id` to `eos_token_id`:50256 for open-end generation.\n",
      "Sampling x_0_minus trajectories:  63%|██████▎   | 126/200 [01:44<01:02,  1.18it/s]Setting `pad_token_id` to `eos_token_id`:50256 for open-end generation.\n",
      "Sampling x_0_minus trajectories:  64%|██████▎   | 127/200 [01:45<01:01,  1.18it/s]Setting `pad_token_id` to `eos_token_id`:50256 for open-end generation.\n",
      "Sampling x_0_minus trajectories:  64%|██████▍   | 128/200 [01:46<01:00,  1.18it/s]Setting `pad_token_id` to `eos_token_id`:50256 for open-end generation.\n",
      "Sampling x_0_minus trajectories:  64%|██████▍   | 129/200 [01:47<00:59,  1.18it/s]Setting `pad_token_id` to `eos_token_id`:50256 for open-end generation.\n",
      "Sampling x_0_minus trajectories:  65%|██████▌   | 130/200 [01:48<00:59,  1.18it/s]Setting `pad_token_id` to `eos_token_id`:50256 for open-end generation.\n",
      "Sampling x_0_minus trajectories:  66%|██████▌   | 131/200 [01:48<00:58,  1.18it/s]Setting `pad_token_id` to `eos_token_id`:50256 for open-end generation.\n",
      "Sampling x_0_minus trajectories:  66%|██████▌   | 132/200 [01:49<00:57,  1.18it/s]Setting `pad_token_id` to `eos_token_id`:50256 for open-end generation.\n",
      "Sampling x_0_minus trajectories:  66%|██████▋   | 133/200 [01:50<00:56,  1.18it/s]Setting `pad_token_id` to `eos_token_id`:50256 for open-end generation.\n",
      "Sampling x_0_minus trajectories:  67%|██████▋   | 134/200 [01:51<00:55,  1.18it/s]Setting `pad_token_id` to `eos_token_id`:50256 for open-end generation.\n",
      "Sampling x_0_minus trajectories:  68%|██████▊   | 135/200 [01:52<00:54,  1.19it/s]Setting `pad_token_id` to `eos_token_id`:50256 for open-end generation.\n",
      "Sampling x_0_minus trajectories:  68%|██████▊   | 136/200 [01:53<00:53,  1.19it/s]Setting `pad_token_id` to `eos_token_id`:50256 for open-end generation.\n",
      "Sampling x_0_minus trajectories:  68%|██████▊   | 137/200 [01:53<00:53,  1.19it/s]Setting `pad_token_id` to `eos_token_id`:50256 for open-end generation.\n",
      "Sampling x_0_minus trajectories:  69%|██████▉   | 138/200 [01:54<00:52,  1.19it/s]Setting `pad_token_id` to `eos_token_id`:50256 for open-end generation.\n",
      "Sampling x_0_minus trajectories:  70%|██████▉   | 139/200 [01:55<00:51,  1.19it/s]Setting `pad_token_id` to `eos_token_id`:50256 for open-end generation.\n",
      "Sampling x_0_minus trajectories:  70%|███████   | 140/200 [01:56<00:50,  1.19it/s]Setting `pad_token_id` to `eos_token_id`:50256 for open-end generation.\n",
      "Sampling x_0_minus trajectories:  70%|███████   | 141/200 [01:57<00:49,  1.19it/s]Setting `pad_token_id` to `eos_token_id`:50256 for open-end generation.\n",
      "Sampling x_0_minus trajectories:  71%|███████   | 142/200 [01:58<00:48,  1.19it/s]Setting `pad_token_id` to `eos_token_id`:50256 for open-end generation.\n",
      "Sampling x_0_minus trajectories:  72%|███████▏  | 143/200 [01:58<00:47,  1.19it/s]Setting `pad_token_id` to `eos_token_id`:50256 for open-end generation.\n",
      "Sampling x_0_minus trajectories:  72%|███████▏  | 144/200 [01:59<00:46,  1.19it/s]Setting `pad_token_id` to `eos_token_id`:50256 for open-end generation.\n",
      "Sampling x_0_minus trajectories:  72%|███████▎  | 145/200 [02:00<00:46,  1.19it/s]Setting `pad_token_id` to `eos_token_id`:50256 for open-end generation.\n",
      "Sampling x_0_minus trajectories:  73%|███████▎  | 146/200 [02:01<00:45,  1.19it/s]Setting `pad_token_id` to `eos_token_id`:50256 for open-end generation.\n",
      "Sampling x_0_minus trajectories:  74%|███████▎  | 147/200 [02:02<00:44,  1.19it/s]Setting `pad_token_id` to `eos_token_id`:50256 for open-end generation.\n",
      "Sampling x_0_minus trajectories:  74%|███████▍  | 148/200 [02:03<00:43,  1.19it/s]Setting `pad_token_id` to `eos_token_id`:50256 for open-end generation.\n",
      "Sampling x_0_minus trajectories:  74%|███████▍  | 149/200 [02:04<00:42,  1.19it/s]Setting `pad_token_id` to `eos_token_id`:50256 for open-end generation.\n",
      "Sampling x_0_minus trajectories:  75%|███████▌  | 150/200 [02:04<00:42,  1.19it/s]Setting `pad_token_id` to `eos_token_id`:50256 for open-end generation.\n",
      "Sampling x_0_minus trajectories:  76%|███████▌  | 151/200 [02:05<00:41,  1.19it/s]Setting `pad_token_id` to `eos_token_id`:50256 for open-end generation.\n",
      "Sampling x_0_minus trajectories:  76%|███████▌  | 152/200 [02:06<00:40,  1.18it/s]Setting `pad_token_id` to `eos_token_id`:50256 for open-end generation.\n",
      "Sampling x_0_minus trajectories:  76%|███████▋  | 153/200 [02:07<00:39,  1.18it/s]Setting `pad_token_id` to `eos_token_id`:50256 for open-end generation.\n",
      "Sampling x_0_minus trajectories:  77%|███████▋  | 154/200 [02:07<00:32,  1.43it/s]Setting `pad_token_id` to `eos_token_id`:50256 for open-end generation.\n",
      "Sampling x_0_minus trajectories:  78%|███████▊  | 155/200 [02:08<00:33,  1.35it/s]Setting `pad_token_id` to `eos_token_id`:50256 for open-end generation.\n",
      "Sampling x_0_minus trajectories:  78%|███████▊  | 156/200 [02:09<00:34,  1.29it/s]Setting `pad_token_id` to `eos_token_id`:50256 for open-end generation.\n",
      "Sampling x_0_minus trajectories:  78%|███████▊  | 157/200 [02:10<00:34,  1.26it/s]Setting `pad_token_id` to `eos_token_id`:50256 for open-end generation.\n",
      "Sampling x_0_minus trajectories:  79%|███████▉  | 158/200 [02:11<00:34,  1.23it/s]Setting `pad_token_id` to `eos_token_id`:50256 for open-end generation.\n",
      "Sampling x_0_minus trajectories:  80%|███████▉  | 159/200 [02:12<00:33,  1.22it/s]Setting `pad_token_id` to `eos_token_id`:50256 for open-end generation.\n",
      "Sampling x_0_minus trajectories:  80%|████████  | 160/200 [02:12<00:33,  1.21it/s]Setting `pad_token_id` to `eos_token_id`:50256 for open-end generation.\n",
      "Sampling x_0_minus trajectories:  80%|████████  | 161/200 [02:13<00:32,  1.20it/s]Setting `pad_token_id` to `eos_token_id`:50256 for open-end generation.\n",
      "Sampling x_0_minus trajectories:  81%|████████  | 162/200 [02:14<00:31,  1.20it/s]Setting `pad_token_id` to `eos_token_id`:50256 for open-end generation.\n",
      "Sampling x_0_minus trajectories:  82%|████████▏ | 163/200 [02:15<00:31,  1.19it/s]Setting `pad_token_id` to `eos_token_id`:50256 for open-end generation.\n",
      "Sampling x_0_minus trajectories:  82%|████████▏ | 164/200 [02:16<00:30,  1.18it/s]Setting `pad_token_id` to `eos_token_id`:50256 for open-end generation.\n",
      "Sampling x_0_minus trajectories:  82%|████████▎ | 165/200 [02:17<00:29,  1.18it/s]Setting `pad_token_id` to `eos_token_id`:50256 for open-end generation.\n",
      "Sampling x_0_minus trajectories:  83%|████████▎ | 166/200 [02:17<00:28,  1.18it/s]Setting `pad_token_id` to `eos_token_id`:50256 for open-end generation.\n",
      "Sampling x_0_minus trajectories:  84%|████████▎ | 167/200 [02:18<00:28,  1.18it/s]Setting `pad_token_id` to `eos_token_id`:50256 for open-end generation.\n",
      "Sampling x_0_minus trajectories:  84%|████████▍ | 168/200 [02:19<00:27,  1.18it/s]Setting `pad_token_id` to `eos_token_id`:50256 for open-end generation.\n",
      "Sampling x_0_minus trajectories:  84%|████████▍ | 169/200 [02:20<00:26,  1.18it/s]Setting `pad_token_id` to `eos_token_id`:50256 for open-end generation.\n",
      "Sampling x_0_minus trajectories:  85%|████████▌ | 170/200 [02:21<00:25,  1.18it/s]Setting `pad_token_id` to `eos_token_id`:50256 for open-end generation.\n",
      "Sampling x_0_minus trajectories:  86%|████████▌ | 171/200 [02:22<00:24,  1.18it/s]Setting `pad_token_id` to `eos_token_id`:50256 for open-end generation.\n",
      "Sampling x_0_minus trajectories:  86%|████████▌ | 172/200 [02:23<00:23,  1.18it/s]Setting `pad_token_id` to `eos_token_id`:50256 for open-end generation.\n",
      "Sampling x_0_minus trajectories:  86%|████████▋ | 173/200 [02:23<00:22,  1.18it/s]Setting `pad_token_id` to `eos_token_id`:50256 for open-end generation.\n",
      "Sampling x_0_minus trajectories:  87%|████████▋ | 174/200 [02:24<00:21,  1.18it/s]Setting `pad_token_id` to `eos_token_id`:50256 for open-end generation.\n",
      "Sampling x_0_minus trajectories:  88%|████████▊ | 175/200 [02:25<00:20,  1.21it/s]Setting `pad_token_id` to `eos_token_id`:50256 for open-end generation.\n",
      "Sampling x_0_minus trajectories:  88%|████████▊ | 176/200 [02:26<00:19,  1.21it/s]Setting `pad_token_id` to `eos_token_id`:50256 for open-end generation.\n",
      "Sampling x_0_minus trajectories:  88%|████████▊ | 177/200 [02:27<00:19,  1.20it/s]Setting `pad_token_id` to `eos_token_id`:50256 for open-end generation.\n",
      "Sampling x_0_minus trajectories:  89%|████████▉ | 178/200 [02:27<00:17,  1.23it/s]Setting `pad_token_id` to `eos_token_id`:50256 for open-end generation.\n",
      "Sampling x_0_minus trajectories:  90%|████████▉ | 179/200 [02:28<00:17,  1.22it/s]Setting `pad_token_id` to `eos_token_id`:50256 for open-end generation.\n",
      "Sampling x_0_minus trajectories:  90%|█████████ | 180/200 [02:29<00:16,  1.21it/s]Setting `pad_token_id` to `eos_token_id`:50256 for open-end generation.\n",
      "Sampling x_0_minus trajectories:  90%|█████████ | 181/200 [02:30<00:15,  1.20it/s]Setting `pad_token_id` to `eos_token_id`:50256 for open-end generation.\n",
      "Sampling x_0_minus trajectories:  91%|█████████ | 182/200 [02:31<00:15,  1.19it/s]Setting `pad_token_id` to `eos_token_id`:50256 for open-end generation.\n",
      "Sampling x_0_minus trajectories:  92%|█████████▏| 183/200 [02:32<00:14,  1.19it/s]Setting `pad_token_id` to `eos_token_id`:50256 for open-end generation.\n",
      "Sampling x_0_minus trajectories:  92%|█████████▏| 184/200 [02:33<00:13,  1.19it/s]Setting `pad_token_id` to `eos_token_id`:50256 for open-end generation.\n",
      "Sampling x_0_minus trajectories:  92%|█████████▎| 185/200 [02:33<00:12,  1.19it/s]Setting `pad_token_id` to `eos_token_id`:50256 for open-end generation.\n",
      "Sampling x_0_minus trajectories:  93%|█████████▎| 186/200 [02:34<00:11,  1.18it/s]Setting `pad_token_id` to `eos_token_id`:50256 for open-end generation.\n",
      "Sampling x_0_minus trajectories:  94%|█████████▎| 187/200 [02:35<00:10,  1.18it/s]Setting `pad_token_id` to `eos_token_id`:50256 for open-end generation.\n",
      "Sampling x_0_minus trajectories:  94%|█████████▍| 188/200 [02:36<00:10,  1.18it/s]Setting `pad_token_id` to `eos_token_id`:50256 for open-end generation.\n",
      "Sampling x_0_minus trajectories:  94%|█████████▍| 189/200 [02:37<00:09,  1.19it/s]Setting `pad_token_id` to `eos_token_id`:50256 for open-end generation.\n",
      "Sampling x_0_minus trajectories:  95%|█████████▌| 190/200 [02:38<00:08,  1.19it/s]Setting `pad_token_id` to `eos_token_id`:50256 for open-end generation.\n",
      "Sampling x_0_minus trajectories:  96%|█████████▌| 191/200 [02:38<00:07,  1.17it/s]Setting `pad_token_id` to `eos_token_id`:50256 for open-end generation.\n",
      "Sampling x_0_minus trajectories:  96%|█████████▌| 192/200 [02:39<00:06,  1.18it/s]Setting `pad_token_id` to `eos_token_id`:50256 for open-end generation.\n",
      "Sampling x_0_minus trajectories:  96%|█████████▋| 193/200 [02:40<00:05,  1.18it/s]Setting `pad_token_id` to `eos_token_id`:50256 for open-end generation.\n",
      "Sampling x_0_minus trajectories:  97%|█████████▋| 194/200 [02:41<00:05,  1.19it/s]Setting `pad_token_id` to `eos_token_id`:50256 for open-end generation.\n",
      "Sampling x_0_minus trajectories:  98%|█████████▊| 195/200 [02:42<00:04,  1.19it/s]Setting `pad_token_id` to `eos_token_id`:50256 for open-end generation.\n",
      "Sampling x_0_minus trajectories:  98%|█████████▊| 196/200 [02:43<00:03,  1.19it/s]Setting `pad_token_id` to `eos_token_id`:50256 for open-end generation.\n",
      "Sampling x_0_minus trajectories:  98%|█████████▊| 197/200 [02:43<00:02,  1.19it/s]Setting `pad_token_id` to `eos_token_id`:50256 for open-end generation.\n",
      "Sampling x_0_minus trajectories:  99%|█████████▉| 198/200 [02:44<00:01,  1.19it/s]Setting `pad_token_id` to `eos_token_id`:50256 for open-end generation.\n",
      "Sampling x_0_minus trajectories: 100%|█████████▉| 199/200 [02:45<00:00,  1.19it/s]Setting `pad_token_id` to `eos_token_id`:50256 for open-end generation.\n",
      "Sampling x_0_minus trajectories: 100%|██████████| 200/200 [02:46<00:00,  1.20it/s]\n"
     ]
    }
   ],
   "source": [
    "# Sample trajectories for x_0_plus\n",
    "prompt = \" did\"\n",
    "prompt_ids = tokenizer.encode(prompt, return_tensors='pt').to('cuda')\n",
    "\n",
    "trajectories_plus = []\n",
    "for _ in tqdm(range(num_trajectories), desc=\"Sampling x_0_plus trajectories\"):\n",
    "    t_plus_str, t_plus_ids = sample_trajectory(model, tokenizer, past_kv_plus, prompt_ids, max_length)\n",
    "    trajectories_plus.append({'str': t_plus_str, 'ids': t_plus_ids})\n",
    "\n",
    "# Sample trajectories for x_0_minus\n",
    "trajectories_minus = []\n",
    "for _ in tqdm(range(num_trajectories), desc=\"Sampling x_0_minus trajectories\"):\n",
    "    t_minus_str, t_minus_ids = sample_trajectory(model, tokenizer, past_kv_minus, prompt_ids, max_length)\n",
    "    trajectories_minus.append({'str': t_minus_str, 'ids': t_minus_ids})\n"
   ]
  },
  {
   "cell_type": "code",
   "execution_count": 46,
   "metadata": {},
   "outputs": [
    {
     "name": "stdout",
     "output_type": "stream",
     "text": [
      "[100, 100, 100, 100, 100, 100, 100, 100, 100, 100, 100, 100, 100, 100, 100, 100, 100, 57, 100, 100, 100, 100, 100, 100, 100, 100, 100, 100, 100, 100, 100, 100, 100, 100, 100, 100, 100, 100, 100, 100, 100, 68, 100, 82, 100, 100, 100, 100, 100, 100, 100, 100, 100, 100, 100, 100, 100, 100, 84, 100, 100, 80, 100, 100, 100, 100, 100, 100, 100, 100, 100, 100, 100, 100, 100, 100, 51, 100, 100, 100, 100, 100, 100, 100, 100, 100, 100, 100, 100, 100, 100, 100, 100, 100, 100, 100, 100, 100, 100, 100, 100, 100, 100, 100, 100, 100, 100, 100, 100, 100, 100, 100, 100, 100, 100, 100, 100, 100, 100, 100, 52, 100, 100, 100, 100, 100, 100, 100, 100, 100, 100, 56, 100, 100, 100, 100, 100, 100, 100, 100, 100, 100, 100, 66, 100, 100, 100, 100, 100, 100, 100, 100, 100, 60, 100, 100, 77, 100, 100, 100, 100, 100, 100, 100, 100, 100, 100, 100, 100, 100, 100, 100, 100, 100, 100, 100, 66, 100, 100, 100, 100, 100, 100, 100, 100, 81, 100, 100, 100, 100, 100, 100, 100, 93, 100, 100, 100, 100, 100, 100]\n",
      "[100, 100, 100, 100, 100, 100, 100, 100, 91, 100, 100, 100, 100, 72, 100, 100, 100, 100, 100, 100, 100, 100, 100, 100, 100, 100, 100, 100, 100, 100, 100, 100, 100, 100, 100, 100, 100, 100, 100, 100, 100, 100, 100, 81, 100, 100, 100, 100, 100, 100, 100, 100, 100, 100, 100, 100, 100, 100, 100, 100, 7, 100, 100, 100, 100, 100, 100, 100, 100, 100, 100, 100, 100, 100, 100, 100, 66, 100, 100, 100, 100, 100, 100, 100, 100, 100, 100, 100, 100, 100, 100, 100, 100, 100, 100, 100, 100, 100, 100, 100, 100, 100, 100, 100, 100, 100, 100, 100, 100, 100, 100, 100, 100, 100, 100, 100, 100, 100, 100, 100, 100, 100, 100, 100, 100, 100, 100, 100, 100, 100, 100, 100, 100, 100, 100, 100, 100, 100, 100, 100, 100, 100, 99, 100, 100, 100, 100, 100, 100, 100, 100, 100, 100, 43, 100, 100, 100, 100, 100, 100, 100, 100, 100, 100, 100, 100, 100, 100, 100, 100, 100, 100, 100, 100, 93, 100, 100, 91, 100, 100, 100, 100, 100, 100, 100, 100, 100, 100, 100, 100, 100, 100, 100, 100, 100, 100, 100, 100, 100, 100]\n",
      "\n",
      "t_plus length:  186\n",
      "t_minus length:  186\n"
     ]
    }
   ],
   "source": [
    "t_plus_lens = [t['ids'].shape[1] for t in trajectories_plus]\n",
    "t_minus_lens = [t['ids'].shape[1] for t in trajectories_minus]\n",
    "\n",
    "print(t_plus_lens)\n",
    "print(t_minus_lens)\n",
    "\n",
    "# keep only those trajectories that are = max_length\n",
    "trajectories_plus = [t for t in trajectories_plus if t['ids'].shape[1] == max_length]\n",
    "trajectories_minus = [t for t in trajectories_minus if t['ids'].shape[1] == max_length]\n",
    "\n",
    "# ensure both are of the same length \n",
    "if len(trajectories_plus) > len(trajectories_minus):\n",
    "    trajectories_plus = trajectories_plus[:len(trajectories_minus)]\n",
    "else:\n",
    "    trajectories_minus = trajectories_minus[:len(trajectories_plus)]\n",
    "\n",
    "print(\"\\nt_plus length: \", len(trajectories_plus))\n",
    "print(\"t_minus length: \", len(trajectories_minus))"
   ]
  },
  {
   "cell_type": "code",
   "execution_count": 47,
   "metadata": {},
   "outputs": [],
   "source": [
    "# trajectories_plus[0]['str']"
   ]
  },
  {
   "cell_type": "code",
   "execution_count": 48,
   "metadata": {},
   "outputs": [],
   "source": [
    "# past_kv_plus[0][0].shape"
   ]
  },
  {
   "cell_type": "code",
   "execution_count": 49,
   "metadata": {},
   "outputs": [],
   "source": [
    "# trajectories_plus[0]['ids'].shape"
   ]
  },
  {
   "cell_type": "markdown",
   "metadata": {},
   "source": [
    "## 2.5: Computing Trajectory $t_i^\\pm$ Probabilities given $x_0^\\pm$"
   ]
  },
  {
   "cell_type": "code",
   "execution_count": 50,
   "metadata": {},
   "outputs": [],
   "source": [
    "# now let's compute the probability of each trajectory given each prompt \n",
    "def get_traj_prob(traj_ids, past_kv, model): \n",
    "    \"\"\" Computes the probability of a trajectory given the past_kv. \n",
    "    \"\"\"\n",
    "    num_kv_toks = past_kv[0][0].shape[2]\n",
    "    num_traj_toks = traj_ids.shape[1]\n",
    "\n",
    "    labels = traj_ids \n",
    "    attention_mask = torch.ones([1, num_kv_toks + num_traj_toks]).to(model.device)\n",
    "\n",
    "    with torch.no_grad():\n",
    "        outputs = model(traj_ids, past_key_values=past_kv, labels=labels, attention_mask=attention_mask)\n",
    "        loss = outputs.loss\n",
    "        log_prob = -loss\n",
    "    \n",
    "    return log_prob.item()"
   ]
  },
  {
   "cell_type": "code",
   "execution_count": 51,
   "metadata": {},
   "outputs": [
    {
     "name": "stdout",
     "output_type": "stream",
     "text": [
      "Trajectory log probability:  -2.5047526359558105\n"
     ]
    }
   ],
   "source": [
    "# test get_traj_prob function \n",
    "traj_prob = get_traj_prob(trajectories_minus[0]['ids'], past_kv_plus, model)\n",
    "print(\"Trajectory log probability: \", traj_prob)"
   ]
  },
  {
   "cell_type": "markdown",
   "metadata": {},
   "source": [
    "No we can compute the log probability of each trajectory given its corresponding \n",
    "past_kv +/-"
   ]
  },
  {
   "cell_type": "code",
   "execution_count": 52,
   "metadata": {},
   "outputs": [
    {
     "name": "stderr",
     "output_type": "stream",
     "text": [
      "Computing log probs for x_0_plus trajectories: 100%|██████████| 186/186 [00:01<00:00, 119.40it/s]\n",
      "Computing log probs for x_0_minus trajectories: 100%|██████████| 186/186 [00:01<00:00, 119.86it/s]\n",
      "Computing log probs for x_0_plus trajectories_minus: 100%|██████████| 186/186 [00:01<00:00, 118.21it/s]\n",
      "Computing log probs for x_0_minus trajectories_plus: 100%|██████████| 186/186 [00:01<00:00, 120.67it/s]\n"
     ]
    }
   ],
   "source": [
    "# Compute log probabilities for x_0_plus trajectories\n",
    "for trajectory in tqdm(trajectories_plus, desc=\"Computing log probs for x_0_plus trajectories\"):\n",
    "    log_prob = get_traj_prob(trajectory['ids'], past_kv_plus, model)\n",
    "    trajectory['log_prob'] = log_prob\n",
    "\n",
    "# Compute log probabilities for x_0_minus trajectories\n",
    "for trajectory in tqdm(trajectories_minus, desc=\"Computing log probs for x_0_minus trajectories\"):\n",
    "    log_prob = get_traj_prob(trajectory['ids'], past_kv_minus, model)\n",
    "    trajectory['log_prob'] = log_prob\n",
    "\n",
    "# add a field (log_prob_other) for log P(t_plus | x_0_minus) and log P(t_minus | x_0_plus) \n",
    "for trajectory in tqdm(trajectories_plus, desc=\"Computing log probs for x_0_plus trajectories_minus\"):\n",
    "    log_prob_other = get_traj_prob(trajectory['ids'], past_kv_minus, model)\n",
    "    trajectory['log_prob_given_other'] = log_prob_other\n",
    "\n",
    "for trajectory in tqdm(trajectories_minus, desc=\"Computing log probs for x_0_minus trajectories_plus\"):\n",
    "    log_prob_other = get_traj_prob(trajectory['ids'], past_kv_plus, model)\n",
    "    trajectory['log_prob_given_other'] = log_prob_other"
   ]
  },
  {
   "cell_type": "code",
   "execution_count": 19,
   "metadata": {},
   "outputs": [
    {
     "data": {
      "image/png": "[encoded data removed]",
      "text/plain": [
       "<Figure size 1000x500 with 1 Axes>"
      ]
     },
     "metadata": {},
     "output_type": "display_data"
    }
   ],
   "source": [
    "mean_log_prob_plus = np.mean([t['log_prob'] for t in trajectories_plus])\n",
    "mean_log_prob_minus = np.mean([t['log_prob'] for t in trajectories_minus])\n",
    "\n",
    "mean_log_prob_plus_given_other = np.mean([t['log_prob_given_other'] for t in trajectories_plus])\n",
    "mean_log_prob_minus_given_other = np.mean([t['log_prob_given_other'] for t in trajectories_minus])\n",
    "\n",
    "# bar chart \n",
    "plt.figure(figsize=(10, 5))\n",
    "plt.bar(['t+ | x+', 't+ | x-', 't- | x-', 't- | x+'], [mean_log_prob_plus, mean_log_prob_plus_given_other, mean_log_prob_minus, mean_log_prob_minus_given_other], color=['blue', 'red', 'blue', 'red'])\n",
    "# colors \n",
    "# adjust y axis range\n",
    "# plt.ylim([-2.5, -2.0])\n",
    "plt.ylabel('Mean log probability')\n",
    "plt.title('Mean log probability of sampled trajectories')\n",
    "plt.show()\n"
   ]
  },
  {
   "cell_type": "markdown",
   "metadata": {},
   "source": [
    "## 3: Generating $\\text{past kv}^\\lambda$"
   ]
  },
  {
   "cell_type": "code",
   "execution_count": 20,
   "metadata": {},
   "outputs": [
    {
     "name": "stdout",
     "output_type": "stream",
     "text": [
      "Length of past_kv_lambda: 12\n",
      "Shape of past_kv_lambda[0][0]: torch.Size([1, 12, 7, 64])\n",
      "Shape of past_kv_lambda[0][1]: torch.Size([1, 12, 7, 64])\n"
     ]
    }
   ],
   "source": [
    "# generate a bunch of lambda values between 0 and 1 (np linspace or something)\n",
    "lambdas = np.linspace(0, 1, 25)\n",
    "\n",
    "# function to create past_kv_lambda = (1-lambda) past_kv_min + lambda past_kv_plus\n",
    "# recall that past_kv are tuples of length 12 (12 layers)\n",
    "# each past_kv[i] is a tuple of length 2 (key, value)\n",
    "# each key, value is a tensor of shape [1, num_heads, seq_len, head_dim]\n",
    "\n",
    "# Function to create past_kv_lambda\n",
    "def create_past_kv_lambda(past_kv_plus, past_kv_minus, lambda_val):\n",
    "    past_kv_lambda = []\n",
    "    for layer_past_kv_plus, layer_past_kv_minus in zip(past_kv_plus, past_kv_minus):\n",
    "        layer_past_kv_lambda = []\n",
    "        for key_plus, value_plus, key_minus, value_minus in zip(layer_past_kv_plus[0], layer_past_kv_plus[1], layer_past_kv_minus[0], layer_past_kv_minus[1]):\n",
    "            key_lambda = (1 - lambda_val) * key_minus + lambda_val * key_plus\n",
    "            value_lambda = (1 - lambda_val) * value_minus + lambda_val * value_plus\n",
    "            # add a leading batch dimension to both \n",
    "            key_lambda = key_lambda.unsqueeze(0)\n",
    "            value_lambda = value_lambda.unsqueeze(0)\n",
    "            layer_past_kv_lambda.append((key_lambda, value_lambda))\n",
    "        past_kv_lambda.append(tuple(*layer_past_kv_lambda))\n",
    "    return tuple(past_kv_lambda)\n",
    "\n",
    "# Test the create_past_kv_lambda function\n",
    "lambda_val = 0.5\n",
    "past_kv_lambda = create_past_kv_lambda(past_kv_plus, past_kv_minus, lambda_val)\n",
    "print(f\"Length of past_kv_lambda: {len(past_kv_lambda)}\")\n",
    "print(f\"Shape of past_kv_lambda[0][0]: {past_kv_lambda[0][0].shape}\")\n",
    "print(f\"Shape of past_kv_lambda[0][1]: {past_kv_lambda[0][1].shape}\")"
   ]
  },
  {
   "cell_type": "code",
   "execution_count": 21,
   "metadata": {},
   "outputs": [
    {
     "data": {
      "text/plain": [
       "torch.Size([1, 12, 7, 64])"
      ]
     },
     "execution_count": 21,
     "metadata": {},
     "output_type": "execute_result"
    }
   ],
   "source": [
    "past_kv_plus[0][0].shape"
   ]
  },
  {
   "cell_type": "markdown",
   "metadata": {},
   "source": [
    "## 4: $P(t_i^\\pm | \\text{past kv}^\\lambda)$ for $\\lambda = 0, \\dots, 1$"
   ]
  },
  {
   "cell_type": "code",
   "execution_count": 22,
   "metadata": {},
   "outputs": [
    {
     "name": "stderr",
     "output_type": "stream",
     "text": [
      "Computing log probs for lambdas: 100%|██████████| 25/25 [01:18<00:00,  3.16s/it]\n"
     ]
    }
   ],
   "source": [
    "# Compute log probabilities for each trajectory and each lambda value\n",
    "for lambda_val in tqdm(lambdas, desc=\"Computing log probs for lambdas\"):\n",
    "    past_kv_lambda = create_past_kv_lambda(past_kv_plus, past_kv_minus, lambda_val)\n",
    "    \n",
    "    for trajectory in trajectories_plus:\n",
    "        log_prob = get_traj_prob(trajectory['ids'], past_kv_lambda, model)\n",
    "        if 'log_probs' not in trajectory:\n",
    "            trajectory['log_probs'] = {}\n",
    "        trajectory['log_probs'][lambda_val] = log_prob\n",
    "    \n",
    "    for trajectory in trajectories_minus:\n",
    "        log_prob = get_traj_prob(trajectory['ids'], past_kv_lambda, model)\n",
    "        if 'log_probs' not in trajectory:\n",
    "            trajectory['log_probs'] = {}\n",
    "        trajectory['log_probs'][lambda_val] = log_prob\n"
   ]
  },
  {
   "cell_type": "code",
   "execution_count": 23,
   "metadata": {},
   "outputs": [],
   "source": [
    "# lambdas"
   ]
  },
  {
   "cell_type": "code",
   "execution_count": 24,
   "metadata": {},
   "outputs": [],
   "source": [
    "# trajectory['log_probs'][lambdas[1]]"
   ]
  },
  {
   "cell_type": "code",
   "execution_count": 25,
   "metadata": {},
   "outputs": [],
   "source": [
    "# trajectory['log_probs']"
   ]
  },
  {
   "cell_type": "code",
   "execution_count": 26,
   "metadata": {},
   "outputs": [],
   "source": [
    "# sum(log_probs_plus) / len(log_probs_plus)"
   ]
  },
  {
   "cell_type": "code",
   "execution_count": 27,
   "metadata": {},
   "outputs": [],
   "source": [
    "# mean_log_probs_plus"
   ]
  },
  {
   "cell_type": "code",
   "execution_count": 28,
   "metadata": {},
   "outputs": [
    {
     "data": {
      "image/png": "[encoded data removed]",
      "text/plain": [
       "<Figure size 800x600 with 1 Axes>"
      ]
     },
     "metadata": {},
     "output_type": "display_data"
    }
   ],
   "source": [
    "import matplotlib.pyplot as plt\n",
    "\n",
    "# Compute the mean log probabilities for each lambda value\n",
    "mean_log_probs_plus = {}\n",
    "mean_log_probs_minus = {}\n",
    "\n",
    "for lambda_val in lambdas:\n",
    "    log_probs_plus = [trajectory['log_probs'][lambda_val] for trajectory in trajectories_plus]\n",
    "    log_probs_minus = [trajectory['log_probs'][lambda_val] for trajectory in trajectories_minus]\n",
    "    \n",
    "    mean_log_probs_plus[lambda_val] = sum(log_probs_plus) / len(log_probs_plus)\n",
    "    mean_log_probs_minus[lambda_val] = sum(log_probs_minus) / len(log_probs_minus)\n",
    "\n",
    "# Convert the mean log probabilities to mean probabilities\n",
    "# mean_probs_plus = {lambda_val: np.exp(log_prob) for lambda_val, log_prob in mean_log_probs_plus.items()}\n",
    "# mean_probs_minus = {lambda_val: np.exp(log_prob) for lambda_val, log_prob in mean_log_probs_minus.items()}\n",
    "\n",
    "# keep mean log probabilities as log probabilities\n",
    "mean_probs_plus = {lambda_val: log_prob for lambda_val, log_prob in mean_log_probs_plus.items()}\n",
    "mean_probs_minus = {lambda_val: log_prob for lambda_val, log_prob in mean_log_probs_minus.items()}\n",
    "\n",
    "# Plot the mean probabilities as a function of lambda\n",
    "plt.figure(figsize=(8, 6))\n",
    "plt.plot(list(mean_probs_plus.keys()), list(mean_probs_plus.values()), marker='o', label='Positive Trajectories')\n",
    "plt.plot(list(mean_probs_minus.keys()), list(mean_probs_minus.values()), marker='o', label='Negative Trajectories')\n",
    "plt.xlabel('Lambda')\n",
    "plt.ylabel('Mean Log Probability')\n",
    "plt.title('Mean Log Probability of Trajectories as a Function of Lambda')\n",
    "plt.legend()\n",
    "plt.grid(True)\n",
    "plt.show()"
   ]
  },
  {
   "cell_type": "markdown",
   "metadata": {},
   "source": [
    "where $\\lambda = 1$ corresponds to $\\text{past kv}^+$, and conversely $\\lambda = 0 \\to  \\text{past kv}^-$, "
   ]
  },
  {
   "cell_type": "markdown",
   "metadata": {},
   "source": [
    "## 5: $\\pm \\epsilon \\mathbf w_v$\n",
    "\n",
    "Let's use some code from `notebooks/Nudge_Intrinsic_Geometry.ipynb` to see if \n",
    "$\\pm \\epsilon \\mathbf w_v$ increases the log-likelihood of the opposite-valence \n",
    "trajectory when added to $\\text{past kv}^\\pm$. "
   ]
  },
  {
   "cell_type": "code",
   "execution_count": 29,
   "metadata": {},
   "outputs": [
    {
     "name": "stdout",
     "output_type": "stream",
     "text": [
      "linreg_weights: (1, 9216)\n",
      "linreg_bias: (1,)\n"
     ]
    }
   ],
   "source": [
    "RESULTS_DIR = '../cache/happy_sad_0330b2024' # this is where weights.npz are kept \n",
    "VALUE_REPS_JSON = '../cache/gpt2_happy_sad_0330b2024.json'\n",
    "\n",
    "# Load weights.npz from RESULTS_DIR\n",
    "weights = np.load(os.path.join(RESULTS_DIR, 'weights.npz'))\n",
    "linreg_weights = weights['arr_0']\n",
    "linreg_bias = weights['arr_1']\n",
    "print('linreg_weights:', linreg_weights.shape)\n",
    "print('linreg_bias:', linreg_bias.shape)   "
   ]
  },
  {
   "cell_type": "code",
   "execution_count": 30,
   "metadata": {},
   "outputs": [
    {
     "name": "stdout",
     "output_type": "stream",
     "text": [
      "Original past_kv_plus shape: [torch.Size([1, 12, 7, 64]), torch.Size([1, 12, 7, 64]), torch.Size([1, 12, 7, 64]), torch.Size([1, 12, 7, 64]), torch.Size([1, 12, 7, 64]), torch.Size([1, 12, 7, 64]), torch.Size([1, 12, 7, 64]), torch.Size([1, 12, 7, 64]), torch.Size([1, 12, 7, 64]), torch.Size([1, 12, 7, 64]), torch.Size([1, 12, 7, 64]), torch.Size([1, 12, 7, 64])]\n",
      "Modified past_kv_plus shape: [torch.Size([1, 12, 7, 64]), torch.Size([1, 12, 7, 64]), torch.Size([1, 12, 7, 64]), torch.Size([1, 12, 7, 64]), torch.Size([1, 12, 7, 64]), torch.Size([1, 12, 7, 64]), torch.Size([1, 12, 7, 64]), torch.Size([1, 12, 7, 64]), torch.Size([1, 12, 7, 64]), torch.Size([1, 12, 7, 64]), torch.Size([1, 12, 7, 64]), torch.Size([1, 12, 7, 64])]\n",
      "\n",
      "Original past_kv_minus shape: [torch.Size([1, 12, 7, 64]), torch.Size([1, 12, 7, 64]), torch.Size([1, 12, 7, 64]), torch.Size([1, 12, 7, 64]), torch.Size([1, 12, 7, 64]), torch.Size([1, 12, 7, 64]), torch.Size([1, 12, 7, 64]), torch.Size([1, 12, 7, 64]), torch.Size([1, 12, 7, 64]), torch.Size([1, 12, 7, 64]), torch.Size([1, 12, 7, 64]), torch.Size([1, 12, 7, 64])]\n",
      "Modified past_kv_minus shape: [torch.Size([1, 12, 7, 64]), torch.Size([1, 12, 7, 64]), torch.Size([1, 12, 7, 64]), torch.Size([1, 12, 7, 64]), torch.Size([1, 12, 7, 64]), torch.Size([1, 12, 7, 64]), torch.Size([1, 12, 7, 64]), torch.Size([1, 12, 7, 64]), torch.Size([1, 12, 7, 64]), torch.Size([1, 12, 7, 64]), torch.Size([1, 12, 7, 64]), torch.Size([1, 12, 7, 64])]\n"
     ]
    }
   ],
   "source": [
    "def modify_past_kv(past_kv, epsilon, w_v):\n",
    "    num_layers = len(past_kv)\n",
    "    assert len(past_kv[0]) == 2\n",
    "    batch = past_kv[0][0].shape[0]\n",
    "    assert batch == 1\n",
    "    n_heads = past_kv[0][0].shape[1]\n",
    "    seq_len = past_kv[0][0].shape[2]\n",
    "    head_dim = past_kv[0][0].shape[3]\n",
    "    \n",
    "    layer_dim = batch * n_heads * head_dim\n",
    "    \n",
    "    modified_past_kv = []\n",
    "    for layer in range(num_layers):\n",
    "        key, value = past_kv[layer]\n",
    "        weight_vec_l = w_v[:, (layer * layer_dim):((layer + 1) * layer_dim)]\n",
    "        weight_vec_l = weight_vec_l.reshape((n_heads, head_dim))\n",
    "        \n",
    "        modified_value = value.clone()\n",
    "        modified_value[0, :, -1, :] += epsilon * torch.tensor(weight_vec_l).to(value.device)\n",
    "        \n",
    "        modified_past_kv.append((key, modified_value))\n",
    "    \n",
    "    return tuple(modified_past_kv)\n",
    "\n",
    "# Test the modify_past_kv function\n",
    "epsilon = 0.5\n",
    "modified_past_kv_plus = modify_past_kv(past_kv_plus, epsilon, linreg_weights)\n",
    "modified_past_kv_minus = modify_past_kv(past_kv_minus, epsilon, linreg_weights)\n",
    "\n",
    "# Compare the shapes of the original and modified past_kv\n",
    "print(\"Original past_kv_plus shape:\", [value.shape for _, value in past_kv_plus])\n",
    "print(\"Modified past_kv_plus shape:\", [value.shape for _, value in modified_past_kv_plus])\n",
    "print()\n",
    "print(\"Original past_kv_minus shape:\", [value.shape for _, value in past_kv_minus])\n",
    "print(\"Modified past_kv_minus shape:\", [value.shape for _, value in modified_past_kv_minus])"
   ]
  },
  {
   "cell_type": "code",
   "execution_count": 31,
   "metadata": {},
   "outputs": [
    {
     "name": "stdout",
     "output_type": "stream",
     "text": [
      "Epsilon: 1.0\n",
      "Distance between original and modified past_kv_plus: 325.52894926071167\n",
      "Distance between original and modified past_kv_minus: 325.528950214386\n",
      "\n",
      "Epsilon: 0.5\n",
      "Distance between original and modified past_kv_plus: 81.3822363615036\n",
      "Distance between original and modified past_kv_minus: 81.38223683834076\n",
      "\n",
      "Epsilon: 0.1\n",
      "Distance between original and modified past_kv_plus: 3.2552894400432706\n",
      "Distance between original and modified past_kv_minus: 3.255289469845593\n",
      "\n",
      "Epsilon: 0.01\n",
      "Distance between original and modified past_kv_plus: 0.03255290075321682\n",
      "Distance between original and modified past_kv_minus: 0.03255288608488627\n",
      "\n",
      "Epsilon: 0.001\n",
      "Distance between original and modified past_kv_plus: 0.00032552893878801115\n",
      "Distance between original and modified past_kv_minus: 0.0003255291206869515\n",
      "\n"
     ]
    }
   ],
   "source": [
    "def distance_between_past_kv(past_kv1, past_kv2):\n",
    "    distance = 0\n",
    "    for layer_past_kv1, layer_past_kv2 in zip(past_kv1, past_kv2):\n",
    "        _, value1 = layer_past_kv1\n",
    "        _, value2 = layer_past_kv2\n",
    "        distance += torch.sum((value1 - value2) ** 2).item()\n",
    "    return distance\n",
    "\n",
    "# Test the modify_past_kv function with decreasing epsilon values\n",
    "epsilon_values = [1.0, 0.5, 0.1, 0.01, 0.001]\n",
    "\n",
    "for epsilon in epsilon_values:\n",
    "    modified_past_kv_plus = modify_past_kv(past_kv_plus, epsilon, linreg_weights)\n",
    "    modified_past_kv_minus = modify_past_kv(past_kv_minus, epsilon, linreg_weights)\n",
    "    \n",
    "    distance_plus = distance_between_past_kv(past_kv_plus, modified_past_kv_plus)\n",
    "    distance_minus = distance_between_past_kv(past_kv_minus, modified_past_kv_minus)\n",
    "    \n",
    "    print(f\"Epsilon: {epsilon}\")\n",
    "    print(f\"Distance between original and modified past_kv_plus: {distance_plus}\")\n",
    "    print(f\"Distance between original and modified past_kv_minus: {distance_minus}\")\n",
    "    print()"
   ]
  },
  {
   "cell_type": "code",
   "execution_count": 53,
   "metadata": {},
   "outputs": [
    {
     "name": "stderr",
     "output_type": "stream",
     "text": [
      "Computing log probs for epsilon: 100%|██████████| 21/21 [02:07<00:00,  6.08s/it]\n"
     ]
    },
    {
     "data": {
      "image/png": "[encoded data removed]",
      "text/plain": [
       "<Figure size 1200x600 with 2 Axes>"
      ]
     },
     "metadata": {},
     "output_type": "display_data"
    }
   ],
   "source": [
    "# Define the range of epsilon values to explore\n",
    "epsilon_range = np.linspace(-1, 1, 21)*3\n",
    "\n",
    "\n",
    "# Initialize dictionaries to store the mean log probabilities for each epsilon value\n",
    "mean_log_probs_plus_given_minus = {epsilon: 0 for epsilon in epsilon_range}\n",
    "mean_log_probs_plus_given_plus = {epsilon: 0 for epsilon in epsilon_range}\n",
    "mean_log_probs_minus_given_minus = {epsilon: 0 for epsilon in epsilon_range}\n",
    "mean_log_probs_minus_given_plus = {epsilon: 0 for epsilon in epsilon_range}\n",
    "\n",
    "# Iterate over the epsilon values\n",
    "for epsilon in tqdm(epsilon_range, desc=\"Computing log probs for epsilon\"):\n",
    "    # Modify past_kv_minus and past_kv_plus using epsilon * w_v\n",
    "    modified_past_kv_minus = modify_past_kv(past_kv_minus, epsilon, linreg_weights)\n",
    "    modified_past_kv_plus = modify_past_kv(past_kv_plus, epsilon, linreg_weights)\n",
    "    \n",
    "    # Compute log probabilities for positive trajectories\n",
    "    log_probs_plus_given_minus = [get_traj_prob(traj['ids'], modified_past_kv_minus, model) for traj in trajectories_plus]\n",
    "    log_probs_plus_given_plus = [get_traj_prob(traj['ids'], modified_past_kv_plus, model) for traj in trajectories_plus]\n",
    "    \n",
    "    # Compute log probabilities for negative trajectories\n",
    "    log_probs_minus_given_minus = [get_traj_prob(traj['ids'], modified_past_kv_minus, model) for traj in trajectories_minus]\n",
    "    log_probs_minus_given_plus = [get_traj_prob(traj['ids'], modified_past_kv_plus, model) for traj in trajectories_minus]\n",
    "    \n",
    "    # Calculate mean log probabilities for the current epsilon value\n",
    "    mean_log_probs_plus_given_minus[epsilon] = np.mean(log_probs_plus_given_minus)\n",
    "    mean_log_probs_plus_given_plus[epsilon] = np.mean(log_probs_plus_given_plus)\n",
    "    mean_log_probs_minus_given_minus[epsilon] = np.mean(log_probs_minus_given_minus)\n",
    "    mean_log_probs_minus_given_plus[epsilon] = np.mean(log_probs_minus_given_plus)\n",
    "\n",
    "# Convert mean log probabilities to mean probabilities\n",
    "mean_probs_plus_given_minus = {epsilon: log_prob for epsilon, log_prob in mean_log_probs_plus_given_minus.items()}\n",
    "mean_probs_plus_given_plus = {epsilon: log_prob for epsilon, log_prob in mean_log_probs_plus_given_plus.items()}\n",
    "mean_probs_minus_given_minus = {epsilon: log_prob for epsilon, log_prob in mean_log_probs_minus_given_minus.items()}\n",
    "mean_probs_minus_given_plus = {epsilon: log_prob for epsilon, log_prob in mean_log_probs_minus_given_plus.items()}\n",
    "\n",
    "# Plot the mean probabilities as a function of epsilon\n",
    "plt.figure(figsize=(12, 6))\n",
    "\n",
    "plt.subplot(1, 2, 1)\n",
    "plt.plot(list(mean_probs_plus_given_minus.keys()), list(mean_probs_plus_given_minus.values()), marker='o', label='Positive Trajectories given past_kv_minus')\n",
    "plt.plot(list(mean_probs_minus_given_minus.keys()), list(mean_probs_minus_given_minus.values()), marker='o', label='Negative Trajectories given past_kv_minus')\n",
    "plt.xlabel('Epsilon')\n",
    "plt.ylabel('Mean Log Probability')\n",
    "plt.title('Mean Log Probability of Trajectories given past_kv_minus')\n",
    "plt.legend()\n",
    "plt.grid(True)\n",
    "\n",
    "plt.subplot(1, 2, 2)\n",
    "plt.plot(list(mean_probs_plus_given_plus.keys()), list(mean_probs_plus_given_plus.values()), marker='o', label='Positive Trajectories given past_kv_plus')\n",
    "plt.plot(list(mean_probs_minus_given_plus.keys()), list(mean_probs_minus_given_plus.values()), marker='o', label='Negative Trajectories given past_kv_plus')\n",
    "plt.xlabel('Epsilon')\n",
    "plt.ylabel('Mean Log Probability')\n",
    "plt.title('Mean Log Probability of Trajectories given past_kv_plus')\n",
    "plt.legend()\n",
    "plt.grid(True)\n",
    "\n",
    "plt.tight_layout()\n",
    "plt.show()"
   ]
  },
  {
   "cell_type": "code",
   "execution_count": 54,
   "metadata": {},
   "outputs": [
    {
     "name": "stdout",
     "output_type": "stream",
     "text": [
      " did not have to be there.\n",
      "\n",
      "Bob was very angry at himself. He said, \"I'm just not good enough, I don't have a job here.\"\n",
      "\n",
      "\"Well, I've been here for two years and I've got a big, strong job here. I don' think you could imagine what I do.\"\n",
      " (laughter)\n",
      "\n",
      "Bobby was very upset with himself for not having a job. He was angry with himself, so he said, 'Well\n",
      " did not know what to do. He didn't know where to go.\"\n",
      "\n",
      "Despite the \"unbelievable\" moment, it was only the beginning of what could be called a life-changing moment for him, his wife.\n",
      "\n",
      "When asked how she plans to live without him, Bob said: \"I've already got a baby. She's only six months and I need her to get pregnant, so she will give birth.\n",
      ".\n",
      "\"I'll be a dad for\n",
      " did not have to pay for the house and the family had a beautiful spring on the beach. This was not a trip to a beach but rather a trip up to Santa Barbara Beach and down to the island of Mariana, California. In addition, he spent some time in the bay and some time on the island before heading to the mainland.\n",
      "\n",
      "On December 1, 1958 he was in Santa Barbara when his father, who had died of a heart attack at the time, called to say that\n",
      " did not want to be around and he was happy to go to some other place. In the meantime, we had one of the best nights of the year. The kids were so very good, and I have to say I was able to relax at the hotel. The staff was so supportive and friendly.\n",
      "\n",
      "The family were extremely excited. We were so happy. It was great to have such a great family. It is very important that we keep on doing what we're doing. We are\n",
      " did not give up. He sent out a simple message that the board would get back to him as soon as he did.\n",
      "\n",
      "I went to see Bob and he told me that the company and his friends had contacted him and had told him that if he wanted to come over and talk to them, they would make sure that he would get what he asked for and then he would be back on the website.\n",
      ": \"When I was at the board, I was a little worried and I\n"
     ]
    }
   ],
   "source": [
    "# print some positive trajectories \n",
    "for i in range(5): \n",
    "    print(trajectories_plus[i]['str'])"
   ]
  },
  {
   "cell_type": "code",
   "execution_count": 55,
   "metadata": {},
   "outputs": [
    {
     "name": "stdout",
     "output_type": "stream",
     "text": [
      " did not give up. He said in the story he had been able to work out why he was happy.\n",
      "\n",
      "When he started working out in front of a camera in his home he was so happy he said he was going to get more money. He found a new job and bought a new car and took a vacation from his parents' house.\n",
      " (I was thinking about this. \"What if he's a man? What if he works for the cops?\" I think it would be\n",
      " did not want to lose his mind. It is a very important part of his life. His story will be read by many who will listen to it, and will also be read as well.\n",
      "\n",
      "I would like to congratulate Bob on his success in this journey and the other people in the world who have come to witness his story. It has been a wonderful experience, and has been an exciting time for me as a musician. My family and friends were really excited to see the light and see\n",
      " did not send us anything. So he did not reply to us.\n",
      "\n",
      "So he said he would not send back any of this. We sent him a message, and he was really scared, so he said 'no, no, no.'\n",
      "\n",
      "He went back and sat down with me and said 'I think you'll never see me again, I have a son from your job.'\n",
      ".\n",
      " (Laughter.)\n",
      "\n",
      "I said 'well, it's not the first time\n",
      " did not want to see her anymore. He knew that if he were to kill her he would have to kill himself. He went to the hospital and told her he'd seen her and she was sick. This is when she gave her last wishes. He wasn't really happy with her, he wanted her to die. His heart was pounding too much to live. This was when she finally gave up and told him he was going to be the one to take care of her for awhile.\n",
      "\n",
      "\n",
      " did not take any action.\n",
      "\n",
      "If you ask any of the people who know Bob (or a buddy or a friend of Bob) for information about Bob's life, they may say he doesn't care.\n",
      " (In fact, Bob would be so sorry to have said it, and he would have said, \"No, I don't want to hear about it, I'll just be happy to explain it in a way that makes people happy.)\n",
      "\n",
      "Bob never lost his humanity.\n"
     ]
    }
   ],
   "source": [
    "# print some negative trajectories\n",
    "for i in range(5): \n",
    "    print(trajectories_minus[i]['str'])"
   ]
  },
  {
   "cell_type": "code",
   "execution_count": null,
   "metadata": {},
   "outputs": [],
   "source": []
  }
 ],
 "metadata": {
  "kernelspec": {
   "display_name": "venv",
   "language": "python",
   "name": "python3"
  },
  "language_info": {
   "codemirror_mode": {
    "name": "ipython",
    "version": 3
   },
   "file_extension": ".py",
   "mimetype": "text/x-python",
   "name": "python",
   "nbconvert_exporter": "python",
   "pygments_lexer": "ipython3",
   "version": "3.9.16"
  }
 },
 "nbformat": 4,
 "nbformat_minor": 2
}
