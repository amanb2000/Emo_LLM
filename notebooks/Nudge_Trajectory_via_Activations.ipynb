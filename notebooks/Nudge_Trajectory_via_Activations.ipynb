{
 "cells": [
  {
   "cell_type": "markdown",
   "metadata": {},
   "source": [
    "# Nudge LLM Trajectories via Emotional Axes\n",
    "\n",
    "_See `notebooks/llm emotional control.pdf` for less abstract treatment._\n",
    "\n",
    "In this notebook we will demonstrate control over probabilities assigned to \n",
    "trajectories $t_i^+, t_i^-$ for $i\\in[N]$ from $t_i^+ \\sim P_{LM}(t_i^+ | x_0^+)$ \n",
    "and $t_i^- \\sim P_{LM}(t_i^- | x_0^-)$ i.i.d. \n",
    "\n",
    "**Experiment 1**: cache `key_value_plus`, `key_value_minus` from\n",
    "*`model(x_0_plus)`, `model(x_0_minus)` \n",
    "k"
   ]
  },
  {
   "cell_type": "code",
   "execution_count": 1,
   "metadata": {},
   "outputs": [],
   "source": [
    "import os\n",
    "import json\n",
    "import numpy as np\n",
    "import pandas as pd\n",
    "import matplotlib.pyplot as plt\n",
    "from tqdm import tqdm\n",
    "\n",
    "# gpt-2 model \n",
    "from transformers import GPT2LMHeadModel, GPT2Tokenizer\n",
    "import torch"
   ]
  },
  {
   "cell_type": "code",
   "execution_count": 2,
   "metadata": {},
   "outputs": [],
   "source": [
    "# Load the gpt-2 model \n",
    "tokenizer = GPT2Tokenizer.from_pretrained('gpt2')\n",
    "model = GPT2LMHeadModel.from_pretrained('gpt2').to('cuda')"
   ]
  },
  {
   "cell_type": "markdown",
   "metadata": {},
   "source": [
    "## 1: Compute `past_kv_plus`, `past_kv_minus`"
   ]
  },
  {
   "cell_type": "code",
   "execution_count": 13,
   "metadata": {},
   "outputs": [
    {
     "name": "stdout",
     "output_type": "stream",
     "text": [
      "x_0_plus_ids:  tensor([[44484,   373,  3772,    11,   523, 14862]], device='cuda:0')\n",
      "x_0_minus_ids:  tensor([[44484,   373,  6507,    11,   523, 14862]], device='cuda:0')\n",
      "x_0_plus:  Alice was happy, so Alice\n",
      "x_0_minus:  Alice was sad, so Alice\n"
     ]
    }
   ],
   "source": [
    "# define dataset \n",
    "x_0_plus = \"Alice was happy, so Alice\"\n",
    "x_0_minus = \"Alice was sad, so Alice\"\n",
    "\n",
    "# tokenize as pytorch tensors \n",
    "x_0_plus_ids = tokenizer.encode(x_0_plus, return_tensors='pt').to('cuda')\n",
    "x_0_minus_ids = tokenizer.encode(x_0_minus, return_tensors='pt').to('cuda')\n",
    "print(\"x_0_plus_ids: \", x_0_plus_ids)\n",
    "print(\"x_0_minus_ids: \", x_0_minus_ids)\n",
    "\n",
    "# ensure tokenizer can decode\n",
    "print(\"x_0_plus: \", tokenizer.decode(x_0_plus_ids[0]))\n",
    "print(\"x_0_minus: \", tokenizer.decode(x_0_minus_ids[0]))\n",
    "\n",
    "# retrieve past_kv_plus and past_kv_minus \n",
    "with torch.no_grad():\n",
    "    outputs = model(x_0_plus_ids, past_key_values=None)\n",
    "    past_kv_plus = outputs.past_key_values\n",
    "    outputs = model(x_0_minus_ids, past_key_values=None)\n",
    "    past_kv_minus = outputs.past_key_values"
   ]
  },
  {
   "cell_type": "code",
   "execution_count": 14,
   "metadata": {},
   "outputs": [
    {
     "name": "stdout",
     "output_type": "stream",
     "text": [
      "Decoded 44484: Alice\n",
      "Decoded 373:  was\n",
      "Decoded 3772:  happy\n",
      "Decoded 11: ,\n",
      "Decoded 523:  so\n",
      "Decoded 14862:  Alice\n"
     ]
    }
   ],
   "source": [
    "# let's go through one token at a time: \n",
    "for i in range(x_0_plus_ids.shape[1]): \n",
    "    print(f\"Decoded {x_0_plus_ids[0, i]}: {tokenizer.decode(x_0_plus_ids[0, i])}\")"
   ]
  },
  {
   "cell_type": "markdown",
   "metadata": {},
   "source": [
    " - `past_kv_plus`, `past_kv_minus` are tuples of length `num_layer=12`. \n",
    " - `past_kv[l]` is a tuple of length 2 (key, values) for layer `l`\n",
    " - `past_kv[l][0]` are the keys for layer `l`, shape `[b, num_heads, ]\n"
   ]
  },
  {
   "cell_type": "code",
   "execution_count": 26,
   "metadata": {},
   "outputs": [
    {
     "name": "stdout",
     "output_type": "stream",
     "text": [
      "0th layer, keys shape:  torch.Size([1, 12, 6, 64])\n",
      "\tshape [batch, num_heads, seq_len, head_dim]\n",
      "0th layer, values shape:  torch.Size([1, 12, 6, 64])\n",
      "\tshape [batch, num_heads, seq_len, head_dim]\n"
     ]
    }
   ],
   "source": [
    "print(\"0th layer, keys shape: \", past_kv_plus[0][0].shape) \n",
    "print(f\"\\tshape [batch, num_heads, seq_len, head_dim]\")\n",
    "print(\"0th layer, values shape: \", past_kv_plus[0][1].shape)\n",
    "print(f\"\\tshape [batch, num_heads, seq_len, head_dim]\")\n"
   ]
  },
  {
   "cell_type": "code",
   "execution_count": 24,
   "metadata": {},
   "outputs": [
    {
     "name": "stdout",
     "output_type": "stream",
     "text": [
      "Number of heads in gpt2 attention:  12\n",
      "Head dim in gpt2 attention:  64\n"
     ]
    }
   ],
   "source": [
    "print(\"Number of heads in gpt2 attention: \", model.transformer.h[0].attn.num_heads)\n",
    "print(\"Head dim in gpt2 attention: \", model.transformer.h[0].attn.head_dim)"
   ]
  },
  {
   "cell_type": "code",
   "execution_count": null,
   "metadata": {},
   "outputs": [],
   "source": []
  }
 ],
 "metadata": {
  "kernelspec": {
   "display_name": "venv",
   "language": "python",
   "name": "python3"
  },
  "language_info": {
   "codemirror_mode": {
    "name": "ipython",
    "version": 3
   },
   "file_extension": ".py",
   "mimetype": "text/x-python",
   "name": "python",
   "nbconvert_exporter": "python",
   "pygments_lexer": "ipython3",
   "version": "3.9.16"
  }
 },
 "nbformat": 4,
 "nbformat_minor": 2
}
